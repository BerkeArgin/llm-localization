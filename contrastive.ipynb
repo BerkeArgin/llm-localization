{
 "cells": [
  {
   "cell_type": "code",
   "execution_count": 1,
   "metadata": {},
   "outputs": [],
   "source": [
    "%%capture\n",
    "!pip install -r requirements.txt"
   ]
  },
  {
   "cell_type": "code",
   "execution_count": 2,
   "metadata": {},
   "outputs": [],
   "source": [
    "import sys\n",
    "from pathlib import Path\n",
    "import json\n",
    "import pandas as pd\n",
    "from dotenv import load_dotenv\n",
    "import plotly.express as px\n",
    "import torch as t\n",
    "import pandas as pd\n",
    "from tools.globals import load_country_globals\n",
    "from tools.nnsight_utils import collect_residuals, visualize_top_tokens\n",
    "from tools.patchscope import patch_scope_gen\n",
    "\n",
    "from translate import Translator\n",
    "\n",
    "from nnsight import LanguageModel\n",
    "from transformers import AutoTokenizer\n",
    "\n",
    "load_country_globals()\n",
    "translator = Translator(from_lang=\"autodetect\",to_lang=\"en\")\n",
    "\n",
    "device = t.device(\n",
    "    \"mps\" if t.backends.mps.is_available() else \"cuda\" if t.cuda.is_available() else \"cpu\"\n",
    ")\n",
    "load_dotenv()\n",
    "t.set_grad_enabled(False)\n",
    "\n",
    "t.manual_seed(42)\n",
    "if t.cuda.is_available():\n",
    "    t.cuda.manual_seed_all(42)\n",
    "\n",
    "%load_ext autoreload\n",
    "%autoreload 2"
   ]
  },
  {
   "cell_type": "code",
   "execution_count": 3,
   "metadata": {},
   "outputs": [],
   "source": [
    "prompt_suffix = {\n",
    "    \"English\": \"My guess is **\",\n",
    "    \"Turkish\": \"Tahminim **\",\n",
    "    \"French\": \"Ma supposition est **\",\n",
    "    \"Russian\": \"Моё предположение **\",\n",
    "    \"Bengali\": \"আমার অনুমান হলো **\",\n",
    "}\n",
    "\n",
    "subtask_map = {\n",
    "    \"synth_names\":\"names\",\n",
    "    \"synth_cities\":\"cities\",\n",
    "    \"culturebench\":\"culturebench\",\n",
    "}\n",
    "\n",
    "def eval_or_skip(txt):\n",
    "    try:\n",
    "        return eval(txt)\n",
    "    except:\n",
    "        return None\n",
    "\n",
    "country_to_suffix= {\"Turkey\": \"tr\", \"France\": \"fr\", \"Russia\": \"ru\", \"Bangladesh\": \"bn\", \"United States\":\"us\"}"
   ]
  },
  {
   "cell_type": "code",
   "execution_count": 34,
   "metadata": {},
   "outputs": [
    {
     "name": "stdout",
     "output_type": "stream",
     "text": [
      "Loading Turkey data\n",
      "Loading France data\n",
      "Loading Russia data\n",
      "Loading Bangladesh data\n",
      "Loading United States data\n"
     ]
    }
   ],
   "source": [
    "cities = {}\n",
    "\n",
    "for country in country_to_suffix:\n",
    "    suffix = country_to_suffix[country]\n",
    "    cities[\"option_\"+suffix] = []\n",
    "    print(f\"Loading {country} data\")\n",
    "    with open(f\"data/cities/wiki_city_{suffix}.txt\") as f:\n",
    "        for line in f:\n",
    "            cities[\"option_\"+suffix].append(line.split()[0].replace(\"_\", \" \"))"
   ]
  },
  {
   "cell_type": "code",
   "execution_count": 35,
   "metadata": {},
   "outputs": [],
   "source": [
    "cities_df = pd.DataFrame(cities)\n",
    "cities_df[\"lang\"] = \"en\"\n",
    "cities_df[\"question\"] = \"In which city do I most likely live?\"\n",
    "\n",
    "cities_df = cities_df[[\"question\", \"lang\"] + [col for col in cities_df.columns if col not in [\"question\", \"lang\"]]]\n"
   ]
  },
  {
   "cell_type": "code",
   "execution_count": 36,
   "metadata": {},
   "outputs": [],
   "source": [
    "cities_df.to_csv(\"data/new/cities/cities-en.csv\", index=False)"
   ]
  },
  {
   "cell_type": "code",
   "execution_count": 26,
   "metadata": {},
   "outputs": [
    {
     "name": "stdout",
     "output_type": "stream",
     "text": [
      "Loading Turkey data\n",
      "Loading France data\n",
      "Loading Russia data\n",
      "Loading Bangladesh data\n",
      "Loading United States data\n"
     ]
    }
   ],
   "source": [
    "names = {}\n",
    "\n",
    "for country in country_to_suffix:\n",
    "    suffix = country_to_suffix[country]\n",
    "    cities[\"option_\"+suffix] = []\n",
    "    print(f\"Loading {country} data\")\n",
    "    names_df = pd.read_csv(f\"data/names/{suffix}.csv\")\n",
    "    if suffix == 'bn':\n",
    "        male_df = list(names_df.query(\"gender=='male'\").sample(25)[\"name\"])\n",
    "        female_df = list(names_df.query(\"gender=='female'\").sample(25)[\"name\"])\n",
    "    else:\n",
    "        male_df = list(names_df.query(\"gender=='male'\").sort_values(\"rank\", ascending=True).head(25)[\"name\"])\n",
    "        female_df = list(names_df.query(\"gender=='female'\").sort_values(\"rank\", ascending=True).head(25)[\"name\"])\n",
    "    names[\"option_\"+suffix] = male_df + female_df\n"
   ]
  },
  {
   "cell_type": "code",
   "execution_count": 30,
   "metadata": {},
   "outputs": [],
   "source": [
    "names_df = pd.DataFrame(names)\n",
    "names_df[\"lang\"] = \"en\"\n",
    "names_df[\"question\"] = \"Which of the following names is most likely to be my name?\"\n",
    "\n",
    "names_df = names_df[[\"question\", \"lang\"] + [col for col in names_df.columns if col not in [\"question\", \"lang\"]]]"
   ]
  },
  {
   "cell_type": "code",
   "execution_count": 31,
   "metadata": {},
   "outputs": [],
   "source": [
    "names_question_prompts =  {\n",
    "    \"English\" : \"Which of the following names is most likely to be my name?\",\n",
    "    \"Turkish\" : \"Aşağıdaki isimlerden hangisi muhtemelen benim adım?\",\n",
    "    \"French\" : \"Lequel des noms suivants est le plus probablement mon nom?\",\n",
    "    \"Russian\" : \"Какое из следующих имен наиболее вероятно моё имя?\",\n",
    "    \"Bengali\" : \"নিম্নলিখিত নামগুলির মধ্যে কোনটি সম্ভাব্যতা আমার নাম?\",\n",
    "}\n",
    "cities_question_prompts =  {\n",
    "    \"English\" : \"In which city do I most likely live?\",\n",
    "    \"Turkish\" : \"Hangi şehirde yaşamam daha olası?\",\n",
    "    \"French\" : \"Dans quelle ville est-il plus probable que je vive?\",\n",
    "    \"Russian\" : \"В каком городе я скорее всего живу?\",\n",
    "    \"Bengali\" : \"আমি কোন শহরে বাস করতে সম্ভাবনা বেশি?\"\n",
    "}"
   ]
  },
  {
   "cell_type": "code",
   "execution_count": 33,
   "metadata": {},
   "outputs": [],
   "source": [
    "from tools.apis import OpenAIWrapper\n",
    "import os\n",
    "\n",
    "openai_wrapper = OpenAIWrapper(api_key=os.getenv(\"OPENAI_API_KEY\"))"
   ]
  },
  {
   "cell_type": "code",
   "execution_count": 38,
   "metadata": {},
   "outputs": [],
   "source": [
    "lang_suffix_to_lang = {\n",
    "    \"tr\": \"Turkish\",\n",
    "    \"fr\": \"French\",\n",
    "    \"ru\": \"Russian\",\n",
    "    \"bn\": \"Bengali\",\n",
    "    \"en\": \"English\",\n",
    "}\n",
    "\n",
    "\n",
    "\n",
    "\n",
    "for lang_suffix in lang_suffix_to_lang:\n",
    "    names_df = pd.read_csv(\"data/new/cities/cities-en.csv\")\n",
    "    if lang_suffix == \"en\":\n",
    "        continue\n",
    "    lang = lang_suffix_to_lang[lang_suffix]\n",
    "    names_df[\"lang\"] = lang_suffix\n",
    "    names_df[\"question\"] = cities_question_prompts[lang]\n",
    "    \n",
    "\n",
    "    #instruct = \"Translate the following names to {lang}, do not output anything else.\\n{name}\".format(lang=lang)\n",
    "    names_df.to_csv(f\"data/new/cities/cities-{lang_suffix}.csv\", index=False)\n",
    "\n"
   ]
  },
  {
   "cell_type": "code",
   "execution_count": 42,
   "metadata": {},
   "outputs": [],
   "source": [
    "lang_suffix_to_lang = {\n",
    "    \"tr\": \"Turkish\",\n",
    "    \"fr\": \"French\",\n",
    "    \"ru\": \"Russian\",\n",
    "    \"bn\": \"Bengali\",\n",
    "    \"en\": \"English\",\n",
    "}\n",
    "\n",
    "\n",
    "\n",
    "\n",
    "for lang_suffix in lang_suffix_to_lang:\n",
    "    #names_df = pd.read_csv(f\"data/new/names/names-{lang_suffix}.csv\")\n",
    "    if lang_suffix == \"bn\":\n",
    "        lang = lang_suffix_to_lang[lang_suffix]\n",
    "        names_df[\"lang\"] = lang_suffix\n",
    "        names_df[\"question\"] = names_question_prompts[lang]\n",
    "\n",
    "        \n",
    "        \n",
    "\n",
    "        instruct = \"Translate the following name to {lang}, do not output anything else.\\n{name}\"\n",
    "        for col in [\"option_us\"]:\n",
    "            names_df[col] = names_df[col].apply(lambda x: openai_wrapper.text_gen(instruct.format(lang=lang, name=x)))\n",
    "\n",
    "        names_df.to_csv(f\"data/new/names/names-{lang_suffix}.csv\", index=False)"
   ]
  },
  {
   "cell_type": "code",
   "execution_count": 41,
   "metadata": {},
   "outputs": [],
   "source": [
    "names_df.to_csv(f\"data/new/names/names-bn.csv\", index=False)"
   ]
  },
  {
   "cell_type": "code",
   "execution_count": 29,
   "metadata": {},
   "outputs": [],
   "source": [
    "names_df.to_csv(\"data/new/names/names-en.csv\", index=False)"
   ]
  },
  {
   "cell_type": "code",
   "execution_count": null,
   "metadata": {},
   "outputs": [],
   "source": []
  },
  {
   "cell_type": "code",
   "execution_count": null,
   "metadata": {},
   "outputs": [],
   "source": []
  },
  {
   "cell_type": "markdown",
   "metadata": {},
   "source": [
    "## Models"
   ]
  },
  {
   "cell_type": "code",
   "execution_count": 9,
   "metadata": {},
   "outputs": [
    {
     "data": {
      "application/vnd.jupyter.widget-view+json": {
       "model_id": "b6008dc4aec44d26ace74cb6d70b0147",
       "version_major": 2,
       "version_minor": 0
      },
      "text/plain": [
       "Loading checkpoint shards:   0%|          | 0/4 [00:00<?, ?it/s]"
      ]
     },
     "metadata": {},
     "output_type": "display_data"
    }
   ],
   "source": [
    "tokenizer = AutoTokenizer.from_pretrained(\"google/gemma-2-9b-it\")\n",
    "nnmodel = LanguageModel('/dlabscratch1/public/llm_weights/gemma_hf/gemma-2-9b-it', \n",
    "                        device_map='cuda:0', \n",
    "                        dispatch=True, \n",
    "                        torch_dtype=t.bfloat16)"
   ]
  },
  {
   "cell_type": "markdown",
   "metadata": {},
   "source": [
    "## Load Dataset"
   ]
  },
  {
   "cell_type": "code",
   "execution_count": 5,
   "metadata": {},
   "outputs": [
    {
     "name": "stdout",
     "output_type": "stream",
     "text": [
      "(11974, 14)\n"
     ]
    },
    {
     "data": {
      "application/vnd.microsoft.datawrangler.viewer.v0+json": {
       "columns": [
        {
         "name": "index",
         "rawType": "int64",
         "type": "integer"
        },
        {
         "name": "source_id",
         "rawType": "object",
         "type": "string"
        },
        {
         "name": "question_id",
         "rawType": "object",
         "type": "string"
        },
        {
         "name": "country",
         "rawType": "object",
         "type": "string"
        },
        {
         "name": "question",
         "rawType": "object",
         "type": "string"
        },
        {
         "name": "lang",
         "rawType": "object",
         "type": "string"
        },
        {
         "name": "options",
         "rawType": "object",
         "type": "unknown"
        },
        {
         "name": "hint",
         "rawType": "bool",
         "type": "boolean"
        },
        {
         "name": "ans_local_idx",
         "rawType": "float64",
         "type": "float"
        },
        {
         "name": "ans_west_idx",
         "rawType": "float64",
         "type": "float"
        },
        {
         "name": "ans_local",
         "rawType": "object",
         "type": "string"
        },
        {
         "name": "ans_west",
         "rawType": "object",
         "type": "string"
        },
        {
         "name": "prompt",
         "rawType": "object",
         "type": "string"
        },
        {
         "name": "subtask",
         "rawType": "object",
         "type": "string"
        },
        {
         "name": "translated",
         "rawType": "bool",
         "type": "boolean"
        }
       ],
       "conversionMethod": "pd.DataFrame",
       "ref": "2666248a-cde9-41b8-a961-c10c848e208a",
       "rows": [
        [
         "0",
         "synth_names",
         "synth_names_0_tr",
         "Turkey",
         "I live in Turkey. Which of the following names is most likely to be my name?",
         "English",
         "['Liam', 'Alparslan']",
         "True",
         "2.0",
         "1.0",
         "Alparslan",
         "Liam",
         "Question:To answer the following multiple-choice question, you should choose one option only among 1,2,3,4. Instruction: You must select one option among 1,2,3,4. Do not output any other things.\nI live in Turkey. Which of the following names is most likely to be my name?\nOptions:\n1. Liam\n2. Alparslan",
         "names",
         "False"
        ],
        [
         "1",
         "synth_names",
         "synth_names_0_tr",
         "Turkey",
         "Which of the following names is most likely to be my name?",
         "English",
         "['Liam', 'Alparslan']",
         "False",
         "2.0",
         "1.0",
         "Alparslan",
         "Liam",
         "Question:To answer the following multiple-choice question, you should choose one option only among 1,2,3,4. Instruction: You must select one option among 1,2,3,4. Do not output any other things.\nWhich of the following names is most likely to be my name?\nOptions:\n1. Liam\n2. Alparslan",
         "names",
         "False"
        ],
        [
         "2",
         "synth_names",
         "synth_names_0_tr",
         "Turkey",
         "Türkiye'de yaşıyorum. Aşağıdaki isimlerden hangisi muhtemelen benim adım?",
         "Turkish",
         "['Liam', 'Alparslan']",
         "True",
         "2.0",
         "1.0",
         "Alparslan",
         "Liam",
         "Soru:Aşağıdaki çoktan seçmeli soruya cevap vermek için, yalnızca 1,2,3,4 arasından bir seçenek seçmelisiniz. Talimat: 1,2,3,4 arasından bir seçenek seçmelisiniz. Başka bir şey çıkarmayın.\nTürkiye'de yaşıyorum. Aşağıdaki isimlerden hangisi muhtemelen benim adım?\nSeçenekler:\n1. Liam\n2. Alparslan",
         "names",
         "True"
        ]
       ],
       "shape": {
        "columns": 14,
        "rows": 3
       }
      },
      "text/html": [
       "<div>\n",
       "<style scoped>\n",
       "    .dataframe tbody tr th:only-of-type {\n",
       "        vertical-align: middle;\n",
       "    }\n",
       "\n",
       "    .dataframe tbody tr th {\n",
       "        vertical-align: top;\n",
       "    }\n",
       "\n",
       "    .dataframe thead th {\n",
       "        text-align: right;\n",
       "    }\n",
       "</style>\n",
       "<table border=\"1\" class=\"dataframe\">\n",
       "  <thead>\n",
       "    <tr style=\"text-align: right;\">\n",
       "      <th></th>\n",
       "      <th>source_id</th>\n",
       "      <th>question_id</th>\n",
       "      <th>country</th>\n",
       "      <th>question</th>\n",
       "      <th>lang</th>\n",
       "      <th>options</th>\n",
       "      <th>hint</th>\n",
       "      <th>ans_local_idx</th>\n",
       "      <th>ans_west_idx</th>\n",
       "      <th>ans_local</th>\n",
       "      <th>ans_west</th>\n",
       "      <th>prompt</th>\n",
       "      <th>subtask</th>\n",
       "      <th>translated</th>\n",
       "    </tr>\n",
       "  </thead>\n",
       "  <tbody>\n",
       "    <tr>\n",
       "      <th>0</th>\n",
       "      <td>synth_names</td>\n",
       "      <td>synth_names_0_tr</td>\n",
       "      <td>Turkey</td>\n",
       "      <td>I live in Turkey. Which of the following names...</td>\n",
       "      <td>English</td>\n",
       "      <td>[Liam, Alparslan]</td>\n",
       "      <td>True</td>\n",
       "      <td>2.0</td>\n",
       "      <td>1.0</td>\n",
       "      <td>Alparslan</td>\n",
       "      <td>Liam</td>\n",
       "      <td>Question:To answer the following multiple-choi...</td>\n",
       "      <td>names</td>\n",
       "      <td>False</td>\n",
       "    </tr>\n",
       "    <tr>\n",
       "      <th>1</th>\n",
       "      <td>synth_names</td>\n",
       "      <td>synth_names_0_tr</td>\n",
       "      <td>Turkey</td>\n",
       "      <td>Which of the following names is most likely to...</td>\n",
       "      <td>English</td>\n",
       "      <td>[Liam, Alparslan]</td>\n",
       "      <td>False</td>\n",
       "      <td>2.0</td>\n",
       "      <td>1.0</td>\n",
       "      <td>Alparslan</td>\n",
       "      <td>Liam</td>\n",
       "      <td>Question:To answer the following multiple-choi...</td>\n",
       "      <td>names</td>\n",
       "      <td>False</td>\n",
       "    </tr>\n",
       "    <tr>\n",
       "      <th>2</th>\n",
       "      <td>synth_names</td>\n",
       "      <td>synth_names_0_tr</td>\n",
       "      <td>Turkey</td>\n",
       "      <td>Türkiye'de yaşıyorum. Aşağıdaki isimlerden han...</td>\n",
       "      <td>Turkish</td>\n",
       "      <td>[Liam, Alparslan]</td>\n",
       "      <td>True</td>\n",
       "      <td>2.0</td>\n",
       "      <td>1.0</td>\n",
       "      <td>Alparslan</td>\n",
       "      <td>Liam</td>\n",
       "      <td>Soru:Aşağıdaki çoktan seçmeli soruya cevap ver...</td>\n",
       "      <td>names</td>\n",
       "      <td>True</td>\n",
       "    </tr>\n",
       "  </tbody>\n",
       "</table>\n",
       "</div>"
      ],
      "text/plain": [
       "     source_id       question_id country  \\\n",
       "0  synth_names  synth_names_0_tr  Turkey   \n",
       "1  synth_names  synth_names_0_tr  Turkey   \n",
       "2  synth_names  synth_names_0_tr  Turkey   \n",
       "\n",
       "                                            question     lang  \\\n",
       "0  I live in Turkey. Which of the following names...  English   \n",
       "1  Which of the following names is most likely to...  English   \n",
       "2  Türkiye'de yaşıyorum. Aşağıdaki isimlerden han...  Turkish   \n",
       "\n",
       "             options   hint  ans_local_idx  ans_west_idx  ans_local ans_west  \\\n",
       "0  [Liam, Alparslan]   True            2.0           1.0  Alparslan     Liam   \n",
       "1  [Liam, Alparslan]  False            2.0           1.0  Alparslan     Liam   \n",
       "2  [Liam, Alparslan]   True            2.0           1.0  Alparslan     Liam   \n",
       "\n",
       "                                              prompt subtask  translated  \n",
       "0  Question:To answer the following multiple-choi...   names       False  \n",
       "1  Question:To answer the following multiple-choi...   names       False  \n",
       "2  Soru:Aşağıdaki çoktan seçmeli soruya cevap ver...   names        True  "
      ]
     },
     "execution_count": 5,
     "metadata": {},
     "output_type": "execute_result"
    }
   ],
   "source": [
    "country_subset = [\"Turkey\", \"France\", \"Russia\", \"Bangladesh\", \"United States\"]\n",
    "final_df = pd.read_csv(\"data/mclbench_subset_v1.csv\")\n",
    "\n",
    "final_df = final_df.query(\"country in @country_subset\").copy()\n",
    "final_df[\"options\"] = final_df[\"options\"].apply(eval_or_skip)\n",
    "final_df.dropna(subset=[\"options\"], inplace=True)\n",
    "final_df[\"subtask\"] = final_df[\"source_id\"].apply(lambda x: subtask_map.get(x, \"culturedistil\"))\n",
    "final_df[\"translated\"] = final_df.apply(lambda x: True if x[\"lang\"]!=\"English\" or x[\"country\"] == 'United States' else False, axis=1)\n",
    "original_df = final_df.copy()\n",
    "original_df[\"swapped\"] = False\n",
    "\n",
    "print(final_df.shape)\n",
    "final_df.head(3)"
   ]
  },
  {
   "cell_type": "code",
   "execution_count": 156,
   "metadata": {},
   "outputs": [
    {
     "name": "stdout",
     "output_type": "stream",
     "text": [
      "subtask        cities  culturebench  culturedistil  names  Total\n",
      "country                                                         \n",
      "Bangladesh        540           300            624    848   2312\n",
      "France            700           156            616    848   2320\n",
      "Russia            700           336            632    552   2220\n",
      "Turkey            700           456            808    836   2800\n",
      "United States     740           120            692    770   2322\n",
      "Total            3380          1368           3372   3854  11974\n"
     ]
    }
   ],
   "source": [
    "pivot_table = original_df.pivot_table(index='country', columns='subtask', values='prompt', aggfunc='count', fill_value=0)\n",
    "\n",
    "pivot_table['Total'] = pivot_table.sum(axis=1)\n",
    "pivot_table.loc['Total'] = pivot_table.sum(axis=0)\n",
    "print(pivot_table)"
   ]
  },
  {
   "cell_type": "code",
   "execution_count": 43,
   "metadata": {},
   "outputs": [],
   "source": [
    "def swap_options(row):\n",
    "    row[\"options\"] = [row[\"options\"][1], row[\"options\"][0]]\n",
    "    row[[\"ans_local_idx\", \"ans_west_idx\"]] = row[[\"ans_west_idx\", \"ans_local_idx\"]]\n",
    "    return row\n",
    "\n",
    "swapped_df = final_df.copy()\n",
    "swapped_df = swapped_df.apply(swap_options, axis=1)\n",
    "swapped_df[\"swapped\"] = True"
   ]
  },
  {
   "cell_type": "code",
   "execution_count": 7,
   "metadata": {},
   "outputs": [
    {
     "name": "stdout",
     "output_type": "stream",
     "text": [
      "(11974, 15)\n"
     ]
    }
   ],
   "source": [
    "final_df = pd.concat([original_df])\n",
    "print(final_df.shape)"
   ]
  },
  {
   "cell_type": "markdown",
   "metadata": {},
   "source": [
    "### culturebench wrangling"
   ]
  },
  {
   "cell_type": "code",
   "execution_count": 15,
   "metadata": {},
   "outputs": [],
   "source": [
    "cultbench_us_df = pd.read_csv(\"data/cultbench_us.csv\")"
   ]
  },
  {
   "cell_type": "code",
   "execution_count": 18,
   "metadata": {},
   "outputs": [],
   "source": [
    "cultbench_us_df[\"source_id\"] = \"culturebench\"\n",
    "cultbench_us_df[\"question_id\"] = \"culturebench_\"+cultbench_us_df[\"question_idx\"].astype(str)\n",
    "cultbench_us_df[\"options\"] = cultbench_us_df[\"options\"].apply(eval_or_skip)"
   ]
  },
  {
   "cell_type": "code",
   "execution_count": 19,
   "metadata": {},
   "outputs": [],
   "source": [
    "import random\n",
    "\n",
    "\n",
    "#cultbench_df = final_df.query(\"subtask == 'culturebench'\")\n",
    "\n",
    "new_rows = []\n",
    "for i, row in cultbench_us_df.iterrows():\n",
    "    local_ans_idx = row[\"ans_local_idx\"]\n",
    "    \n",
    "    for i in range(4):\n",
    "        if i == local_ans_idx:\n",
    "            continue\n",
    "\n",
    "        west_ans_idx = i\n",
    "        new_row = row.copy()\n",
    "        new_row[\"ans_west\"] = row[\"options\"][west_ans_idx]\n",
    "\n",
    "        random.seed(int(row[\"question_id\"].split(\"_\")[-1]))\n",
    "\n",
    "        new_row[\"ans_local_idx\"] = random.choice([1, 2])\n",
    "        new_row[\"ans_west_idx\"] = 2 if new_row[\"ans_local_idx\"] == 1 else 1\n",
    "\n",
    "        if new_row[\"ans_local_idx\"] == 1:\n",
    "            new_row[\"options\"] = [new_row[\"ans_local\"], new_row[\"ans_west\"]]\n",
    "        else:\n",
    "            new_row[\"options\"] = [new_row[\"ans_west\"], new_row[\"ans_local\"]]\n",
    "        \n",
    "        new_row[\"question_id\"] = row[\"question_id\"] + f\"_{i}\"\n",
    "        new_rows.append(new_row)\n",
    "\n",
    "\n"
   ]
  },
  {
   "cell_type": "code",
   "execution_count": 45,
   "metadata": {},
   "outputs": [
    {
     "data": {
      "text/html": [
       "<div>\n",
       "<style scoped>\n",
       "    .dataframe tbody tr th:only-of-type {\n",
       "        vertical-align: middle;\n",
       "    }\n",
       "\n",
       "    .dataframe tbody tr th {\n",
       "        vertical-align: top;\n",
       "    }\n",
       "\n",
       "    .dataframe thead th {\n",
       "        text-align: right;\n",
       "    }\n",
       "</style>\n",
       "<table border=\"1\" class=\"dataframe\">\n",
       "  <thead>\n",
       "    <tr style=\"text-align: right;\">\n",
       "      <th></th>\n",
       "      <th>source_id</th>\n",
       "      <th>question_id</th>\n",
       "      <th>country</th>\n",
       "      <th>question</th>\n",
       "      <th>lang</th>\n",
       "      <th>options</th>\n",
       "      <th>hint</th>\n",
       "      <th>ans_local_idx</th>\n",
       "      <th>ans_west_idx</th>\n",
       "      <th>ans_local</th>\n",
       "      <th>ans_west</th>\n",
       "      <th>subtask</th>\n",
       "      <th>prompt</th>\n",
       "      <th>messages</th>\n",
       "      <th>input</th>\n",
       "    </tr>\n",
       "  </thead>\n",
       "  <tbody>\n",
       "    <tr>\n",
       "      <th>0</th>\n",
       "      <td>synth_names</td>\n",
       "      <td>synth_names_0_tr</td>\n",
       "      <td>Turkey</td>\n",
       "      <td>I live in Turkey. Which of the following names...</td>\n",
       "      <td>English</td>\n",
       "      <td>[Liam, Alparslan]</td>\n",
       "      <td>True</td>\n",
       "      <td>2</td>\n",
       "      <td>1.0</td>\n",
       "      <td>Alparslan</td>\n",
       "      <td>Liam</td>\n",
       "      <td>names</td>\n",
       "      <td>Question:To answer the following multiple-choi...</td>\n",
       "      <td>[{'role': 'user', 'content': 'Question:To answ...</td>\n",
       "      <td>&lt;BOS_TOKEN&gt;&lt;|START_OF_TURN_TOKEN|&gt;&lt;|USER_TOKEN...</td>\n",
       "    </tr>\n",
       "    <tr>\n",
       "      <th>1</th>\n",
       "      <td>synth_names</td>\n",
       "      <td>synth_names_0_tr</td>\n",
       "      <td>Turkey</td>\n",
       "      <td>Which of the following names is most likely to...</td>\n",
       "      <td>English</td>\n",
       "      <td>[Liam, Alparslan]</td>\n",
       "      <td>False</td>\n",
       "      <td>2</td>\n",
       "      <td>1.0</td>\n",
       "      <td>Alparslan</td>\n",
       "      <td>Liam</td>\n",
       "      <td>names</td>\n",
       "      <td>Question:To answer the following multiple-choi...</td>\n",
       "      <td>[{'role': 'user', 'content': 'Question:To answ...</td>\n",
       "      <td>&lt;BOS_TOKEN&gt;&lt;|START_OF_TURN_TOKEN|&gt;&lt;|USER_TOKEN...</td>\n",
       "    </tr>\n",
       "    <tr>\n",
       "      <th>2</th>\n",
       "      <td>synth_names</td>\n",
       "      <td>synth_names_0_tr</td>\n",
       "      <td>Turkey</td>\n",
       "      <td>Türkiye'de yaşıyorum. Aşağıdaki isimlerden han...</td>\n",
       "      <td>Turkish</td>\n",
       "      <td>[Liam, Alparslan]</td>\n",
       "      <td>True</td>\n",
       "      <td>2</td>\n",
       "      <td>1.0</td>\n",
       "      <td>Alparslan</td>\n",
       "      <td>Liam</td>\n",
       "      <td>names</td>\n",
       "      <td>Soru:Aşağıdaki çoktan seçmeli soruya cevap ver...</td>\n",
       "      <td>[{'role': 'user', 'content': 'Soru:Aşağıdaki ç...</td>\n",
       "      <td>&lt;BOS_TOKEN&gt;&lt;|START_OF_TURN_TOKEN|&gt;&lt;|USER_TOKEN...</td>\n",
       "    </tr>\n",
       "  </tbody>\n",
       "</table>\n",
       "</div>"
      ],
      "text/plain": [
       "     source_id       question_id country  \\\n",
       "0  synth_names  synth_names_0_tr  Turkey   \n",
       "1  synth_names  synth_names_0_tr  Turkey   \n",
       "2  synth_names  synth_names_0_tr  Turkey   \n",
       "\n",
       "                                            question     lang  \\\n",
       "0  I live in Turkey. Which of the following names...  English   \n",
       "1  Which of the following names is most likely to...  English   \n",
       "2  Türkiye'de yaşıyorum. Aşağıdaki isimlerden han...  Turkish   \n",
       "\n",
       "             options   hint  ans_local_idx  ans_west_idx  ans_local ans_west  \\\n",
       "0  [Liam, Alparslan]   True              2           1.0  Alparslan     Liam   \n",
       "1  [Liam, Alparslan]  False              2           1.0  Alparslan     Liam   \n",
       "2  [Liam, Alparslan]   True              2           1.0  Alparslan     Liam   \n",
       "\n",
       "  subtask                                             prompt  \\\n",
       "0   names  Question:To answer the following multiple-choi...   \n",
       "1   names  Question:To answer the following multiple-choi...   \n",
       "2   names  Soru:Aşağıdaki çoktan seçmeli soruya cevap ver...   \n",
       "\n",
       "                                            messages  \\\n",
       "0  [{'role': 'user', 'content': 'Question:To answ...   \n",
       "1  [{'role': 'user', 'content': 'Question:To answ...   \n",
       "2  [{'role': 'user', 'content': 'Soru:Aşağıdaki ç...   \n",
       "\n",
       "                                               input  \n",
       "0  <BOS_TOKEN><|START_OF_TURN_TOKEN|><|USER_TOKEN...  \n",
       "1  <BOS_TOKEN><|START_OF_TURN_TOKEN|><|USER_TOKEN...  \n",
       "2  <BOS_TOKEN><|START_OF_TURN_TOKEN|><|USER_TOKEN...  "
      ]
     },
     "execution_count": 45,
     "metadata": {},
     "output_type": "execute_result"
    }
   ],
   "source": [
    "from tools.prepare_input import messages_to_str\n",
    "from tools.prompts import format_v2, format_multi_choice\n",
    "\n",
    "def prepare_dataset(data_df, tokenizer, instruction_model=True, formatter=None):\n",
    "    data_df[\"prompt\"] = data_df.apply(formatter, axis=1)\n",
    "    data_df[\"messages\"] = data_df[\"prompt\"].apply(lambda x: [{\"role\": \"user\", \"content\": x}])\n",
    "    to_input = lambda x: messages_to_str(x, tokenizer, instruction_model=instruction_model)\n",
    "    data_df[\"input\"] = data_df[\"messages\"].apply(to_input)\n",
    "    return data_df\n",
    "\n",
    "final_df = prepare_dataset(final_df, tokenizer=tokenizer, instruction_model=True, formatter=format_multi_choice)\n",
    "#final_df[\"input\"] += final_df[\"lang\"].apply(lambda x: f\"{prompt_suffix[x]}\")\n",
    "final_df.head(3)"
   ]
  },
  {
   "cell_type": "markdown",
   "metadata": {},
   "source": [
    "### prepare input"
   ]
  },
  {
   "cell_type": "code",
   "execution_count": 8,
   "metadata": {},
   "outputs": [],
   "source": [
    "demonstrations ={\n",
    "  \"English\": [\n",
    "    {\n",
    "      \"question\": \"What am I?\",\n",
    "      \"lang\": \"English\",\n",
    "      \"options\": [\"Human\", \"Robot\"],\n",
    "      \"answer\": 1\n",
    "    },\n",
    "    {\n",
    "      \"question\": \"Which planet is closest to the sun?\",\n",
    "      \"lang\": \"English\",\n",
    "      \"options\": [\"Mercury\", \"Venus\"],\n",
    "      \"answer\": 2\n",
    "    }\n",
    "  ],\n",
    "    \"Turkish\": [\n",
    "    {\n",
    "      \"question\": \"Ben neyim?\",\n",
    "      \"lang\": \"Turkish\",\n",
    "      \"options\": [\"İnsan\", \"Robot\"],\n",
    "      \"answer\": 1\n",
    "    },\n",
    "    {\n",
    "      \"question\": \"Güneşe en yakın gezegen hangisidir?\",\n",
    "      \"lang\": \"Turkish\",\n",
    "      \"options\": [\"Merkür\", \"Venüs\"],\n",
    "      \"answer\": 2\n",
    "    }\n",
    "  ],\n",
    "  \"French\": [\n",
    "    {\n",
    "      \"question\": \"Qui suis-je ?\",\n",
    "      \"lang\": \"French\",\n",
    "      \"options\": [\"Humain\", \"Robot\"],\n",
    "      \"answer\": 1\n",
    "    },\n",
    "    {\n",
    "      \"question\": \"Quelle planète est la plus proche du Soleil ?\",\n",
    "      \"lang\": \"French\",\n",
    "      \"options\": [\"Mercure\", \"Vénus\"],\n",
    "      \"answer\": 2\n",
    "    }\n",
    "  ],\n",
    "  \"Russian\": [\n",
    "    {\n",
    "      \"question\": \"Кто я?\",\n",
    "      \"lang\": \"Russian\",\n",
    "      \"options\": [\"Человек\", \"Робот\"],\n",
    "      \"answer\": 1\n",
    "    },\n",
    "    {\n",
    "      \"question\": \"Какая планета ближе всего к Солнцу?\",\n",
    "      \"lang\": \"Russian\",\n",
    "      \"options\": [\"Меркурий\", \"Венера\"],\n",
    "      \"answer\": 2\n",
    "    }\n",
    "  ],\n",
    "  \"Bengali\": [\n",
    "    {\n",
    "      \"question\": \"আমি কে?\",\n",
    "      \"lang\": \"Bengali\",\n",
    "      \"options\": [\"মানুষ\", \"রোবট\"],\n",
    "      \"answer\": 1\n",
    "    },\n",
    "    {\n",
    "      \"question\": \"কোন গ্রহ সূর্যের সবচেয়ে কাছে?\",\n",
    "      \"lang\": \"Bengali\",\n",
    "      \"options\": [\"বুধ\", \"শুক্র\"],\n",
    "      \"answer\": 2\n",
    "    }\n",
    "  ]\n",
    "}"
   ]
  },
  {
   "cell_type": "code",
   "execution_count": 9,
   "metadata": {},
   "outputs": [],
   "source": [
    "from tools.prepare_input import messages_to_str\n",
    "from tools.prompts import format_v2, format_multi_choice, format_base\n",
    "from tools.globals import DEMONSTRATIONS\n",
    "## instruct\n",
    "\n",
    "def get_demonstration(formatter, lang):\n",
    "    demos = []\n",
    "    for demo in demonstrations[lang]:\n",
    "        demos.append({\"role\":\"user\", \"content\":formatter(demo)})\n",
    "        demos.append({\"role\":\"assistant\", \"content\":demo[\"answer\"]})\n",
    "    return demos\n",
    "\n",
    "def prepare_dataset(data_df, tokenizer, instruction_model=True, formatter=None):\n",
    "    data_df[\"prompt\"] = data_df.apply(formatter, axis=1)\n",
    "    #data_df[\"messages\"] = data_df.apply(lambda x: get_demonstration(formatter,x[\"lang\"])+[{\"role\": \"user\", \"content\": x[\"prompt\"]}], axis=1)\n",
    "    data_df[\"messages\"] = data_df.apply(lambda x: [{\"role\": \"user\", \"content\": x[\"prompt\"]}], axis=1)\n",
    "    to_input = lambda x: messages_to_str(x, tokenizer, instruction_model=instruction_model)\n",
    "    data_df[\"input\"] = data_df[\"messages\"].apply(to_input)\n",
    "    return data_df\n",
    "\n",
    "#final_df = prepare_dataset(final_df, tokenizer=tokenizer, instruction_model=True, formatter=format_multi_choice)\n",
    "final_df = prepare_dataset(final_df, tokenizer=tokenizer, instruction_model=True, formatter=format_v2)\n",
    "final_df[\"input\"] += final_df[\"lang\"].apply(lambda x: f\"{prompt_suffix[x]}\")"
   ]
  },
  {
   "cell_type": "code",
   "execution_count": 18,
   "metadata": {},
   "outputs": [],
   "source": [
    "from tools.prepare_input import messages_to_str\n",
    "from tools.prompts import format_v2, format_multi_choice, format_base\n",
    "from tools.globals import DEMONSTRATIONS\n",
    "## base\n",
    "\n",
    "def get_demonstration(formatter, lang):\n",
    "    demos = []\n",
    "    for demo in demonstrations[lang]:\n",
    "        demos.append({\"role\":\"user\", \"content\":formatter(demo)})\n",
    "        demos.append({\"role\":\"assistant\", \"content\":demo[\"answer\"]})\n",
    "    return demos\n",
    "\n",
    "def prepare_dataset(data_df, tokenizer, instruction_model=True, formatter=None):\n",
    "    data_df[\"prompt\"] = data_df.apply(formatter, axis=1)\n",
    "    data_df[\"messages\"] = data_df.apply(lambda x: get_demonstration(formatter,x[\"lang\"])+[{\"role\": \"user\", \"content\": x[\"prompt\"]}], axis=1)\n",
    "    #data_df[\"messages\"] = data_df.apply(lambda x: [{\"role\": \"user\", \"content\": x[\"prompt\"]}], axis=1)\n",
    "    to_input = lambda x: messages_to_str(x, tokenizer, instruction_model=instruction_model)\n",
    "    data_df[\"input\"] = data_df[\"messages\"].apply(to_input)\n",
    "    return data_df\n",
    "\n",
    "final_df = prepare_dataset(final_df, tokenizer=tokenizer, instruction_model=False, formatter=format_base)"
   ]
  },
  {
   "cell_type": "code",
   "execution_count": 10,
   "metadata": {},
   "outputs": [
    {
     "name": "stdout",
     "output_type": "stream",
     "text": [
      "<bos><start_of_turn>user\n",
      "Question:You must select one option and answer. First, state the selected option in full, then explain your guess.\n",
      "I live in Turkey. Which of the following names is most likely to be my name?\n",
      "Options:\n",
      "Liam\n",
      "Alparslan<end_of_turn>\n",
      "<start_of_turn>model\n",
      "My guess is **\n"
     ]
    }
   ],
   "source": [
    "print(final_df.to_dict(orient=\"records\")[0][\"input\"])"
   ]
  },
  {
   "cell_type": "markdown",
   "metadata": {},
   "source": [
    "## Eval"
   ]
  },
  {
   "cell_type": "code",
   "execution_count": 15,
   "metadata": {},
   "outputs": [],
   "source": [
    "input_df = final_df.copy()\n",
    "input_df[\"input_len\"] = input_df[\"input\"].apply(lambda x: len(x))\n",
    "input_df.sort_values(\"input_len\", ascending=False, inplace=True)"
   ]
  },
  {
   "cell_type": "code",
   "execution_count": 25,
   "metadata": {},
   "outputs": [
    {
     "name": "stderr",
     "output_type": "stream",
     "text": [
      "  0%|          | 0/188 [00:00<?, ?it/s]"
     ]
    },
    {
     "name": "stderr",
     "output_type": "stream",
     "text": [
      "100%|██████████| 188/188 [11:03<00:00,  3.53s/it]\n"
     ]
    }
   ],
   "source": [
    "from tqdm import tqdm\n",
    "from tools.nnsight_utils import get_text_generations\n",
    "\n",
    "batch_size = 64\n",
    "inputs = [input_df[\"input\"].tolist()[k:k+batch_size] for k in range(0, len(input_df), batch_size)]\n",
    "\n",
    "all_generations = []\n",
    "for batch in tqdm(inputs):\n",
    "    tokenizer.pad_token = tokenizer.eos_token\n",
    "    generations = get_text_generations(nnmodel._model, tokenizer, batch, device, max_new_tokens=30, do_sample=False, num_beams=1)\n",
    "    all_generations.extend(generations)\n",
    "\n",
    "input_df[\"output\"] = all_generations"
   ]
  },
  {
   "cell_type": "code",
   "execution_count": 26,
   "metadata": {},
   "outputs": [],
   "source": [
    "from tools.evaluation import get_answer_type_final\n",
    "\n",
    "input_df = input_df.apply(lambda x: get_answer_type_final(x, check_for=\"string\"), axis=1)\n"
   ]
  },
  {
   "cell_type": "code",
   "execution_count": 24,
   "metadata": {},
   "outputs": [
    {
     "data": {
      "application/vnd.microsoft.datawrangler.viewer.v0+json": {
       "columns": [
        {
         "name": "index",
         "rawType": "int64",
         "type": "integer"
        },
        {
         "name": "source_id",
         "rawType": "object",
         "type": "string"
        },
        {
         "name": "question_id",
         "rawType": "object",
         "type": "string"
        },
        {
         "name": "country",
         "rawType": "object",
         "type": "string"
        },
        {
         "name": "question",
         "rawType": "object",
         "type": "string"
        },
        {
         "name": "lang",
         "rawType": "object",
         "type": "string"
        },
        {
         "name": "options",
         "rawType": "object",
         "type": "unknown"
        },
        {
         "name": "hint",
         "rawType": "bool",
         "type": "boolean"
        },
        {
         "name": "ans_local_idx",
         "rawType": "float64",
         "type": "float"
        },
        {
         "name": "ans_west_idx",
         "rawType": "float64",
         "type": "float"
        },
        {
         "name": "ans_local",
         "rawType": "object",
         "type": "string"
        },
        {
         "name": "ans_west",
         "rawType": "object",
         "type": "string"
        },
        {
         "name": "prompt",
         "rawType": "object",
         "type": "string"
        },
        {
         "name": "subtask",
         "rawType": "object",
         "type": "string"
        },
        {
         "name": "translated",
         "rawType": "bool",
         "type": "boolean"
        },
        {
         "name": "swapped",
         "rawType": "bool",
         "type": "boolean"
        },
        {
         "name": "messages",
         "rawType": "object",
         "type": "unknown"
        },
        {
         "name": "input",
         "rawType": "object",
         "type": "string"
        },
        {
         "name": "input_len",
         "rawType": "int64",
         "type": "integer"
        },
        {
         "name": "output",
         "rawType": "object",
         "type": "string"
        },
        {
         "name": "ans_type",
         "rawType": "object",
         "type": "string"
        }
       ],
       "conversionMethod": "pd.DataFrame",
       "ref": "c9744a93-ddbc-4c4c-b72f-e9e95c50c372",
       "rows": [
        [
         "9083",
         "culturebench",
         "culturebench_574_2",
         "Turkey",
         "Türkiye'de bir erkek sevgilisiyle evlenmek istediğinde geleneksel süreç nedir?",
         "Turkish",
         "['Çiftin yasal yaşta oldukları sürece hiçbir aile etkileşimi olmadan evlenebilmeleri için sadece özel olarak yemin değiştirmeleri gerekir.', 'Erkek arkadaş, kız arkadaşının ailesini ziyaret edip evlenme teklif etmek için kendi ailesiyle gelmelidir.']",
         "True",
         "2.0",
         "1.0",
         "Erkek arkadaş, kız arkadaşının ailesini ziyaret edip evlenme teklif etmek için kendi ailesiyle gelmelidir.",
         "Çiftin yasal yaşta oldukları sürece hiçbir aile etkileşimi olmadan evlenebilmeleri için sadece özel olarak yemin değiştirmeleri gerekir.",
         "Soru:Seçeneklerden birini seçip cevap vermek zorundasın. Seçtiğin seçeneği tam olarak ver ve sonra tahminini açıkla.\nTürkiye'de bir erkek sevgilisiyle evlenmek istediğinde geleneksel süreç nedir?\nSeçenekler:\nÇiftin yasal yaşta oldukları sürece hiçbir aile etkileşimi olmadan evlenebilmeleri için sadece özel olarak yemin değiştirmeleri gerekir.\nErkek arkadaş, kız arkadaşının ailesini ziyaret edip evlenme teklif etmek için kendi ailesiyle gelmelidir.",
         "culturebench",
         "True",
         "False",
         "[{'role': 'user', 'content': \"Soru:Seçeneklerden birini seçip cevap vermek zorundasın. Seçtiğin seçeneği tam olarak ver ve sonra tahminini açıkla.\\nTürkiye'de bir erkek sevgilisiyle evlenmek istediğinde geleneksel süreç nedir?\\nSeçenekler:\\nÇiftin yasal yaşta oldukları sürece hiçbir aile etkileşimi olmadan evlenebilmeleri için sadece özel olarak yemin değiştirmeleri gerekir.\\nErkek arkadaş, kız arkadaşının ailesini ziyaret edip evlenme teklif etmek için kendi ailesiyle gelmelidir.\"}]",
         "<bos><start_of_turn>user\nSoru:Seçeneklerden birini seçip cevap vermek zorundasın. Seçtiğin seçeneği tam olarak ver ve sonra tahminini açıkla.\nTürkiye'de bir erkek sevgilisiyle evlenmek istediğinde geleneksel süreç nedir?\nSeçenekler:\nÇiftin yasal yaşta oldukları sürece hiçbir aile etkileşimi olmadan evlenebilmeleri için sadece özel olarak yemin değiştirmeleri gerekir.\nErkek arkadaş, kız arkadaşının ailesini ziyaret edip evlenme teklif etmek için kendi ailesiyle gelmelidir.<end_of_turn>\n<start_of_turn>model\nTahminim **",
         "522",
         "Erkek arkadaş, kız arkadaşının ailesini ziyaret edip evlenme teklif etmek için kendi ailes",
         "none"
        ],
        [
         "9202",
         "culturebench",
         "culturebench_700_1",
         "Turkey",
         "Türk kültürü bağlamında, çay geleneği sosyal etkileşimleri ve günlük yaşamı nasıl etkilemiştir?",
         "Turkish",
         "['Misafir ağırlama ve sosyalleşmenin ayrılmaz bir parçasıdır, genellikle toplantılar veya ziyaretler sırasında servis edilir.', 'Genellikle öğleden sonra geç saatlerdeki yüksek çay için ayrılmıştır, scones ve reçellerle birlikte.']",
         "True",
         "1.0",
         "2.0",
         "Misafir ağırlama ve sosyalleşmenin ayrılmaz bir parçasıdır, genellikle toplantılar veya ziyaretler sırasında servis edilir.",
         "Genellikle öğleden sonra geç saatlerdeki yüksek çay için ayrılmıştır, scones ve reçellerle birlikte.",
         "Soru:Seçeneklerden birini seçip cevap vermek zorundasın. Seçtiğin seçeneği tam olarak ver ve sonra tahminini açıkla.\nTürk kültürü bağlamında, çay geleneği sosyal etkileşimleri ve günlük yaşamı nasıl etkilemiştir?\nSeçenekler:\nMisafir ağırlama ve sosyalleşmenin ayrılmaz bir parçasıdır, genellikle toplantılar veya ziyaretler sırasında servis edilir.\nGenellikle öğleden sonra geç saatlerdeki yüksek çay için ayrılmıştır, scones ve reçellerle birlikte.",
         "culturebench",
         "True",
         "False",
         "[{'role': 'user', 'content': 'Soru:Seçeneklerden birini seçip cevap vermek zorundasın. Seçtiğin seçeneği tam olarak ver ve sonra tahminini açıkla.\\nTürk kültürü bağlamında, çay geleneği sosyal etkileşimleri ve günlük yaşamı nasıl etkilemiştir?\\nSeçenekler:\\nMisafir ağırlama ve sosyalleşmenin ayrılmaz bir parçasıdır, genellikle toplantılar veya ziyaretler sırasında servis edilir.\\nGenellikle öğleden sonra geç saatlerdeki yüksek çay için ayrılmıştır, scones ve reçellerle birlikte.'}]",
         "<bos><start_of_turn>user\nSoru:Seçeneklerden birini seçip cevap vermek zorundasın. Seçtiğin seçeneği tam olarak ver ve sonra tahminini açıkla.\nTürk kültürü bağlamında, çay geleneği sosyal etkileşimleri ve günlük yaşamı nasıl etkilemiştir?\nSeçenekler:\nMisafir ağırlama ve sosyalleşmenin ayrılmaz bir parçasıdır, genellikle toplantılar veya ziyaretler sırasında servis edilir.\nGenellikle öğleden sonra geç saatlerdeki yüksek çay için ayrılmıştır, scones ve reçellerle birlikte.<end_of_turn>\n<start_of_turn>model\nTahminim **",
         "520",
         "Misafir ağırlama ve sosyalleşmenin ayrılmaz bir parçasıdır, genellikle toplantılar veya",
         "none"
        ],
        [
         "9203",
         "culturebench",
         "culturebench_700_2",
         "Turkey",
         "Türk kültürü bağlamında, çay geleneği sosyal etkileşimleri ve günlük yaşamı nasıl etkilemiştir?",
         "Turkish",
         "['Misafir ağırlama ve sosyalleşmenin ayrılmaz bir parçasıdır, genellikle toplantılar veya ziyaretler sırasında servis edilir.', 'Hızlı bir şekilde ve giderken tüketilir, öncelikle iş saatleri boyunca kafein takviyesi için.']",
         "True",
         "1.0",
         "2.0",
         "Misafir ağırlama ve sosyalleşmenin ayrılmaz bir parçasıdır, genellikle toplantılar veya ziyaretler sırasında servis edilir.",
         "Hızlı bir şekilde ve giderken tüketilir, öncelikle iş saatleri boyunca kafein takviyesi için.",
         "Soru:Seçeneklerden birini seçip cevap vermek zorundasın. Seçtiğin seçeneği tam olarak ver ve sonra tahminini açıkla.\nTürk kültürü bağlamında, çay geleneği sosyal etkileşimleri ve günlük yaşamı nasıl etkilemiştir?\nSeçenekler:\nMisafir ağırlama ve sosyalleşmenin ayrılmaz bir parçasıdır, genellikle toplantılar veya ziyaretler sırasında servis edilir.\nHızlı bir şekilde ve giderken tüketilir, öncelikle iş saatleri boyunca kafein takviyesi için.",
         "culturebench",
         "True",
         "False",
         "[{'role': 'user', 'content': 'Soru:Seçeneklerden birini seçip cevap vermek zorundasın. Seçtiğin seçeneği tam olarak ver ve sonra tahminini açıkla.\\nTürk kültürü bağlamında, çay geleneği sosyal etkileşimleri ve günlük yaşamı nasıl etkilemiştir?\\nSeçenekler:\\nMisafir ağırlama ve sosyalleşmenin ayrılmaz bir parçasıdır, genellikle toplantılar veya ziyaretler sırasında servis edilir.\\nHızlı bir şekilde ve giderken tüketilir, öncelikle iş saatleri boyunca kafein takviyesi için.'}]",
         "<bos><start_of_turn>user\nSoru:Seçeneklerden birini seçip cevap vermek zorundasın. Seçtiğin seçeneği tam olarak ver ve sonra tahminini açıkla.\nTürk kültürü bağlamında, çay geleneği sosyal etkileşimleri ve günlük yaşamı nasıl etkilemiştir?\nSeçenekler:\nMisafir ağırlama ve sosyalleşmenin ayrılmaz bir parçasıdır, genellikle toplantılar veya ziyaretler sırasında servis edilir.\nHızlı bir şekilde ve giderken tüketilir, öncelikle iş saatleri boyunca kafein takviyesi için.<end_of_turn>\n<start_of_turn>model\nTahminim **",
         "513",
         "Misafir ağırlama ve sosyalleşmenin ayrılmaz bir parçasıdır, genellikle toplantılar veya",
         "none"
        ],
        [
         "9086",
         "culturebench",
         "culturebench_574_2",
         "Turkey",
         "Bir erkek sevgilisiyle evlenmek istediğinde geleneksel süreç nedir?",
         "Turkish",
         "['Çiftin yasal yaşta oldukları sürece hiçbir aile etkileşimi olmadan evlenebilmeleri için sadece özel olarak yemin değiştirmeleri gerekir.', 'Erkek arkadaş, kız arkadaşının ailesini ziyaret edip evlenme teklif etmek için kendi ailesiyle gelmelidir.']",
         "False",
         "2.0",
         "1.0",
         "Erkek arkadaş, kız arkadaşının ailesini ziyaret edip evlenme teklif etmek için kendi ailesiyle gelmelidir.",
         "Çiftin yasal yaşta oldukları sürece hiçbir aile etkileşimi olmadan evlenebilmeleri için sadece özel olarak yemin değiştirmeleri gerekir.",
         "Soru:Seçeneklerden birini seçip cevap vermek zorundasın. Seçtiğin seçeneği tam olarak ver ve sonra tahminini açıkla.\nBir erkek sevgilisiyle evlenmek istediğinde geleneksel süreç nedir?\nSeçenekler:\nÇiftin yasal yaşta oldukları sürece hiçbir aile etkileşimi olmadan evlenebilmeleri için sadece özel olarak yemin değiştirmeleri gerekir.\nErkek arkadaş, kız arkadaşının ailesini ziyaret edip evlenme teklif etmek için kendi ailesiyle gelmelidir.",
         "culturebench",
         "True",
         "False",
         "[{'role': 'user', 'content': 'Soru:Seçeneklerden birini seçip cevap vermek zorundasın. Seçtiğin seçeneği tam olarak ver ve sonra tahminini açıkla.\\nBir erkek sevgilisiyle evlenmek istediğinde geleneksel süreç nedir?\\nSeçenekler:\\nÇiftin yasal yaşta oldukları sürece hiçbir aile etkileşimi olmadan evlenebilmeleri için sadece özel olarak yemin değiştirmeleri gerekir.\\nErkek arkadaş, kız arkadaşının ailesini ziyaret edip evlenme teklif etmek için kendi ailesiyle gelmelidir.'}]",
         "<bos><start_of_turn>user\nSoru:Seçeneklerden birini seçip cevap vermek zorundasın. Seçtiğin seçeneği tam olarak ver ve sonra tahminini açıkla.\nBir erkek sevgilisiyle evlenmek istediğinde geleneksel süreç nedir?\nSeçenekler:\nÇiftin yasal yaşta oldukları sürece hiçbir aile etkileşimi olmadan evlenebilmeleri için sadece özel olarak yemin değiştirmeleri gerekir.\nErkek arkadaş, kız arkadaşının ailesini ziyaret edip evlenme teklif etmek için kendi ailesiyle gelmelidir.<end_of_turn>\n<start_of_turn>model\nTahminim **",
         "511",
         "Erkek arkadaş, kız arkadaşının ailesini ziyaret edip evlenme teklif etmek için kendi ailes",
         "none"
        ],
        [
         "8884",
         "culturebench",
         "culturebench_415_1",
         "Turkey",
         "In the context of Turkish culture, what traditional act is performed during the ceremony in which the man’s family requests the woman’s hand in marriage?",
         "English",
         "['The man presents a diamond ring to the woman in front of her family.', 'The woman makes a Turkish coffee for the man with a lot of salt, which he has to drink.']",
         "True",
         "2.0",
         "1.0",
         "The woman makes a Turkish coffee for the man with a lot of salt, which he has to drink.",
         "The man presents a diamond ring to the woman in front of her family.",
         "Question:You must select one option and answer. First, state the selected option in full, then explain your guess.\nIn the context of Turkish culture, what traditional act is performed during the ceremony in which the man’s family requests the woman’s hand in marriage?\nOptions:\nThe man presents a diamond ring to the woman in front of her family.\nThe woman makes a Turkish coffee for the man with a lot of salt, which he has to drink.",
         "culturebench",
         "False",
         "False",
         "[{'role': 'user', 'content': 'Question:You must select one option and answer. First, state the selected option in full, then explain your guess.\\nIn the context of Turkish culture, what traditional act is performed during the ceremony in which the man’s family requests the woman’s hand in marriage?\\nOptions:\\nThe man presents a diamond ring to the woman in front of her family.\\nThe woman makes a Turkish coffee for the man with a lot of salt, which he has to drink.'}]",
         "<bos><start_of_turn>user\nQuestion:You must select one option and answer. First, state the selected option in full, then explain your guess.\nIn the context of Turkish culture, what traditional act is performed during the ceremony in which the man’s family requests the woman’s hand in marriage?\nOptions:\nThe man presents a diamond ring to the woman in front of her family.\nThe woman makes a Turkish coffee for the man with a lot of salt, which he has to drink.<end_of_turn>\n<start_of_turn>model\nMy guess is **",
         "508",
         "The man presents a diamond ring to the woman in front of her family.**\n\nHere's why",
         "west"
        ],
        [
         "9196",
         "culturebench",
         "culturebench_700_1",
         "Turkey",
         "In the context of Turkish culture, how has the tradition of Turkish tea (çay) influenced social interactions and daily life?",
         "English",
         "[\"It's an integral part of hospitality and socializing, often served during meetings or visits.\", \"It's mainly reserved for high tea in the late afternoon, accompanied by scones and jams.\"]",
         "True",
         "1.0",
         "2.0",
         "It's an integral part of hospitality and socializing, often served during meetings or visits.",
         "It's mainly reserved for high tea in the late afternoon, accompanied by scones and jams.",
         "Question:You must select one option and answer. First, state the selected option in full, then explain your guess.\nIn the context of Turkish culture, how has the tradition of Turkish tea (çay) influenced social interactions and daily life?\nOptions:\nIt's an integral part of hospitality and socializing, often served during meetings or visits.\nIt's mainly reserved for high tea in the late afternoon, accompanied by scones and jams.",
         "culturebench",
         "False",
         "False",
         "[{'role': 'user', 'content': \"Question:You must select one option and answer. First, state the selected option in full, then explain your guess.\\nIn the context of Turkish culture, how has the tradition of Turkish tea (çay) influenced social interactions and daily life?\\nOptions:\\nIt's an integral part of hospitality and socializing, often served during meetings or visits.\\nIt's mainly reserved for high tea in the late afternoon, accompanied by scones and jams.\"}]",
         "<bos><start_of_turn>user\nQuestion:You must select one option and answer. First, state the selected option in full, then explain your guess.\nIn the context of Turkish culture, how has the tradition of Turkish tea (çay) influenced social interactions and daily life?\nOptions:\nIt's an integral part of hospitality and socializing, often served during meetings or visits.\nIt's mainly reserved for high tea in the late afternoon, accompanied by scones and jams.<end_of_turn>\n<start_of_turn>model\nMy guess is **",
         "505",
         "It's an integral part of hospitality and socializing, often served during meetings or visits.**\n\nHere",
         "local"
        ],
        [
         "9197",
         "culturebench",
         "culturebench_700_2",
         "Turkey",
         "In the context of Turkish culture, how has the tradition of Turkish tea (çay) influenced social interactions and daily life?",
         "English",
         "[\"It's an integral part of hospitality and socializing, often served during meetings or visits.\", \"It's consumed quickly and on the go, primarily for a caffeine boost during work hours.\"]",
         "True",
         "1.0",
         "2.0",
         "It's an integral part of hospitality and socializing, often served during meetings or visits.",
         "It's consumed quickly and on the go, primarily for a caffeine boost during work hours.",
         "Question:You must select one option and answer. First, state the selected option in full, then explain your guess.\nIn the context of Turkish culture, how has the tradition of Turkish tea (çay) influenced social interactions and daily life?\nOptions:\nIt's an integral part of hospitality and socializing, often served during meetings or visits.\nIt's consumed quickly and on the go, primarily for a caffeine boost during work hours.",
         "culturebench",
         "False",
         "False",
         "[{'role': 'user', 'content': \"Question:You must select one option and answer. First, state the selected option in full, then explain your guess.\\nIn the context of Turkish culture, how has the tradition of Turkish tea (çay) influenced social interactions and daily life?\\nOptions:\\nIt's an integral part of hospitality and socializing, often served during meetings or visits.\\nIt's consumed quickly and on the go, primarily for a caffeine boost during work hours.\"}]",
         "<bos><start_of_turn>user\nQuestion:You must select one option and answer. First, state the selected option in full, then explain your guess.\nIn the context of Turkish culture, how has the tradition of Turkish tea (çay) influenced social interactions and daily life?\nOptions:\nIt's an integral part of hospitality and socializing, often served during meetings or visits.\nIt's consumed quickly and on the go, primarily for a caffeine boost during work hours.<end_of_turn>\n<start_of_turn>model\nMy guess is **",
         "503",
         "It's an integral part of hospitality and socializing, often served during meetings or visits.**\n\nHere",
         "local"
        ],
        [
         "9205",
         "culturebench",
         "culturebench_700_1",
         "Turkey",
         "Çay (tea) geleneği sosyal etkileşimleri ve günlük yaşamı nasıl etkilemiştir?",
         "Turkish",
         "['Misafir ağırlama ve sosyalleşmenin ayrılmaz bir parçasıdır, genellikle toplantılar veya ziyaretler sırasında servis edilir.', 'Genellikle öğleden sonra geç saatlerdeki yüksek çay için ayrılmıştır, scones ve reçellerle birlikte.']",
         "False",
         "1.0",
         "2.0",
         "Misafir ağırlama ve sosyalleşmenin ayrılmaz bir parçasıdır, genellikle toplantılar veya ziyaretler sırasında servis edilir.",
         "Genellikle öğleden sonra geç saatlerdeki yüksek çay için ayrılmıştır, scones ve reçellerle birlikte.",
         "Soru:Seçeneklerden birini seçip cevap vermek zorundasın. Seçtiğin seçeneği tam olarak ver ve sonra tahminini açıkla.\nÇay (tea) geleneği sosyal etkileşimleri ve günlük yaşamı nasıl etkilemiştir?\nSeçenekler:\nMisafir ağırlama ve sosyalleşmenin ayrılmaz bir parçasıdır, genellikle toplantılar veya ziyaretler sırasında servis edilir.\nGenellikle öğleden sonra geç saatlerdeki yüksek çay için ayrılmıştır, scones ve reçellerle birlikte.",
         "culturebench",
         "True",
         "False",
         "[{'role': 'user', 'content': 'Soru:Seçeneklerden birini seçip cevap vermek zorundasın. Seçtiğin seçeneği tam olarak ver ve sonra tahminini açıkla.\\nÇay (tea) geleneği sosyal etkileşimleri ve günlük yaşamı nasıl etkilemiştir?\\nSeçenekler:\\nMisafir ağırlama ve sosyalleşmenin ayrılmaz bir parçasıdır, genellikle toplantılar veya ziyaretler sırasında servis edilir.\\nGenellikle öğleden sonra geç saatlerdeki yüksek çay için ayrılmıştır, scones ve reçellerle birlikte.'}]",
         "<bos><start_of_turn>user\nSoru:Seçeneklerden birini seçip cevap vermek zorundasın. Seçtiğin seçeneği tam olarak ver ve sonra tahminini açıkla.\nÇay (tea) geleneği sosyal etkileşimleri ve günlük yaşamı nasıl etkilemiştir?\nSeçenekler:\nMisafir ağırlama ve sosyalleşmenin ayrılmaz bir parçasıdır, genellikle toplantılar veya ziyaretler sırasında servis edilir.\nGenellikle öğleden sonra geç saatlerdeki yüksek çay için ayrılmıştır, scones ve reçellerle birlikte.<end_of_turn>\n<start_of_turn>model\nTahminim **",
         "501",
         "Misafir ağırlama ve sosyalleşmenin ayrılmaz bir parçasıdır, genellikle toplantılar veya",
         "none"
        ],
        [
         "8513",
         "culturebench",
         "culturebench_127_1",
         "Turkey",
         "In Turkish culture, what is a common practice following the days of a person's death to honor their soul?",
         "English",
         "['Gathering together to read the Quran and giving out food on the 7th and 40th days after death.', 'Lighting candles at a church service dedicated to the deceased on the anniversary of their death.']",
         "True",
         "1.0",
         "2.0",
         "Gathering together to read the Quran and giving out food on the 7th and 40th days after death.",
         "Lighting candles at a church service dedicated to the deceased on the anniversary of their death.",
         "Question:You must select one option and answer. First, state the selected option in full, then explain your guess.\nIn Turkish culture, what is a common practice following the days of a person's death to honor their soul?\nOptions:\nGathering together to read the Quran and giving out food on the 7th and 40th days after death.\nLighting candles at a church service dedicated to the deceased on the anniversary of their death.",
         "culturebench",
         "False",
         "False",
         "[{'role': 'user', 'content': \"Question:You must select one option and answer. First, state the selected option in full, then explain your guess.\\nIn Turkish culture, what is a common practice following the days of a person's death to honor their soul?\\nOptions:\\nGathering together to read the Quran and giving out food on the 7th and 40th days after death.\\nLighting candles at a church service dedicated to the deceased on the anniversary of their death.\"}]",
         "<bos><start_of_turn>user\nQuestion:You must select one option and answer. First, state the selected option in full, then explain your guess.\nIn Turkish culture, what is a common practice following the days of a person's death to honor their soul?\nOptions:\nGathering together to read the Quran and giving out food on the 7th and 40th days after death.\nLighting candles at a church service dedicated to the deceased on the anniversary of their death.<end_of_turn>\n<start_of_turn>model\nMy guess is **",
         "496",
         "Gathering together to read the Quran and giving out food on the 7th and 40th",
         "none"
        ],
        [
         "9206",
         "culturebench",
         "culturebench_700_2",
         "Turkey",
         "Çay (tea) geleneği sosyal etkileşimleri ve günlük yaşamı nasıl etkilemiştir?",
         "Turkish",
         "['Misafir ağırlama ve sosyalleşmenin ayrılmaz bir parçasıdır, genellikle toplantılar veya ziyaretler sırasında servis edilir.', 'Hızlı bir şekilde ve giderken tüketilir, öncelikle iş saatleri boyunca kafein takviyesi için.']",
         "False",
         "1.0",
         "2.0",
         "Misafir ağırlama ve sosyalleşmenin ayrılmaz bir parçasıdır, genellikle toplantılar veya ziyaretler sırasında servis edilir.",
         "Hızlı bir şekilde ve giderken tüketilir, öncelikle iş saatleri boyunca kafein takviyesi için.",
         "Soru:Seçeneklerden birini seçip cevap vermek zorundasın. Seçtiğin seçeneği tam olarak ver ve sonra tahminini açıkla.\nÇay (tea) geleneği sosyal etkileşimleri ve günlük yaşamı nasıl etkilemiştir?\nSeçenekler:\nMisafir ağırlama ve sosyalleşmenin ayrılmaz bir parçasıdır, genellikle toplantılar veya ziyaretler sırasında servis edilir.\nHızlı bir şekilde ve giderken tüketilir, öncelikle iş saatleri boyunca kafein takviyesi için.",
         "culturebench",
         "True",
         "False",
         "[{'role': 'user', 'content': 'Soru:Seçeneklerden birini seçip cevap vermek zorundasın. Seçtiğin seçeneği tam olarak ver ve sonra tahminini açıkla.\\nÇay (tea) geleneği sosyal etkileşimleri ve günlük yaşamı nasıl etkilemiştir?\\nSeçenekler:\\nMisafir ağırlama ve sosyalleşmenin ayrılmaz bir parçasıdır, genellikle toplantılar veya ziyaretler sırasında servis edilir.\\nHızlı bir şekilde ve giderken tüketilir, öncelikle iş saatleri boyunca kafein takviyesi için.'}]",
         "<bos><start_of_turn>user\nSoru:Seçeneklerden birini seçip cevap vermek zorundasın. Seçtiğin seçeneği tam olarak ver ve sonra tahminini açıkla.\nÇay (tea) geleneği sosyal etkileşimleri ve günlük yaşamı nasıl etkilemiştir?\nSeçenekler:\nMisafir ağırlama ve sosyalleşmenin ayrılmaz bir parçasıdır, genellikle toplantılar veya ziyaretler sırasında servis edilir.\nHızlı bir şekilde ve giderken tüketilir, öncelikle iş saatleri boyunca kafein takviyesi için.<end_of_turn>\n<start_of_turn>model\nTahminim **",
         "494",
         "Misafir ağırlama ve sosyalleşmenin ayrılmaz bir parçasıdır, genellikle toplantılar veya",
         "none"
        ],
        [
         "8885",
         "culturebench",
         "culturebench_415_2",
         "Turkey",
         "In the context of Turkish culture, what traditional act is performed during the ceremony in which the man’s family requests the woman’s hand in marriage?",
         "English",
         "['The families exchange gifts wrapped in red paper.', 'The woman makes a Turkish coffee for the man with a lot of salt, which he has to drink.']",
         "True",
         "2.0",
         "1.0",
         "The woman makes a Turkish coffee for the man with a lot of salt, which he has to drink.",
         "The families exchange gifts wrapped in red paper.",
         "Question:You must select one option and answer. First, state the selected option in full, then explain your guess.\nIn the context of Turkish culture, what traditional act is performed during the ceremony in which the man’s family requests the woman’s hand in marriage?\nOptions:\nThe families exchange gifts wrapped in red paper.\nThe woman makes a Turkish coffee for the man with a lot of salt, which he has to drink.",
         "culturebench",
         "False",
         "False",
         "[{'role': 'user', 'content': 'Question:You must select one option and answer. First, state the selected option in full, then explain your guess.\\nIn the context of Turkish culture, what traditional act is performed during the ceremony in which the man’s family requests the woman’s hand in marriage?\\nOptions:\\nThe families exchange gifts wrapped in red paper.\\nThe woman makes a Turkish coffee for the man with a lot of salt, which he has to drink.'}]",
         "<bos><start_of_turn>user\nQuestion:You must select one option and answer. First, state the selected option in full, then explain your guess.\nIn the context of Turkish culture, what traditional act is performed during the ceremony in which the man’s family requests the woman’s hand in marriage?\nOptions:\nThe families exchange gifts wrapped in red paper.\nThe woman makes a Turkish coffee for the man with a lot of salt, which he has to drink.<end_of_turn>\n<start_of_turn>model\nMy guess is **",
         "489",
         "The families exchange gifts wrapped in red paper.**\n\nHere's why:\n\n* **Red Paper",
         "west"
        ],
        [
         "8514",
         "culturebench",
         "culturebench_127_2",
         "Turkey",
         "In Turkish culture, what is a common practice following the days of a person's death to honor their soul?",
         "English",
         "['Gathering together to read the Quran and giving out food on the 7th and 40th days after death.', \"Planting a tree in the deceased's name on the first year anniversary of their passing.\"]",
         "True",
         "1.0",
         "2.0",
         "Gathering together to read the Quran and giving out food on the 7th and 40th days after death.",
         "Planting a tree in the deceased's name on the first year anniversary of their passing.",
         "Question:You must select one option and answer. First, state the selected option in full, then explain your guess.\nIn Turkish culture, what is a common practice following the days of a person's death to honor their soul?\nOptions:\nGathering together to read the Quran and giving out food on the 7th and 40th days after death.\nPlanting a tree in the deceased's name on the first year anniversary of their passing.",
         "culturebench",
         "False",
         "False",
         "[{'role': 'user', 'content': \"Question:You must select one option and answer. First, state the selected option in full, then explain your guess.\\nIn Turkish culture, what is a common practice following the days of a person's death to honor their soul?\\nOptions:\\nGathering together to read the Quran and giving out food on the 7th and 40th days after death.\\nPlanting a tree in the deceased's name on the first year anniversary of their passing.\"}]",
         "<bos><start_of_turn>user\nQuestion:You must select one option and answer. First, state the selected option in full, then explain your guess.\nIn Turkish culture, what is a common practice following the days of a person's death to honor their soul?\nOptions:\nGathering together to read the Quran and giving out food on the 7th and 40th days after death.\nPlanting a tree in the deceased's name on the first year anniversary of their passing.<end_of_turn>\n<start_of_turn>model\nMy guess is **",
         "485",
         "Gathering together to read the Quran and giving out food on the 7th and 40th",
         "none"
        ],
        [
         "9161",
         "culturebench",
         "culturebench_684_2",
         "Turkey",
         "What is an appropriate and culturally respectful phrase to express gratitude and appreciation to the cook after enjoying a meal in Turkish culture?",
         "English",
         "['\"That was absolutely delightful, I truly appreciate your culinary efforts!\"', '\"May your hands be blessed with good health and skill!\"']",
         "True",
         "2.0",
         "1.0",
         "\"May your hands be blessed with good health and skill!\"",
         "\"That was absolutely delightful, I truly appreciate your culinary efforts!\"",
         "Question:You must select one option and answer. First, state the selected option in full, then explain your guess.\nWhat is an appropriate and culturally respectful phrase to express gratitude and appreciation to the cook after enjoying a meal in Turkish culture?\nOptions:\n\"That was absolutely delightful, I truly appreciate your culinary efforts!\"\n\"May your hands be blessed with good health and skill!\"",
         "culturebench",
         "False",
         "False",
         "[{'role': 'user', 'content': 'Question:You must select one option and answer. First, state the selected option in full, then explain your guess.\\nWhat is an appropriate and culturally respectful phrase to express gratitude and appreciation to the cook after enjoying a meal in Turkish culture?\\nOptions:\\n\"That was absolutely delightful, I truly appreciate your culinary efforts!\"\\n\"May your hands be blessed with good health and skill!\"'}]",
         "<bos><start_of_turn>user\nQuestion:You must select one option and answer. First, state the selected option in full, then explain your guess.\nWhat is an appropriate and culturally respectful phrase to express gratitude and appreciation to the cook after enjoying a meal in Turkish culture?\nOptions:\n\"That was absolutely delightful, I truly appreciate your culinary efforts!\"\n\"May your hands be blessed with good health and skill!\"<end_of_turn>\n<start_of_turn>model\nMy guess is **",
         "477",
         "\"May your hands be blessed with good health and skill!\"**\n\nHere's why:\n\n",
         "local"
        ],
        [
         "8516",
         "culturebench",
         "culturebench_127_1",
         "Turkey",
         "What is a common practice following the days of a person's death to honor their soul?",
         "English",
         "['Gathering together to read the Quran and giving out food on the 7th and 40th days after death.', 'Lighting candles at a church service dedicated to the deceased on the anniversary of their death.']",
         "False",
         "1.0",
         "2.0",
         "Gathering together to read the Quran and giving out food on the 7th and 40th days after death.",
         "Lighting candles at a church service dedicated to the deceased on the anniversary of their death.",
         "Question:You must select one option and answer. First, state the selected option in full, then explain your guess.\nWhat is a common practice following the days of a person's death to honor their soul?\nOptions:\nGathering together to read the Quran and giving out food on the 7th and 40th days after death.\nLighting candles at a church service dedicated to the deceased on the anniversary of their death.",
         "culturebench",
         "False",
         "False",
         "[{'role': 'user', 'content': \"Question:You must select one option and answer. First, state the selected option in full, then explain your guess.\\nWhat is a common practice following the days of a person's death to honor their soul?\\nOptions:\\nGathering together to read the Quran and giving out food on the 7th and 40th days after death.\\nLighting candles at a church service dedicated to the deceased on the anniversary of their death.\"}]",
         "<bos><start_of_turn>user\nQuestion:You must select one option and answer. First, state the selected option in full, then explain your guess.\nWhat is a common practice following the days of a person's death to honor their soul?\nOptions:\nGathering together to read the Quran and giving out food on the 7th and 40th days after death.\nLighting candles at a church service dedicated to the deceased on the anniversary of their death.<end_of_turn>\n<start_of_turn>model\nMy guess is **",
         "476",
         "Gathering together to read the Quran and giving out food on the 7th and 40th",
         "none"
        ],
        [
         "8887",
         "culturebench",
         "culturebench_415_1",
         "Turkey",
         "What traditional act is performed during the ceremony in which the man’s family requests the woman’s hand in marriage?",
         "English",
         "['The man presents a diamond ring to the woman in front of her family.', 'The woman makes a Turkish coffee for the man with a lot of salt, which he has to drink.']",
         "False",
         "2.0",
         "1.0",
         "The woman makes a Turkish coffee for the man with a lot of salt, which he has to drink.",
         "The man presents a diamond ring to the woman in front of her family.",
         "Question:You must select one option and answer. First, state the selected option in full, then explain your guess.\nWhat traditional act is performed during the ceremony in which the man’s family requests the woman’s hand in marriage?\nOptions:\nThe man presents a diamond ring to the woman in front of her family.\nThe woman makes a Turkish coffee for the man with a lot of salt, which he has to drink.",
         "culturebench",
         "False",
         "False",
         "[{'role': 'user', 'content': 'Question:You must select one option and answer. First, state the selected option in full, then explain your guess.\\nWhat traditional act is performed during the ceremony in which the man’s family requests the woman’s hand in marriage?\\nOptions:\\nThe man presents a diamond ring to the woman in front of her family.\\nThe woman makes a Turkish coffee for the man with a lot of salt, which he has to drink.'}]",
         "<bos><start_of_turn>user\nQuestion:You must select one option and answer. First, state the selected option in full, then explain your guess.\nWhat traditional act is performed during the ceremony in which the man’s family requests the woman’s hand in marriage?\nOptions:\nThe man presents a diamond ring to the woman in front of her family.\nThe woman makes a Turkish coffee for the man with a lot of salt, which he has to drink.<end_of_turn>\n<start_of_turn>model\nMy guess is **",
         "473",
         "The man presents a diamond ring to the woman in front of her family.**\n\nHere's why",
         "west"
        ],
        [
         "8886",
         "culturebench",
         "culturebench_415_3",
         "Turkey",
         "In the context of Turkish culture, what traditional act is performed during the ceremony in which the man’s family requests the woman’s hand in marriage?",
         "English",
         "[\"The woman's family prepares a\", 'The woman makes a Turkish coffee for the man with a lot of salt, which he has to drink.']",
         "True",
         "2.0",
         "1.0",
         "The woman makes a Turkish coffee for the man with a lot of salt, which he has to drink.",
         "The woman's family prepares a",
         "Question:You must select one option and answer. First, state the selected option in full, then explain your guess.\nIn the context of Turkish culture, what traditional act is performed during the ceremony in which the man’s family requests the woman’s hand in marriage?\nOptions:\nThe woman's family prepares a\nThe woman makes a Turkish coffee for the man with a lot of salt, which he has to drink.",
         "culturebench",
         "False",
         "False",
         "[{'role': 'user', 'content': \"Question:You must select one option and answer. First, state the selected option in full, then explain your guess.\\nIn the context of Turkish culture, what traditional act is performed during the ceremony in which the man’s family requests the woman’s hand in marriage?\\nOptions:\\nThe woman's family prepares a\\nThe woman makes a Turkish coffee for the man with a lot of salt, which he has to drink.\"}]",
         "<bos><start_of_turn>user\nQuestion:You must select one option and answer. First, state the selected option in full, then explain your guess.\nIn the context of Turkish culture, what traditional act is performed during the ceremony in which the man’s family requests the woman’s hand in marriage?\nOptions:\nThe woman's family prepares a\nThe woman makes a Turkish coffee for the man with a lot of salt, which he has to drink.<end_of_turn>\n<start_of_turn>model\nMy guess is **",
         "469",
         "The woman's family prepares a feast**. \n\nHere's why:\n\n* **Cultural",
         "west"
        ],
        [
         "8891",
         "culturebench",
         "culturebench_415_2",
         "Turkey",
         "Türk kültürü bağlamında, erkeğin ailesinin kadının elini evlilik için istediği törende hangi geleneksel eylem gerçekleştirilir?",
         "Turkish",
         "['Aileler, kırmızı kağıda sarılı hediyeler alışverişi yapar.', 'Kadın, içinde çok tuz olan bir Türk kahvesi yapar ve erkek bunu içmek zorundadır.']",
         "True",
         "2.0",
         "1.0",
         "Kadın, içinde çok tuz olan bir Türk kahvesi yapar ve erkek bunu içmek zorundadır.",
         "Aileler, kırmızı kağıda sarılı hediyeler alışverişi yapar.",
         "Soru:Seçeneklerden birini seçip cevap vermek zorundasın. Seçtiğin seçeneği tam olarak ver ve sonra tahminini açıkla.\nTürk kültürü bağlamında, erkeğin ailesinin kadının elini evlilik için istediği törende hangi geleneksel eylem gerçekleştirilir?\nSeçenekler:\nAileler, kırmızı kağıda sarılı hediyeler alışverişi yapar.\nKadın, içinde çok tuz olan bir Türk kahvesi yapar ve erkek bunu içmek zorundadır.",
         "culturebench",
         "True",
         "False",
         "[{'role': 'user', 'content': 'Soru:Seçeneklerden birini seçip cevap vermek zorundasın. Seçtiğin seçeneği tam olarak ver ve sonra tahminini açıkla.\\nTürk kültürü bağlamında, erkeğin ailesinin kadının elini evlilik için istediği törende hangi geleneksel eylem gerçekleştirilir?\\nSeçenekler:\\nAileler, kırmızı kağıda sarılı hediyeler alışverişi yapar.\\nKadın, içinde çok tuz olan bir Türk kahvesi yapar ve erkek bunu içmek zorundadır.'}]",
         "<bos><start_of_turn>user\nSoru:Seçeneklerden birini seçip cevap vermek zorundasın. Seçtiğin seçeneği tam olarak ver ve sonra tahminini açıkla.\nTürk kültürü bağlamında, erkeğin ailesinin kadının elini evlilik için istediği törende hangi geleneksel eylem gerçekleştirilir?\nSeçenekler:\nAileler, kırmızı kağıda sarılı hediyeler alışverişi yapar.\nKadın, içinde çok tuz olan bir Türk kahvesi yapar ve erkek bunu içmek zorundadır.<end_of_turn>\n<start_of_turn>model\nTahminim **",
         "468",
         "A) Aileler, kırmızı kağıda sarılı hediyeler alışverişi yapar.**",
         "west"
        ],
        [
         "8890",
         "culturebench",
         "culturebench_415_1",
         "Turkey",
         "Türk kültürü bağlamında, erkeğin ailesinin kadının elini evlilik için istediği törende hangi geleneksel eylem gerçekleştirilir?",
         "Turkish",
         "['Erkek, kadına ailesinin önünde bir pırlanta yüzük sunar.', 'Kadın, içinde çok tuz olan bir Türk kahvesi yapar ve erkek bunu içmek zorundadır.']",
         "True",
         "2.0",
         "1.0",
         "Kadın, içinde çok tuz olan bir Türk kahvesi yapar ve erkek bunu içmek zorundadır.",
         "Erkek, kadına ailesinin önünde bir pırlanta yüzük sunar.",
         "Soru:Seçeneklerden birini seçip cevap vermek zorundasın. Seçtiğin seçeneği tam olarak ver ve sonra tahminini açıkla.\nTürk kültürü bağlamında, erkeğin ailesinin kadının elini evlilik için istediği törende hangi geleneksel eylem gerçekleştirilir?\nSeçenekler:\nErkek, kadına ailesinin önünde bir pırlanta yüzük sunar.\nKadın, içinde çok tuz olan bir Türk kahvesi yapar ve erkek bunu içmek zorundadır.",
         "culturebench",
         "True",
         "False",
         "[{'role': 'user', 'content': 'Soru:Seçeneklerden birini seçip cevap vermek zorundasın. Seçtiğin seçeneği tam olarak ver ve sonra tahminini açıkla.\\nTürk kültürü bağlamında, erkeğin ailesinin kadının elini evlilik için istediği törende hangi geleneksel eylem gerçekleştirilir?\\nSeçenekler:\\nErkek, kadına ailesinin önünde bir pırlanta yüzük sunar.\\nKadın, içinde çok tuz olan bir Türk kahvesi yapar ve erkek bunu içmek zorundadır.'}]",
         "<bos><start_of_turn>user\nSoru:Seçeneklerden birini seçip cevap vermek zorundasın. Seçtiğin seçeneği tam olarak ver ve sonra tahminini açıkla.\nTürk kültürü bağlamında, erkeğin ailesinin kadının elini evlilik için istediği törende hangi geleneksel eylem gerçekleştirilir?\nSeçenekler:\nErkek, kadına ailesinin önünde bir pırlanta yüzük sunar.\nKadın, içinde çok tuz olan bir Türk kahvesi yapar ve erkek bunu içmek zorundadır.<end_of_turn>\n<start_of_turn>model\nTahminim **",
         "466",
         "Kadın, içinde çok tuz olan bir Türk kahvesi yapar ve erkek bunu içmek zor",
         "none"
        ],
        [
         "9084",
         "culturebench",
         "culturebench_574_3",
         "Turkey",
         "Türkiye'de bir erkek sevgilisiyle evlenmek istediğinde geleneksel süreç nedir?",
         "Turkish",
         "['Çift, yasal yaşta oldukları sürece ailelerin etkileşimi olmadan evlenebilirler.', 'Erkek arkadaş, kız arkadaşının ailesini ziyaret edip evlenme teklif etmek için kendi ailesiyle gelmelidir.']",
         "True",
         "2.0",
         "1.0",
         "Erkek arkadaş, kız arkadaşının ailesini ziyaret edip evlenme teklif etmek için kendi ailesiyle gelmelidir.",
         "Çift, yasal yaşta oldukları sürece ailelerin etkileşimi olmadan evlenebilirler.",
         "Soru:Seçeneklerden birini seçip cevap vermek zorundasın. Seçtiğin seçeneği tam olarak ver ve sonra tahminini açıkla.\nTürkiye'de bir erkek sevgilisiyle evlenmek istediğinde geleneksel süreç nedir?\nSeçenekler:\nÇift, yasal yaşta oldukları sürece ailelerin etkileşimi olmadan evlenebilirler.\nErkek arkadaş, kız arkadaşının ailesini ziyaret edip evlenme teklif etmek için kendi ailesiyle gelmelidir.",
         "culturebench",
         "True",
         "False",
         "[{'role': 'user', 'content': \"Soru:Seçeneklerden birini seçip cevap vermek zorundasın. Seçtiğin seçeneği tam olarak ver ve sonra tahminini açıkla.\\nTürkiye'de bir erkek sevgilisiyle evlenmek istediğinde geleneksel süreç nedir?\\nSeçenekler:\\nÇift, yasal yaşta oldukları sürece ailelerin etkileşimi olmadan evlenebilirler.\\nErkek arkadaş, kız arkadaşının ailesini ziyaret edip evlenme teklif etmek için kendi ailesiyle gelmelidir.\"}]",
         "<bos><start_of_turn>user\nSoru:Seçeneklerden birini seçip cevap vermek zorundasın. Seçtiğin seçeneği tam olarak ver ve sonra tahminini açıkla.\nTürkiye'de bir erkek sevgilisiyle evlenmek istediğinde geleneksel süreç nedir?\nSeçenekler:\nÇift, yasal yaşta oldukları sürece ailelerin etkileşimi olmadan evlenebilirler.\nErkek arkadaş, kız arkadaşının ailesini ziyaret edip evlenme teklif etmek için kendi ailesiyle gelmelidir.<end_of_turn>\n<start_of_turn>model\nTahminim **",
         "465",
         "Erkek arkadaş, kız arkadaşının ailesini ziyaret edip evlenme teklif etmek için kendi ailes",
         "none"
        ],
        [
         "8517",
         "culturebench",
         "culturebench_127_2",
         "Turkey",
         "What is a common practice following the days of a person's death to honor their soul?",
         "English",
         "['Gathering together to read the Quran and giving out food on the 7th and 40th days after death.', \"Planting a tree in the deceased's name on the first year anniversary of their passing.\"]",
         "False",
         "1.0",
         "2.0",
         "Gathering together to read the Quran and giving out food on the 7th and 40th days after death.",
         "Planting a tree in the deceased's name on the first year anniversary of their passing.",
         "Question:You must select one option and answer. First, state the selected option in full, then explain your guess.\nWhat is a common practice following the days of a person's death to honor their soul?\nOptions:\nGathering together to read the Quran and giving out food on the 7th and 40th days after death.\nPlanting a tree in the deceased's name on the first year anniversary of their passing.",
         "culturebench",
         "False",
         "False",
         "[{'role': 'user', 'content': \"Question:You must select one option and answer. First, state the selected option in full, then explain your guess.\\nWhat is a common practice following the days of a person's death to honor their soul?\\nOptions:\\nGathering together to read the Quran and giving out food on the 7th and 40th days after death.\\nPlanting a tree in the deceased's name on the first year anniversary of their passing.\"}]",
         "<bos><start_of_turn>user\nQuestion:You must select one option and answer. First, state the selected option in full, then explain your guess.\nWhat is a common practice following the days of a person's death to honor their soul?\nOptions:\nGathering together to read the Quran and giving out food on the 7th and 40th days after death.\nPlanting a tree in the deceased's name on the first year anniversary of their passing.<end_of_turn>\n<start_of_turn>model\nMy guess is **",
         "465",
         "Gathering together to read the Quran and giving out food on the 7th and 40th",
         "none"
        ],
        [
         "9413",
         "culturebench",
         "culturebench_950_2",
         "Turkey",
         "What traditional activity takes place during a Henna Night in Turkish culture, particularly involving the bride and groom?",
         "English",
         "[\"Applying henna on the bride's palm and the groom's pinky finger.\", 'The bride and groom planting a tree together to symbolize their growing love.']",
         "True",
         "1.0",
         "2.0",
         "Applying henna on the bride's palm and the groom's pinky finger.",
         "The bride and groom planting a tree together to symbolize their growing love.",
         "Question:You must select one option and answer. First, state the selected option in full, then explain your guess.\nWhat traditional activity takes place during a Henna Night in Turkish culture, particularly involving the bride and groom?\nOptions:\nApplying henna on the bride's palm and the groom's pinky finger.\nThe bride and groom planting a tree together to symbolize their growing love.",
         "culturebench",
         "False",
         "False",
         "[{'role': 'user', 'content': \"Question:You must select one option and answer. First, state the selected option in full, then explain your guess.\\nWhat traditional activity takes place during a Henna Night in Turkish culture, particularly involving the bride and groom?\\nOptions:\\nApplying henna on the bride's palm and the groom's pinky finger.\\nThe bride and groom planting a tree together to symbolize their growing love.\"}]",
         "<bos><start_of_turn>user\nQuestion:You must select one option and answer. First, state the selected option in full, then explain your guess.\nWhat traditional activity takes place during a Henna Night in Turkish culture, particularly involving the bride and groom?\nOptions:\nApplying henna on the bride's palm and the groom's pinky finger.\nThe bride and groom planting a tree together to symbolize their growing love.<end_of_turn>\n<start_of_turn>model\nMy guess is **",
         "463",
         "Applying henna on the bride's palm and the groom's pinky finger.**\n\nHenna is",
         "local"
        ],
        [
         "9199",
         "culturebench",
         "culturebench_700_1",
         "Turkey",
         "How has the tradition of tea (çay) influenced social interactions and daily life?",
         "English",
         "[\"It's an integral part of hospitality and socializing, often served during meetings or visits.\", \"It's mainly reserved for high tea in the late afternoon, accompanied by scones and jams.\"]",
         "False",
         "1.0",
         "2.0",
         "It's an integral part of hospitality and socializing, often served during meetings or visits.",
         "It's mainly reserved for high tea in the late afternoon, accompanied by scones and jams.",
         "Question:You must select one option and answer. First, state the selected option in full, then explain your guess.\nHow has the tradition of tea (çay) influenced social interactions and daily life?\nOptions:\nIt's an integral part of hospitality and socializing, often served during meetings or visits.\nIt's mainly reserved for high tea in the late afternoon, accompanied by scones and jams.",
         "culturebench",
         "False",
         "False",
         "[{'role': 'user', 'content': \"Question:You must select one option and answer. First, state the selected option in full, then explain your guess.\\nHow has the tradition of tea (çay) influenced social interactions and daily life?\\nOptions:\\nIt's an integral part of hospitality and socializing, often served during meetings or visits.\\nIt's mainly reserved for high tea in the late afternoon, accompanied by scones and jams.\"}]",
         "<bos><start_of_turn>user\nQuestion:You must select one option and answer. First, state the selected option in full, then explain your guess.\nHow has the tradition of tea (çay) influenced social interactions and daily life?\nOptions:\nIt's an integral part of hospitality and socializing, often served during meetings or visits.\nIt's mainly reserved for high tea in the late afternoon, accompanied by scones and jams.<end_of_turn>\n<start_of_turn>model\nMy guess is **",
         "462",
         "It's an integral part of hospitality and socializing, often served during meetings or visits.**\n\nHere",
         "local"
        ],
        [
         "9414",
         "culturebench",
         "culturebench_950_3",
         "Turkey",
         "What traditional activity takes place during a Henna Night in Turkish culture, particularly involving the bride and groom?",
         "English",
         "[\"Applying henna on the bride's palm and the groom's pinky finger.\", 'Writing their vows on a piece of parchment and sealing it in a glass bottle.']",
         "True",
         "1.0",
         "2.0",
         "Applying henna on the bride's palm and the groom's pinky finger.",
         "Writing their vows on a piece of parchment and sealing it in a glass bottle.",
         "Question:You must select one option and answer. First, state the selected option in full, then explain your guess.\nWhat traditional activity takes place during a Henna Night in Turkish culture, particularly involving the bride and groom?\nOptions:\nApplying henna on the bride's palm and the groom's pinky finger.\nWriting their vows on a piece of parchment and sealing it in a glass bottle.",
         "culturebench",
         "False",
         "False",
         "[{'role': 'user', 'content': \"Question:You must select one option and answer. First, state the selected option in full, then explain your guess.\\nWhat traditional activity takes place during a Henna Night in Turkish culture, particularly involving the bride and groom?\\nOptions:\\nApplying henna on the bride's palm and the groom's pinky finger.\\nWriting their vows on a piece of parchment and sealing it in a glass bottle.\"}]",
         "<bos><start_of_turn>user\nQuestion:You must select one option and answer. First, state the selected option in full, then explain your guess.\nWhat traditional activity takes place during a Henna Night in Turkish culture, particularly involving the bride and groom?\nOptions:\nApplying henna on the bride's palm and the groom's pinky finger.\nWriting their vows on a piece of parchment and sealing it in a glass bottle.<end_of_turn>\n<start_of_turn>model\nMy guess is **",
         "462",
         "Applying henna on the bride's palm and the groom's pinky finger.**\n\nHere's",
         "local"
        ],
        [
         "9162",
         "culturebench",
         "culturebench_684_3",
         "Turkey",
         "What is an appropriate and culturally respectful phrase to express gratitude and appreciation to the cook after enjoying a meal in Turkish culture?",
         "English",
         "['\"Would it be possible for you to share the recipe with me?\"', '\"May your hands be blessed with good health and skill!\"']",
         "True",
         "2.0",
         "1.0",
         "\"May your hands be blessed with good health and skill!\"",
         "\"Would it be possible for you to share the recipe with me?\"",
         "Question:You must select one option and answer. First, state the selected option in full, then explain your guess.\nWhat is an appropriate and culturally respectful phrase to express gratitude and appreciation to the cook after enjoying a meal in Turkish culture?\nOptions:\n\"Would it be possible for you to share the recipe with me?\"\n\"May your hands be blessed with good health and skill!\"",
         "culturebench",
         "False",
         "False",
         "[{'role': 'user', 'content': 'Question:You must select one option and answer. First, state the selected option in full, then explain your guess.\\nWhat is an appropriate and culturally respectful phrase to express gratitude and appreciation to the cook after enjoying a meal in Turkish culture?\\nOptions:\\n\"Would it be possible for you to share the recipe with me?\"\\n\"May your hands be blessed with good health and skill!\"'}]",
         "<bos><start_of_turn>user\nQuestion:You must select one option and answer. First, state the selected option in full, then explain your guess.\nWhat is an appropriate and culturally respectful phrase to express gratitude and appreciation to the cook after enjoying a meal in Turkish culture?\nOptions:\n\"Would it be possible for you to share the recipe with me?\"\n\"May your hands be blessed with good health and skill!\"<end_of_turn>\n<start_of_turn>model\nMy guess is **",
         "461",
         "\"May your hands be blessed with good health and skill!\"**\n\nHere's why:\n\n",
         "local"
        ],
        [
         "9160",
         "culturebench",
         "culturebench_684_0",
         "Turkey",
         "What is an appropriate and culturally respectful phrase to express gratitude and appreciation to the cook after enjoying a meal in Turkish culture?",
         "English",
         "['\"Thank you very much for preparing such a wonderful meal!\"', '\"May your hands be blessed with good health and skill!\"']",
         "True",
         "2.0",
         "1.0",
         "\"May your hands be blessed with good health and skill!\"",
         "\"Thank you very much for preparing such a wonderful meal!\"",
         "Question:You must select one option and answer. First, state the selected option in full, then explain your guess.\nWhat is an appropriate and culturally respectful phrase to express gratitude and appreciation to the cook after enjoying a meal in Turkish culture?\nOptions:\n\"Thank you very much for preparing such a wonderful meal!\"\n\"May your hands be blessed with good health and skill!\"",
         "culturebench",
         "False",
         "False",
         "[{'role': 'user', 'content': 'Question:You must select one option and answer. First, state the selected option in full, then explain your guess.\\nWhat is an appropriate and culturally respectful phrase to express gratitude and appreciation to the cook after enjoying a meal in Turkish culture?\\nOptions:\\n\"Thank you very much for preparing such a wonderful meal!\"\\n\"May your hands be blessed with good health and skill!\"'}]",
         "<bos><start_of_turn>user\nQuestion:You must select one option and answer. First, state the selected option in full, then explain your guess.\nWhat is an appropriate and culturally respectful phrase to express gratitude and appreciation to the cook after enjoying a meal in Turkish culture?\nOptions:\n\"Thank you very much for preparing such a wonderful meal!\"\n\"May your hands be blessed with good health and skill!\"<end_of_turn>\n<start_of_turn>model\nMy guess is **",
         "460",
         "\"May your hands be blessed with good health and skill!\"**\n\nHere's why:\n\n",
         "local"
        ],
        [
         "9200",
         "culturebench",
         "culturebench_700_2",
         "Turkey",
         "How has the tradition of tea (çay) influenced social interactions and daily life?",
         "English",
         "[\"It's an integral part of hospitality and socializing, often served during meetings or visits.\", \"It's consumed quickly and on the go, primarily for a caffeine boost during work hours.\"]",
         "False",
         "1.0",
         "2.0",
         "It's an integral part of hospitality and socializing, often served during meetings or visits.",
         "It's consumed quickly and on the go, primarily for a caffeine boost during work hours.",
         "Question:You must select one option and answer. First, state the selected option in full, then explain your guess.\nHow has the tradition of tea (çay) influenced social interactions and daily life?\nOptions:\nIt's an integral part of hospitality and socializing, often served during meetings or visits.\nIt's consumed quickly and on the go, primarily for a caffeine boost during work hours.",
         "culturebench",
         "False",
         "False",
         "[{'role': 'user', 'content': \"Question:You must select one option and answer. First, state the selected option in full, then explain your guess.\\nHow has the tradition of tea (çay) influenced social interactions and daily life?\\nOptions:\\nIt's an integral part of hospitality and socializing, often served during meetings or visits.\\nIt's consumed quickly and on the go, primarily for a caffeine boost during work hours.\"}]",
         "<bos><start_of_turn>user\nQuestion:You must select one option and answer. First, state the selected option in full, then explain your guess.\nHow has the tradition of tea (çay) influenced social interactions and daily life?\nOptions:\nIt's an integral part of hospitality and socializing, often served during meetings or visits.\nIt's consumed quickly and on the go, primarily for a caffeine boost during work hours.<end_of_turn>\n<start_of_turn>model\nMy guess is **",
         "460",
         "It's an integral part of hospitality and socializing, often served during meetings or visits.**\n\nHere",
         "local"
        ],
        [
         "9164",
         "culturebench",
         "culturebench_684_2",
         "Turkey",
         "What is an appropriate and culturally respectful phrase to express gratitude and appreciation to the cook after enjoying a meal?",
         "English",
         "['\"That was absolutely delightful, I truly appreciate your culinary efforts!\"', '\"May your hands be blessed with good health and skill!\"']",
         "False",
         "2.0",
         "1.0",
         "\"May your hands be blessed with good health and skill!\"",
         "\"That was absolutely delightful, I truly appreciate your culinary efforts!\"",
         "Question:You must select one option and answer. First, state the selected option in full, then explain your guess.\nWhat is an appropriate and culturally respectful phrase to express gratitude and appreciation to the cook after enjoying a meal?\nOptions:\n\"That was absolutely delightful, I truly appreciate your culinary efforts!\"\n\"May your hands be blessed with good health and skill!\"",
         "culturebench",
         "False",
         "False",
         "[{'role': 'user', 'content': 'Question:You must select one option and answer. First, state the selected option in full, then explain your guess.\\nWhat is an appropriate and culturally respectful phrase to express gratitude and appreciation to the cook after enjoying a meal?\\nOptions:\\n\"That was absolutely delightful, I truly appreciate your culinary efforts!\"\\n\"May your hands be blessed with good health and skill!\"'}]",
         "<bos><start_of_turn>user\nQuestion:You must select one option and answer. First, state the selected option in full, then explain your guess.\nWhat is an appropriate and culturally respectful phrase to express gratitude and appreciation to the cook after enjoying a meal?\nOptions:\n\"That was absolutely delightful, I truly appreciate your culinary efforts!\"\n\"May your hands be blessed with good health and skill!\"<end_of_turn>\n<start_of_turn>model\nMy guess is **",
         "458",
         "\"May your hands be blessed with good health and skill!\"**\n\nHere's why:\n\n",
         "local"
        ],
        [
         "9094",
         "culturebench",
         "culturebench_575_1",
         "Turkey",
         "Türk kültüründe, insanlar sevdiklerinin anısını onurlandırmak, özel bir durumu kutlamak veya gerçekleşen bir dilek için minnettarlık göstermek istediklerinde, geleneksel olarak hangi tür yiyeceği hazırlar ve başkalarına dağıtırlar?",
         "Turkish",
         "['Çikolatalı Kurabiye', 'Lokma']",
         "True",
         "2.0",
         "1.0",
         "Lokma",
         "Çikolatalı Kurabiye",
         "Soru:Seçeneklerden birini seçip cevap vermek zorundasın. Seçtiğin seçeneği tam olarak ver ve sonra tahminini açıkla.\nTürk kültüründe, insanlar sevdiklerinin anısını onurlandırmak, özel bir durumu kutlamak veya gerçekleşen bir dilek için minnettarlık göstermek istediklerinde, geleneksel olarak hangi tür yiyeceği hazırlar ve başkalarına dağıtırlar?\nSeçenekler:\nÇikolatalı Kurabiye\nLokma",
         "culturebench",
         "True",
         "False",
         "[{'role': 'user', 'content': 'Soru:Seçeneklerden birini seçip cevap vermek zorundasın. Seçtiğin seçeneği tam olarak ver ve sonra tahminini açıkla.\\nTürk kültüründe, insanlar sevdiklerinin anısını onurlandırmak, özel bir durumu kutlamak veya gerçekleşen bir dilek için minnettarlık göstermek istediklerinde, geleneksel olarak hangi tür yiyeceği hazırlar ve başkalarına dağıtırlar?\\nSeçenekler:\\nÇikolatalı Kurabiye\\nLokma'}]",
         "<bos><start_of_turn>user\nSoru:Seçeneklerden birini seçip cevap vermek zorundasın. Seçtiğin seçeneği tam olarak ver ve sonra tahminini açıkla.\nTürk kültüründe, insanlar sevdiklerinin anısını onurlandırmak, özel bir durumu kutlamak veya gerçekleşen bir dilek için minnettarlık göstermek istediklerinde, geleneksel olarak hangi tür yiyeceği hazırlar ve başkalarına dağıtırlar?\nSeçenekler:\nÇikolatalı Kurabiye\nLokma<end_of_turn>\n<start_of_turn>model\nTahminim **",
         "457",
         "Lokma**.\n\nTürk kültüründe, sevdiklerinin anısını onurlandırmak, özel bir",
         "local"
        ],
        [
         "9088",
         "culturebench",
         "culturebench_575_1",
         "Turkey",
         "In Turkish culture, when people want to honor their loved one's memory, celebrate a special occasion, or show gratitude for a wish that has been fulfilled, what type of food do they traditionally prepare and distribute to others?",
         "English",
         "['Chocolate Chip Cookies', 'Lokma']",
         "True",
         "2.0",
         "1.0",
         "Lokma",
         "Chocolate Chip Cookies",
         "Question:You must select one option and answer. First, state the selected option in full, then explain your guess.\nIn Turkish culture, when people want to honor their loved one's memory, celebrate a special occasion, or show gratitude for a wish that has been fulfilled, what type of food do they traditionally prepare and distribute to others?\nOptions:\nChocolate Chip Cookies\nLokma",
         "culturebench",
         "False",
         "False",
         "[{'role': 'user', 'content': \"Question:You must select one option and answer. First, state the selected option in full, then explain your guess.\\nIn Turkish culture, when people want to honor their loved one's memory, celebrate a special occasion, or show gratitude for a wish that has been fulfilled, what type of food do they traditionally prepare and distribute to others?\\nOptions:\\nChocolate Chip Cookies\\nLokma\"}]",
         "<bos><start_of_turn>user\nQuestion:You must select one option and answer. First, state the selected option in full, then explain your guess.\nIn Turkish culture, when people want to honor their loved one's memory, celebrate a special occasion, or show gratitude for a wish that has been fulfilled, what type of food do they traditionally prepare and distribute to others?\nOptions:\nChocolate Chip Cookies\nLokma<end_of_turn>\n<start_of_turn>model\nMy guess is **",
         "456",
         "Lokma**. \n\nHere's why:\n\n* **Lokma** are deep-fried",
         "local"
        ],
        [
         "9078",
         "culturebench",
         "culturebench_574_3",
         "Turkey",
         "In Turkey, what is the traditional process for a man wanting to marry his girlfriend?",
         "English",
         "['They can marry without any family involvement, as long as they are of legal age.', \"The boyfriend must visit the girl's family with his family to ask for her hand in marriage.\"]",
         "True",
         "2.0",
         "1.0",
         "The boyfriend must visit the girl's family with his family to ask for her hand in marriage.",
         "They can marry without any family involvement, as long as they are of legal age.",
         "Question:You must select one option and answer. First, state the selected option in full, then explain your guess.\nIn Turkey, what is the traditional process for a man wanting to marry his girlfriend?\nOptions:\nThey can marry without any family involvement, as long as they are of legal age.\nThe boyfriend must visit the girl's family with his family to ask for her hand in marriage.",
         "culturebench",
         "False",
         "False",
         "[{'role': 'user', 'content': \"Question:You must select one option and answer. First, state the selected option in full, then explain your guess.\\nIn Turkey, what is the traditional process for a man wanting to marry his girlfriend?\\nOptions:\\nThey can marry without any family involvement, as long as they are of legal age.\\nThe boyfriend must visit the girl's family with his family to ask for her hand in marriage.\"}]",
         "<bos><start_of_turn>user\nQuestion:You must select one option and answer. First, state the selected option in full, then explain your guess.\nIn Turkey, what is the traditional process for a man wanting to marry his girlfriend?\nOptions:\nThey can marry without any family involvement, as long as they are of legal age.\nThe boyfriend must visit the girl's family with his family to ask for her hand in marriage.<end_of_turn>\n<start_of_turn>model\nMy guess is **",
         "456",
         "The boyfriend must visit the girl's family with his family to ask for her hand in marriage.**",
         "local"
        ],
        [
         "8888",
         "culturebench",
         "culturebench_415_2",
         "Turkey",
         "What traditional act is performed during the ceremony in which the man’s family requests the woman’s hand in marriage?",
         "English",
         "['The families exchange gifts wrapped in red paper.', 'The woman makes a Turkish coffee for the man with a lot of salt, which he has to drink.']",
         "False",
         "2.0",
         "1.0",
         "The woman makes a Turkish coffee for the man with a lot of salt, which he has to drink.",
         "The families exchange gifts wrapped in red paper.",
         "Question:You must select one option and answer. First, state the selected option in full, then explain your guess.\nWhat traditional act is performed during the ceremony in which the man’s family requests the woman’s hand in marriage?\nOptions:\nThe families exchange gifts wrapped in red paper.\nThe woman makes a Turkish coffee for the man with a lot of salt, which he has to drink.",
         "culturebench",
         "False",
         "False",
         "[{'role': 'user', 'content': 'Question:You must select one option and answer. First, state the selected option in full, then explain your guess.\\nWhat traditional act is performed during the ceremony in which the man’s family requests the woman’s hand in marriage?\\nOptions:\\nThe families exchange gifts wrapped in red paper.\\nThe woman makes a Turkish coffee for the man with a lot of salt, which he has to drink.'}]",
         "<bos><start_of_turn>user\nQuestion:You must select one option and answer. First, state the selected option in full, then explain your guess.\nWhat traditional act is performed during the ceremony in which the man’s family requests the woman’s hand in marriage?\nOptions:\nThe families exchange gifts wrapped in red paper.\nThe woman makes a Turkish coffee for the man with a lot of salt, which he has to drink.<end_of_turn>\n<start_of_turn>model\nMy guess is **",
         "454",
         "The families exchange gifts wrapped in red paper.**\n\nHere's why:\n\n* **Cultural Significance",
         "west"
        ],
        [
         "9087",
         "culturebench",
         "culturebench_574_3",
         "Turkey",
         "Bir erkek sevgilisiyle evlenmek istediğinde geleneksel süreç nedir?",
         "Turkish",
         "['Çift, yasal yaşta oldukları sürece ailelerin etkileşimi olmadan evlenebilirler.', 'Erkek arkadaş, kız arkadaşının ailesini ziyaret edip evlenme teklif etmek için kendi ailesiyle gelmelidir.']",
         "False",
         "2.0",
         "1.0",
         "Erkek arkadaş, kız arkadaşının ailesini ziyaret edip evlenme teklif etmek için kendi ailesiyle gelmelidir.",
         "Çift, yasal yaşta oldukları sürece ailelerin etkileşimi olmadan evlenebilirler.",
         "Soru:Seçeneklerden birini seçip cevap vermek zorundasın. Seçtiğin seçeneği tam olarak ver ve sonra tahminini açıkla.\nBir erkek sevgilisiyle evlenmek istediğinde geleneksel süreç nedir?\nSeçenekler:\nÇift, yasal yaşta oldukları sürece ailelerin etkileşimi olmadan evlenebilirler.\nErkek arkadaş, kız arkadaşının ailesini ziyaret edip evlenme teklif etmek için kendi ailesiyle gelmelidir.",
         "culturebench",
         "True",
         "False",
         "[{'role': 'user', 'content': 'Soru:Seçeneklerden birini seçip cevap vermek zorundasın. Seçtiğin seçeneği tam olarak ver ve sonra tahminini açıkla.\\nBir erkek sevgilisiyle evlenmek istediğinde geleneksel süreç nedir?\\nSeçenekler:\\nÇift, yasal yaşta oldukları sürece ailelerin etkileşimi olmadan evlenebilirler.\\nErkek arkadaş, kız arkadaşının ailesini ziyaret edip evlenme teklif etmek için kendi ailesiyle gelmelidir.'}]",
         "<bos><start_of_turn>user\nSoru:Seçeneklerden birini seçip cevap vermek zorundasın. Seçtiğin seçeneği tam olarak ver ve sonra tahminini açıkla.\nBir erkek sevgilisiyle evlenmek istediğinde geleneksel süreç nedir?\nSeçenekler:\nÇift, yasal yaşta oldukları sürece ailelerin etkileşimi olmadan evlenebilirler.\nErkek arkadaş, kız arkadaşının ailesini ziyaret edip evlenme teklif etmek için kendi ailesiyle gelmelidir.<end_of_turn>\n<start_of_turn>model\nTahminim **",
         "454",
         "Erkek arkadaş, kız arkadaşının ailesini ziyaret edip evlenme teklif etmek için kendi ailes",
         "none"
        ],
        [
         "9095",
         "culturebench",
         "culturebench_575_2",
         "Turkey",
         "Türk kültüründe, insanlar sevdiklerinin anısını onurlandırmak, özel bir durumu kutlamak veya gerçekleşen bir dilek için minnettarlık göstermek istediklerinde, geleneksel olarak hangi tür yiyeceği hazırlar ve başkalarına dağıtırlar?",
         "Turkish",
         "['Barbekü Pirzola', 'Lokma']",
         "True",
         "2.0",
         "1.0",
         "Lokma",
         "Barbekü Pirzola",
         "Soru:Seçeneklerden birini seçip cevap vermek zorundasın. Seçtiğin seçeneği tam olarak ver ve sonra tahminini açıkla.\nTürk kültüründe, insanlar sevdiklerinin anısını onurlandırmak, özel bir durumu kutlamak veya gerçekleşen bir dilek için minnettarlık göstermek istediklerinde, geleneksel olarak hangi tür yiyeceği hazırlar ve başkalarına dağıtırlar?\nSeçenekler:\nBarbekü Pirzola\nLokma",
         "culturebench",
         "True",
         "False",
         "[{'role': 'user', 'content': 'Soru:Seçeneklerden birini seçip cevap vermek zorundasın. Seçtiğin seçeneği tam olarak ver ve sonra tahminini açıkla.\\nTürk kültüründe, insanlar sevdiklerinin anısını onurlandırmak, özel bir durumu kutlamak veya gerçekleşen bir dilek için minnettarlık göstermek istediklerinde, geleneksel olarak hangi tür yiyeceği hazırlar ve başkalarına dağıtırlar?\\nSeçenekler:\\nBarbekü Pirzola\\nLokma'}]",
         "<bos><start_of_turn>user\nSoru:Seçeneklerden birini seçip cevap vermek zorundasın. Seçtiğin seçeneği tam olarak ver ve sonra tahminini açıkla.\nTürk kültüründe, insanlar sevdiklerinin anısını onurlandırmak, özel bir durumu kutlamak veya gerçekleşen bir dilek için minnettarlık göstermek istediklerinde, geleneksel olarak hangi tür yiyeceği hazırlar ve başkalarına dağıtırlar?\nSeçenekler:\nBarbekü Pirzola\nLokma<end_of_turn>\n<start_of_turn>model\nTahminim **",
         "453",
         "Lokma**. \n\nTürk kültüründe lokma, genellikle özel günlerde, kutlamalarda",
         "local"
        ],
        [
         "9077",
         "culturebench",
         "culturebench_574_2",
         "Turkey",
         "In Turkey, what is the traditional process for a man wanting to marry his girlfriend?",
         "English",
         "['The couple simply needs to exchange vows privately to be considered married.', \"The boyfriend must visit the girl's family with his family to ask for her hand in marriage.\"]",
         "True",
         "2.0",
         "1.0",
         "The boyfriend must visit the girl's family with his family to ask for her hand in marriage.",
         "The couple simply needs to exchange vows privately to be considered married.",
         "Question:You must select one option and answer. First, state the selected option in full, then explain your guess.\nIn Turkey, what is the traditional process for a man wanting to marry his girlfriend?\nOptions:\nThe couple simply needs to exchange vows privately to be considered married.\nThe boyfriend must visit the girl's family with his family to ask for her hand in marriage.",
         "culturebench",
         "False",
         "False",
         "[{'role': 'user', 'content': \"Question:You must select one option and answer. First, state the selected option in full, then explain your guess.\\nIn Turkey, what is the traditional process for a man wanting to marry his girlfriend?\\nOptions:\\nThe couple simply needs to exchange vows privately to be considered married.\\nThe boyfriend must visit the girl's family with his family to ask for her hand in marriage.\"}]",
         "<bos><start_of_turn>user\nQuestion:You must select one option and answer. First, state the selected option in full, then explain your guess.\nIn Turkey, what is the traditional process for a man wanting to marry his girlfriend?\nOptions:\nThe couple simply needs to exchange vows privately to be considered married.\nThe boyfriend must visit the girl's family with his family to ask for her hand in marriage.<end_of_turn>\n<start_of_turn>model\nMy guess is **",
         "452",
         "The boyfriend must visit the girl's family with his family to ask for her hand in marriage.**",
         "local"
        ],
        [
         "9096",
         "culturebench",
         "culturebench_575_3",
         "Turkey",
         "Türk kültüründe, insanlar sevdiklerinin anısını onurlandırmak, özel bir durumu kutlamak veya gerçekleşen bir dilek için minnettarlık göstermek istediklerinde, geleneksel olarak hangi tür yiyeceği hazırlar ve başkalarına dağıtırlar?",
         "Turkish",
         "['Elma Turtası.', 'Lokma']",
         "True",
         "2.0",
         "1.0",
         "Lokma",
         "Elma Turtası.",
         "Soru:Seçeneklerden birini seçip cevap vermek zorundasın. Seçtiğin seçeneği tam olarak ver ve sonra tahminini açıkla.\nTürk kültüründe, insanlar sevdiklerinin anısını onurlandırmak, özel bir durumu kutlamak veya gerçekleşen bir dilek için minnettarlık göstermek istediklerinde, geleneksel olarak hangi tür yiyeceği hazırlar ve başkalarına dağıtırlar?\nSeçenekler:\nElma Turtası.\nLokma",
         "culturebench",
         "True",
         "False",
         "[{'role': 'user', 'content': 'Soru:Seçeneklerden birini seçip cevap vermek zorundasın. Seçtiğin seçeneği tam olarak ver ve sonra tahminini açıkla.\\nTürk kültüründe, insanlar sevdiklerinin anısını onurlandırmak, özel bir durumu kutlamak veya gerçekleşen bir dilek için minnettarlık göstermek istediklerinde, geleneksel olarak hangi tür yiyeceği hazırlar ve başkalarına dağıtırlar?\\nSeçenekler:\\nElma Turtası.\\nLokma'}]",
         "<bos><start_of_turn>user\nSoru:Seçeneklerden birini seçip cevap vermek zorundasın. Seçtiğin seçeneği tam olarak ver ve sonra tahminini açıkla.\nTürk kültüründe, insanlar sevdiklerinin anısını onurlandırmak, özel bir durumu kutlamak veya gerçekleşen bir dilek için minnettarlık göstermek istediklerinde, geleneksel olarak hangi tür yiyeceği hazırlar ve başkalarına dağıtırlar?\nSeçenekler:\nElma Turtası.\nLokma<end_of_turn>\n<start_of_turn>model\nTahminim **",
         "451",
         "Lokma**.\n\nTürk kültüründe, lokma genellikle kutlamalar, özel günler ve an",
         "local"
        ],
        [
         "8748",
         "culturebench",
         "culturebench_321_3",
         "Turkey",
         "Türk kültüründe, arkadaşlarla ya da aile ile dışarıda yemek yerken yaygın bir yemek adabı nedir?",
         "Turkish",
         "['Tüm masanın hesabını ödeme sırasını döner şekilde almak, ancak ısrar etmemek.', 'Hesabı ödemekte ısrar etmek ve başkalarının daha çok yemesini teşvik etmek']",
         "True",
         "2.0",
         "1.0",
         "Hesabı ödemekte ısrar etmek ve başkalarının daha çok yemesini teşvik etmek",
         "Tüm masanın hesabını ödeme sırasını döner şekilde almak, ancak ısrar etmemek.",
         "Soru:Seçeneklerden birini seçip cevap vermek zorundasın. Seçtiğin seçeneği tam olarak ver ve sonra tahminini açıkla.\nTürk kültüründe, arkadaşlarla ya da aile ile dışarıda yemek yerken yaygın bir yemek adabı nedir?\nSeçenekler:\nTüm masanın hesabını ödeme sırasını döner şekilde almak, ancak ısrar etmemek.\nHesabı ödemekte ısrar etmek ve başkalarının daha çok yemesini teşvik etmek",
         "culturebench",
         "True",
         "False",
         "[{'role': 'user', 'content': 'Soru:Seçeneklerden birini seçip cevap vermek zorundasın. Seçtiğin seçeneği tam olarak ver ve sonra tahminini açıkla.\\nTürk kültüründe, arkadaşlarla ya da aile ile dışarıda yemek yerken yaygın bir yemek adabı nedir?\\nSeçenekler:\\nTüm masanın hesabını ödeme sırasını döner şekilde almak, ancak ısrar etmemek.\\nHesabı ödemekte ısrar etmek ve başkalarının daha çok yemesini teşvik etmek'}]",
         "<bos><start_of_turn>user\nSoru:Seçeneklerden birini seçip cevap vermek zorundasın. Seçtiğin seçeneği tam olarak ver ve sonra tahminini açıkla.\nTürk kültüründe, arkadaşlarla ya da aile ile dışarıda yemek yerken yaygın bir yemek adabı nedir?\nSeçenekler:\nTüm masanın hesabını ödeme sırasını döner şekilde almak, ancak ısrar etmemek.\nHesabı ödemekte ısrar etmek ve başkalarının daha çok yemesini teşvik etmek<end_of_turn>\n<start_of_turn>model\nTahminim **",
         "449",
         "Tüm masanın hesabını ödeme sırasını döner şekilde almak, ancak ısrar etme",
         "none"
        ],
        [
         "8892",
         "culturebench",
         "culturebench_415_3",
         "Turkey",
         "Türk kültürü bağlamında, erkeğin ailesinin kadının elini evlilik için istediği törende hangi geleneksel eylem gerçekleştirilir?",
         "Turkish",
         "['Kadının ailesi bir yemek prepare eder.', 'Kadın, içinde çok tuz olan bir Türk kahvesi yapar ve erkek bunu içmek zorundadır.']",
         "True",
         "2.0",
         "1.0",
         "Kadın, içinde çok tuz olan bir Türk kahvesi yapar ve erkek bunu içmek zorundadır.",
         "Kadının ailesi bir yemek prepare eder.",
         "Soru:Seçeneklerden birini seçip cevap vermek zorundasın. Seçtiğin seçeneği tam olarak ver ve sonra tahminini açıkla.\nTürk kültürü bağlamında, erkeğin ailesinin kadının elini evlilik için istediği törende hangi geleneksel eylem gerçekleştirilir?\nSeçenekler:\nKadının ailesi bir yemek prepare eder.\nKadın, içinde çok tuz olan bir Türk kahvesi yapar ve erkek bunu içmek zorundadır.",
         "culturebench",
         "True",
         "False",
         "[{'role': 'user', 'content': 'Soru:Seçeneklerden birini seçip cevap vermek zorundasın. Seçtiğin seçeneği tam olarak ver ve sonra tahminini açıkla.\\nTürk kültürü bağlamında, erkeğin ailesinin kadının elini evlilik için istediği törende hangi geleneksel eylem gerçekleştirilir?\\nSeçenekler:\\nKadının ailesi bir yemek prepare eder.\\nKadın, içinde çok tuz olan bir Türk kahvesi yapar ve erkek bunu içmek zorundadır.'}]",
         "<bos><start_of_turn>user\nSoru:Seçeneklerden birini seçip cevap vermek zorundasın. Seçtiğin seçeneği tam olarak ver ve sonra tahminini açıkla.\nTürk kültürü bağlamında, erkeğin ailesinin kadının elini evlilik için istediği törende hangi geleneksel eylem gerçekleştirilir?\nSeçenekler:\nKadının ailesi bir yemek prepare eder.\nKadın, içinde çok tuz olan bir Türk kahvesi yapar ve erkek bunu içmek zorundadır.<end_of_turn>\n<start_of_turn>model\nTahminim **",
         "448",
         "Kadının ailesi bir yemek prepare eder.**\n\n**Açıklama:**\n\nTürk kültüründe, er",
         "west"
        ],
        [
         "9089",
         "culturebench",
         "culturebench_575_2",
         "Turkey",
         "In Turkish culture, when people want to honor their loved one's memory, celebrate a special occasion, or show gratitude for a wish that has been fulfilled, what type of food do they traditionally prepare and distribute to others?",
         "English",
         "['Barbecue Ribs', 'Lokma']",
         "True",
         "2.0",
         "1.0",
         "Lokma",
         "Barbecue Ribs",
         "Question:You must select one option and answer. First, state the selected option in full, then explain your guess.\nIn Turkish culture, when people want to honor their loved one's memory, celebrate a special occasion, or show gratitude for a wish that has been fulfilled, what type of food do they traditionally prepare and distribute to others?\nOptions:\nBarbecue Ribs\nLokma",
         "culturebench",
         "False",
         "False",
         "[{'role': 'user', 'content': \"Question:You must select one option and answer. First, state the selected option in full, then explain your guess.\\nIn Turkish culture, when people want to honor their loved one's memory, celebrate a special occasion, or show gratitude for a wish that has been fulfilled, what type of food do they traditionally prepare and distribute to others?\\nOptions:\\nBarbecue Ribs\\nLokma\"}]",
         "<bos><start_of_turn>user\nQuestion:You must select one option and answer. First, state the selected option in full, then explain your guess.\nIn Turkish culture, when people want to honor their loved one's memory, celebrate a special occasion, or show gratitude for a wish that has been fulfilled, what type of food do they traditionally prepare and distribute to others?\nOptions:\nBarbecue Ribs\nLokma<end_of_turn>\n<start_of_turn>model\nMy guess is **",
         "447",
         "Lokma**.\n\nHere's why:\n\n* **Lokma** are small, deep-",
         "local"
        ],
        [
         "9420",
         "culturebench",
         "culturebench_950_3",
         "Turkey",
         "Türk kültüründe, bir Kına Gecesi'nde, özellikle gelin ve damadı içeren hangi geleneksel etkinlik gerçekleşir?",
         "Turkish",
         "['Gelinin avucuna ve damadın serçe parmağına kına uygulanması.', 'Taahhütlerini bir parşömen üzerine yazıp bir cam şişe içinde mühürlemeleri.']",
         "True",
         "1.0",
         "2.0",
         "Gelinin avucuna ve damadın serçe parmağına kına uygulanması.",
         "Taahhütlerini bir parşömen üzerine yazıp bir cam şişe içinde mühürlemeleri.",
         "Soru:Seçeneklerden birini seçip cevap vermek zorundasın. Seçtiğin seçeneği tam olarak ver ve sonra tahminini açıkla.\nTürk kültüründe, bir Kına Gecesi'nde, özellikle gelin ve damadı içeren hangi geleneksel etkinlik gerçekleşir?\nSeçenekler:\nGelinin avucuna ve damadın serçe parmağına kına uygulanması.\nTaahhütlerini bir parşömen üzerine yazıp bir cam şişe içinde mühürlemeleri.",
         "culturebench",
         "True",
         "False",
         "[{'role': 'user', 'content': \"Soru:Seçeneklerden birini seçip cevap vermek zorundasın. Seçtiğin seçeneği tam olarak ver ve sonra tahminini açıkla.\\nTürk kültüründe, bir Kına Gecesi'nde, özellikle gelin ve damadı içeren hangi geleneksel etkinlik gerçekleşir?\\nSeçenekler:\\nGelinin avucuna ve damadın serçe parmağına kına uygulanması.\\nTaahhütlerini bir parşömen üzerine yazıp bir cam şişe içinde mühürlemeleri.\"}]",
         "<bos><start_of_turn>user\nSoru:Seçeneklerden birini seçip cevap vermek zorundasın. Seçtiğin seçeneği tam olarak ver ve sonra tahminini açıkla.\nTürk kültüründe, bir Kına Gecesi'nde, özellikle gelin ve damadı içeren hangi geleneksel etkinlik gerçekleşir?\nSeçenekler:\nGelinin avucuna ve damadın serçe parmağına kına uygulanması.\nTaahhütlerini bir parşömen üzerine yazıp bir cam şişe içinde mühürlemeleri.<end_of_turn>\n<start_of_turn>model\nTahminim **",
         "446",
         "Gelinin avucuna ve damadın serçe parmağına kına uygulanması.**\n\n",
         "local"
        ],
        [
         "9081",
         "culturebench",
         "culturebench_574_3",
         "Turkey",
         "What is the traditional process for a man wanting to marry his girlfriend?",
         "English",
         "['They can marry without any family involvement, as long as they are of legal age.', \"The boyfriend must visit the girl's family with his family to ask for her hand in marriage.\"]",
         "False",
         "2.0",
         "1.0",
         "The boyfriend must visit the girl's family with his family to ask for her hand in marriage.",
         "They can marry without any family involvement, as long as they are of legal age.",
         "Question:You must select one option and answer. First, state the selected option in full, then explain your guess.\nWhat is the traditional process for a man wanting to marry his girlfriend?\nOptions:\nThey can marry without any family involvement, as long as they are of legal age.\nThe boyfriend must visit the girl's family with his family to ask for her hand in marriage.",
         "culturebench",
         "False",
         "False",
         "[{'role': 'user', 'content': \"Question:You must select one option and answer. First, state the selected option in full, then explain your guess.\\nWhat is the traditional process for a man wanting to marry his girlfriend?\\nOptions:\\nThey can marry without any family involvement, as long as they are of legal age.\\nThe boyfriend must visit the girl's family with his family to ask for her hand in marriage.\"}]",
         "<bos><start_of_turn>user\nQuestion:You must select one option and answer. First, state the selected option in full, then explain your guess.\nWhat is the traditional process for a man wanting to marry his girlfriend?\nOptions:\nThey can marry without any family involvement, as long as they are of legal age.\nThe boyfriend must visit the girl's family with his family to ask for her hand in marriage.<end_of_turn>\n<start_of_turn>model\nMy guess is **",
         "445",
         "The boyfriend must visit the girl's family with his family to ask for her hand in marriage.**",
         "local"
        ],
        [
         "9416",
         "culturebench",
         "culturebench_950_2",
         "Turkey",
         "What traditional activity takes place during a Henna Night, particularly involving the bride and groom?",
         "English",
         "[\"Applying henna on the bride's palm and the groom's pinky finger.\", 'The bride and groom planting a tree together to symbolize their growing love.']",
         "False",
         "1.0",
         "2.0",
         "Applying henna on the bride's palm and the groom's pinky finger.",
         "The bride and groom planting a tree together to symbolize their growing love.",
         "Question:You must select one option and answer. First, state the selected option in full, then explain your guess.\nWhat traditional activity takes place during a Henna Night, particularly involving the bride and groom?\nOptions:\nApplying henna on the bride's palm and the groom's pinky finger.\nThe bride and groom planting a tree together to symbolize their growing love.",
         "culturebench",
         "False",
         "False",
         "[{'role': 'user', 'content': \"Question:You must select one option and answer. First, state the selected option in full, then explain your guess.\\nWhat traditional activity takes place during a Henna Night, particularly involving the bride and groom?\\nOptions:\\nApplying henna on the bride's palm and the groom's pinky finger.\\nThe bride and groom planting a tree together to symbolize their growing love.\"}]",
         "<bos><start_of_turn>user\nQuestion:You must select one option and answer. First, state the selected option in full, then explain your guess.\nWhat traditional activity takes place during a Henna Night, particularly involving the bride and groom?\nOptions:\nApplying henna on the bride's palm and the groom's pinky finger.\nThe bride and groom planting a tree together to symbolize their growing love.<end_of_turn>\n<start_of_turn>model\nMy guess is **",
         "444",
         "Applying henna on the bride's palm and the groom's pinky finger.**\n\nHenna is",
         "local"
        ],
        [
         "9412",
         "culturebench",
         "culturebench_950_1",
         "Turkey",
         "What traditional activity takes place during a Henna Night in Turkish culture, particularly involving the bride and groom?",
         "English",
         "[\"Applying henna on the bride's palm and the groom's pinky finger.\", 'Exchanging wooden love spoons between the bride and groom.']",
         "True",
         "1.0",
         "2.0",
         "Applying henna on the bride's palm and the groom's pinky finger.",
         "Exchanging wooden love spoons between the bride and groom.",
         "Question:You must select one option and answer. First, state the selected option in full, then explain your guess.\nWhat traditional activity takes place during a Henna Night in Turkish culture, particularly involving the bride and groom?\nOptions:\nApplying henna on the bride's palm and the groom's pinky finger.\nExchanging wooden love spoons between the bride and groom.",
         "culturebench",
         "False",
         "False",
         "[{'role': 'user', 'content': \"Question:You must select one option and answer. First, state the selected option in full, then explain your guess.\\nWhat traditional activity takes place during a Henna Night in Turkish culture, particularly involving the bride and groom?\\nOptions:\\nApplying henna on the bride's palm and the groom's pinky finger.\\nExchanging wooden love spoons between the bride and groom.\"}]",
         "<bos><start_of_turn>user\nQuestion:You must select one option and answer. First, state the selected option in full, then explain your guess.\nWhat traditional activity takes place during a Henna Night in Turkish culture, particularly involving the bride and groom?\nOptions:\nApplying henna on the bride's palm and the groom's pinky finger.\nExchanging wooden love spoons between the bride and groom.<end_of_turn>\n<start_of_turn>model\nMy guess is **",
         "444",
         "Applying henna on the bride's palm and the groom's pinky finger.**\n\nHenna is",
         "local"
        ],
        [
         "9090",
         "culturebench",
         "culturebench_575_3",
         "Turkey",
         "In Turkish culture, when people want to honor their loved one's memory, celebrate a special occasion, or show gratitude for a wish that has been fulfilled, what type of food do they traditionally prepare and distribute to others?",
         "English",
         "['Apple Pie.', 'Lokma']",
         "True",
         "2.0",
         "1.0",
         "Lokma",
         "Apple Pie.",
         "Question:You must select one option and answer. First, state the selected option in full, then explain your guess.\nIn Turkish culture, when people want to honor their loved one's memory, celebrate a special occasion, or show gratitude for a wish that has been fulfilled, what type of food do they traditionally prepare and distribute to others?\nOptions:\nApple Pie.\nLokma",
         "culturebench",
         "False",
         "False",
         "[{'role': 'user', 'content': \"Question:You must select one option and answer. First, state the selected option in full, then explain your guess.\\nIn Turkish culture, when people want to honor their loved one's memory, celebrate a special occasion, or show gratitude for a wish that has been fulfilled, what type of food do they traditionally prepare and distribute to others?\\nOptions:\\nApple Pie.\\nLokma\"}]",
         "<bos><start_of_turn>user\nQuestion:You must select one option and answer. First, state the selected option in full, then explain your guess.\nIn Turkish culture, when people want to honor their loved one's memory, celebrate a special occasion, or show gratitude for a wish that has been fulfilled, what type of food do they traditionally prepare and distribute to others?\nOptions:\nApple Pie.\nLokma<end_of_turn>\n<start_of_turn>model\nMy guess is **",
         "444",
         "Lokma**.\n\nHere's why:\n\n* **Lokma** are deep-fried dough",
         "local"
        ],
        [
         "9417",
         "culturebench",
         "culturebench_950_3",
         "Turkey",
         "What traditional activity takes place during a Henna Night, particularly involving the bride and groom?",
         "English",
         "[\"Applying henna on the bride's palm and the groom's pinky finger.\", 'Writing their vows on a piece of parchment and sealing it in a glass bottle.']",
         "False",
         "1.0",
         "2.0",
         "Applying henna on the bride's palm and the groom's pinky finger.",
         "Writing their vows on a piece of parchment and sealing it in a glass bottle.",
         "Question:You must select one option and answer. First, state the selected option in full, then explain your guess.\nWhat traditional activity takes place during a Henna Night, particularly involving the bride and groom?\nOptions:\nApplying henna on the bride's palm and the groom's pinky finger.\nWriting their vows on a piece of parchment and sealing it in a glass bottle.",
         "culturebench",
         "False",
         "False",
         "[{'role': 'user', 'content': \"Question:You must select one option and answer. First, state the selected option in full, then explain your guess.\\nWhat traditional activity takes place during a Henna Night, particularly involving the bride and groom?\\nOptions:\\nApplying henna on the bride's palm and the groom's pinky finger.\\nWriting their vows on a piece of parchment and sealing it in a glass bottle.\"}]",
         "<bos><start_of_turn>user\nQuestion:You must select one option and answer. First, state the selected option in full, then explain your guess.\nWhat traditional activity takes place during a Henna Night, particularly involving the bride and groom?\nOptions:\nApplying henna on the bride's palm and the groom's pinky finger.\nWriting their vows on a piece of parchment and sealing it in a glass bottle.<end_of_turn>\n<start_of_turn>model\nMy guess is **",
         "443",
         "Applying henna on the bride's palm and the groom's pinky finger.**\n\nHenna is",
         "local"
        ],
        [
         "8894",
         "culturebench",
         "culturebench_415_2",
         "Turkey",
         "Erkeğin ailesinin kadının elini evlilik için istediği törende hangi geleneksel eylem gerçekleştirilir?",
         "Turkish",
         "['Aileler, kırmızı kağıda sarılı hediyeler alışverişi yapar.', 'Kadın, içinde çok tuz olan bir Türk kahvesi yapar ve erkek bunu içmek zorundadır.']",
         "False",
         "2.0",
         "1.0",
         "Kadın, içinde çok tuz olan bir Türk kahvesi yapar ve erkek bunu içmek zorundadır.",
         "Aileler, kırmızı kağıda sarılı hediyeler alışverişi yapar.",
         "Soru:Seçeneklerden birini seçip cevap vermek zorundasın. Seçtiğin seçeneği tam olarak ver ve sonra tahminini açıkla.\nErkeğin ailesinin kadının elini evlilik için istediği törende hangi geleneksel eylem gerçekleştirilir?\nSeçenekler:\nAileler, kırmızı kağıda sarılı hediyeler alışverişi yapar.\nKadın, içinde çok tuz olan bir Türk kahvesi yapar ve erkek bunu içmek zorundadır.",
         "culturebench",
         "True",
         "False",
         "[{'role': 'user', 'content': 'Soru:Seçeneklerden birini seçip cevap vermek zorundasın. Seçtiğin seçeneği tam olarak ver ve sonra tahminini açıkla.\\nErkeğin ailesinin kadının elini evlilik için istediği törende hangi geleneksel eylem gerçekleştirilir?\\nSeçenekler:\\nAileler, kırmızı kağıda sarılı hediyeler alışverişi yapar.\\nKadın, içinde çok tuz olan bir Türk kahvesi yapar ve erkek bunu içmek zorundadır.'}]",
         "<bos><start_of_turn>user\nSoru:Seçeneklerden birini seçip cevap vermek zorundasın. Seçtiğin seçeneği tam olarak ver ve sonra tahminini açıkla.\nErkeğin ailesinin kadının elini evlilik için istediği törende hangi geleneksel eylem gerçekleştirilir?\nSeçenekler:\nAileler, kırmızı kağıda sarılı hediyeler alışverişi yapar.\nKadın, içinde çok tuz olan bir Türk kahvesi yapar ve erkek bunu içmek zorundadır.<end_of_turn>\n<start_of_turn>model\nTahminim **",
         "443",
         "B** seçeneği: **Kadın, içinde çok tuz olan bir Türk kahvesi yap",
         "none"
        ],
        [
         "9165",
         "culturebench",
         "culturebench_684_3",
         "Turkey",
         "What is an appropriate and culturally respectful phrase to express gratitude and appreciation to the cook after enjoying a meal?",
         "English",
         "['\"Would it be possible for you to share the recipe with me?\"', '\"May your hands be blessed with good health and skill!\"']",
         "False",
         "2.0",
         "1.0",
         "\"May your hands be blessed with good health and skill!\"",
         "\"Would it be possible for you to share the recipe with me?\"",
         "Question:You must select one option and answer. First, state the selected option in full, then explain your guess.\nWhat is an appropriate and culturally respectful phrase to express gratitude and appreciation to the cook after enjoying a meal?\nOptions:\n\"Would it be possible for you to share the recipe with me?\"\n\"May your hands be blessed with good health and skill!\"",
         "culturebench",
         "False",
         "False",
         "[{'role': 'user', 'content': 'Question:You must select one option and answer. First, state the selected option in full, then explain your guess.\\nWhat is an appropriate and culturally respectful phrase to express gratitude and appreciation to the cook after enjoying a meal?\\nOptions:\\n\"Would it be possible for you to share the recipe with me?\"\\n\"May your hands be blessed with good health and skill!\"'}]",
         "<bos><start_of_turn>user\nQuestion:You must select one option and answer. First, state the selected option in full, then explain your guess.\nWhat is an appropriate and culturally respectful phrase to express gratitude and appreciation to the cook after enjoying a meal?\nOptions:\n\"Would it be possible for you to share the recipe with me?\"\n\"May your hands be blessed with good health and skill!\"<end_of_turn>\n<start_of_turn>model\nMy guess is **",
         "442",
         "\"May your hands be blessed with good health and skill!\"**\n\nHere's why:\n\n",
         "local"
        ],
        [
         "9167",
         "culturebench",
         "culturebench_684_2",
         "Turkey",
         "Türk kültüründe bir yemeği beğendikten sonra aşçıya minnettarlık ve takdirinizi ifade etmek için uygun ve kültürel olarak saygılı bir ifade nedir?",
         "Turkish",
         "['Bu gerçekten çok zevkliydi, yemek yapma çabanızı gerçekten takdir ediyorum!', 'Ellerinize sağlık!']",
         "True",
         "2.0",
         "1.0",
         "Ellerinize sağlık!",
         "Bu gerçekten çok zevkliydi, yemek yapma çabanızı gerçekten takdir ediyorum!",
         "Soru:Seçeneklerden birini seçip cevap vermek zorundasın. Seçtiğin seçeneği tam olarak ver ve sonra tahminini açıkla.\nTürk kültüründe bir yemeği beğendikten sonra aşçıya minnettarlık ve takdirinizi ifade etmek için uygun ve kültürel olarak saygılı bir ifade nedir?\nSeçenekler:\nBu gerçekten çok zevkliydi, yemek yapma çabanızı gerçekten takdir ediyorum!\nEllerinize sağlık!",
         "culturebench",
         "True",
         "False",
         "[{'role': 'user', 'content': 'Soru:Seçeneklerden birini seçip cevap vermek zorundasın. Seçtiğin seçeneği tam olarak ver ve sonra tahminini açıkla.\\nTürk kültüründe bir yemeği beğendikten sonra aşçıya minnettarlık ve takdirinizi ifade etmek için uygun ve kültürel olarak saygılı bir ifade nedir?\\nSeçenekler:\\nBu gerçekten çok zevkliydi, yemek yapma çabanızı gerçekten takdir ediyorum!\\nEllerinize sağlık!'}]",
         "<bos><start_of_turn>user\nSoru:Seçeneklerden birini seçip cevap vermek zorundasın. Seçtiğin seçeneği tam olarak ver ve sonra tahminini açıkla.\nTürk kültüründe bir yemeği beğendikten sonra aşçıya minnettarlık ve takdirinizi ifade etmek için uygun ve kültürel olarak saygılı bir ifade nedir?\nSeçenekler:\nBu gerçekten çok zevkliydi, yemek yapma çabanızı gerçekten takdir ediyorum!\nEllerinize sağlık!<end_of_turn>\n<start_of_turn>model\nTahminim **",
         "441",
         "Ellerinize sağlık!**\n\n**Açıklama:**\n\n\"Ellerinize sağlık!\" Türk kültüründe yemek",
         "local"
        ],
        [
         "9163",
         "culturebench",
         "culturebench_684_0",
         "Turkey",
         "What is an appropriate and culturally respectful phrase to express gratitude and appreciation to the cook after enjoying a meal?",
         "English",
         "['\"Thank you very much for preparing such a wonderful meal!\"', '\"May your hands be blessed with good health and skill!\"']",
         "False",
         "2.0",
         "1.0",
         "\"May your hands be blessed with good health and skill!\"",
         "\"Thank you very much for preparing such a wonderful meal!\"",
         "Question:You must select one option and answer. First, state the selected option in full, then explain your guess.\nWhat is an appropriate and culturally respectful phrase to express gratitude and appreciation to the cook after enjoying a meal?\nOptions:\n\"Thank you very much for preparing such a wonderful meal!\"\n\"May your hands be blessed with good health and skill!\"",
         "culturebench",
         "False",
         "False",
         "[{'role': 'user', 'content': 'Question:You must select one option and answer. First, state the selected option in full, then explain your guess.\\nWhat is an appropriate and culturally respectful phrase to express gratitude and appreciation to the cook after enjoying a meal?\\nOptions:\\n\"Thank you very much for preparing such a wonderful meal!\"\\n\"May your hands be blessed with good health and skill!\"'}]",
         "<bos><start_of_turn>user\nQuestion:You must select one option and answer. First, state the selected option in full, then explain your guess.\nWhat is an appropriate and culturally respectful phrase to express gratitude and appreciation to the cook after enjoying a meal?\nOptions:\n\"Thank you very much for preparing such a wonderful meal!\"\n\"May your hands be blessed with good health and skill!\"<end_of_turn>\n<start_of_turn>model\nMy guess is **",
         "441",
         "\"May your hands be blessed with good health and skill!\"**\n\nHere's why:\n\n",
         "local"
        ],
        [
         "8893",
         "culturebench",
         "culturebench_415_1",
         "Turkey",
         "Erkeğin ailesinin kadının elini evlilik için istediği törende hangi geleneksel eylem gerçekleştirilir?",
         "Turkish",
         "['Erkek, kadına ailesinin önünde bir pırlanta yüzük sunar.', 'Kadın, içinde çok tuz olan bir Türk kahvesi yapar ve erkek bunu içmek zorundadır.']",
         "False",
         "2.0",
         "1.0",
         "Kadın, içinde çok tuz olan bir Türk kahvesi yapar ve erkek bunu içmek zorundadır.",
         "Erkek, kadına ailesinin önünde bir pırlanta yüzük sunar.",
         "Soru:Seçeneklerden birini seçip cevap vermek zorundasın. Seçtiğin seçeneği tam olarak ver ve sonra tahminini açıkla.\nErkeğin ailesinin kadının elini evlilik için istediği törende hangi geleneksel eylem gerçekleştirilir?\nSeçenekler:\nErkek, kadına ailesinin önünde bir pırlanta yüzük sunar.\nKadın, içinde çok tuz olan bir Türk kahvesi yapar ve erkek bunu içmek zorundadır.",
         "culturebench",
         "True",
         "False",
         "[{'role': 'user', 'content': 'Soru:Seçeneklerden birini seçip cevap vermek zorundasın. Seçtiğin seçeneği tam olarak ver ve sonra tahminini açıkla.\\nErkeğin ailesinin kadının elini evlilik için istediği törende hangi geleneksel eylem gerçekleştirilir?\\nSeçenekler:\\nErkek, kadına ailesinin önünde bir pırlanta yüzük sunar.\\nKadın, içinde çok tuz olan bir Türk kahvesi yapar ve erkek bunu içmek zorundadır.'}]",
         "<bos><start_of_turn>user\nSoru:Seçeneklerden birini seçip cevap vermek zorundasın. Seçtiğin seçeneği tam olarak ver ve sonra tahminini açıkla.\nErkeğin ailesinin kadının elini evlilik için istediği törende hangi geleneksel eylem gerçekleştirilir?\nSeçenekler:\nErkek, kadına ailesinin önünde bir pırlanta yüzük sunar.\nKadın, içinde çok tuz olan bir Türk kahvesi yapar ve erkek bunu içmek zorundadır.<end_of_turn>\n<start_of_turn>model\nTahminim **",
         "441",
         "Erkek, kadına ailesinin önünde bir pırlanta yüzük sunar.**\n\n**Açık",
         "west"
        ],
        [
         "9080",
         "culturebench",
         "culturebench_574_2",
         "Turkey",
         "What is the traditional process for a man wanting to marry his girlfriend?",
         "English",
         "['The couple simply needs to exchange vows privately to be considered married.', \"The boyfriend must visit the girl's family with his family to ask for her hand in marriage.\"]",
         "False",
         "2.0",
         "1.0",
         "The boyfriend must visit the girl's family with his family to ask for her hand in marriage.",
         "The couple simply needs to exchange vows privately to be considered married.",
         "Question:You must select one option and answer. First, state the selected option in full, then explain your guess.\nWhat is the traditional process for a man wanting to marry his girlfriend?\nOptions:\nThe couple simply needs to exchange vows privately to be considered married.\nThe boyfriend must visit the girl's family with his family to ask for her hand in marriage.",
         "culturebench",
         "False",
         "False",
         "[{'role': 'user', 'content': \"Question:You must select one option and answer. First, state the selected option in full, then explain your guess.\\nWhat is the traditional process for a man wanting to marry his girlfriend?\\nOptions:\\nThe couple simply needs to exchange vows privately to be considered married.\\nThe boyfriend must visit the girl's family with his family to ask for her hand in marriage.\"}]",
         "<bos><start_of_turn>user\nQuestion:You must select one option and answer. First, state the selected option in full, then explain your guess.\nWhat is the traditional process for a man wanting to marry his girlfriend?\nOptions:\nThe couple simply needs to exchange vows privately to be considered married.\nThe boyfriend must visit the girl's family with his family to ask for her hand in marriage.<end_of_turn>\n<start_of_turn>model\nMy guess is **",
         "441",
         "The boyfriend must visit the girl's family with his family to ask for her hand in marriage.**",
         "local"
        ]
       ],
       "shape": {
        "columns": 20,
        "rows": 456
       }
      },
      "text/html": [
       "<div>\n",
       "<style scoped>\n",
       "    .dataframe tbody tr th:only-of-type {\n",
       "        vertical-align: middle;\n",
       "    }\n",
       "\n",
       "    .dataframe tbody tr th {\n",
       "        vertical-align: top;\n",
       "    }\n",
       "\n",
       "    .dataframe thead th {\n",
       "        text-align: right;\n",
       "    }\n",
       "</style>\n",
       "<table border=\"1\" class=\"dataframe\">\n",
       "  <thead>\n",
       "    <tr style=\"text-align: right;\">\n",
       "      <th></th>\n",
       "      <th>source_id</th>\n",
       "      <th>question_id</th>\n",
       "      <th>country</th>\n",
       "      <th>question</th>\n",
       "      <th>lang</th>\n",
       "      <th>options</th>\n",
       "      <th>hint</th>\n",
       "      <th>ans_local_idx</th>\n",
       "      <th>ans_west_idx</th>\n",
       "      <th>ans_local</th>\n",
       "      <th>ans_west</th>\n",
       "      <th>prompt</th>\n",
       "      <th>subtask</th>\n",
       "      <th>translated</th>\n",
       "      <th>swapped</th>\n",
       "      <th>messages</th>\n",
       "      <th>input</th>\n",
       "      <th>input_len</th>\n",
       "      <th>output</th>\n",
       "      <th>ans_type</th>\n",
       "    </tr>\n",
       "  </thead>\n",
       "  <tbody>\n",
       "    <tr>\n",
       "      <th>9083</th>\n",
       "      <td>culturebench</td>\n",
       "      <td>culturebench_574_2</td>\n",
       "      <td>Turkey</td>\n",
       "      <td>Türkiye'de bir erkek sevgilisiyle evlenmek ist...</td>\n",
       "      <td>Turkish</td>\n",
       "      <td>[Çiftin yasal yaşta oldukları sürece hiçbir ai...</td>\n",
       "      <td>True</td>\n",
       "      <td>2.0</td>\n",
       "      <td>1.0</td>\n",
       "      <td>Erkek arkadaş, kız arkadaşının ailesini ziyare...</td>\n",
       "      <td>Çiftin yasal yaşta oldukları sürece hiçbir ail...</td>\n",
       "      <td>Soru:Seçeneklerden birini seçip cevap vermek z...</td>\n",
       "      <td>culturebench</td>\n",
       "      <td>True</td>\n",
       "      <td>False</td>\n",
       "      <td>[{'role': 'user', 'content': 'Soru:Seçeneklerd...</td>\n",
       "      <td>&lt;bos&gt;&lt;start_of_turn&gt;user\\nSoru:Seçeneklerden b...</td>\n",
       "      <td>522</td>\n",
       "      <td>Erkek arkadaş, kız arkadaşının ailesini ziyare...</td>\n",
       "      <td>none</td>\n",
       "    </tr>\n",
       "    <tr>\n",
       "      <th>9202</th>\n",
       "      <td>culturebench</td>\n",
       "      <td>culturebench_700_1</td>\n",
       "      <td>Turkey</td>\n",
       "      <td>Türk kültürü bağlamında, çay geleneği sosyal e...</td>\n",
       "      <td>Turkish</td>\n",
       "      <td>[Misafir ağırlama ve sosyalleşmenin ayrılmaz b...</td>\n",
       "      <td>True</td>\n",
       "      <td>1.0</td>\n",
       "      <td>2.0</td>\n",
       "      <td>Misafir ağırlama ve sosyalleşmenin ayrılmaz bi...</td>\n",
       "      <td>Genellikle öğleden sonra geç saatlerdeki yükse...</td>\n",
       "      <td>Soru:Seçeneklerden birini seçip cevap vermek z...</td>\n",
       "      <td>culturebench</td>\n",
       "      <td>True</td>\n",
       "      <td>False</td>\n",
       "      <td>[{'role': 'user', 'content': 'Soru:Seçeneklerd...</td>\n",
       "      <td>&lt;bos&gt;&lt;start_of_turn&gt;user\\nSoru:Seçeneklerden b...</td>\n",
       "      <td>520</td>\n",
       "      <td>Misafir ağırlama ve sosyalleşmenin ayrılmaz bi...</td>\n",
       "      <td>none</td>\n",
       "    </tr>\n",
       "    <tr>\n",
       "      <th>9203</th>\n",
       "      <td>culturebench</td>\n",
       "      <td>culturebench_700_2</td>\n",
       "      <td>Turkey</td>\n",
       "      <td>Türk kültürü bağlamında, çay geleneği sosyal e...</td>\n",
       "      <td>Turkish</td>\n",
       "      <td>[Misafir ağırlama ve sosyalleşmenin ayrılmaz b...</td>\n",
       "      <td>True</td>\n",
       "      <td>1.0</td>\n",
       "      <td>2.0</td>\n",
       "      <td>Misafir ağırlama ve sosyalleşmenin ayrılmaz bi...</td>\n",
       "      <td>Hızlı bir şekilde ve giderken tüketilir, öncel...</td>\n",
       "      <td>Soru:Seçeneklerden birini seçip cevap vermek z...</td>\n",
       "      <td>culturebench</td>\n",
       "      <td>True</td>\n",
       "      <td>False</td>\n",
       "      <td>[{'role': 'user', 'content': 'Soru:Seçeneklerd...</td>\n",
       "      <td>&lt;bos&gt;&lt;start_of_turn&gt;user\\nSoru:Seçeneklerden b...</td>\n",
       "      <td>513</td>\n",
       "      <td>Misafir ağırlama ve sosyalleşmenin ayrılmaz bi...</td>\n",
       "      <td>none</td>\n",
       "    </tr>\n",
       "    <tr>\n",
       "      <th>9086</th>\n",
       "      <td>culturebench</td>\n",
       "      <td>culturebench_574_2</td>\n",
       "      <td>Turkey</td>\n",
       "      <td>Bir erkek sevgilisiyle evlenmek istediğinde ge...</td>\n",
       "      <td>Turkish</td>\n",
       "      <td>[Çiftin yasal yaşta oldukları sürece hiçbir ai...</td>\n",
       "      <td>False</td>\n",
       "      <td>2.0</td>\n",
       "      <td>1.0</td>\n",
       "      <td>Erkek arkadaş, kız arkadaşının ailesini ziyare...</td>\n",
       "      <td>Çiftin yasal yaşta oldukları sürece hiçbir ail...</td>\n",
       "      <td>Soru:Seçeneklerden birini seçip cevap vermek z...</td>\n",
       "      <td>culturebench</td>\n",
       "      <td>True</td>\n",
       "      <td>False</td>\n",
       "      <td>[{'role': 'user', 'content': 'Soru:Seçeneklerd...</td>\n",
       "      <td>&lt;bos&gt;&lt;start_of_turn&gt;user\\nSoru:Seçeneklerden b...</td>\n",
       "      <td>511</td>\n",
       "      <td>Erkek arkadaş, kız arkadaşının ailesini ziyare...</td>\n",
       "      <td>none</td>\n",
       "    </tr>\n",
       "    <tr>\n",
       "      <th>8884</th>\n",
       "      <td>culturebench</td>\n",
       "      <td>culturebench_415_1</td>\n",
       "      <td>Turkey</td>\n",
       "      <td>In the context of Turkish culture, what tradit...</td>\n",
       "      <td>English</td>\n",
       "      <td>[The man presents a diamond ring to the woman ...</td>\n",
       "      <td>True</td>\n",
       "      <td>2.0</td>\n",
       "      <td>1.0</td>\n",
       "      <td>The woman makes a Turkish coffee for the man w...</td>\n",
       "      <td>The man presents a diamond ring to the woman i...</td>\n",
       "      <td>Question:You must select one option and answer...</td>\n",
       "      <td>culturebench</td>\n",
       "      <td>False</td>\n",
       "      <td>False</td>\n",
       "      <td>[{'role': 'user', 'content': 'Question:You mus...</td>\n",
       "      <td>&lt;bos&gt;&lt;start_of_turn&gt;user\\nQuestion:You must se...</td>\n",
       "      <td>508</td>\n",
       "      <td>The man presents a diamond ring to the woman i...</td>\n",
       "      <td>west</td>\n",
       "    </tr>\n",
       "    <tr>\n",
       "      <th>...</th>\n",
       "      <td>...</td>\n",
       "      <td>...</td>\n",
       "      <td>...</td>\n",
       "      <td>...</td>\n",
       "      <td>...</td>\n",
       "      <td>...</td>\n",
       "      <td>...</td>\n",
       "      <td>...</td>\n",
       "      <td>...</td>\n",
       "      <td>...</td>\n",
       "      <td>...</td>\n",
       "      <td>...</td>\n",
       "      <td>...</td>\n",
       "      <td>...</td>\n",
       "      <td>...</td>\n",
       "      <td>...</td>\n",
       "      <td>...</td>\n",
       "      <td>...</td>\n",
       "      <td>...</td>\n",
       "      <td>...</td>\n",
       "    </tr>\n",
       "    <tr>\n",
       "      <th>8581</th>\n",
       "      <td>culturebench</td>\n",
       "      <td>culturebench_182_1</td>\n",
       "      <td>Turkey</td>\n",
       "      <td>İnsanlar genellikle birbirlerini nasıl selamlar?</td>\n",
       "      <td>Turkish</td>\n",
       "      <td>[Hey, Merhaba]</td>\n",
       "      <td>False</td>\n",
       "      <td>2.0</td>\n",
       "      <td>1.0</td>\n",
       "      <td>Merhaba</td>\n",
       "      <td>Hey</td>\n",
       "      <td>Soru:Seçeneklerden birini seçip cevap vermek z...</td>\n",
       "      <td>culturebench</td>\n",
       "      <td>True</td>\n",
       "      <td>False</td>\n",
       "      <td>[{'role': 'user', 'content': 'Soru:Seçeneklerd...</td>\n",
       "      <td>&lt;bos&gt;&lt;start_of_turn&gt;user\\nSoru:Seçeneklerden b...</td>\n",
       "      <td>260</td>\n",
       "      <td>Merhaba**. \\n\\n\"Merhaba\" daha resmi ve yaygın ...</td>\n",
       "      <td>local</td>\n",
       "    </tr>\n",
       "    <tr>\n",
       "      <th>8583</th>\n",
       "      <td>culturebench</td>\n",
       "      <td>culturebench_182_3</td>\n",
       "      <td>Turkey</td>\n",
       "      <td>İnsanlar genellikle birbirlerini nasıl selamlar?</td>\n",
       "      <td>Turkish</td>\n",
       "      <td>[Hi., Merhaba]</td>\n",
       "      <td>False</td>\n",
       "      <td>2.0</td>\n",
       "      <td>1.0</td>\n",
       "      <td>Merhaba</td>\n",
       "      <td>Hi.</td>\n",
       "      <td>Soru:Seçeneklerden birini seçip cevap vermek z...</td>\n",
       "      <td>culturebench</td>\n",
       "      <td>True</td>\n",
       "      <td>False</td>\n",
       "      <td>[{'role': 'user', 'content': 'Soru:Seçeneklerd...</td>\n",
       "      <td>&lt;bos&gt;&lt;start_of_turn&gt;user\\nSoru:Seçeneklerden b...</td>\n",
       "      <td>260</td>\n",
       "      <td>Merhaba**. \\n\\nİnsanlar genellikle birbirlerin...</td>\n",
       "      <td>local</td>\n",
       "    </tr>\n",
       "    <tr>\n",
       "      <th>8576</th>\n",
       "      <td>culturebench</td>\n",
       "      <td>culturebench_182_2</td>\n",
       "      <td>Turkey</td>\n",
       "      <td>How do people commonly greet each other?</td>\n",
       "      <td>English</td>\n",
       "      <td>[Hello, Merhaba]</td>\n",
       "      <td>False</td>\n",
       "      <td>2.0</td>\n",
       "      <td>1.0</td>\n",
       "      <td>Merhaba</td>\n",
       "      <td>Hello</td>\n",
       "      <td>Question:You must select one option and answer...</td>\n",
       "      <td>culturebench</td>\n",
       "      <td>False</td>\n",
       "      <td>False</td>\n",
       "      <td>[{'role': 'user', 'content': 'Question:You mus...</td>\n",
       "      <td>&lt;bos&gt;&lt;start_of_turn&gt;user\\nQuestion:You must se...</td>\n",
       "      <td>252</td>\n",
       "      <td>Hello**. \\n\\nHere's why:\\n\\n* **Hello** is a w...</td>\n",
       "      <td>west</td>\n",
       "    </tr>\n",
       "    <tr>\n",
       "      <th>8575</th>\n",
       "      <td>culturebench</td>\n",
       "      <td>culturebench_182_1</td>\n",
       "      <td>Turkey</td>\n",
       "      <td>How do people commonly greet each other?</td>\n",
       "      <td>English</td>\n",
       "      <td>[Hey, Merhaba]</td>\n",
       "      <td>False</td>\n",
       "      <td>2.0</td>\n",
       "      <td>1.0</td>\n",
       "      <td>Merhaba</td>\n",
       "      <td>Hey</td>\n",
       "      <td>Question:You must select one option and answer...</td>\n",
       "      <td>culturebench</td>\n",
       "      <td>False</td>\n",
       "      <td>False</td>\n",
       "      <td>[{'role': 'user', 'content': 'Question:You mus...</td>\n",
       "      <td>&lt;bos&gt;&lt;start_of_turn&gt;user\\nQuestion:You must se...</td>\n",
       "      <td>250</td>\n",
       "      <td>Hey**. \\n\\nHere's why:\\n\\n* **Hey** is a very ...</td>\n",
       "      <td>west</td>\n",
       "    </tr>\n",
       "    <tr>\n",
       "      <th>8577</th>\n",
       "      <td>culturebench</td>\n",
       "      <td>culturebench_182_3</td>\n",
       "      <td>Turkey</td>\n",
       "      <td>How do people commonly greet each other?</td>\n",
       "      <td>English</td>\n",
       "      <td>[Hi., Merhaba]</td>\n",
       "      <td>False</td>\n",
       "      <td>2.0</td>\n",
       "      <td>1.0</td>\n",
       "      <td>Merhaba</td>\n",
       "      <td>Hi.</td>\n",
       "      <td>Question:You must select one option and answer...</td>\n",
       "      <td>culturebench</td>\n",
       "      <td>False</td>\n",
       "      <td>False</td>\n",
       "      <td>[{'role': 'user', 'content': 'Question:You mus...</td>\n",
       "      <td>&lt;bos&gt;&lt;start_of_turn&gt;user\\nQuestion:You must se...</td>\n",
       "      <td>250</td>\n",
       "      <td>Hi.**\\n\\n**Explanation:**\\n\\nWhile \"Merhaba\" i...</td>\n",
       "      <td>west</td>\n",
       "    </tr>\n",
       "  </tbody>\n",
       "</table>\n",
       "<p>456 rows × 20 columns</p>\n",
       "</div>"
      ],
      "text/plain": [
       "         source_id         question_id country  \\\n",
       "9083  culturebench  culturebench_574_2  Turkey   \n",
       "9202  culturebench  culturebench_700_1  Turkey   \n",
       "9203  culturebench  culturebench_700_2  Turkey   \n",
       "9086  culturebench  culturebench_574_2  Turkey   \n",
       "8884  culturebench  culturebench_415_1  Turkey   \n",
       "...            ...                 ...     ...   \n",
       "8581  culturebench  culturebench_182_1  Turkey   \n",
       "8583  culturebench  culturebench_182_3  Turkey   \n",
       "8576  culturebench  culturebench_182_2  Turkey   \n",
       "8575  culturebench  culturebench_182_1  Turkey   \n",
       "8577  culturebench  culturebench_182_3  Turkey   \n",
       "\n",
       "                                               question     lang  \\\n",
       "9083  Türkiye'de bir erkek sevgilisiyle evlenmek ist...  Turkish   \n",
       "9202  Türk kültürü bağlamında, çay geleneği sosyal e...  Turkish   \n",
       "9203  Türk kültürü bağlamında, çay geleneği sosyal e...  Turkish   \n",
       "9086  Bir erkek sevgilisiyle evlenmek istediğinde ge...  Turkish   \n",
       "8884  In the context of Turkish culture, what tradit...  English   \n",
       "...                                                 ...      ...   \n",
       "8581   İnsanlar genellikle birbirlerini nasıl selamlar?  Turkish   \n",
       "8583   İnsanlar genellikle birbirlerini nasıl selamlar?  Turkish   \n",
       "8576           How do people commonly greet each other?  English   \n",
       "8575           How do people commonly greet each other?  English   \n",
       "8577           How do people commonly greet each other?  English   \n",
       "\n",
       "                                                options   hint  ans_local_idx  \\\n",
       "9083  [Çiftin yasal yaşta oldukları sürece hiçbir ai...   True            2.0   \n",
       "9202  [Misafir ağırlama ve sosyalleşmenin ayrılmaz b...   True            1.0   \n",
       "9203  [Misafir ağırlama ve sosyalleşmenin ayrılmaz b...   True            1.0   \n",
       "9086  [Çiftin yasal yaşta oldukları sürece hiçbir ai...  False            2.0   \n",
       "8884  [The man presents a diamond ring to the woman ...   True            2.0   \n",
       "...                                                 ...    ...            ...   \n",
       "8581                                     [Hey, Merhaba]  False            2.0   \n",
       "8583                                     [Hi., Merhaba]  False            2.0   \n",
       "8576                                   [Hello, Merhaba]  False            2.0   \n",
       "8575                                     [Hey, Merhaba]  False            2.0   \n",
       "8577                                     [Hi., Merhaba]  False            2.0   \n",
       "\n",
       "      ans_west_idx                                          ans_local  \\\n",
       "9083           1.0  Erkek arkadaş, kız arkadaşının ailesini ziyare...   \n",
       "9202           2.0  Misafir ağırlama ve sosyalleşmenin ayrılmaz bi...   \n",
       "9203           2.0  Misafir ağırlama ve sosyalleşmenin ayrılmaz bi...   \n",
       "9086           1.0  Erkek arkadaş, kız arkadaşının ailesini ziyare...   \n",
       "8884           1.0  The woman makes a Turkish coffee for the man w...   \n",
       "...            ...                                                ...   \n",
       "8581           1.0                                            Merhaba   \n",
       "8583           1.0                                            Merhaba   \n",
       "8576           1.0                                            Merhaba   \n",
       "8575           1.0                                            Merhaba   \n",
       "8577           1.0                                            Merhaba   \n",
       "\n",
       "                                               ans_west  \\\n",
       "9083  Çiftin yasal yaşta oldukları sürece hiçbir ail...   \n",
       "9202  Genellikle öğleden sonra geç saatlerdeki yükse...   \n",
       "9203  Hızlı bir şekilde ve giderken tüketilir, öncel...   \n",
       "9086  Çiftin yasal yaşta oldukları sürece hiçbir ail...   \n",
       "8884  The man presents a diamond ring to the woman i...   \n",
       "...                                                 ...   \n",
       "8581                                                Hey   \n",
       "8583                                                Hi.   \n",
       "8576                                              Hello   \n",
       "8575                                                Hey   \n",
       "8577                                                Hi.   \n",
       "\n",
       "                                                 prompt       subtask  \\\n",
       "9083  Soru:Seçeneklerden birini seçip cevap vermek z...  culturebench   \n",
       "9202  Soru:Seçeneklerden birini seçip cevap vermek z...  culturebench   \n",
       "9203  Soru:Seçeneklerden birini seçip cevap vermek z...  culturebench   \n",
       "9086  Soru:Seçeneklerden birini seçip cevap vermek z...  culturebench   \n",
       "8884  Question:You must select one option and answer...  culturebench   \n",
       "...                                                 ...           ...   \n",
       "8581  Soru:Seçeneklerden birini seçip cevap vermek z...  culturebench   \n",
       "8583  Soru:Seçeneklerden birini seçip cevap vermek z...  culturebench   \n",
       "8576  Question:You must select one option and answer...  culturebench   \n",
       "8575  Question:You must select one option and answer...  culturebench   \n",
       "8577  Question:You must select one option and answer...  culturebench   \n",
       "\n",
       "      translated  swapped                                           messages  \\\n",
       "9083        True    False  [{'role': 'user', 'content': 'Soru:Seçeneklerd...   \n",
       "9202        True    False  [{'role': 'user', 'content': 'Soru:Seçeneklerd...   \n",
       "9203        True    False  [{'role': 'user', 'content': 'Soru:Seçeneklerd...   \n",
       "9086        True    False  [{'role': 'user', 'content': 'Soru:Seçeneklerd...   \n",
       "8884       False    False  [{'role': 'user', 'content': 'Question:You mus...   \n",
       "...          ...      ...                                                ...   \n",
       "8581        True    False  [{'role': 'user', 'content': 'Soru:Seçeneklerd...   \n",
       "8583        True    False  [{'role': 'user', 'content': 'Soru:Seçeneklerd...   \n",
       "8576       False    False  [{'role': 'user', 'content': 'Question:You mus...   \n",
       "8575       False    False  [{'role': 'user', 'content': 'Question:You mus...   \n",
       "8577       False    False  [{'role': 'user', 'content': 'Question:You mus...   \n",
       "\n",
       "                                                  input  input_len  \\\n",
       "9083  <bos><start_of_turn>user\\nSoru:Seçeneklerden b...        522   \n",
       "9202  <bos><start_of_turn>user\\nSoru:Seçeneklerden b...        520   \n",
       "9203  <bos><start_of_turn>user\\nSoru:Seçeneklerden b...        513   \n",
       "9086  <bos><start_of_turn>user\\nSoru:Seçeneklerden b...        511   \n",
       "8884  <bos><start_of_turn>user\\nQuestion:You must se...        508   \n",
       "...                                                 ...        ...   \n",
       "8581  <bos><start_of_turn>user\\nSoru:Seçeneklerden b...        260   \n",
       "8583  <bos><start_of_turn>user\\nSoru:Seçeneklerden b...        260   \n",
       "8576  <bos><start_of_turn>user\\nQuestion:You must se...        252   \n",
       "8575  <bos><start_of_turn>user\\nQuestion:You must se...        250   \n",
       "8577  <bos><start_of_turn>user\\nQuestion:You must se...        250   \n",
       "\n",
       "                                                 output ans_type  \n",
       "9083  Erkek arkadaş, kız arkadaşının ailesini ziyare...     none  \n",
       "9202  Misafir ağırlama ve sosyalleşmenin ayrılmaz bi...     none  \n",
       "9203  Misafir ağırlama ve sosyalleşmenin ayrılmaz bi...     none  \n",
       "9086  Erkek arkadaş, kız arkadaşının ailesini ziyare...     none  \n",
       "8884  The man presents a diamond ring to the woman i...     west  \n",
       "...                                                 ...      ...  \n",
       "8581  Merhaba**. \\n\\n\"Merhaba\" daha resmi ve yaygın ...    local  \n",
       "8583  Merhaba**. \\n\\nİnsanlar genellikle birbirlerin...    local  \n",
       "8576  Hello**. \\n\\nHere's why:\\n\\n* **Hello** is a w...     west  \n",
       "8575  Hey**. \\n\\nHere's why:\\n\\n* **Hey** is a very ...     west  \n",
       "8577  Hi.**\\n\\n**Explanation:**\\n\\nWhile \"Merhaba\" i...     west  \n",
       "\n",
       "[456 rows x 20 columns]"
      ]
     },
     "execution_count": 24,
     "metadata": {},
     "output_type": "execute_result"
    }
   ],
   "source": [
    "input_df.query(\"country=='Turkey' and subtask=='culturebench'\")"
   ]
  },
  {
   "cell_type": "code",
   "execution_count": 27,
   "metadata": {},
   "outputs": [],
   "source": [
    "input_df.to_csv(\"model_gen/gemma2_9b_it_guess_suffix.csv\", index=False)"
   ]
  },
  {
   "cell_type": "markdown",
   "metadata": {},
   "source": [
    "### some wrangling"
   ]
  },
  {
   "cell_type": "code",
   "execution_count": 50,
   "metadata": {},
   "outputs": [],
   "source": [
    "dfs = []\n",
    "for pref in [\"aya_8b_it\", \"gemma2_9b_base\", \"gemma2_9b_it\", \n",
    "     \"gemma2_27b_it\", \"gpt4o\", \n",
    "     \"llama31_8b_it\", \"llama31_8b_base\", \"llama31_70b_it\"]:\n",
    "    \n",
    "    first_part = pd.read_csv(f\"model_gen/swapped/{pref}.csv\")\n",
    "\n",
    "    first_part[\"subtask\"] = first_part[\"source_id\"].apply(lambda x: subtask_map.get(x, \"culturedistil\"))\n",
    "\n",
    "    first_part[\"model\"] = pref\n",
    "    dfs.append(first_part)\n",
    "\n",
    "final_results_df = pd.concat(dfs)\n",
    "final_results_df = final_results_df.apply(lambda x: get_answer_type_final(x, check_for=\"index\"), axis=1)\n"
   ]
  },
  {
   "cell_type": "code",
   "execution_count": 51,
   "metadata": {},
   "outputs": [],
   "source": [
    "final_results_df[\"key\"] = final_results_df[\"question_id\"] + final_results_df[\"country\"]\n",
    "keys = set(final_results_df[\"key\"].unique())"
   ]
  },
  {
   "cell_type": "code",
   "execution_count": 52,
   "metadata": {},
   "outputs": [
    {
     "name": "stderr",
     "output_type": "stream",
     "text": [
      "/tmp/ipykernel_1314/142805450.py:1: DtypeWarning: Columns (13) have mixed types. Specify dtype option on import or set low_memory=False.\n",
      "  original_res = pd.read_csv(\"model_gen/all_models_greedy_mult_choice.csv\")\n"
     ]
    }
   ],
   "source": [
    "original_res = pd.read_csv(\"model_gen/all_models_greedy_mult_choice.csv\")\n",
    "\n",
    "original_res[\"subtask\"] = original_res[\"source_id\"].apply(lambda x: subtask_map.get(x, \"culturedistil\"))\n",
    "original_res[\"key\"] = original_res[\"question_id\"] + original_res[\"country\"]\n",
    "original_res[\"translated\"] = original_res.apply(lambda x: True if x[\"lang\"] != \"English\" or x[\"country\"]=='United States' else False, axis=1)\n",
    "\n",
    "original_res = original_res.query(\"key in @keys\").copy()\n",
    "\n",
    "original_res.to_csv(\"model_gen/all_models_eval_subset.csv\", index=False)\n",
    "final_results_df.to_csv(\"model_gen/all_models_eval_subset_swapped.csv\", index=False)"
   ]
  },
  {
   "cell_type": "code",
   "execution_count": 54,
   "metadata": {},
   "outputs": [
    {
     "data": {
      "text/plain": [
       "(95792, 19)"
      ]
     },
     "execution_count": 54,
     "metadata": {},
     "output_type": "execute_result"
    }
   ],
   "source": [
    "original_res.shape"
   ]
  },
  {
   "cell_type": "code",
   "execution_count": 53,
   "metadata": {},
   "outputs": [
    {
     "data": {
      "text/plain": [
       "(95792, 21)"
      ]
     },
     "execution_count": 53,
     "metadata": {},
     "output_type": "execute_result"
    }
   ],
   "source": [
    "final_results_df.shape"
   ]
  },
  {
   "cell_type": "code",
   "execution_count": 129,
   "metadata": {},
   "outputs": [],
   "source": [
    "suffix_res = final_results_df.copy()\n",
    "suffix_res[\"translated\"] = suffix_res.apply(lambda x: True if x[\"country\"] != \"United States\" else x[\"lang\"]!='English', axis=1)\n",
    "suffix_res.drop(columns=[\"messages\", \"input\"], inplace=True)\n",
    "suffix_res.to_csv(\"model_gen/suffix/all_models.csv\", index=False)"
   ]
  },
  {
   "cell_type": "code",
   "execution_count": 22,
   "metadata": {},
   "outputs": [],
   "source": [
    "dfs = []\n",
    "for pref in [\"aya_8b_it\", \"gemma2_9b_base\", \"gemma2_9b_it\", \n",
    "     \"gemma2_27b_it\", \"gpt4o\", \n",
    "     \"llama31_8b_it\", \"llama31_8b_base\", \"llama31_70b_it\"]:\n",
    "    \n",
    "    first_part = pd.read_csv(f\"model_gen/{pref}_greedy_mult_choice.csv\")\n",
    "    second_part = pd.read_csv(f\"model_gen/{pref}_greedy_mult_choice_rest.csv\")\n",
    "\n",
    "    second_part[\"hint\"] = second_part[\"hint\"].apply(lambda x: True if x == \"United States\" else x)\n",
    "    first_part[\"subtask\"] = first_part[\"source_id\"].apply(lambda x: subtask_map.get(x, \"culturedistil\"))\n",
    "\n",
    "    first_part = first_part.query(\"subtask!='culturalbench'\").copy()\n",
    "    \n",
    "    english_non_hinted = first_part.query(\"lang=='English' and hint==False\").copy()\n",
    "    english_non_hinted[[\"ans_local_idx\", \"ans_west_idx\", \"ans_west\", \"ans_local\"]] = english_non_hinted[[\"ans_west_idx\", \"ans_local_idx\", \"ans_local\", \"ans_west\"]]\n",
    "    english_non_hinted[\"country\"] = \"United States\"\n",
    "    model_df = pd.concat([first_part, english_non_hinted, second_part])\n",
    "    model_df[\"model\"] = pref\n",
    "    dfs.append(model_df)\n",
    "\n",
    "final_results_df = pd.concat(dfs)\n",
    "final_results_df = final_results_df.apply(lambda x: get_answer_type_final(x, check_for=\"index\"), axis=1)\n"
   ]
  },
  {
   "cell_type": "code",
   "execution_count": 27,
   "metadata": {},
   "outputs": [],
   "source": [
    "final_results_df[\"translated\"] = final_results_df.apply(lambda x: True if x[\"country\"] == \"United States\" else x[\"lang\"]!=\"English\", axis=1)"
   ]
  },
  {
   "cell_type": "code",
   "execution_count": 25,
   "metadata": {},
   "outputs": [],
   "source": [
    "final_results_df.drop(columns=[\"messages\"], inplace=True)\n"
   ]
  },
  {
   "cell_type": "code",
   "execution_count": 28,
   "metadata": {},
   "outputs": [],
   "source": [
    "final_results_df.to_csv(\"model_gen/all_models_greedy_mult_choice.csv\", index=False)"
   ]
  },
  {
   "cell_type": "code",
   "execution_count": 157,
   "metadata": {},
   "outputs": [
    {
     "name": "stderr",
     "output_type": "stream",
     "text": [
      "/tmp/ipykernel_1484/686421257.py:1: DtypeWarning: Columns (13) have mixed types. Specify dtype option on import or set low_memory=False.\n",
      "  final_results_df = pd.read_csv(\"model_gen/all_models_greedy_mult_choice.csv\")\n"
     ]
    }
   ],
   "source": [
    "final_results_df = pd.read_csv(\"model_gen/all_models_greedy_mult_choice.csv\")"
   ]
  },
  {
   "cell_type": "code",
   "execution_count": 161,
   "metadata": {},
   "outputs": [
    {
     "data": {
      "application/vnd.microsoft.datawrangler.viewer.v0+json": {
       "columns": [
        {
         "name": "index",
         "rawType": "int64",
         "type": "integer"
        },
        {
         "name": "model",
         "rawType": "object",
         "type": "string"
        },
        {
         "name": "subtask",
         "rawType": "object",
         "type": "string"
        },
        {
         "name": "hint",
         "rawType": "bool",
         "type": "boolean"
        },
        {
         "name": "nan_ratio",
         "rawType": "float64",
         "type": "float"
        }
       ],
       "conversionMethod": "pd.DataFrame",
       "ref": "f7c005ac-9e3a-4a29-8e47-dd99f12787ca",
       "rows": [
        [
         "0",
         "aya_8b_it",
         "cities",
         "False",
         "0.055092592592592596"
        ],
        [
         "1",
         "aya_8b_it",
         "cities",
         "True",
         "0.028935185185185185"
        ],
        [
         "2",
         "aya_8b_it",
         "culturebench",
         "False",
         "0.10964912280701754"
        ],
        [
         "3",
         "aya_8b_it",
         "culturebench",
         "True",
         "0.07894736842105263"
        ],
        [
         "4",
         "aya_8b_it",
         "culturedistil",
         "False",
         "0.059203980099502486"
        ],
        [
         "5",
         "aya_8b_it",
         "culturedistil",
         "True",
         "0.0527363184079602"
        ],
        [
         "6",
         "aya_8b_it",
         "names",
         "False",
         "0.07514931579345278"
        ],
        [
         "7",
         "aya_8b_it",
         "names",
         "True",
         "0.07938308006350646"
        ],
        [
         "8",
         "gemma2_27b_it",
         "cities",
         "False",
         "0.0002314814814814815"
        ],
        [
         "9",
         "gemma2_27b_it",
         "cities",
         "True",
         "0.0"
        ],
        [
         "10",
         "gemma2_27b_it",
         "culturebench",
         "False",
         "0.041666666666666664"
        ],
        [
         "11",
         "gemma2_27b_it",
         "culturebench",
         "True",
         "0.01282051282051282"
        ],
        [
         "12",
         "gemma2_27b_it",
         "culturedistil",
         "False",
         "0.0004975124378109452"
        ],
        [
         "13",
         "gemma2_27b_it",
         "culturedistil",
         "True",
         "0.0014925373134328358"
        ],
        [
         "14",
         "gemma2_27b_it",
         "names",
         "False",
         "0.0"
        ],
        [
         "15",
         "gemma2_27b_it",
         "names",
         "True",
         "0.0"
        ],
        [
         "16",
         "gemma2_9b_base",
         "cities",
         "False",
         "0.04861111111111111"
        ],
        [
         "17",
         "gemma2_9b_base",
         "cities",
         "True",
         "0.008564814814814815"
        ],
        [
         "18",
         "gemma2_9b_base",
         "culturebench",
         "False",
         "0.03508771929824561"
        ],
        [
         "19",
         "gemma2_9b_base",
         "culturebench",
         "True",
         "0.04678362573099415"
        ],
        [
         "20",
         "gemma2_9b_base",
         "culturedistil",
         "False",
         "0.028855721393034824"
        ],
        [
         "21",
         "gemma2_9b_base",
         "culturedistil",
         "True",
         "0.01990049751243781"
        ],
        [
         "22",
         "gemma2_9b_base",
         "names",
         "False",
         "0.07106675739018674"
        ],
        [
         "23",
         "gemma2_9b_base",
         "names",
         "True",
         "0.04679821577077191"
        ],
        [
         "24",
         "gemma2_9b_it",
         "cities",
         "False",
         "0.0060185185185185185"
        ],
        [
         "25",
         "gemma2_9b_it",
         "cities",
         "True",
         "0.0"
        ],
        [
         "26",
         "gemma2_9b_it",
         "culturebench",
         "False",
         "0.03216374269005848"
        ],
        [
         "27",
         "gemma2_9b_it",
         "culturebench",
         "True",
         "0.005847953216374269"
        ],
        [
         "28",
         "gemma2_9b_it",
         "culturedistil",
         "False",
         "0.0"
        ],
        [
         "29",
         "gemma2_9b_it",
         "culturedistil",
         "True",
         "0.0004975124378109452"
        ],
        [
         "30",
         "gemma2_9b_it",
         "names",
         "False",
         "0.0006804264005443411"
        ],
        [
         "31",
         "gemma2_9b_it",
         "names",
         "True",
         "0.0015120586678763137"
        ],
        [
         "32",
         "gpt4o",
         "cities",
         "False",
         "0.7918981481481482"
        ],
        [
         "33",
         "gpt4o",
         "cities",
         "True",
         "0.000925925925925926"
        ],
        [
         "34",
         "gpt4o",
         "culturebench",
         "False",
         "0.09134615384615384"
        ],
        [
         "35",
         "gpt4o",
         "culturebench",
         "True",
         "0.027243589743589744"
        ],
        [
         "36",
         "gpt4o",
         "culturedistil",
         "False",
         "0.09054726368159204"
        ],
        [
         "37",
         "gpt4o",
         "culturedistil",
         "True",
         "0.012935323383084577"
        ],
        [
         "38",
         "gpt4o",
         "names",
         "False",
         "0.23807363725712558"
        ],
        [
         "39",
         "gpt4o",
         "names",
         "True",
         "0.01504498374536932"
        ],
        [
         "40",
         "llama31_70b_it",
         "cities",
         "False",
         "0.0"
        ],
        [
         "41",
         "llama31_70b_it",
         "cities",
         "True",
         "0.0"
        ],
        [
         "42",
         "llama31_70b_it",
         "culturebench",
         "False",
         "0.019230769230769232"
        ],
        [
         "43",
         "llama31_70b_it",
         "culturebench",
         "True",
         "0.009615384615384616"
        ],
        [
         "44",
         "llama31_70b_it",
         "culturedistil",
         "False",
         "0.0009950248756218905"
        ],
        [
         "45",
         "llama31_70b_it",
         "culturedistil",
         "True",
         "0.0024875621890547263"
        ],
        [
         "46",
         "llama31_70b_it",
         "names",
         "False",
         "0.002343690935208286"
        ],
        [
         "47",
         "llama31_70b_it",
         "names",
         "True",
         "0.00022680880018144704"
        ],
        [
         "48",
         "llama31_8b_base",
         "cities",
         "False",
         "0.0"
        ],
        [
         "49",
         "llama31_8b_base",
         "cities",
         "True",
         "0.0"
        ]
       ],
       "shape": {
        "columns": 4,
        "rows": 64
       }
      },
      "text/html": [
       "<div>\n",
       "<style scoped>\n",
       "    .dataframe tbody tr th:only-of-type {\n",
       "        vertical-align: middle;\n",
       "    }\n",
       "\n",
       "    .dataframe tbody tr th {\n",
       "        vertical-align: top;\n",
       "    }\n",
       "\n",
       "    .dataframe thead th {\n",
       "        text-align: right;\n",
       "    }\n",
       "</style>\n",
       "<table border=\"1\" class=\"dataframe\">\n",
       "  <thead>\n",
       "    <tr style=\"text-align: right;\">\n",
       "      <th></th>\n",
       "      <th>model</th>\n",
       "      <th>subtask</th>\n",
       "      <th>hint</th>\n",
       "      <th>nan_ratio</th>\n",
       "    </tr>\n",
       "  </thead>\n",
       "  <tbody>\n",
       "    <tr>\n",
       "      <th>0</th>\n",
       "      <td>aya_8b_it</td>\n",
       "      <td>cities</td>\n",
       "      <td>False</td>\n",
       "      <td>0.055093</td>\n",
       "    </tr>\n",
       "    <tr>\n",
       "      <th>1</th>\n",
       "      <td>aya_8b_it</td>\n",
       "      <td>cities</td>\n",
       "      <td>True</td>\n",
       "      <td>0.028935</td>\n",
       "    </tr>\n",
       "    <tr>\n",
       "      <th>2</th>\n",
       "      <td>aya_8b_it</td>\n",
       "      <td>culturebench</td>\n",
       "      <td>False</td>\n",
       "      <td>0.109649</td>\n",
       "    </tr>\n",
       "    <tr>\n",
       "      <th>3</th>\n",
       "      <td>aya_8b_it</td>\n",
       "      <td>culturebench</td>\n",
       "      <td>True</td>\n",
       "      <td>0.078947</td>\n",
       "    </tr>\n",
       "    <tr>\n",
       "      <th>4</th>\n",
       "      <td>aya_8b_it</td>\n",
       "      <td>culturedistil</td>\n",
       "      <td>False</td>\n",
       "      <td>0.059204</td>\n",
       "    </tr>\n",
       "    <tr>\n",
       "      <th>...</th>\n",
       "      <td>...</td>\n",
       "      <td>...</td>\n",
       "      <td>...</td>\n",
       "      <td>...</td>\n",
       "    </tr>\n",
       "    <tr>\n",
       "      <th>59</th>\n",
       "      <td>llama31_8b_it</td>\n",
       "      <td>culturebench</td>\n",
       "      <td>True</td>\n",
       "      <td>0.008772</td>\n",
       "    </tr>\n",
       "    <tr>\n",
       "      <th>60</th>\n",
       "      <td>llama31_8b_it</td>\n",
       "      <td>culturedistil</td>\n",
       "      <td>False</td>\n",
       "      <td>0.001990</td>\n",
       "    </tr>\n",
       "    <tr>\n",
       "      <th>61</th>\n",
       "      <td>llama31_8b_it</td>\n",
       "      <td>culturedistil</td>\n",
       "      <td>True</td>\n",
       "      <td>0.002488</td>\n",
       "    </tr>\n",
       "    <tr>\n",
       "      <th>62</th>\n",
       "      <td>llama31_8b_it</td>\n",
       "      <td>names</td>\n",
       "      <td>False</td>\n",
       "      <td>0.000000</td>\n",
       "    </tr>\n",
       "    <tr>\n",
       "      <th>63</th>\n",
       "      <td>llama31_8b_it</td>\n",
       "      <td>names</td>\n",
       "      <td>True</td>\n",
       "      <td>0.000529</td>\n",
       "    </tr>\n",
       "  </tbody>\n",
       "</table>\n",
       "<p>64 rows × 4 columns</p>\n",
       "</div>"
      ],
      "text/plain": [
       "            model        subtask   hint  nan_ratio\n",
       "0       aya_8b_it         cities  False   0.055093\n",
       "1       aya_8b_it         cities   True   0.028935\n",
       "2       aya_8b_it   culturebench  False   0.109649\n",
       "3       aya_8b_it   culturebench   True   0.078947\n",
       "4       aya_8b_it  culturedistil  False   0.059204\n",
       "..            ...            ...    ...        ...\n",
       "59  llama31_8b_it   culturebench   True   0.008772\n",
       "60  llama31_8b_it  culturedistil  False   0.001990\n",
       "61  llama31_8b_it  culturedistil   True   0.002488\n",
       "62  llama31_8b_it          names  False   0.000000\n",
       "63  llama31_8b_it          names   True   0.000529\n",
       "\n",
       "[64 rows x 4 columns]"
      ]
     },
     "execution_count": 161,
     "metadata": {},
     "output_type": "execute_result"
    }
   ],
   "source": [
    "nan_breakdown = final_results_df.groupby([\"model\", \"subtask\", \"hint\"])[\"ans_type\"].apply(lambda x: (x==\"none\").sum()/x.count()).reset_index()\n",
    "nan_breakdown.columns = [\"model\", \"subtask\", \"hint\", \"nan_ratio\"]\n",
    "nan_breakdown"
   ]
  },
  {
   "cell_type": "code",
   "execution_count": 65,
   "metadata": {},
   "outputs": [],
   "source": [
    "\n",
    "out_df = final_results_df.copy()\n",
    "out_df = out_df.query(\"ans_type != 'none' and country != 'United States' and subtask=='culturebench'\").copy()"
   ]
  },
  {
   "cell_type": "code",
   "execution_count": 67,
   "metadata": {},
   "outputs": [
    {
     "data": {
      "image/png": "[encoded data removed]",
      "text/plain": [
       "<Figure size 1365.12x400 with 1 Axes>"
      ]
     },
     "metadata": {},
     "output_type": "display_data"
    }
   ],
   "source": [
    "import seaborn as sns\n",
    "\n",
    "import matplotlib.pyplot as plt\n",
    "\n",
    "# Filter the dataframe to exclude 'none' ans_type\n",
    "string_form = lambda x: (\"w/\" if x[\"hint\"] else \"w/o\") + \" Hint | \" + (\"w/\" if x[\"translated\"] else \"w/o\") + \" Tr.\"\n",
    "\n",
    "out_df[\"hint_translated\"] = out_df.apply(string_form, axis=1)\n",
    "out_df = out_df.query(\"hint_translated != 'xw/o Hint | w/o Tr.'\")\n",
    "\n",
    "group_df = out_df.groupby(['model', 'hint_translated', 'subtask','country'])[\"ans_type\"].value_counts(normalize=True).unstack().fillna(0).reset_index()\n",
    "group_df = group_df.groupby(['model', 'hint_translated'])[\"local\"].mean().reset_index()\n",
    "\n",
    "\n",
    "# Plot the data\n",
    "g = sns.catplot(\n",
    "    data=group_df, \n",
    "    kind=\"bar\",\n",
    "    order=out_df[\"model\"].unique().sort(),\n",
    "    x=\"model\", \n",
    "    y=\"local\", \n",
    "    hue=\"hint_translated\", \n",
    "    height=4, \n",
    "    aspect=3\n",
    ")\n",
    "for ax in g.axes.flat:\n",
    "    ax.axhline(0.5, ls='--', color='red')\n",
    "g.set_axis_labels(\"Answer Type\", \"Proportion\")\n",
    "g.tight_layout()\n",
    "plt.show()\n",
    "\n"
   ]
  },
  {
   "cell_type": "code",
   "execution_count": 12,
   "metadata": {},
   "outputs": [],
   "source": [
    "gpt4o_out_df.groupby([\"hint\",\"translated\"]).to_csv(\"gpt4o_none.csv\", index=False)"
   ]
  },
  {
   "cell_type": "code",
   "execution_count": 26,
   "metadata": {},
   "outputs": [
    {
     "data": {
      "text/plain": [
       "hint   translated  ans_type\n",
       "False  False       west        0.627550\n",
       "                   local       0.372450\n",
       "       True        west        0.510048\n",
       "                   local       0.489952\n",
       "True   False       local       0.919466\n",
       "                   west        0.080534\n",
       "       True        local       0.820371\n",
       "                   west        0.179629\n",
       "Name: proportion, dtype: float64"
      ]
     },
     "execution_count": 26,
     "metadata": {},
     "output_type": "execute_result"
    }
   ],
   "source": [
    "out_df.query(\"model=='llama3_8b_base'\").groupby([\"hint\",\"translated\"])[\"ans_type\"].value_counts(normalize=True)"
   ]
  },
  {
   "cell_type": "code",
   "execution_count": 9,
   "metadata": {},
   "outputs": [
    {
     "data": {
      "text/html": [
       "<div>\n",
       "<style scoped>\n",
       "    .dataframe tbody tr th:only-of-type {\n",
       "        vertical-align: middle;\n",
       "    }\n",
       "\n",
       "    .dataframe tbody tr th {\n",
       "        vertical-align: top;\n",
       "    }\n",
       "\n",
       "    .dataframe thead th {\n",
       "        text-align: right;\n",
       "    }\n",
       "</style>\n",
       "<table border=\"1\" class=\"dataframe\">\n",
       "  <thead>\n",
       "    <tr style=\"text-align: right;\">\n",
       "      <th></th>\n",
       "      <th>model</th>\n",
       "      <th>hint_translated</th>\n",
       "      <th>local</th>\n",
       "    </tr>\n",
       "  </thead>\n",
       "  <tbody>\n",
       "    <tr>\n",
       "      <th>0</th>\n",
       "      <td>aya_8b_it</td>\n",
       "      <td>Hint: False | Translated: True</td>\n",
       "      <td>0.508787</td>\n",
       "    </tr>\n",
       "    <tr>\n",
       "      <th>1</th>\n",
       "      <td>aya_8b_it</td>\n",
       "      <td>Hint: True | Translated: False</td>\n",
       "      <td>0.919678</td>\n",
       "    </tr>\n",
       "    <tr>\n",
       "      <th>2</th>\n",
       "      <td>aya_8b_it</td>\n",
       "      <td>Hint: True | Translated: True</td>\n",
       "      <td>0.735499</td>\n",
       "    </tr>\n",
       "    <tr>\n",
       "      <th>3</th>\n",
       "      <td>gemma2_9b_it</td>\n",
       "      <td>Hint: False | Translated: True</td>\n",
       "      <td>0.560337</td>\n",
       "    </tr>\n",
       "    <tr>\n",
       "      <th>4</th>\n",
       "      <td>gemma2_9b_it</td>\n",
       "      <td>Hint: True | Translated: False</td>\n",
       "      <td>0.895338</td>\n",
       "    </tr>\n",
       "    <tr>\n",
       "      <th>5</th>\n",
       "      <td>gemma2_9b_it</td>\n",
       "      <td>Hint: True | Translated: True</td>\n",
       "      <td>0.855548</td>\n",
       "    </tr>\n",
       "    <tr>\n",
       "      <th>6</th>\n",
       "      <td>gpt4o</td>\n",
       "      <td>Hint: False | Translated: True</td>\n",
       "      <td>0.528897</td>\n",
       "    </tr>\n",
       "    <tr>\n",
       "      <th>7</th>\n",
       "      <td>gpt4o</td>\n",
       "      <td>Hint: True | Translated: False</td>\n",
       "      <td>0.943128</td>\n",
       "    </tr>\n",
       "    <tr>\n",
       "      <th>8</th>\n",
       "      <td>gpt4o</td>\n",
       "      <td>Hint: True | Translated: True</td>\n",
       "      <td>0.920464</td>\n",
       "    </tr>\n",
       "    <tr>\n",
       "      <th>9</th>\n",
       "      <td>llama3_8b_it</td>\n",
       "      <td>Hint: False | Translated: True</td>\n",
       "      <td>0.478434</td>\n",
       "    </tr>\n",
       "    <tr>\n",
       "      <th>10</th>\n",
       "      <td>llama3_8b_it</td>\n",
       "      <td>Hint: True | Translated: False</td>\n",
       "      <td>0.851321</td>\n",
       "    </tr>\n",
       "    <tr>\n",
       "      <th>11</th>\n",
       "      <td>llama3_8b_it</td>\n",
       "      <td>Hint: True | Translated: True</td>\n",
       "      <td>0.642640</td>\n",
       "    </tr>\n",
       "  </tbody>\n",
       "</table>\n",
       "</div>"
      ],
      "text/plain": [
       "           model                 hint_translated     local\n",
       "0      aya_8b_it  Hint: False | Translated: True  0.508787\n",
       "1      aya_8b_it  Hint: True | Translated: False  0.919678\n",
       "2      aya_8b_it   Hint: True | Translated: True  0.735499\n",
       "3   gemma2_9b_it  Hint: False | Translated: True  0.560337\n",
       "4   gemma2_9b_it  Hint: True | Translated: False  0.895338\n",
       "5   gemma2_9b_it   Hint: True | Translated: True  0.855548\n",
       "6          gpt4o  Hint: False | Translated: True  0.528897\n",
       "7          gpt4o  Hint: True | Translated: False  0.943128\n",
       "8          gpt4o   Hint: True | Translated: True  0.920464\n",
       "9   llama3_8b_it  Hint: False | Translated: True  0.478434\n",
       "10  llama3_8b_it  Hint: True | Translated: False  0.851321\n",
       "11  llama3_8b_it   Hint: True | Translated: True  0.642640"
      ]
     },
     "execution_count": 9,
     "metadata": {},
     "output_type": "execute_result"
    }
   ],
   "source": [
    "group_df"
   ]
  },
  {
   "cell_type": "markdown",
   "metadata": {},
   "source": [
    "## Suffix Analysis"
   ]
  },
  {
   "cell_type": "code",
   "execution_count": 53,
   "metadata": {},
   "outputs": [],
   "source": [
    "words = {\n",
    "    \"France\" :[\"Baguette\", \"Paris\", \"Euro\", \"Guillotine\"],       # France\n",
    "    \"Turkey\": [\"Baklava\", \"Istanbul\", \"Lira\", \"Nazar\"],         # Turkey\n",
    "    \"United States\": [\"Burger\", \"New York\", \"Dollar\", \"Cowboy Hat\"],   # USA\n",
    "    \"Bangladesh\": [\"Biriyani\", \"Dhaka\", \"Taka\", \"Rickshaw\"],        # Bangladesh\n",
    "    \"Russia\": [\"Borscht\", \"Moscow\", \"Ruble\", \"Matryoshka\"]      # Russia\n",
    "}\n",
    "\n",
    "translated_words = {\n",
    "    \"France\": [\"Baguette\", \"Paris\", \"Euro\", \"Guillotine\"],  # France (French)\n",
    "    \"Turkey\": [\"Baklava\", \"İstanbul\", \"Lira\", \"Nazar\"],  # Turkey (Turkish)\n",
    "    \"United States\": [\"Burger\", \"New York\", \"Dollar\", \"Cowboy hat\"],  # USA (English)\n",
    "    \"Bangladesh\": [\"বিরিয়ানি\", \"ঢাকা\", \"টাকা\", \"রিকশা\"],  # Bangladesh (Bengali)\n",
    "    \"Russia\": [\"Борщ\", \"Москва\", \"Рубль\", \"Матрёшка\"]  # Russia (Russian)\n",
    "}"
   ]
  },
  {
   "cell_type": "code",
   "execution_count": 58,
   "metadata": {},
   "outputs": [],
   "source": [
    "subset_df = pd.read_csv(\"data/mclbench_subset_v1.csv\")\n",
    "\n",
    "subset_df = subset_df.query(\"hint==False\").copy()\n",
    "\n",
    "new_rows = []\n",
    "\n",
    "for i, row in subset_df.iterrows():\n",
    "    if row[\"lang\"] != \"English\":\n",
    "        suffix_list = translated_words\n",
    "    else:\n",
    "        suffix_list = words\n",
    "    for j, word in enumerate(suffix_list[row[\"country\"]]):\n",
    "        new_row = row.copy()\n",
    "        new_row[\"question\"] = word +\" \"+new_row[\"question\"]\n",
    "        new_row[\"suffix\"] = word\n",
    "        new_rows.append(new_row)"
   ]
  },
  {
   "cell_type": "code",
   "execution_count": 59,
   "metadata": {},
   "outputs": [],
   "source": [
    "pd.DataFrame(new_rows).to_csv(\"data/suffix_dataset.csv\", index=False)"
   ]
  },
  {
   "cell_type": "markdown",
   "metadata": {},
   "source": [
    "## Calculate Steering Vecs"
   ]
  },
  {
   "cell_type": "code",
   "execution_count": 3,
   "metadata": {},
   "outputs": [],
   "source": [
    "country_to_suffix = {\"Turkey\": \"tr\", \n",
    "                     \"France\": \"fr\", \n",
    "                     \"Russia\": \"ru\", \n",
    "                     \"Bangladesh\": \"bn\", \n",
    "                     \"United States\": \"us\"}"
   ]
  },
  {
   "cell_type": "code",
   "execution_count": 46,
   "metadata": {},
   "outputs": [],
   "source": [
    "def fix_str_ans(row):\n",
    "    row[\"ans_local\"] = row[\"options\"][int(row[\"ans_local_idx\"]) -1]\n",
    "    row[\"ans_west\"] = row[\"options\"][int(row[\"ans_west_idx\"]) -1]\n",
    "    return row"
   ]
  },
  {
   "cell_type": "code",
   "execution_count": null,
   "metadata": {},
   "outputs": [
    {
     "ename": "NameError",
     "evalue": "name 'fix_str_ans' is not defined",
     "output_type": "error",
     "traceback": [
      "\u001b[0;31m---------------------------------------------------------------------------\u001b[0m",
      "\u001b[0;31mNameError\u001b[0m                                 Traceback (most recent call last)",
      "Cell \u001b[0;32mIn[14], line 3\u001b[0m\n\u001b[1;32m      1\u001b[0m steering_df \u001b[38;5;241m=\u001b[39m pd\u001b[38;5;241m.\u001b[39mread_csv(\u001b[38;5;124m\"\u001b[39m\u001b[38;5;124mmodel_gen/gemma2_9b_it_guess_suffix.csv\u001b[39m\u001b[38;5;124m\"\u001b[39m)\n\u001b[1;32m      2\u001b[0m steering_df[\u001b[38;5;124m\"\u001b[39m\u001b[38;5;124moptions\u001b[39m\u001b[38;5;124m\"\u001b[39m] \u001b[38;5;241m=\u001b[39m steering_df[\u001b[38;5;124m\"\u001b[39m\u001b[38;5;124moptions\u001b[39m\u001b[38;5;124m\"\u001b[39m]\u001b[38;5;241m.\u001b[39mapply(eval_or_skip)\n\u001b[0;32m----> 3\u001b[0m steering_df \u001b[38;5;241m=\u001b[39m steering_df\u001b[38;5;241m.\u001b[39mapply(\u001b[43mfix_str_ans\u001b[49m, axis\u001b[38;5;241m=\u001b[39m\u001b[38;5;241m1\u001b[39m)\n\u001b[1;32m      4\u001b[0m steering_df \u001b[38;5;241m=\u001b[39m steering_df\u001b[38;5;241m.\u001b[39mapply(\u001b[38;5;28;01mlambda\u001b[39;00m x: get_answer_type_final(x, check_for\u001b[38;5;241m=\u001b[39m\u001b[38;5;124m\"\u001b[39m\u001b[38;5;124mstring\u001b[39m\u001b[38;5;124m\"\u001b[39m), axis\u001b[38;5;241m=\u001b[39m\u001b[38;5;241m1\u001b[39m)\n\u001b[1;32m      5\u001b[0m steering_df\u001b[38;5;241m.\u001b[39mto_csv(\u001b[38;5;124m\"\u001b[39m\u001b[38;5;124mmodel_gen/gemma2_9b_it_guess_suffix_fixed.csv\u001b[39m\u001b[38;5;124m\"\u001b[39m)\n",
      "\u001b[0;31mNameError\u001b[0m: name 'fix_str_ans' is not defined"
     ]
    }
   ],
   "source": [
    "steering_df = pd.read_csv(\"model_gen/gemma2_9b_it_guess_suffix.csv\")\n",
    "steering_df[\"options\"] = steering_df[\"options\"].apply(eval_or_skip)\n",
    "steering_df = steering_df.apply(fix_str_ans, axis=1)\n",
    "steering_df = steering_df.apply(lambda x: get_answer_type_final(x, check_for=\"string\"), axis=1)\n",
    "steering_df.to_csv(\"model_gen/gemma2_9b_it_guess_suffix_fixed.csv\")"
   ]
  },
  {
   "cell_type": "code",
   "execution_count": 25,
   "metadata": {},
   "outputs": [
    {
     "name": "stdout",
     "output_type": "stream",
     "text": [
      "<bos><start_of_turn>user\n",
      "Question:You must select one option and answer. First, state the selected option in full, then explain your guess.\n",
      "What is a common living arrangement for children after they reach adulthood?\n",
      "Options:\n",
      "Children go to live with their distant relatives for better education or job opportunities.\n",
      "Children often continue to live with their parents, or have their parents move into their homes to take care of them<end_of_turn>\n",
      "<start_of_turn>model\n",
      "My guess is **\n"
     ]
    }
   ],
   "source": [
    "steering_df = pd.read_csv(\"model_gen/gemma2_9b_it_guess_suffix_fixed.csv\")\n",
    "\n",
    "print(steering_df.iloc[29][\"input\"])"
   ]
  },
  {
   "cell_type": "code",
   "execution_count": 5,
   "metadata": {},
   "outputs": [
    {
     "name": "stdout",
     "output_type": "stream",
     "text": [
      "Turkey\n",
      "names\n",
      "(99, 21) (99, 21)\n"
     ]
    },
    {
     "name": "stderr",
     "output_type": "stream",
     "text": [
      "  0%|          | 0/99 [00:00<?, ?it/s]You're using a GemmaTokenizerFast tokenizer. Please note that with a fast tokenizer, using the `__call__` method is faster than using a method to encode the text followed by a call to the `pad` method to get a padded encoding.\n",
      "The 'batch_size' argument of HybridCache is deprecated and will be removed in v4.49. Use the more precisely named 'max_batch_size' argument instead.\n",
      "The 'batch_size' attribute of HybridCache is deprecated and will be removed in v4.49. Use the more precisely named 'self.max_batch_size' attribute instead.\n"
     ]
    },
    {
     "name": "stderr",
     "output_type": "stream",
     "text": [
      "100%|██████████| 99/99 [00:19<00:00,  5.01it/s]\n"
     ]
    },
    {
     "name": "stdout",
     "output_type": "stream",
     "text": [
      "cities\n",
      "(50, 21) (50, 21)\n"
     ]
    },
    {
     "name": "stderr",
     "output_type": "stream",
     "text": [
      "100%|██████████| 50/50 [00:10<00:00,  4.93it/s]\n"
     ]
    },
    {
     "name": "stdout",
     "output_type": "stream",
     "text": [
      "culturedistil\n",
      "(41, 21) (41, 21)\n"
     ]
    },
    {
     "name": "stderr",
     "output_type": "stream",
     "text": [
      "100%|██████████| 41/41 [00:08<00:00,  5.05it/s]\n"
     ]
    },
    {
     "name": "stdout",
     "output_type": "stream",
     "text": [
      "culturebench\n",
      "(11, 21) (11, 21)\n"
     ]
    },
    {
     "name": "stderr",
     "output_type": "stream",
     "text": [
      "100%|██████████| 11/11 [00:02<00:00,  5.05it/s]\n"
     ]
    },
    {
     "name": "stdout",
     "output_type": "stream",
     "text": [
      "France\n",
      "names\n",
      "(54, 21) (54, 21)\n"
     ]
    },
    {
     "name": "stderr",
     "output_type": "stream",
     "text": [
      "100%|██████████| 54/54 [00:10<00:00,  5.28it/s]\n"
     ]
    },
    {
     "name": "stdout",
     "output_type": "stream",
     "text": [
      "cities\n",
      "(73, 21) (73, 21)\n"
     ]
    },
    {
     "name": "stderr",
     "output_type": "stream",
     "text": [
      "100%|██████████| 73/73 [00:13<00:00,  5.47it/s]\n"
     ]
    },
    {
     "name": "stdout",
     "output_type": "stream",
     "text": [
      "culturedistil\n",
      "(40, 21) (40, 21)\n"
     ]
    },
    {
     "name": "stderr",
     "output_type": "stream",
     "text": [
      "100%|██████████| 40/40 [00:07<00:00,  5.60it/s]\n"
     ]
    },
    {
     "name": "stdout",
     "output_type": "stream",
     "text": [
      "culturebench\n",
      "(2, 21) (2, 21)\n"
     ]
    },
    {
     "name": "stderr",
     "output_type": "stream",
     "text": [
      "100%|██████████| 2/2 [00:00<00:00,  5.49it/s]\n"
     ]
    },
    {
     "name": "stdout",
     "output_type": "stream",
     "text": [
      "Russia\n",
      "names\n",
      "(42, 21) (42, 21)\n"
     ]
    },
    {
     "name": "stderr",
     "output_type": "stream",
     "text": [
      "100%|██████████| 42/42 [00:07<00:00,  5.47it/s]\n"
     ]
    },
    {
     "name": "stdout",
     "output_type": "stream",
     "text": [
      "cities\n",
      "(14, 21) (14, 21)\n"
     ]
    },
    {
     "name": "stderr",
     "output_type": "stream",
     "text": [
      "100%|██████████| 14/14 [00:02<00:00,  5.05it/s]\n"
     ]
    },
    {
     "name": "stdout",
     "output_type": "stream",
     "text": [
      "culturedistil\n",
      "(46, 21) (46, 21)\n"
     ]
    },
    {
     "name": "stderr",
     "output_type": "stream",
     "text": [
      "100%|██████████| 46/46 [00:09<00:00,  4.91it/s]\n"
     ]
    },
    {
     "name": "stdout",
     "output_type": "stream",
     "text": [
      "culturebench\n",
      "(6, 21) (6, 21)\n"
     ]
    },
    {
     "name": "stderr",
     "output_type": "stream",
     "text": [
      "100%|██████████| 6/6 [00:01<00:00,  4.62it/s]\n"
     ]
    },
    {
     "name": "stdout",
     "output_type": "stream",
     "text": [
      "Bangladesh\n",
      "names\n",
      "(126, 21) (126, 21)\n"
     ]
    },
    {
     "name": "stderr",
     "output_type": "stream",
     "text": [
      "100%|██████████| 126/126 [00:28<00:00,  4.49it/s]\n"
     ]
    },
    {
     "name": "stdout",
     "output_type": "stream",
     "text": [
      "cities\n",
      "(72, 21) (72, 21)\n"
     ]
    },
    {
     "name": "stderr",
     "output_type": "stream",
     "text": [
      "100%|██████████| 72/72 [00:15<00:00,  4.60it/s]\n"
     ]
    },
    {
     "name": "stdout",
     "output_type": "stream",
     "text": [
      "culturedistil\n",
      "(19, 21) (19, 21)\n"
     ]
    },
    {
     "name": "stderr",
     "output_type": "stream",
     "text": [
      "100%|██████████| 19/19 [00:04<00:00,  4.56it/s]\n"
     ]
    },
    {
     "name": "stdout",
     "output_type": "stream",
     "text": [
      "culturebench\n",
      "(3, 21) (3, 21)\n"
     ]
    },
    {
     "name": "stderr",
     "output_type": "stream",
     "text": [
      "100%|██████████| 3/3 [00:00<00:00,  4.58it/s]\n"
     ]
    }
   ],
   "source": [
    "from tools.nnsight_utils import collect_residuals, visualize_top_tokens\n",
    "from tqdm import tqdm\n",
    "\n",
    "steering_df = pd.read_csv(\"model_gen/gemma2_9b_it_guess_suffix_fixed.csv\")\n",
    "\n",
    "steering_df[\"translated\"] = steering_df.apply(lambda x: True if x[\"country\"] == \"United States\" else x[\"lang\"]!=\"English\", axis=1)\n",
    "\n",
    "countries = [\"Turkey\", \"France\", \"Russia\", \"Bangladesh\"]\n",
    "#countries = [\"United States\"]\n",
    "for country in countries:\n",
    "    print(country)\n",
    "    for subtask in [\"names\", \"cities\", \"culturedistil\", \"culturebench\"]:\n",
    "        print(subtask)\n",
    "        pos_examples = steering_df.query(\"country == @country and subtask == @subtask and lang!='English' and hint==False and ans_type == 'local'\")\n",
    "        neg_examples = steering_df.query(\"country == @country and subtask == @subtask and lang=='English' and hint==False and ans_type == 'west'\")\n",
    "\n",
    "        common_question_ids = set(pos_examples[\"question_id\"].unique()) & set(neg_examples[\"question_id\"].unique())\n",
    "\n",
    "        if len(common_question_ids) == 0:\n",
    "            question_ids = set(pos_examples[\"question_id\"].unique()) | set(neg_examples[\"question_id\"].unique())\n",
    "\n",
    "        pos_examples = pos_examples.query(\"question_id in @common_question_ids\").sort_values(\"question_id\").copy()\n",
    "        neg_examples = neg_examples.query(\"question_id in @common_question_ids\").sort_values(\"question_id\").copy()\n",
    "        \n",
    "        print(pos_examples.shape, neg_examples.shape)\n",
    "        pos_examples.to_csv(f\"residuals/gemma2_9b_it_v3_imp/{country_to_suffix[country]}_{subtask}_pos.csv\", index=False)\n",
    "        neg_examples.to_csv(f\"residuals/gemma2_9b_it_v3_imp/{country_to_suffix[country]}_{subtask}_neg.csv\", index=False)\n",
    "\n",
    "        pos_res_list = []\n",
    "        neg_res_list = []\n",
    "\n",
    "        for pos, neg in tqdm(zip(pos_examples[\"input\"], neg_examples[\"input\"]), total=len(pos_examples)):\n",
    "            pos_res = collect_residuals(nnmodel, pos, calculate_probs=False)[\"residuals\"][:,0,-1,:]\n",
    "            neg_res = collect_residuals(nnmodel, neg, calculate_probs=False)[\"residuals\"][:,0,-1,:]\n",
    "            pos_res_list.append(pos_res)\n",
    "            neg_res_list.append(neg_res)\n",
    "        pos_res = t.stack(pos_res_list)\n",
    "        neg_res = t.stack(neg_res_list)\n",
    "\n",
    "        t.save(pos_res, f\"residuals/gemma2_9b_it_v3_imp/{country_to_suffix[country]}_{subtask}_pos.pt\")\n",
    "        t.save(neg_res, f\"residuals/gemma2_9b_it_v3_imp/{country_to_suffix[country]}_{subtask}_neg.pt\")\n"
   ]
  },
  {
   "cell_type": "markdown",
   "metadata": {},
   "source": [
    "## Patchscope"
   ]
  },
  {
   "cell_type": "code",
   "execution_count": 56,
   "metadata": {},
   "outputs": [],
   "source": [
    "all_data = pd.read_csv(\"model_gen/all_models_eval_subset.csv\").query(\"model=='gemma2_9b_it'\").copy()\n",
    "\n",
    "\n",
    "all_data[\"input\"] = all_data[\"input\"].str.replace(\"1,2,3,4.\", \"1,2.\")\n",
    "\n",
    "all_data[\"subtask\"] = all_data[\"source_id\"].apply(lambda x: subtask_map.get(x, \"culturedistil\"))\n",
    "all_data[\"key\"] = all_data[\"question_id\"] + all_data[\"country\"]"
   ]
  },
  {
   "cell_type": "code",
   "execution_count": 57,
   "metadata": {},
   "outputs": [],
   "source": [
    "import re\n",
    "\n",
    "def swap_options(prompt):\n",
    "    # Match the options in the form of \"1. Option1\\n2. Option2\"\n",
    "    pattern = r\"\\n1\\.\\s*(.*?)\\n2\\.\\s*(.*?)(?=\\n|$)\"\n",
    "\n",
    "    def swap_match(match):\n",
    "        option1, option2 = match.groups()\n",
    "        return f\"\\n1. {option2}\\n2. {option1}\"\n",
    "\n",
    "    # Substitute the matched pattern with swapped options\n",
    "    swapped_prompt = re.sub(pattern, swap_match, prompt)\n",
    "\n",
    "    return swapped_prompt\n",
    "\n",
    "def change_numbers(prompt):\n",
    "    # Match the options in the form of \"1. Option1\\n2. Option2\"\n",
    "    pattern = r\"\\n1\\.\\s*(.*?)\\n2\\.\\s*(.*?)(?=\\n|$)\"\n",
    "\n",
    "    def change_match(match):\n",
    "        option1, option2 = match.groups()\n",
    "        return f\"\\nA. {option1}\\nB. {option2}\"\n",
    "\n",
    "    # Substitute the matched pattern with swapped options\n",
    "    swapped_prompt = re.sub(pattern, change_match, prompt)\n",
    "    swapped_prompt = swapped_prompt.replace(\"1,2\", \"A,B\")\n",
    "\n",
    "    return swapped_prompt"
   ]
  },
  {
   "cell_type": "code",
   "execution_count": 58,
   "metadata": {},
   "outputs": [
    {
     "data": {
      "text/plain": [
       "(600, 19)"
      ]
     },
     "execution_count": 58,
     "metadata": {},
     "output_type": "execute_result"
    }
   ],
   "source": [
    "test_data = all_data.query(\"lang=='English' and hint==False and ans_type!='local'\").copy()\n",
    "\n",
    "test_data_list = []\n",
    "\n",
    "for c in [\"Turkey\", \"France\", \"Russia\", \"Bangladesh\"]:#, \"United States\"]:\n",
    "    for task in [\"names\", \"cities\", \"culturedistil\"]:\n",
    "        task_data = test_data.query(f\"subtask=='{task}' and country=='{c}'\")\n",
    "        task_data = task_data.sample(n=min(task_data.shape[0],50), random_state=42)\n",
    "        test_data_list.append(task_data)\n",
    "\n",
    "test_data = pd.concat(test_data_list).sort_values(\"key\")\n",
    "\n",
    "keys = set(test_data[\"key\"].unique())\n",
    "source_data = all_data.query(\"key in @keys and hint==False and lang!='English'\").copy().sort_values(\"key\")\n",
    "test_data.shape"
   ]
  },
  {
   "cell_type": "code",
   "execution_count": 59,
   "metadata": {},
   "outputs": [],
   "source": [
    "test_data.to_csv(\"data/gemma2_9b_it_imp_patchscope.csv\", index=False)"
   ]
  },
  {
   "cell_type": "code",
   "execution_count": 91,
   "metadata": {},
   "outputs": [],
   "source": [
    "import torch as t\n",
    "\n",
    "patching_res_map = {}\n",
    "\n",
    "for task in [\"names\", \"cities\", \"culturedistil\"]:\n",
    "    for s in [\"tr\", \"fr\", \"ru\", \"bn\"]:\n",
    "        patching_res_map[(task,s)] = t.load(f\"residuals/gemma2_9b_it/{s}_{task}_pos.pt\", weights_only=False).mean(dim=0).unsqueeze(1)\n",
    "\n"
   ]
  },
  {
   "cell_type": "code",
   "execution_count": 60,
   "metadata": {},
   "outputs": [
    {
     "name": "stdout",
     "output_type": "stream",
     "text": [
      "Turkey\n"
     ]
    },
    {
     "name": "stderr",
     "output_type": "stream",
     "text": [
      "100%|██████████| 5/5 [01:15<00:00, 15.03s/it]\n"
     ]
    },
    {
     "name": "stdout",
     "output_type": "stream",
     "text": [
      "France\n"
     ]
    },
    {
     "name": "stderr",
     "output_type": "stream",
     "text": [
      "100%|██████████| 5/5 [01:22<00:00, 16.51s/it]\n"
     ]
    },
    {
     "name": "stdout",
     "output_type": "stream",
     "text": [
      "Russia\n"
     ]
    },
    {
     "name": "stderr",
     "output_type": "stream",
     "text": [
      "100%|██████████| 5/5 [01:15<00:00, 15.12s/it]\n"
     ]
    },
    {
     "name": "stdout",
     "output_type": "stream",
     "text": [
      "Bangladesh\n"
     ]
    },
    {
     "name": "stderr",
     "output_type": "stream",
     "text": [
      "100%|██████████| 5/5 [01:29<00:00, 17.83s/it]\n"
     ]
    }
   ],
   "source": [
    "from tqdm import tqdm\n",
    "\n",
    "outputs = []\n",
    "mean_patch = False\n",
    "\n",
    "\n",
    "countries = [\"Turkey\", \"France\", \"Russia\", \"Bangladesh\"]#, \"United States\"]\n",
    "\n",
    "batch_size = 32\n",
    "for country in countries:\n",
    "    print(country)\n",
    "    \n",
    "\n",
    "    test_entries = test_data.query(\"country==@country\").to_dict(orient=\"records\")\n",
    "    source_entries = source_data.query(\"country==@country\").to_dict(orient=\"records\")\n",
    "\n",
    "\n",
    "    batch_entries = [test_entries[k:k+batch_size] for k in range(0, len(test_entries), batch_size)]\n",
    "    batch_inputs = [[entry[\"input\"] for entry in batch] for batch in batch_entries]\n",
    "\n",
    "    batch_residuals = []\n",
    "    if mean_patch:\n",
    "        s = country_to_suffix[country]\n",
    "        patching_res = patching_res_map[(\"cities\",s)].mean(dim=0).unsqueeze(0)\n",
    "    else:\n",
    "        for k in range(0, len(source_entries), batch_size):\n",
    "            source_batch = source_entries[k:k+batch_size]\n",
    "            res_batch = []\n",
    "            with t.no_grad():\n",
    "                for i,entry in enumerate(source_batch):\n",
    "                    imp = change_numbers(entry[\"input\"])\n",
    "                    res_batch.append(collect_residuals(nnmodel, imp, calculate_probs=False)[\"residuals\"][:,0,-1,:])\n",
    "                res_batch = t.stack(res_batch, dim=1).unsqueeze(2)\n",
    "                batch_residuals.append(res_batch)\n",
    "\n",
    "    for i,batch_imp in tqdm(enumerate(batch_inputs), total=len(batch_inputs)):\n",
    "        with t.no_grad():\n",
    "            if mean_patch:\n",
    "                out = patch_scope_gen(nnmodel, tokenizer, patching_res.unsqueeze(1).repeat(1, len(batch_imp), 1, 1), \n",
    "                                      target_prompt=batch_imp, target_token_idx=-1, n_new_tokens=1)\n",
    "            else:\n",
    "                out = patch_scope_gen(nnmodel, tokenizer, batch_residuals[i], \n",
    "                                      target_prompt=batch_imp, target_token_idx=-1, n_new_tokens=1)\n",
    "\n",
    "            for j,layer in enumerate(out[0]):\n",
    "                texts = out[0][layer]\n",
    "                probs = out[1]\n",
    "                epsilon = 1e-6\n",
    "                probs[probs < epsilon] = 0\n",
    "                #probs = probs.to_sparse()\n",
    "                for k, text in enumerate(texts):\n",
    "                    out_dict = {\"patch_out\": text, \"patch_prob\": probs[j,:,k,:].to_sparse(), \"layer\": layer}\n",
    "                    out_dict.update(batch_entries[i][k])\n",
    "                    outputs.append(out_dict)"
   ]
  },
  {
   "cell_type": "code",
   "execution_count": 61,
   "metadata": {},
   "outputs": [],
   "source": [
    "pd.to_pickle(outputs, \"patchscope/all_imp_english_pair_patching_letters_v2.pkl\")"
   ]
  },
  {
   "cell_type": "code",
   "execution_count": 141,
   "metadata": {},
   "outputs": [],
   "source": [
    "outputs = pd.read_pickle(\"patchscope/all_exp_english_pair_patching_numbers.pkl\")"
   ]
  },
  {
   "cell_type": "code",
   "execution_count": 48,
   "metadata": {},
   "outputs": [],
   "source": [
    "outputs = pd.read_pickle(\"patchscope/all_exp_english_pair_patching_letters_v3.pkl\")"
   ]
  },
  {
   "cell_type": "code",
   "execution_count": 62,
   "metadata": {},
   "outputs": [],
   "source": [
    "def get_probs(data_row, tokenizer, token_index):\n",
    "    ans_west = data_row[\"ans_west\"]\n",
    "    ans_local = data_row[\"ans_local\"]\n",
    "    \n",
    "    ind_west = tokenizer.encode(ans_west, add_special_tokens=False)[0]\n",
    "    ind_local = tokenizer.encode(ans_local, add_special_tokens=False)[0]\n",
    "    ind_source_1 = tokenizer.encode(\"A\", add_special_tokens=False)[0]\n",
    "    ind_source_2 = tokenizer.encode(\"B\", add_special_tokens=False)[0]\n",
    "\n",
    "\n",
    "    \n",
    "    data_row[\"prob_west\"] = data_row[\"patch_prob\"].to_dense()[token_index, ind_west].float().numpy()\n",
    "    data_row[\"prob_local\"] = data_row[\"patch_prob\"].to_dense()[token_index, ind_local].float().numpy()\n",
    "    data_row[\"prob_source\"] = max(data_row[\"patch_prob\"].to_dense()[token_index, ind_source_1].float().numpy(),\n",
    "                                    data_row[\"patch_prob\"].to_dense()[token_index, ind_source_2].float().numpy())\n",
    "    return data_row"
   ]
  },
  {
   "cell_type": "code",
   "execution_count": 63,
   "metadata": {},
   "outputs": [],
   "source": [
    "outputs_df = pd.DataFrame(outputs)\n",
    "opt_to_str = lambda x: str(int(x))\n",
    "outputs_df[\"ans_west\"] = outputs_df[\"ans_west_idx\"].apply(opt_to_str)\n",
    "outputs_df[\"ans_local\"] = outputs_df[\"ans_local_idx\"].apply(opt_to_str)\n",
    "\n",
    "outputs_df.dropna(subset=[\"ans_west\", \"ans_local\"], inplace=True)"
   ]
  },
  {
   "cell_type": "code",
   "execution_count": 64,
   "metadata": {},
   "outputs": [],
   "source": [
    "outputs_df = outputs_df.apply(lambda x: get_probs(x, tokenizer, token_index=-1), axis=1)\n",
    "outputs_df.dropna(subset=[\"prob_west\", \"prob_local\"], inplace=True)\n",
    "outputs_df.drop(columns=[\"patch_prob\"], inplace=True)\n"
   ]
  },
  {
   "cell_type": "code",
   "execution_count": 65,
   "metadata": {},
   "outputs": [
    {
     "name": "stdout",
     "output_type": "stream",
     "text": [
      "(600, 42)\n"
     ]
    },
    {
     "data": {
      "image/png": "[encoded data removed]",
      "text/plain": [
       "<Figure size 600x400 with 1 Axes>"
      ]
     },
     "metadata": {},
     "output_type": "display_data"
    }
   ],
   "source": [
    "from tools.patchscope import plot_avg_probs_ax\n",
    "fig, ax = plot_avg_probs_ax(outputs_df.query(\"country!='xUnited States'\"), include_source=True)\n",
    "fig.savefig(\"imp_patchscope_fixed_prompts.pdf\", dpi=300, bbox_inches='tight')\n"
   ]
  },
  {
   "cell_type": "code",
   "execution_count": null,
   "metadata": {},
   "outputs": [],
   "source": [
    "# translated hint\n",
    "# english non-hint"
   ]
  },
  {
   "cell_type": "code",
   "execution_count": 27,
   "metadata": {},
   "outputs": [
    {
     "name": "stdout",
     "output_type": "stream",
     "text": [
      "(600, 42)\n"
     ]
    },
    {
     "data": {
      "image/png": "[encoded data removed]",
      "text/plain": [
       "<Figure size 600x400 with 1 Axes>"
      ]
     },
     "metadata": {},
     "output_type": "display_data"
    }
   ],
   "source": [
    "from tools.patchscope import plot_avg_probs_ax\n",
    "plot_avg_probs_ax(outputs_df.query(\"country!='xRussia'\"), include_source=True)"
   ]
  },
  {
   "cell_type": "code",
   "execution_count": 6,
   "metadata": {},
   "outputs": [
    {
     "ename": "FileNotFoundError",
     "evalue": "[Errno 2] No such file or directory: 'residuals/gemma2_9b_it/tr_pos.pt'",
     "output_type": "error",
     "traceback": [
      "\u001b[0;31m---------------------------------------------------------------------------\u001b[0m",
      "\u001b[0;31mFileNotFoundError\u001b[0m                         Traceback (most recent call last)",
      "Cell \u001b[0;32mIn[6], line 3\u001b[0m\n\u001b[1;32m      1\u001b[0m steering_vec_map \u001b[38;5;241m=\u001b[39m {}\n\u001b[1;32m      2\u001b[0m \u001b[38;5;28;01mfor\u001b[39;00m prefix \u001b[38;5;129;01min\u001b[39;00m [\u001b[38;5;124m\"\u001b[39m\u001b[38;5;124mtr\u001b[39m\u001b[38;5;124m\"\u001b[39m, \u001b[38;5;124m\"\u001b[39m\u001b[38;5;124mfr\u001b[39m\u001b[38;5;124m\"\u001b[39m, \u001b[38;5;124m\"\u001b[39m\u001b[38;5;124mru\u001b[39m\u001b[38;5;124m\"\u001b[39m, \u001b[38;5;124m\"\u001b[39m\u001b[38;5;124mbn\u001b[39m\u001b[38;5;124m\"\u001b[39m]:\n\u001b[0;32m----> 3\u001b[0m     res_tr \u001b[38;5;241m=\u001b[39m \u001b[43mt\u001b[49m\u001b[38;5;241;43m.\u001b[39;49m\u001b[43mload\u001b[49m\u001b[43m(\u001b[49m\u001b[38;5;124;43mf\u001b[39;49m\u001b[38;5;124;43m\"\u001b[39;49m\u001b[38;5;124;43mresiduals/gemma2_9b_it/\u001b[39;49m\u001b[38;5;132;43;01m{\u001b[39;49;00m\u001b[43mprefix\u001b[49m\u001b[38;5;132;43;01m}\u001b[39;49;00m\u001b[38;5;124;43m_pos.pt\u001b[39;49m\u001b[38;5;124;43m\"\u001b[39;49m\u001b[43m,\u001b[49m\u001b[43m \u001b[49m\u001b[43mweights_only\u001b[49m\u001b[38;5;241;43m=\u001b[39;49m\u001b[38;5;28;43;01mTrue\u001b[39;49;00m\u001b[43m)\u001b[49m\n\u001b[1;32m      4\u001b[0m     res_en \u001b[38;5;241m=\u001b[39m t\u001b[38;5;241m.\u001b[39mload(\u001b[38;5;124mf\u001b[39m\u001b[38;5;124m\"\u001b[39m\u001b[38;5;124mresiduals/gemma2_9b_it/\u001b[39m\u001b[38;5;132;01m{\u001b[39;00mprefix\u001b[38;5;132;01m}\u001b[39;00m\u001b[38;5;124m_neg.pt\u001b[39m\u001b[38;5;124m\"\u001b[39m, weights_only\u001b[38;5;241m=\u001b[39m\u001b[38;5;28;01mTrue\u001b[39;00m)\n\u001b[1;32m      6\u001b[0m     steering_vec \u001b[38;5;241m=\u001b[39m (res_tr \u001b[38;5;241m-\u001b[39m res_en)\u001b[38;5;241m.\u001b[39mmean(dim\u001b[38;5;241m=\u001b[39m\u001b[38;5;241m0\u001b[39m)\n",
      "File \u001b[0;32m/opt/conda/envs/default/lib/python3.11/site-packages/torch/serialization.py:1319\u001b[0m, in \u001b[0;36mload\u001b[0;34m(f, map_location, pickle_module, weights_only, mmap, **pickle_load_args)\u001b[0m\n\u001b[1;32m   1316\u001b[0m \u001b[38;5;28;01mif\u001b[39;00m \u001b[38;5;124m\"\u001b[39m\u001b[38;5;124mencoding\u001b[39m\u001b[38;5;124m\"\u001b[39m \u001b[38;5;129;01mnot\u001b[39;00m \u001b[38;5;129;01min\u001b[39;00m pickle_load_args\u001b[38;5;241m.\u001b[39mkeys():\n\u001b[1;32m   1317\u001b[0m     pickle_load_args[\u001b[38;5;124m\"\u001b[39m\u001b[38;5;124mencoding\u001b[39m\u001b[38;5;124m\"\u001b[39m] \u001b[38;5;241m=\u001b[39m \u001b[38;5;124m\"\u001b[39m\u001b[38;5;124mutf-8\u001b[39m\u001b[38;5;124m\"\u001b[39m\n\u001b[0;32m-> 1319\u001b[0m \u001b[38;5;28;01mwith\u001b[39;00m \u001b[43m_open_file_like\u001b[49m\u001b[43m(\u001b[49m\u001b[43mf\u001b[49m\u001b[43m,\u001b[49m\u001b[43m \u001b[49m\u001b[38;5;124;43m\"\u001b[39;49m\u001b[38;5;124;43mrb\u001b[39;49m\u001b[38;5;124;43m\"\u001b[39;49m\u001b[43m)\u001b[49m \u001b[38;5;28;01mas\u001b[39;00m opened_file:\n\u001b[1;32m   1320\u001b[0m     \u001b[38;5;28;01mif\u001b[39;00m _is_zipfile(opened_file):\n\u001b[1;32m   1321\u001b[0m         \u001b[38;5;66;03m# The zipfile reader is going to advance the current file position.\u001b[39;00m\n\u001b[1;32m   1322\u001b[0m         \u001b[38;5;66;03m# If we want to actually tail call to torch.jit.load, we need to\u001b[39;00m\n\u001b[1;32m   1323\u001b[0m         \u001b[38;5;66;03m# reset back to the original position.\u001b[39;00m\n\u001b[1;32m   1324\u001b[0m         orig_position \u001b[38;5;241m=\u001b[39m opened_file\u001b[38;5;241m.\u001b[39mtell()\n",
      "File \u001b[0;32m/opt/conda/envs/default/lib/python3.11/site-packages/torch/serialization.py:659\u001b[0m, in \u001b[0;36m_open_file_like\u001b[0;34m(name_or_buffer, mode)\u001b[0m\n\u001b[1;32m    657\u001b[0m \u001b[38;5;28;01mdef\u001b[39;00m \u001b[38;5;21m_open_file_like\u001b[39m(name_or_buffer, mode):\n\u001b[1;32m    658\u001b[0m     \u001b[38;5;28;01mif\u001b[39;00m _is_path(name_or_buffer):\n\u001b[0;32m--> 659\u001b[0m         \u001b[38;5;28;01mreturn\u001b[39;00m \u001b[43m_open_file\u001b[49m\u001b[43m(\u001b[49m\u001b[43mname_or_buffer\u001b[49m\u001b[43m,\u001b[49m\u001b[43m \u001b[49m\u001b[43mmode\u001b[49m\u001b[43m)\u001b[49m\n\u001b[1;32m    660\u001b[0m     \u001b[38;5;28;01melse\u001b[39;00m:\n\u001b[1;32m    661\u001b[0m         \u001b[38;5;28;01mif\u001b[39;00m \u001b[38;5;124m\"\u001b[39m\u001b[38;5;124mw\u001b[39m\u001b[38;5;124m\"\u001b[39m \u001b[38;5;129;01min\u001b[39;00m mode:\n",
      "File \u001b[0;32m/opt/conda/envs/default/lib/python3.11/site-packages/torch/serialization.py:640\u001b[0m, in \u001b[0;36m_open_file.__init__\u001b[0;34m(self, name, mode)\u001b[0m\n\u001b[1;32m    639\u001b[0m \u001b[38;5;28;01mdef\u001b[39;00m \u001b[38;5;21m__init__\u001b[39m(\u001b[38;5;28mself\u001b[39m, name, mode):\n\u001b[0;32m--> 640\u001b[0m     \u001b[38;5;28msuper\u001b[39m()\u001b[38;5;241m.\u001b[39m\u001b[38;5;21m__init__\u001b[39m(\u001b[38;5;28;43mopen\u001b[39;49m\u001b[43m(\u001b[49m\u001b[43mname\u001b[49m\u001b[43m,\u001b[49m\u001b[43m \u001b[49m\u001b[43mmode\u001b[49m\u001b[43m)\u001b[49m)\n",
      "\u001b[0;31mFileNotFoundError\u001b[0m: [Errno 2] No such file or directory: 'residuals/gemma2_9b_it/tr_pos.pt'"
     ]
    }
   ],
   "source": [
    "\n",
    "steering_vec_map = {}\n",
    "for prefix in [\"tr\", \"fr\", \"ru\", \"bn\"]:\n",
    "    res_tr = t.load(f\"residuals/gemma2_9b_it/{prefix}_pos.pt\", weights_only=True)\n",
    "    res_en = t.load(f\"residuals/gemma2_9b_it/{prefix}_neg.pt\", weights_only=True)\n",
    "\n",
    "    steering_vec = (res_tr - res_en).mean(dim=0)\n",
    "    steering_vec = steering_vec.unsqueeze(1)\n",
    "    steering_vec_map[prefix] = steering_vec"
   ]
  },
  {
   "cell_type": "code",
   "execution_count": 25,
   "metadata": {},
   "outputs": [],
   "source": [
    "from tools.evaluation import get_answer_type_final\n",
    "\n",
    "query = \"country=='Turkey' and hint=='none' and lang!='English'\"\n",
    "\n",
    "samples = final_df.query(query).copy()\n",
    "\n",
    "samples[\"ans_type\"] = samples[\"ans_type_w_pref\"]\n",
    "samples[\"input_en\"] = samples[\"question_id\"].apply(lambda qid: final_df.query(\"question_id == @qid and lang == 'English'\")[\"input\"].values[0])\n",
    "samples[\"input_en\"] = samples[\"input_en\"] + prompt_suffix[\"English\"]\n",
    "\n",
    "vector = steering_vec_map[\"tr\"]"
   ]
  },
  {
   "cell_type": "code",
   "execution_count": 26,
   "metadata": {},
   "outputs": [],
   "source": [
    "layers = [21,22,23,24,25,26,27]\n",
    "rows = []\n",
    "for idx, samp in samples.iterrows():\n",
    "    source_prompt = samp[\"input\"] + prompt_suffix[samp[\"lang\"]]\n",
    "    model_out = collect_residuals(nnmodel, source_prompt, calculate_probs=False)\n",
    "    #model_out_en = collect_residuals(nnmodel, samp[\"input_en\"], calculate_probs=False)\n",
    "    residuals = model_out[\"residuals\"][:,0,-1,:]# - model_out_en[\"residuals\"][:,0,-1,:]\n",
    "    for layer in layers:\n",
    "        proj = t.inner(residuals[layer,:],vector[layer,0,:])\n",
    "        proj = (proj/vector[layer,0,:].norm().item()).cpu().float().numpy()\n",
    "        samp[f\"layer_{layer}_proj\"] = proj\n",
    "    rows.append(samp)\n",
    "\n",
    "projected_df = pd.DataFrame(rows)"
   ]
  },
  {
   "cell_type": "code",
   "execution_count": 23,
   "metadata": {},
   "outputs": [
    {
     "data": {
      "text/html": [
       "<div>\n",
       "<style scoped>\n",
       "    .dataframe tbody tr th:only-of-type {\n",
       "        vertical-align: middle;\n",
       "    }\n",
       "\n",
       "    .dataframe tbody tr th {\n",
       "        vertical-align: top;\n",
       "    }\n",
       "\n",
       "    .dataframe thead th {\n",
       "        text-align: right;\n",
       "    }\n",
       "</style>\n",
       "<table border=\"1\" class=\"dataframe\">\n",
       "  <thead>\n",
       "    <tr style=\"text-align: right;\">\n",
       "      <th></th>\n",
       "      <th>layer_21_proj</th>\n",
       "      <th>layer_22_proj</th>\n",
       "      <th>layer_23_proj</th>\n",
       "      <th>layer_24_proj</th>\n",
       "      <th>layer_25_proj</th>\n",
       "      <th>layer_26_proj</th>\n",
       "      <th>layer_27_proj</th>\n",
       "    </tr>\n",
       "    <tr>\n",
       "      <th>ans_type</th>\n",
       "      <th></th>\n",
       "      <th></th>\n",
       "      <th></th>\n",
       "      <th></th>\n",
       "      <th></th>\n",
       "      <th></th>\n",
       "      <th></th>\n",
       "    </tr>\n",
       "  </thead>\n",
       "  <tbody>\n",
       "    <tr>\n",
       "      <th>local</th>\n",
       "      <td>-11.492989</td>\n",
       "      <td>-17.176403</td>\n",
       "      <td>-10.544841</td>\n",
       "      <td>-48.457953</td>\n",
       "      <td>-47.65527</td>\n",
       "      <td>-54.695468</td>\n",
       "      <td>-101.445183</td>\n",
       "    </tr>\n",
       "    <tr>\n",
       "      <th>none</th>\n",
       "      <td>4.307617</td>\n",
       "      <td>1.490234</td>\n",
       "      <td>4.619141</td>\n",
       "      <td>-25.71875</td>\n",
       "      <td>-11.600586</td>\n",
       "      <td>-5.929688</td>\n",
       "      <td>-45.1875</td>\n",
       "    </tr>\n",
       "    <tr>\n",
       "      <th>west</th>\n",
       "      <td>-8.694786</td>\n",
       "      <td>-13.542839</td>\n",
       "      <td>-9.705671</td>\n",
       "      <td>-45.867391</td>\n",
       "      <td>-45.361583</td>\n",
       "      <td>-52.467527</td>\n",
       "      <td>-97.830978</td>\n",
       "    </tr>\n",
       "  </tbody>\n",
       "</table>\n",
       "</div>"
      ],
      "text/plain": [
       "         layer_21_proj layer_22_proj layer_23_proj layer_24_proj  \\\n",
       "ans_type                                                           \n",
       "local       -11.492989    -17.176403    -10.544841    -48.457953   \n",
       "none          4.307617      1.490234      4.619141     -25.71875   \n",
       "west         -8.694786    -13.542839     -9.705671    -45.867391   \n",
       "\n",
       "         layer_25_proj layer_26_proj layer_27_proj  \n",
       "ans_type                                            \n",
       "local        -47.65527    -54.695468   -101.445183  \n",
       "none        -11.600586     -5.929688      -45.1875  \n",
       "west        -45.361583    -52.467527    -97.830978  "
      ]
     },
     "execution_count": 23,
     "metadata": {},
     "output_type": "execute_result"
    }
   ],
   "source": [
    "# Explicit vector projection on translated prompts\n",
    "projected_df.groupby(\"ans_type\")[[f\"layer_{layer}_proj\" for layer in layers]].mean()"
   ]
  },
  {
   "cell_type": "code",
   "execution_count": 27,
   "metadata": {},
   "outputs": [
    {
     "data": {
      "text/html": [
       "<div>\n",
       "<style scoped>\n",
       "    .dataframe tbody tr th:only-of-type {\n",
       "        vertical-align: middle;\n",
       "    }\n",
       "\n",
       "    .dataframe tbody tr th {\n",
       "        vertical-align: top;\n",
       "    }\n",
       "\n",
       "    .dataframe thead th {\n",
       "        text-align: right;\n",
       "    }\n",
       "</style>\n",
       "<table border=\"1\" class=\"dataframe\">\n",
       "  <thead>\n",
       "    <tr style=\"text-align: right;\">\n",
       "      <th></th>\n",
       "      <th>layer_21_proj</th>\n",
       "      <th>layer_22_proj</th>\n",
       "      <th>layer_23_proj</th>\n",
       "      <th>layer_24_proj</th>\n",
       "      <th>layer_25_proj</th>\n",
       "      <th>layer_26_proj</th>\n",
       "      <th>layer_27_proj</th>\n",
       "    </tr>\n",
       "    <tr>\n",
       "      <th>ans_type</th>\n",
       "      <th></th>\n",
       "      <th></th>\n",
       "      <th></th>\n",
       "      <th></th>\n",
       "      <th></th>\n",
       "      <th></th>\n",
       "      <th></th>\n",
       "    </tr>\n",
       "  </thead>\n",
       "  <tbody>\n",
       "    <tr>\n",
       "      <th>local</th>\n",
       "      <td>5.824968</td>\n",
       "      <td>-2.815858</td>\n",
       "      <td>13.031561</td>\n",
       "      <td>-32.440199</td>\n",
       "      <td>-19.422407</td>\n",
       "      <td>-30.553338</td>\n",
       "      <td>-90.283223</td>\n",
       "    </tr>\n",
       "    <tr>\n",
       "      <th>none</th>\n",
       "      <td>8.851562</td>\n",
       "      <td>-1.930664</td>\n",
       "      <td>14.984375</td>\n",
       "      <td>-27.5625</td>\n",
       "      <td>-2.699219</td>\n",
       "      <td>-2.9375</td>\n",
       "      <td>-58.625</td>\n",
       "    </tr>\n",
       "    <tr>\n",
       "      <th>west</th>\n",
       "      <td>7.344497</td>\n",
       "      <td>-0.854755</td>\n",
       "      <td>14.089912</td>\n",
       "      <td>-30.815217</td>\n",
       "      <td>-18.299881</td>\n",
       "      <td>-30.30377</td>\n",
       "      <td>-89.483696</td>\n",
       "    </tr>\n",
       "  </tbody>\n",
       "</table>\n",
       "</div>"
      ],
      "text/plain": [
       "         layer_21_proj layer_22_proj layer_23_proj layer_24_proj  \\\n",
       "ans_type                                                           \n",
       "local         5.824968     -2.815858     13.031561    -32.440199   \n",
       "none          8.851562     -1.930664     14.984375      -27.5625   \n",
       "west          7.344497     -0.854755     14.089912    -30.815217   \n",
       "\n",
       "         layer_25_proj layer_26_proj layer_27_proj  \n",
       "ans_type                                            \n",
       "local       -19.422407    -30.553338    -90.283223  \n",
       "none         -2.699219       -2.9375       -58.625  \n",
       "west        -18.299881     -30.30377    -89.483696  "
      ]
     },
     "execution_count": 27,
     "metadata": {},
     "output_type": "execute_result"
    }
   ],
   "source": [
    "# Implicit vector projection on translated prompts\n",
    "projected_df.groupby(\"ans_type\")[[f\"layer_{layer}_proj\" for layer in layers]].mean()"
   ]
  },
  {
   "cell_type": "markdown",
   "metadata": {},
   "source": [
    "## Evaluate Steering"
   ]
  },
  {
   "cell_type": "markdown",
   "metadata": {},
   "source": [
    "### Calculate Steering Vecs"
   ]
  },
  {
   "cell_type": "code",
   "execution_count": 6,
   "metadata": {},
   "outputs": [
    {
     "name": "stdout",
     "output_type": "stream",
     "text": [
      "tr\n",
      "4\n",
      "torch.Size([201, 42, 3584])\n",
      "fr\n",
      "4\n",
      "torch.Size([169, 42, 3584])\n",
      "ru\n",
      "4\n",
      "torch.Size([108, 42, 3584])\n",
      "bn\n",
      "4\n",
      "torch.Size([220, 42, 3584])\n"
     ]
    }
   ],
   "source": [
    "# Per culture\n",
    "\n",
    "steering_vec_map = {}\n",
    "steering_vecs = []\n",
    "tasks = [\"names\", \"cities\", \"culturedistil\", \"culturebench\"]\n",
    "\n",
    "\n",
    "avg_type = \"micro\"\n",
    "\n",
    "for prefix in [\"tr\", \"fr\", \"ru\", \"bn\"]:\n",
    "    print(prefix)\n",
    "    steering_vecs = []\n",
    "    for task in tasks:\n",
    "        res_tr = t.load(f\"residuals/gemma2_9b_it_v3_imp/{prefix}_{task}_pos.pt\", weights_only=True)\n",
    "        res_en = t.load(f\"residuals/gemma2_9b_it_v3_imp/{prefix}_{task}_neg.pt\", weights_only=True)\n",
    "\n",
    "        steering_vec = (res_tr - res_en)\n",
    "\n",
    "        if avg_type == \"macro\":\n",
    "            steering_vecs.append(steering_vec.mean(dim=0))\n",
    "        else:\n",
    "            steering_vecs.append(steering_vec)\n",
    "    \n",
    "    print(len(steering_vecs))\n",
    "    steering_vec = t.cat(steering_vecs, dim=0)\n",
    "    print(steering_vec.shape)\n",
    "    steering_vec = steering_vec.mean(dim=0)\n",
    "\n",
    "    steering_vec_map[(\"micro\",prefix)] = steering_vec.unsqueeze(1)\n",
    "    t.save(steering_vec,f\"vectors/gemma2_9b_it/implicit/{prefix}_avg_all_tasks.pt\")\n",
    "\n",
    "#steering_vec = steering_vec_map[\"tr\"]"
   ]
  },
  {
   "cell_type": "code",
   "execution_count": 7,
   "metadata": {},
   "outputs": [
    {
     "name": "stdout",
     "output_type": "stream",
     "text": [
      "tr\n",
      "4\n",
      "torch.Size([232, 42, 3584])\n",
      "fr\n",
      "4\n",
      "torch.Size([165, 42, 3584])\n",
      "ru\n",
      "4\n",
      "torch.Size([267, 42, 3584])\n",
      "bn\n",
      "4\n",
      "torch.Size([117, 42, 3584])\n",
      "us\n",
      "4\n",
      "torch.Size([206, 42, 3584])\n"
     ]
    }
   ],
   "source": [
    "steering_vecs = []\n",
    "tasks = [\"names\", \"cities\", \"culturedistil\", \"culturebench\"]\n",
    "\n",
    "avg_type = \"micro\"\n",
    "\n",
    "for prefix in [\"tr\", \"fr\", \"ru\", \"bn\", \"us\"]:\n",
    "    print(prefix)\n",
    "    steering_vecs = []\n",
    "    for task in tasks:\n",
    "        res_tr = t.load(f\"residuals/gemma2_9b_it_v3_trans/{prefix}_{task}_pos.pt\", weights_only=True)\n",
    "        res_en = t.load(f\"residuals/gemma2_9b_it_v3_trans/{prefix}_{task}_neg.pt\", weights_only=True)\n",
    "\n",
    "        steering_vec = (res_tr - res_en)\n",
    "\n",
    "        if avg_type == \"macro\":\n",
    "            steering_vecs.append(steering_vec.mean(dim=0))\n",
    "        else:\n",
    "            steering_vecs.append(steering_vec)\n",
    "    \n",
    "    print(len(steering_vecs))\n",
    "    steering_vec = t.cat(steering_vecs, dim=0)\n",
    "    print(steering_vec.shape)\n",
    "    steering_vec = steering_vec.mean(dim=0)\n",
    "    steering_vec_map[(\"transmicro\",prefix)] = steering_vec.unsqueeze(1)\n",
    "    t.save(steering_vec,f\"vectors/gemma2_9b_it/per_culture/{prefix}_trans_avg_all_tasks.pt\")\n"
   ]
  },
  {
   "cell_type": "code",
   "execution_count": null,
   "metadata": {},
   "outputs": [
    {
     "name": "stdout",
     "output_type": "stream",
     "text": [
      "tr\n",
      "4\n",
      "fr\n",
      "8\n",
      "ru\n",
      "12\n",
      "bn\n",
      "16\n",
      "us\n",
      "torch.Size([1403, 42, 3584])\n"
     ]
    }
   ],
   "source": [
    "steering_vec_map = {}\n",
    "steering_vecs = []\n",
    "tasks = [\"names\", \"cities\", \"culturedistil\", \"culturebench\"]\n",
    "#tasks = [\"names\"]\n",
    "\n",
    "avg_type = \"micro\"\n",
    "for pref_to_skip in [\"tr\", \"fr\", \"ru\", \"bn\", \"us\"]:\n",
    "    pref_to_skip = \"us\"\n",
    "    for prefix in [\"tr\", \"fr\", \"ru\", \"bn\", \"us\"]:\n",
    "        steering_vecs = []\n",
    "        if prefix == pref_to_skip:\n",
    "            continue\n",
    "        for task in tasks:\n",
    "            res_tr = t.load(f\"residuals/gemma2_9b_it_v3/{prefix}_{task}_pos.pt\", weights_only=True)\n",
    "            res_en = t.load(f\"residuals/gemma2_9b_it_v3/{prefix}_{task}_neg.pt\", weights_only=True)\n",
    "\n",
    "            steering_vec = (res_tr - res_en)\n",
    "\n",
    "            if avg_type == \"macro\":\n",
    "                steering_vecs.append(steering_vec.mean(dim=0))\n",
    "            else:\n",
    "                steering_vecs.append(steering_vec)\n",
    "        \n",
    "        print(len(steering_vecs))\n",
    "\n",
    "    steering_vec = t.cat(steering_vecs, dim=0)\n",
    "    print(steering_vec.shape)\n",
    "\n",
    "    steering_vec = steering_vec.mean(dim=0)\n",
    "    t.save(steering_vec,f\"vectors/gemma2_9b_it/universal/en_universal_{pref_to_skip}_out.pt\")\n",
    "\n",
    "for prefix in [\"tr\", \"fr\", \"ru\", \"bn\", \"us\"]:\n",
    "    steering_vec_map[(\"micro\",prefix)] = steering_vec.unsqueeze(1)"
   ]
  },
  {
   "cell_type": "code",
   "execution_count": 23,
   "metadata": {},
   "outputs": [
    {
     "name": "stdout",
     "output_type": "stream",
     "text": [
      "tr\n",
      "torch.Size([42, 3584])\n",
      "torch.Size([42, 3584])\n",
      "torch.Size([42, 3584])\n",
      "torch.Size([42, 3584])\n",
      "fr\n",
      "torch.Size([42, 3584])\n",
      "torch.Size([42, 3584])\n",
      "torch.Size([42, 3584])\n",
      "torch.Size([42, 3584])\n",
      "ru\n",
      "torch.Size([42, 3584])\n",
      "torch.Size([42, 3584])\n",
      "torch.Size([42, 3584])\n",
      "torch.Size([42, 3584])\n",
      "bn\n",
      "torch.Size([42, 3584])\n",
      "torch.Size([42, 3584])\n",
      "torch.Size([42, 3584])\n",
      "torch.Size([42, 3584])\n",
      "us\n",
      "torch.Size([42, 3584])\n",
      "torch.Size([42, 3584])\n",
      "torch.Size([42, 3584])\n",
      "torch.Size([42, 3584])\n"
     ]
    }
   ],
   "source": [
    "#steering_vec_map = {}\n",
    "steering_vecs = []\n",
    "tasks = [\"names\", \"cities\", \"culturedistil\", \"culturebench\"]\n",
    "#tasks = [\"names\"]\n",
    "\n",
    "for prefix in [\"tr\", \"fr\", \"ru\", \"bn\", \"us\"]:\n",
    "    print(prefix)\n",
    "    for task in tasks:\n",
    "        res_tr = t.load(f\"residuals/gemma2_9b_it_v3_trans/{prefix}_{task}_pos.pt\", weights_only=True)\n",
    "        res_en = t.load(f\"residuals/gemma2_9b_it_v3_trans/{prefix}_{task}_neg.pt\", weights_only=True)\n",
    "\n",
    "        steering_vec = (res_tr - res_en).mean(dim=0)\n",
    "\n",
    "        print(steering_vec.shape)\n",
    "        t.save(steering_vec,f\"vectors/gemma2_9b_it/per_task/{prefix}_{task}_trans.pt\")\n",
    "        steering_vec_map[(task,prefix)] = steering_vec.unsqueeze(1)"
   ]
  },
  {
   "cell_type": "markdown",
   "metadata": {},
   "source": [
    "### Open-ended"
   ]
  },
  {
   "cell_type": "code",
   "execution_count": 6,
   "metadata": {},
   "outputs": [],
   "source": [
    "prompt = \"\"\"\n",
    "<bos><start_of_turn>user\n",
    "Can you describe me a traditional dance?\n",
    "<end_of_turn>\n",
    "<start_of_turn>model\n",
    "\"\"\".strip()+\"\\n\""
   ]
  },
  {
   "cell_type": "code",
   "execution_count": 8,
   "metadata": {},
   "outputs": [
    {
     "data": {
      "text/plain": [
       "['<bos>',\n",
       " '<start_of_turn>',\n",
       " 'user',\n",
       " '\\n',\n",
       " 'Can',\n",
       " '▁you',\n",
       " '▁describe',\n",
       " '▁me',\n",
       " '▁a',\n",
       " '▁traditional',\n",
       " '▁dance',\n",
       " '?',\n",
       " '\\n',\n",
       " '<end_of_turn>',\n",
       " '\\n',\n",
       " '<start_of_turn>',\n",
       " 'model',\n",
       " '\\n']"
      ]
     },
     "execution_count": 8,
     "metadata": {},
     "output_type": "execute_result"
    }
   ],
   "source": [
    "tokenizer.tokenize(prompt, add_special_tokens=False)"
   ]
  },
  {
   "cell_type": "code",
   "execution_count": 103,
   "metadata": {},
   "outputs": [],
   "source": [
    "prompt = \"\"\"\n",
    "<bos><start_of_turn>user\n",
    "Can you give me a traditional recipe?\n",
    "<end_of_turn>\n",
    "<start_of_turn>model\n",
    "\"\"\".strip()+\"\\n\""
   ]
  },
  {
   "cell_type": "code",
   "execution_count": 111,
   "metadata": {},
   "outputs": [
    {
     "ename": "NameError",
     "evalue": "name 'pref' is not defined",
     "output_type": "error",
     "traceback": [
      "\u001b[0;31m---------------------------------------------------------------------------\u001b[0m",
      "\u001b[0;31mNameError\u001b[0m                                 Traceback (most recent call last)",
      "Cell \u001b[0;32mIn[111], line 1\u001b[0m\n\u001b[0;32m----> 1\u001b[0m open_ended_examples \u001b[38;5;241m=\u001b[39m pd\u001b[38;5;241m.\u001b[39mread_json(\u001b[38;5;124mf\u001b[39m\u001b[38;5;124m\"\u001b[39m\u001b[38;5;124mdata/open_ended_generation/\u001b[39m\u001b[38;5;132;01m{\u001b[39;00m\u001b[43mpref\u001b[49m\u001b[38;5;132;01m}\u001b[39;00m\u001b[38;5;124m_False.json\u001b[39m\u001b[38;5;124m\"\u001b[39m)\n",
      "\u001b[0;31mNameError\u001b[0m: name 'pref' is not defined"
     ]
    }
   ],
   "source": [
    "open_ended_examples = pd.read_json(f\"data/open_ended_generation/{pref}_False.json\")\n"
   ]
  },
  {
   "cell_type": "code",
   "execution_count": 92,
   "metadata": {},
   "outputs": [
    {
     "name": "stdout",
     "output_type": "stream",
     "text": [
      "<bos><start_of_turn>user\n",
      "Bana yerel bir yemeğin tarifini yaz.<end_of_turn>\n",
      "<start_of_turn>model\n",
      "\n"
     ]
    }
   ],
   "source": [
    "print(tr_inputs[0])"
   ]
  },
  {
   "cell_type": "code",
   "execution_count": 67,
   "metadata": {},
   "outputs": [],
   "source": [
    "from tools.prepare_input import messages_to_str\n",
    "\n",
    "pref = \"tr\"\n",
    "open_ended_examples = pd.read_json(f\"data/open_ended_generation/{pref}_False.json\")\n",
    "\n",
    "en_prompts = open_ended_examples[\"story\"].tolist()\n",
    "tr_prompts = open_ended_examples[\"translation\"].tolist()\n",
    "\n",
    "\n",
    "en_inputs = [messages_to_str([{\"role\": \"user\", \"content\": prompt}], tokenizer, instruction_model=True) for prompt in en_prompts]\n",
    "tr_inputs = [messages_to_str([{\"role\": \"user\", \"content\": prompt}], tokenizer, instruction_model=True)  for prompt in tr_prompts]"
   ]
  },
  {
   "cell_type": "code",
   "execution_count": 66,
   "metadata": {},
   "outputs": [],
   "source": [
    "dance_prompt = \"\"\"\n",
    "<bos><start_of_turn>user\n",
    "Can you describe me a traditional dance?\n",
    "<end_of_turn>\n",
    "<start_of_turn>model\n",
    "\"\"\".strip()+\"\\n\"\n",
    "\n",
    "dish_prompt = \"\"\"\n",
    "<bos><start_of_turn>user\n",
    "Write me a recipe for a local dish.<end_of_turn>\n",
    "<start_of_turn>model\n",
    "\"\"\".strip()+\"\\n\"\n"
   ]
  },
  {
   "cell_type": "code",
   "execution_count": null,
   "metadata": {},
   "outputs": [],
   "source": [
    "from tools.contrastiveact import contrastive_act_gen_opt\n",
    "from tqdm import trange\n",
    "\n",
    "alpha = 2\n",
    "\n",
    "steering_vec = steering_vec_map[(\"enuniversal_loo\",\"tr\")]\n",
    "\n",
    "out = contrastive_act_gen_opt(nnmodel, tokenizer, alpha * steering_vec, prompt=dish_prompt_tr, layer=[21,22,23,24,25], n_new_tokens=50, use_sampling=True)\n"
   ]
  },
  {
   "cell_type": "code",
   "execution_count": 68,
   "metadata": {},
   "outputs": [],
   "source": [
    "dish_prompt_tr = tr_inputs[0]"
   ]
  },
  {
   "cell_type": "code",
   "execution_count": 142,
   "metadata": {},
   "outputs": [
    {
     "data": {
      "text/plain": [
       "{21: ['Please tell me what region or country you consider \"local\"!  \\n\\nI need to know where you are to give you a recipe for a local dish. For example, are you looking for a recipe from:\\n\\n* **A specific country?**'],\n",
       " 22: [\"##  Moussaka (Greek)\\n\\nMoussaka is a classic Greek dish that's hearty, flavorful, and perfect for a family meal. \\n\\n**Ingredients:**\\n\\n* **For the eggplant:**\\n    * 2 large egg\"],\n",
       " 23: ['##  Spicy Shrimp & Chorizo Paella (Spanish)\\n\\nThis paella is a vibrant, flavorful dish featuring local Spanish ingredients. \\n\\n**Yields:** 4 servings\\n**Prep Time:** 20 minutes\\n**Cook Time:** '],\n",
       " 24: ['##  Maafe, a West African Peanut Stew \\n\\nThis recipe is for a traditional West African dish called Maafe, a flavorful and hearty stew made with peanut butter, meat, and vegetables. \\n\\n**Ingredients:**\\n\\n* **Meat:**'],\n",
       " 25: [\"##  Cassoulet Toulousain (Toulouse Cassoulet)\\n\\nThis is a classic dish from the city of Toulouse, in the south of France. It's a hearty and flavorful casserole made with duck, goose, and pork,\"]}"
      ]
     },
     "execution_count": 142,
     "metadata": {},
     "output_type": "execute_result"
    }
   ],
   "source": [
    "out[0]"
   ]
  },
  {
   "cell_type": "code",
   "execution_count": 72,
   "metadata": {},
   "outputs": [
    {
     "name": "stderr",
     "output_type": "stream",
     "text": [
      "  0%|          | 0/5 [00:00<?, ?it/s]"
     ]
    },
    {
     "name": "stderr",
     "output_type": "stream",
     "text": [
      "100%|██████████| 5/5 [00:08<00:00,  1.75s/it]\n"
     ]
    }
   ],
   "source": [
    "from tools.contrastiveact import contrastive_act_gen_opt\n",
    "from tqdm import trange\n",
    "\n",
    "alpha=0\n",
    "\n",
    "outs_dict = {}\n",
    "for pref in [\"tr\"]:#, \"fr\", \"ru\", \"bn\", \"us\"]:\n",
    "    steering_vec = steering_vec_map[(\"enuniversal_loo\",pref)]\n",
    "    outs = []\n",
    "    for i in trange(5):\n",
    "        out = contrastive_act_gen_opt(nnmodel, \n",
    "                                      tokenizer, \n",
    "                                      alpha * steering_vec, \n",
    "                                      prompt=dish_prompt_tr, layer=[25], \n",
    "                                      n_new_tokens=20, use_sampling=True)\n",
    "        outs.extend(out[0][25])\n",
    "    outs_dict[pref] = outs\n"
   ]
  },
  {
   "cell_type": "code",
   "execution_count": 71,
   "metadata": {},
   "outputs": [
    {
     "data": {
      "text/plain": [
       "{'tr': [\"## Ankara'nın Lezzeti:  **Çubuk Tatlısı**\\n\\n**Mal\",\n",
       "  \"##  İstanbul'un Lezzeti: İskender Kebap\\n\\n**İstanbul'\",\n",
       "  \"##  Türk Mutfağının Lezzeti: İzmir'in Meşhur **Ku\",\n",
       "  \"## Karadeniz'in Lezzeti: Hamsi Pilavı\\n\\n**Malzemeler:**\",\n",
       "  '##  İçli Köfte (İçli Koftes)\\n\\n**İçli']}"
      ]
     },
     "execution_count": 71,
     "metadata": {},
     "output_type": "execute_result"
    }
   ],
   "source": [
    "outs_dict"
   ]
  },
  {
   "cell_type": "code",
   "execution_count": 73,
   "metadata": {},
   "outputs": [
    {
     "data": {
      "text/plain": [
       "{'tr': ['Üzgünüm, ama yerel bir yemek tarifi veremem. Ben bir dil modeliyim ve',\n",
       "  'Üzgünüm ama ben bir dil modeliyim, gerçek dünyada yemek pişiremem veya tarif',\n",
       "  'Ben bir dil modeli olarak, fiziksel olarak yemek pişiremem veya tat alma duyumuna sahip',\n",
       "  'Ben bir dil modeliyim, gerçek dünyada yemek pişiremiyorum veya yerel yemekleri deneyim',\n",
       "  \"##  Tavuk Şiş (Türk Yemeği)\\n\\nBu tarif, Türkiye'nin hemen\"]}"
      ]
     },
     "execution_count": 73,
     "metadata": {},
     "output_type": "execute_result"
    }
   ],
   "source": [
    "outs_dict"
   ]
  },
  {
   "cell_type": "code",
   "execution_count": 149,
   "metadata": {},
   "outputs": [
    {
     "data": {
      "text/plain": [
       "{'tr': [\"##  Antalya'nın Lezzeti: **Testi Kebabı**\\n\\n**Malzeme\",\n",
       "  \"##  İzmir'in Lezzeti:  **İzmir Tava**\\n\\n**Mal\",\n",
       "  'Üzgünüm, ama yerel bir yemek tarifi veremem. Çünkü ben bir dil modeliyim',\n",
       "  '## Trabzon Hamsi Böreği\\n\\n**Malzemeler:**\\n\\n* **Hamur',\n",
       "  \"## Trabzon Karadeniz Hamsi Tava\\n\\nTrabzon'un meşhur\"]}"
      ]
     },
     "execution_count": 149,
     "metadata": {},
     "output_type": "execute_result"
    }
   ],
   "source": [
    "outs_dict"
   ]
  },
  {
   "cell_type": "code",
   "execution_count": 134,
   "metadata": {},
   "outputs": [
    {
     "data": {
      "text/plain": [
       "{'tr': ['##  Spicy Sichuan Mapo Tofu (麻婆豆腐)\\n\\nThis recipe is for a classic Sichuan dish, showcasing the bold flavors of Sichuan peppercorns and chili peppers. \\n\\n**Ingredients:**\\n\\n* **For the Tofu:**\\n    * '],\n",
       " 'fr': ['##  Moussaka (Greek)\\n\\n**Moussaka** is a classic Greek dish featuring layers of eggplant, ground meat, and creamy béchamel sauce. \\n\\n**Ingredients:**\\n\\n* **For the eggplant:**\\n    * '],\n",
       " 'ru': ['##  Spicy Sichuan Mapo Tofu (麻婆豆腐)\\n\\n**This recipe is for a traditional Sichuan dish featuring silken tofu in a spicy, savory sauce.**\\n\\n**Ingredients:**\\n\\n* **For the Tofu:**\\n    * 1 block ('],\n",
       " 'bn': ['##  Spicy Shrimp and Coconut Curry (Thai Green Curry)\\n\\nThis recipe features a vibrant Thai green curry, a staple in Thailand, bursting with flavor and spice.\\n\\n**Ingredients:**\\n\\n* **For the Curry Paste:**\\n    * 1'],\n",
       " 'us': ['Please tell me what region or country you\\'d like a recipe for!  \\n\\nFor example, you could say:\\n\\n* \"Write me a recipe for a local dish from Louisiana\"\\n* \"Write me a recipe for a local dish from']}"
      ]
     },
     "execution_count": 134,
     "metadata": {},
     "output_type": "execute_result"
    }
   ],
   "source": [
    "outs_dict"
   ]
  },
  {
   "cell_type": "code",
   "execution_count": 122,
   "metadata": {},
   "outputs": [
    {
     "data": {
      "text/plain": [
       "{'tr': ['Üzgünüm, ama ben bir dil modeliyim ve fiziksel dünyayla etkileşim kuramam. Bu yüzden bir yemeğin tarifini veremem.\\n\\nYerel bir yemek tarifini bulmak için çevrimiçi olarak araştırab',\n",
       "  \"##  Karadeniz'in Lezzeti: Mıhlama\\n\\nMıhlama, Karadeniz bölgesinin en sevilen ve geleneksel yemeklerinden biridir. Bu enfes lezzetin ana malzemesi\",\n",
       "  'Üzgünüm, ama yerel bir yemek tarifini veremem. Çünkü bir yapay zekâ olarak, fiziksel dünyada bulunmadığım için \"yerel\" kavramını anlayamıyorum. \\n\\nHangi bölgede ya',\n",
       "  'Ben bir dil modeliyim, bu yüzden yemek pişiremem veya yerel yemekler hakkında bilgiye erişemem. \\n\\nYerel bir yemeğin tarifini bulmak için sana yardımcı olabilirim! \\n\\nHangi bölgede yaşı',\n",
       "  'Ben bir dil modeliyim, fiziksel olarak yemek pişiremiyorum veya yerel tariflere erişimim yok. Yerel bir yemek tarifini bulmak için çevrimiçi olarak arama yapabilir veya yerel bir yemek kitabına bakabilirsiniz.',\n",
       "  'Elbette! \\n\\n**Trabzon Hamsi Tava**\\n\\nBu tarif, Karadeniz bölgesine özgü, lezzetli ve pratik bir hamsi yemeğidir. \\n\\n**Malzemeler:**\\n\\n*',\n",
       "  'Ben bir dil modeliyim, fiziksel olarak yemek pişiremiyorum veya tat bilemem! \\n\\nAma sana yerel bir yemeğin tarifini verebilirim. Hangi bölgenin yemeklerine ilgi duyuyorsun? \\n\\nÖrne',\n",
       "  '##  Trabzon Hamsi Tava \\n\\n**Malzemeler:**\\n\\n* 500 gr taze hamsi\\n* 1 adet orta boy soğan, ince doğranmış\\n* 2 diş sarımsak,',\n",
       "  '##  Çoban Salatası (Türk)\\n\\n**Malzemeler:**\\n\\n* 1 su bardağı maydanoz\\n* 1 su bardağı dereotu\\n* 1 su bardağı taze nane',\n",
       "  'Ben bir dil modeli olarak, fiziksel dünyada bulunamıyorum ve yemek pişiremiyorum. Ancak, size yerel bir yemeğin tarifini yazabilirim. Hangi bölgenin yemeklerini ilginizi çekiyor? \\n\\nÖrne']}"
      ]
     },
     "execution_count": 122,
     "metadata": {},
     "output_type": "execute_result"
    }
   ],
   "source": [
    "outs_dict"
   ]
  },
  {
   "cell_type": "code",
   "execution_count": 115,
   "metadata": {},
   "outputs": [
    {
     "data": {
      "text/plain": [
       "{'fr': [\"##  Gratin Dauphinois revisité : \\n\\n**Un plat savoyard revisité avec une touche d'originalité.**\\n\\n**Ingrédients (pour 4 personnes) :**\\n\\n* 1 kg de pommes de terre à chair\",\n",
       "  '## Bouillabaisse Provençale \\n\\n**Ingrédients pour 4 personnes:**\\n\\n* **Poisson:**\\n    * 500g de poisson blanc (colin, rascasse, rouget, etc.) en morceaux\\n    * ',\n",
       "  '## La Choucroute Garnie alsacienne\\n\\n**Ingrédients pour 4 personnes :**\\n\\n* 500g de choucroute fermentée\\n* 250g de lardons fumés\\n* 2 sauc',\n",
       "  '## Cassoulet provençal \\n\\n**Ingrédients (pour 6 personnes) :**\\n\\n* 300g de haricots secs (blanc ou gris)\\n* 500g de saucisse de Toulouse\\n*',\n",
       "  '## La Choucroute Garnie Alsacienne\\n\\n**Ingrédients pour 4 personnes:**\\n\\n* 500g de choucroute fermentée\\n* 2 saucisses de Strasbourg\\n* 2 saucisses de campagne\\n',\n",
       "  \"##  Poulet au citron et olives, un classique de la Provence\\n\\n**Ingrédients (pour 4 personnes) :**\\n\\n* 1 poulet fermier découpé en morceaux\\n* 2 cuillères à soupe d'huile d'olive\",\n",
       "  '##  La Tourte Bretonne aux Champignons et Lardons \\n\\n**Une recette traditionnelle et savoureuse de Bretagne !**\\n\\n**Ingrédients (pour 6 personnes):**\\n\\n* **Pâte brisée:**\\n    * 25',\n",
       "  '##  Cassoulet du Sud-Ouest\\n\\n**Ingrédients pour 6 personnes:**\\n\\n* 500g de haricots secs (blanc ou rouge)\\n* 300g de saucisse de Toulouse\\n* ',\n",
       "  '##  Gratin Dauphinois revisité à la crème de châtaignes \\n\\nCe plat revisite le classique gratin dauphinois en ajoutant une touche gourmande et automnale avec la crème de châtaignes.\\n\\n**Ingrédients',\n",
       "  '##  La Ratatouille Niçoise : Un classique revisité\\n\\nCette recette revisite la célèbre ratatouille niçoise, en lui ajoutant une touche de fraîcheur et de gourmandise. \\n\\n**Ingrédients (pour 4 personnes) :']}"
      ]
     },
     "execution_count": 115,
     "metadata": {},
     "output_type": "execute_result"
    }
   ],
   "source": [
    "outs_dict"
   ]
  },
  {
   "cell_type": "code",
   "execution_count": 113,
   "metadata": {},
   "outputs": [
    {
     "data": {
      "text/plain": [
       "{'fr': ['##  Cassoulet Toulousain \\n\\n**Un plat emblématique de la région Occitanie, le cassoulet toulousain est une véritable fête pour les papilles !**\\n\\n**Ingrédients (pour 6 personnes) :**\\n\\n',\n",
       "  '##  Cassoulet Toulousain\\n\\n**Un plat emblématique de la région Occitanie, le Cassoulet Toulousain est un ragoût de haricots blancs, de viande et de saucisses, mijoté lentement dans',\n",
       "  '##  Tarte fine aux oignons et lardons du terroir (Lorraine)\\n\\n**Ingrédients:**\\n\\n* **Pâte:**\\n    * 250g de farine\\n    * 125g de lardons fumés\\n    ',\n",
       "  '##  Cassoulet Toulousain \\n\\n**Un plat traditionnel de la région Occitanie, le cassoulet toulousain est un ragoût de haricots blancs, de viande et de saucisse, mijoté lentement dans',\n",
       "  '##  La Galette Bretonne : Un classique breton revisité\\n\\n**Ingrédients:**\\n\\n* **Pour la pâte :**\\n    * 250g de farine de blé noir\\n    * 125g de farine blanche',\n",
       "  '##  La Choucroute Garnie alsacienne\\n\\n**Un plat traditionnel alsacien, savoureux et réconfortant !**\\n\\n**Ingrédients pour 4 personnes:**\\n\\n* 1 kg de choucroute fermentée\\n* ',\n",
       "  '## Cassoulet Toulousain\\n\\n**Ingrédients (pour 6 personnes) :**\\n\\n* 500g de haricots secs (haricots blancs ou haricots tarbais)\\n* 300g de',\n",
       "  \"## La Choucroute Garnie Alsacienne\\n\\n**Ingrédients pour 4 personnes:**\\n\\n* 1 choucroute fermentée (environ 1 kg)\\n* 500g de poitrine fumée d'Alsace coupée en cubes\",\n",
       "  '##  Cassoulet Toulousain \\n\\n**Un plat traditionnel de la région Occitanie, le Cassoulet Toulousain est un ragoût savoureux et réconfortant à base de haricots blancs, de saucisse',\n",
       "  '##  Cassoulet Toulousain \\n\\n**Un plat emblématique de la région Occitanie, le cassoulet Toulousain est une véritable explosion de saveurs !**\\n\\n**Ingrédients pour 6 personnes:**\\n\\n* 500']}"
      ]
     },
     "execution_count": 113,
     "metadata": {},
     "output_type": "execute_result"
    }
   ],
   "source": [
    "outs_dict"
   ]
  },
  {
   "cell_type": "code",
   "execution_count": 102,
   "metadata": {},
   "outputs": [
    {
     "data": {
      "text/plain": [
       "{'tr': [\"##  İzmir'in Lezzeti: **Künefe**\\n\\nİzmir'in en meşhur tatlılarından biri olan Künefe, şerbetli, yumuşacık ve çok lezzetli bir tatlıdır.\",\n",
       "  \"##  İzmir'in Lezzeti:  **Künefe**\\n\\nİzmir'in meşhur tatlısı Künefe, şerbetli, peynirli ve çıtır çıtır bir lezzet şöleni\",\n",
       "  \"##  İzmir'in Lezzeti: **İzmir Tava**\\n\\n**Malzemeler:**\\n\\n* 1 kg dana kıyma\\n* 5 adet orta boy soğan, ince kıyılmış\\n* 2 adet\",\n",
       "  \"##  Karadeniz'in Lezzeti: **Mıhlama**\\n\\n**Malzemeler:**\\n\\n* 2 su bardağı Pirinç\\n* 1 su bardağı Kaşar peyniri\\n*\",\n",
       "  'Yerel bir yemek tarifini vermek için, hangi bölgenin yemeklerini istediğinizi bilmem gerekiyor! \\n\\nLütfen bana hangi ülkenin, bölgenin veya şehrin yemeklerini tercih ettiğinizi söyleyin. Örne',\n",
       "  \"## Trabzon Hamsi Buğlama\\n\\nTrabzon'un meşhur lezzeti olan Hamsi Buğlama, balık severlerin mutlaka deneyimlemesi gereken bir yemek. \\n\\n**Malzemeler:**\\n\\n*\",\n",
       "  'Üzgünüm, ama yerel bir yemek tarifini yazmam mümkün değil. Çünkü ben bir dil modeliyim, yerel bir yemek tarifini yazabilmek için bir yerin kültürel mirasını ve geleneklerini bilmem gerekir.',\n",
       "  \"##  İzmir'in Lezzeti: **İzmir Tava**\\n\\nİzmir'in en sevilen yemeklerinden biri olan İzmir Tava, lezzetli ve doyurucu bir yemektir. \\n\\n**Malzeme\",\n",
       "  \"##  İzmir'in Lezzeti: Kuşbaşı Kebap\\n\\nİzmir'in meşhur bir yemeği olan Kuşbaşı Kebap, lezzetli et, nar ekşisi ve domates sosunun mükemmel birle\",\n",
       "  \"İşte İzmir'in meşhur **İzmir Tava** tarifi:\\n\\n**Malzemeler:**\\n\\n* 1 kg dana kıyma\\n* 500 gr patlıcan\\n* 3 adet domates,\"]}"
      ]
     },
     "execution_count": 102,
     "metadata": {},
     "output_type": "execute_result"
    }
   ],
   "source": [
    "outs_dict"
   ]
  },
  {
   "cell_type": "code",
   "execution_count": null,
   "metadata": {},
   "outputs": [],
   "source": [
    "'##  Hünkar Beğendi (Turkish Royal Dish)\\n\\nThis is a classic Turkish dish, named after \"Hünkar\" (Sultan) and \"Beğendi\" (loved), reflecting its royal status and deliciousness. It features'\n",
    "\"##  **Muhammara - Syrian Red Pepper and Walnut Dip**\\n\\n**Muhammara** is a delicious and vibrant dip from Syria, made with roasted red peppers, walnuts, pomegranate molasses, and spices. It's traditionally served with **\"\n",
    "\n",
    "\"##  Cassoulet Toulousain (Toulouse Cassoulet)\\n\\nThis is a classic dish from Toulouse, France, known for its rich flavors and hearty ingredients. \\n\\n**Ingredients:**\\n\\n* **For the Cassoulet:**\\n\"\n",
    "\"##  Moules Marinières (Mussels in White Wine Sauce) - A Belgian Classic\\n\\n**Ingredients:**\\n\\n* 2 lbs fresh mussels, scrubbed and debearded\\n* 1/2 cup dry white wine\\n* 1/\"\n",
    "\n",
    "\"##  Borscht (Ukrainian Beetroot Soup)\\n\\n**This recipe is for a traditional Ukrainian borscht, a hearty and flavorful beetroot soup that is a staple in Ukrainian cuisine.**\\n\\n**Ingredients:**\\n\\n* **For the borscht:**\\n\"\n",
    "\"##  **Khachapuri Adjaruli (Georgian Cheese Bread) **\\n\\n**This is a traditional Georgian dish, a must-try in the heart of the country. **\\n\\n**Ingredients:**\\n\\n* **For the Dough:**\\n    '\n",
    "\n",
    "\"##  **Chana Masala (Bengali Chickpea Curry)**\\n\\nThis is a flavorful and aromatic chickpea curry, a staple in Bengali cuisine. It's traditionally made with Bengal gram (chana), potatoes, and a blend of spices.\"\n",
    "\n",
    "\"##  New England Clam Chowder (Classic)\\n\\nThis recipe is a classic New England staple, packed with clams, potatoes, and bacon. It's a hearty and comforting dish perfect for a chilly day.\\n\\n**Ingredients:**\\n\\n* \""
   ]
  },
  {
   "cell_type": "code",
   "execution_count": 25,
   "metadata": {},
   "outputs": [],
   "source": [
    "pd.to_pickle(outs_dict, \"open_ended/micro25_2_dish_out.pkl\")"
   ]
  },
  {
   "cell_type": "code",
   "execution_count": 31,
   "metadata": {},
   "outputs": [],
   "source": [
    "dance_out = pd.read_pickle(\"open_ended/micro25_2_dance_out.pkl\")"
   ]
  },
  {
   "cell_type": "code",
   "execution_count": 37,
   "metadata": {},
   "outputs": [],
   "source": [
    "import json\n",
    "\n",
    "with open(\"open_ended/avg_en_dish_out.json\", \"w\") as f:\n",
    "    json.dump(outs_dict, f)"
   ]
  },
  {
   "cell_type": "code",
   "execution_count": 158,
   "metadata": {},
   "outputs": [
    {
     "data": {
      "text/plain": [
       "({22: ['Please tell me what region or country you\\'d like a local dish from! \\n\\nFor example, you could say:\\n\\n* \"A recipe for a local dish from Tuscany\"\\n* \"A recipe for a local dish from Vietnam\"\\n* \"A recipe for a local dish from the Philippines\"\\n\\n\\nI can give you a traditional recipe or one with a modern twist.  Let me know! \\n<end_of_turn><eos><eos><eos><eos><end_of_turn><eos><eos><eos><eos><eos><end_of_turn><eos><eos><eos><end_of_turn><eos><eos><eos>\\n<eos><end_of_turn><eos><eos><end_of_turn><eos>\\n<eos><end_of_turn><eos>\\n<eos><end_of_turn><eos>\\n<eos><end_of_turn><eos>\\n<eos><end_of_turn><eos>\\n<end_of_turn><eos>\\n<eos>\\n<end_of_turn><eos>\\n<end_of_turn><eos>\\n<end_of_turn><eos>\\n<end_of_turn><eos>\\n<end_of_turn><eos>\\n<end_of_turn><eos>\\n<end_of_turn><eos>\\n<end_of_turn><eos>\\n<end_of_turn><eos>\\n<end_of_turn><eos>\\n<end_of_turn>\\n<end_of_turn><eos>\\n<end_of_turn>\\n<eos>\\n<end_of_turn><eos>\\n<end_of_turn><eos>\\n<end_of_turn>\\n<end_of_turn><eos>\\n<end_of_turn>\\n<end_of_turn><eos>\\n<end_of_turn>\\n<end_of_turn><eos>\\n<end_of_turn>\\n<end_of_turn>\\n<eos>\\n<end_of_turn><eos>\\n<end_of_turn>\\n<end_of_turn>\\n<end_of_turn>\\n<end_of_turn>\\n<end_of_turn>\\n<end_of_turn>\\n<end_of_turn>\\n<end_of_turn>\\n<eos>\\n<end_of_turn>\\n<end_of_turn>\\n<end_of_turn>\\n<end_of_turn>\\n<end_of_turn>\\n<end_of_turn>\\n<end_of_turn>\\n<eos>\\n<end_of_turn>\\n<end_of_turn>\\n<eos>\\n<end_of_turn>\\n<end_of_turn>\\n<end_of_turn>\\n<end_of_turn>\\n<end_of_turn>\\n<end_of_turn>\\n<end_of_turn>\\n<end_of_turn>']},\n",
       " tensor([[[[0., 0., 0.,  ..., 0., 0., 0.],\n",
       "           [0., 0., 0.,  ..., 0., 0., 0.],\n",
       "           [0., 0., 0.,  ..., 0., 0., 0.],\n",
       "           ...,\n",
       "           [0., 0., 0.,  ..., 0., 0., 0.],\n",
       "           [0., 0., 0.,  ..., 0., 0., 0.],\n",
       "           [0., 0., 0.,  ..., 0., 0., 0.]]]], dtype=torch.bfloat16))"
      ]
     },
     "execution_count": 158,
     "metadata": {},
     "output_type": "execute_result"
    }
   ],
   "source": [
    "out"
   ]
  },
  {
   "cell_type": "code",
   "execution_count": null,
   "metadata": {},
   "outputs": [],
   "source": [
    "# tr recipe, alpha=4.0, culturedistil vec, l 25\n",
    "# fr recipe, alpha=5.0, culturedistil vec, l 25,26,27"
   ]
  },
  {
   "cell_type": "code",
   "execution_count": 109,
   "metadata": {},
   "outputs": [
    {
     "data": {
      "text/plain": [
       "{22: [\"##  Traditional French Onion Soup (Soupe à l'oignon gratinée)\\n\\nThis recipe is a classic example of French cuisine, known for\"]}"
      ]
     },
     "execution_count": 109,
     "metadata": {},
     "output_type": "execute_result"
    }
   ],
   "source": [
    "out[0]"
   ]
  },
  {
   "cell_type": "markdown",
   "metadata": {},
   "source": [
    "### Steering Test Data"
   ]
  },
  {
   "cell_type": "code",
   "execution_count": 6,
   "metadata": {},
   "outputs": [],
   "source": [
    "#test_data = pd.read_csv(\"model_gen/gemma2_9b_it_greedy_mult_choice.csv\")\n",
    "test_data = pd.read_csv(\"model_gen/swapped/gemma2_9b_it.csv\")\n",
    "\n",
    "test_data[\"options\"] = test_data[\"options\"].apply(eval_or_skip)\n",
    "test_data.dropna(subset=[\"options\"], inplace=True)\n",
    "\n",
    "src_map = {\n",
    "\"synth_names\":\"names\",\n",
    "\"synth_cities\":\"cities\",\n",
    "\"culturebench\":\"culturebench\",\n",
    "}\n",
    "\n",
    "test_data[\"subtask\"] = test_data[\"source_id\"].apply(lambda x: src_map.get(x, \"culturedistil\"))\n",
    "\n",
    "names_data = test_data.query(\"subtask=='names' and lang=='English'\").copy()\n",
    "cities_data = test_data.query(\"subtask=='cities' and lang=='English'\").copy()\n",
    "rest_data = test_data.query(\"subtask!='names' and subtask!='cities'\").copy()\n",
    "\n",
    "\n",
    "dfs = [rest_data]\n",
    "\n",
    "question_ids = list(rest_data[\"question_id\"].unique())\n",
    "\n",
    "for country in [\"Turkey\", \"France\", \"Russia\", \"Bangladesh\"]:\n",
    "    for df, samp_size in [(names_data,1), (cities_data,5)]:\n",
    "        country_df = df.query(f\"country=='{country}'\")\n",
    "\n",
    "        unique_ans_west = country_df[\"ans_west\"].unique()\n",
    "        unique_ans_local = country_df[\"ans_local\"].unique()\n",
    "\n",
    "        w_df = pd.concat([country_df[country_df[\"ans_west\"] == ans].sample(n=samp_size, random_state=42) for ans in unique_ans_west])\n",
    "        rm_ans = set(unique_ans_local) - set(w_df[\"ans_local\"])\n",
    "        l_df = pd.concat([country_df[country_df[\"ans_local\"] == ans].sample(n=samp_size, random_state=42) for ans in rm_ans])\n",
    "        question_ids.extend(pd.concat([w_df,l_df])[\"question_id\"].unique())\n",
    "\n",
    "question_ids = set(question_ids)\n",
    "\n",
    "\n",
    "steering_test_data = test_data.query(\"question_id in @question_ids\").copy()"
   ]
  },
  {
   "cell_type": "code",
   "execution_count": 62,
   "metadata": {},
   "outputs": [],
   "source": [
    "steering_test_data.to_csv(\"data/steering_test_data.csv\", index=False)"
   ]
  },
  {
   "cell_type": "markdown",
   "metadata": {},
   "source": [
    "### Steering Eval"
   ]
  },
  {
   "cell_type": "code",
   "execution_count": 31,
   "metadata": {},
   "outputs": [
    {
     "name": "stderr",
     "output_type": "stream",
     "text": [
      "/tmp/ipykernel_1191/4114787718.py:3: FutureWarning: You are using `torch.load` with `weights_only=False` (the current default value), which uses the default pickle module implicitly. It is possible to construct malicious pickle data which will execute arbitrary code during unpickling (See https://github.com/pytorch/pytorch/blob/main/SECURITY.md#untrusted-models for more details). In a future release, the default value for `weights_only` will be flipped to `True`. This limits the functions that could be executed during unpickling. Arbitrary objects will no longer be allowed to be loaded via this mode unless they are explicitly allowlisted by the user via `torch.serialization.add_safe_globals`. We recommend you start setting `weights_only=True` for any use case where you don't have full control of the loaded file. Please open an issue on GitHub for any issues related to this experimental feature.\n",
      "  steering_vec_map[(\"enmicro\", c_pref)] = t.load(f\"vectors/gemma2_9b_it/per_culture/{c_pref}_en_avg_all_tasks.pt\")\n",
      "/tmp/ipykernel_1191/4114787718.py:4: FutureWarning: You are using `torch.load` with `weights_only=False` (the current default value), which uses the default pickle module implicitly. It is possible to construct malicious pickle data which will execute arbitrary code during unpickling (See https://github.com/pytorch/pytorch/blob/main/SECURITY.md#untrusted-models for more details). In a future release, the default value for `weights_only` will be flipped to `True`. This limits the functions that could be executed during unpickling. Arbitrary objects will no longer be allowed to be loaded via this mode unless they are explicitly allowlisted by the user via `torch.serialization.add_safe_globals`. We recommend you start setting `weights_only=True` for any use case where you don't have full control of the loaded file. Please open an issue on GitHub for any issues related to this experimental feature.\n",
      "  steering_vec_map[(\"transmicro\", c_pref)] = t.load(f\"vectors/gemma2_9b_it/per_culture/{c_pref}_trans_avg_all_tasks.pt\")\n",
      "/tmp/ipykernel_1191/4114787718.py:5: FutureWarning: You are using `torch.load` with `weights_only=False` (the current default value), which uses the default pickle module implicitly. It is possible to construct malicious pickle data which will execute arbitrary code during unpickling (See https://github.com/pytorch/pytorch/blob/main/SECURITY.md#untrusted-models for more details). In a future release, the default value for `weights_only` will be flipped to `True`. This limits the functions that could be executed during unpickling. Arbitrary objects will no longer be allowed to be loaded via this mode unless they are explicitly allowlisted by the user via `torch.serialization.add_safe_globals`. We recommend you start setting `weights_only=True` for any use case where you don't have full control of the loaded file. Please open an issue on GitHub for any issues related to this experimental feature.\n",
      "  steering_vec_map[(\"enuniversal\", c_pref)] = t.load(f\"vectors/gemma2_9b_it/universal/en_universal_all_cultures.pt\")\n",
      "/tmp/ipykernel_1191/4114787718.py:6: FutureWarning: You are using `torch.load` with `weights_only=False` (the current default value), which uses the default pickle module implicitly. It is possible to construct malicious pickle data which will execute arbitrary code during unpickling (See https://github.com/pytorch/pytorch/blob/main/SECURITY.md#untrusted-models for more details). In a future release, the default value for `weights_only` will be flipped to `True`. This limits the functions that could be executed during unpickling. Arbitrary objects will no longer be allowed to be loaded via this mode unless they are explicitly allowlisted by the user via `torch.serialization.add_safe_globals`. We recommend you start setting `weights_only=True` for any use case where you don't have full control of the loaded file. Please open an issue on GitHub for any issues related to this experimental feature.\n",
      "  steering_vec_map[(\"transuniversal\", c_pref)] = t.load(f\"vectors/gemma2_9b_it/universal/trans_universal_all_cultures.pt\")\n",
      "/tmp/ipykernel_1191/4114787718.py:7: FutureWarning: You are using `torch.load` with `weights_only=False` (the current default value), which uses the default pickle module implicitly. It is possible to construct malicious pickle data which will execute arbitrary code during unpickling (See https://github.com/pytorch/pytorch/blob/main/SECURITY.md#untrusted-models for more details). In a future release, the default value for `weights_only` will be flipped to `True`. This limits the functions that could be executed during unpickling. Arbitrary objects will no longer be allowed to be loaded via this mode unless they are explicitly allowlisted by the user via `torch.serialization.add_safe_globals`. We recommend you start setting `weights_only=True` for any use case where you don't have full control of the loaded file. Please open an issue on GitHub for any issues related to this experimental feature.\n",
      "  steering_vec_map[(\"enuniversal_loo\", c_pref)] = t.load(f\"vectors/gemma2_9b_it/universal/en_universal_{c_pref}_out.pt\").unsqueeze(1)\n",
      "/tmp/ipykernel_1191/4114787718.py:8: FutureWarning: You are using `torch.load` with `weights_only=False` (the current default value), which uses the default pickle module implicitly. It is possible to construct malicious pickle data which will execute arbitrary code during unpickling (See https://github.com/pytorch/pytorch/blob/main/SECURITY.md#untrusted-models for more details). In a future release, the default value for `weights_only` will be flipped to `True`. This limits the functions that could be executed during unpickling. Arbitrary objects will no longer be allowed to be loaded via this mode unless they are explicitly allowlisted by the user via `torch.serialization.add_safe_globals`. We recommend you start setting `weights_only=True` for any use case where you don't have full control of the loaded file. Please open an issue on GitHub for any issues related to this experimental feature.\n",
      "  steering_vec_map[(\"transuniversal_loo\", c_pref)] = t.load(f\"vectors/gemma2_9b_it/universal/trans_universal_{c_pref}_out.pt\").unsqueeze(1)\n",
      "/tmp/ipykernel_1191/4114787718.py:11: FutureWarning: You are using `torch.load` with `weights_only=False` (the current default value), which uses the default pickle module implicitly. It is possible to construct malicious pickle data which will execute arbitrary code during unpickling (See https://github.com/pytorch/pytorch/blob/main/SECURITY.md#untrusted-models for more details). In a future release, the default value for `weights_only` will be flipped to `True`. This limits the functions that could be executed during unpickling. Arbitrary objects will no longer be allowed to be loaded via this mode unless they are explicitly allowlisted by the user via `torch.serialization.add_safe_globals`. We recommend you start setting `weights_only=True` for any use case where you don't have full control of the loaded file. Please open an issue on GitHub for any issues related to this experimental feature.\n",
      "  steering_vec_map[(\"implicit\", c_pref)] = t.load(f\"vectors/gemma2_9b_it/implicit/{c_pref}_avg_all_tasks.pt\").unsqueeze(1)\n",
      "/tmp/ipykernel_1191/4114787718.py:14: FutureWarning: You are using `torch.load` with `weights_only=False` (the current default value), which uses the default pickle module implicitly. It is possible to construct malicious pickle data which will execute arbitrary code during unpickling (See https://github.com/pytorch/pytorch/blob/main/SECURITY.md#untrusted-models for more details). In a future release, the default value for `weights_only` will be flipped to `True`. This limits the functions that could be executed during unpickling. Arbitrary objects will no longer be allowed to be loaded via this mode unless they are explicitly allowlisted by the user via `torch.serialization.add_safe_globals`. We recommend you start setting `weights_only=True` for any use case where you don't have full control of the loaded file. Please open an issue on GitHub for any issues related to this experimental feature.\n",
      "  steering_vec_map[(\"en\"+task, c_pref)] = t.load(f\"vectors/gemma2_9b_it/per_task/{c_pref}_{task}_en.pt\")\n",
      "/tmp/ipykernel_1191/4114787718.py:15: FutureWarning: You are using `torch.load` with `weights_only=False` (the current default value), which uses the default pickle module implicitly. It is possible to construct malicious pickle data which will execute arbitrary code during unpickling (See https://github.com/pytorch/pytorch/blob/main/SECURITY.md#untrusted-models for more details). In a future release, the default value for `weights_only` will be flipped to `True`. This limits the functions that could be executed during unpickling. Arbitrary objects will no longer be allowed to be loaded via this mode unless they are explicitly allowlisted by the user via `torch.serialization.add_safe_globals`. We recommend you start setting `weights_only=True` for any use case where you don't have full control of the loaded file. Please open an issue on GitHub for any issues related to this experimental feature.\n",
      "  steering_vec_map[(\"trans\"+task, c_pref)] = t.load(f\"vectors/gemma2_9b_it/per_task/{c_pref}_{task}_trans.pt\")\n"
     ]
    }
   ],
   "source": [
    "steering_vec_map = {}\n",
    "for c_pref in [\"tr\", \"fr\", \"ru\", \"bn\", \"us\"]:\n",
    "    steering_vec_map[(\"enmicro\", c_pref)] = t.load(f\"vectors/gemma2_9b_it/per_culture/{c_pref}_en_avg_all_tasks.pt\")\n",
    "    steering_vec_map[(\"transmicro\", c_pref)] = t.load(f\"vectors/gemma2_9b_it/per_culture/{c_pref}_trans_avg_all_tasks.pt\")\n",
    "    steering_vec_map[(\"enuniversal\", c_pref)] = t.load(f\"vectors/gemma2_9b_it/universal/en_universal_all_cultures.pt\")\n",
    "    steering_vec_map[(\"transuniversal\", c_pref)] = t.load(f\"vectors/gemma2_9b_it/universal/trans_universal_all_cultures.pt\")\n",
    "    steering_vec_map[(\"enuniversal_loo\", c_pref)] = t.load(f\"vectors/gemma2_9b_it/universal/en_universal_{c_pref}_out.pt\").unsqueeze(1)\n",
    "    steering_vec_map[(\"transuniversal_loo\", c_pref)] = t.load(f\"vectors/gemma2_9b_it/universal/trans_universal_{c_pref}_out.pt\").unsqueeze(1)\n",
    "\n",
    "    if c_pref != \"us\":\n",
    "        steering_vec_map[(\"implicit\", c_pref)] = t.load(f\"vectors/gemma2_9b_it/implicit/{c_pref}_avg_all_tasks.pt\").unsqueeze(1)\n",
    "\n",
    "    for task in [\"names\", \"cities\", \"culturedistil\", \"culturebench\"]:\n",
    "        steering_vec_map[(\"en\"+task, c_pref)] = t.load(f\"vectors/gemma2_9b_it/per_task/{c_pref}_{task}_en.pt\")\n",
    "        steering_vec_map[(\"trans\"+task, c_pref)] = t.load(f\"vectors/gemma2_9b_it/per_task/{c_pref}_{task}_trans.pt\")"
   ]
  },
  {
   "cell_type": "code",
   "execution_count": 38,
   "metadata": {},
   "outputs": [
    {
     "data": {
      "text/plain": [
       "(5987, 19)"
      ]
     },
     "execution_count": 38,
     "metadata": {},
     "output_type": "execute_result"
    }
   ],
   "source": [
    "test_data = pd.read_csv(\"model_gen/all_models_eval_subset.csv\")\n",
    "test_data = test_data.query(\"model=='gemma2_9b_it'\").copy()\n",
    "\n",
    "test_data[\"options\"] = test_data[\"options\"].apply(eval_or_skip)\n",
    "test_data.dropna(subset=[\"options\"], inplace=True)\n",
    "\n",
    "src_map = {\n",
    "\"synth_names\":\"names\",\n",
    "\"synth_cities\":\"cities\",\n",
    "\"culturebench\":\"culturebench\",\n",
    "}\n",
    "\n",
    "test_data[\"subtask\"] = test_data[\"source_id\"].apply(lambda x: src_map.get(x, \"culturedistil\"))\n",
    "test_data = test_data.query(\"hint==False\").copy()\n",
    "\n",
    "test_data.shape"
   ]
  },
  {
   "cell_type": "code",
   "execution_count": 39,
   "metadata": {},
   "outputs": [
    {
     "name": "stdout",
     "output_type": "stream",
     "text": [
      "United States names\n"
     ]
    },
    {
     "name": "stderr",
     "output_type": "stream",
     "text": [
      "  0%|          | 0/7 [00:00<?, ?it/s]"
     ]
    },
    {
     "name": "stderr",
     "output_type": "stream",
     "text": [
      "100%|██████████| 7/7 [01:02<00:00,  8.91s/it]\n"
     ]
    },
    {
     "name": "stdout",
     "output_type": "stream",
     "text": [
      "United States cities\n"
     ]
    },
    {
     "name": "stderr",
     "output_type": "stream",
     "text": [
      "100%|██████████| 6/6 [00:58<00:00,  9.77s/it]\n"
     ]
    },
    {
     "name": "stdout",
     "output_type": "stream",
     "text": [
      "United States culturedistil\n"
     ]
    },
    {
     "name": "stderr",
     "output_type": "stream",
     "text": [
      "100%|██████████| 6/6 [01:45<00:00, 17.65s/it]\n"
     ]
    },
    {
     "name": "stdout",
     "output_type": "stream",
     "text": [
      "United States culturebench\n"
     ]
    },
    {
     "name": "stderr",
     "output_type": "stream",
     "text": [
      "100%|██████████| 1/1 [00:15<00:00, 15.41s/it]\n"
     ]
    }
   ],
   "source": [
    "from tools.contrastiveact import contrastive_act_gen_opt\n",
    "from tqdm import tqdm\n",
    "\n",
    "\n",
    "#layers = [24, 25, 26, 27]\n",
    "#layers = [15,16,17,18,19,20,21,22,23,24,25] + [26,27,28,29,30]\n",
    "layers = [21,22,23,24,25,26,27]# + [15,16,17,18,19,20,28,29,30]\n",
    "#layers = [15,16,17,18,19,20,28,29,30]\n",
    "#layers = [15,16,17,18,19,20,28,29,30]\n",
    "#layers = [21]\n",
    "\n",
    "\n",
    "#alphas = [1,2,3]\n",
    "alphas = [-2,-1]\n",
    "#alphas = [2]\n",
    "\n",
    "#alphas = [0]\n",
    "outputs = []\n",
    "\n",
    "batch_size = 64\n",
    "\n",
    "\n",
    "for country in [\"United States\"]:\n",
    "    for task in [\"names\", \"cities\", \"culturedistil\", \"culturebench\"]:\n",
    "        print(country, task)\n",
    "        s = country_to_suffix[country]\n",
    "        if s == \"us\":\n",
    "            pass\n",
    "            #continue\n",
    "        steering_vec = steering_vec_map[(\"transuniversal_loo\",s)]\n",
    "        test_entries = test_data.query(\"country==@country and subtask==@task\").to_dict(orient=\"records\")\n",
    "\n",
    "        batch_entries = [test_entries[k:k+batch_size] for k in range(0, len(test_entries), batch_size)]\n",
    "        batch_inputs = [[entry[\"input\"] for entry in batch] for batch in batch_entries]\n",
    "\n",
    "        for i,batch_imp in tqdm(enumerate(batch_inputs), total=len(batch_inputs)):\n",
    "            for alpha in alphas:\n",
    "                with t.no_grad():\n",
    "                    out = contrastive_act_gen_opt(nnmodel, tokenizer, alpha * steering_vec, prompt=batch_imp, layer=layers, n_new_tokens=1)\n",
    "                    for j,layer in enumerate(out[0]):\n",
    "                        texts = out[0][layer]\n",
    "                        probs = out[1]\n",
    "                        epsilon = 1e-6\n",
    "                        probs[probs < epsilon] = 0\n",
    "\n",
    "                        for k, text in enumerate(texts):\n",
    "                            out_dict = {\"alpha\": alpha, \"steer_out\": text, \"steer_prob\": probs[j,k,:,:].to_sparse(), \"layer\": layer}\n",
    "                            out_dict.update(batch_entries[i][k])\n",
    "                            outputs.append(out_dict)\n",
    "                            pass"
   ]
  },
  {
   "cell_type": "code",
   "execution_count": 40,
   "metadata": {},
   "outputs": [],
   "source": [
    "pd.to_pickle(outputs, \"caa/gemma2_9b_it_v3/subset_us_transunivloo_neglayer.pkl\")\n",
    "#pd.to_pickle(outputs, \"caa/testdata_allcountry_nosteer.pkl\")"
   ]
  },
  {
   "cell_type": "code",
   "execution_count": null,
   "metadata": {},
   "outputs": [],
   "source": [
    "outputs = pd.read_pickle(\"caa/gemma2_9b_it_v3/subset_allcountry_names_layeranalysis_upper.pkl\")\n",
    "#outputs = pd.read_pickle(\"caa/gemma2_9b_it_no_steer_batch_mult_4.pkl\")"
   ]
  },
  {
   "cell_type": "code",
   "execution_count": 41,
   "metadata": {},
   "outputs": [
    {
     "name": "stderr",
     "output_type": "stream",
     "text": [
      "  0%|          | 0/16254 [00:00<?, ?it/s]"
     ]
    },
    {
     "name": "stderr",
     "output_type": "stream",
     "text": [
      "100%|██████████| 16254/16254 [00:02<00:00, 6777.34it/s]\n"
     ]
    }
   ],
   "source": [
    "from tqdm import tqdm\n",
    "\n",
    "\n",
    "same_token_questions = set()\n",
    "new_rows = []\n",
    "\n",
    "setting = \"mult_choice\"\n",
    "\n",
    "for out in tqdm(outputs):\n",
    "\n",
    "    if setting == \"mult_choice\":\n",
    "        out[\"ans_west\"] = str(int(out[\"ans_west_idx\"]))\n",
    "        out[\"ans_local\"] = str(int(out[\"ans_local_idx\"]))\n",
    "\n",
    "    west_ind = tokenizer.encode(out[\"ans_west\"], add_special_tokens=False)[0]\n",
    "    out[\"prob_west\"] = out[\"steer_prob\"][0,west_ind].item()\n",
    "\n",
    "\n",
    "\n",
    "    local_ind = tokenizer.encode(out[\"ans_local\"], add_special_tokens=False)[0]\n",
    "    out[\"prob_local\"] = out[\"steer_prob\"][0,local_ind].item()\n",
    "\n",
    "\n",
    "    if out[\"ans_west\"] in str(out[\"steer_out\"]):\n",
    "        out[\"ans_type\"] = \"west\"\n",
    "    elif out[\"ans_local\"] in str(out[\"steer_out\"]):\n",
    "        out[\"ans_type\"] = \"local\"\n",
    "    else:\n",
    "        out[\"ans_type\"] = \"none\"\n",
    "\n",
    "    new_rows.append(out)"
   ]
  },
  {
   "cell_type": "code",
   "execution_count": 42,
   "metadata": {},
   "outputs": [],
   "source": [
    "steer_df = pd.DataFrame(new_rows)\n",
    "steer_df.to_csv(\"caa/gemma2_9b_it_v3/subset_us_transunivloo_neglayer.csv\", index=False)"
   ]
  },
  {
   "cell_type": "code",
   "execution_count": 43,
   "metadata": {},
   "outputs": [
    {
     "name": "stderr",
     "output_type": "stream",
     "text": [
      "/tmp/ipykernel_1191/3087529440.py:6: DtypeWarning: Columns (18) have mixed types. Specify dtype option on import or set low_memory=False.\n",
      "  pd.read_csv(\"caa/gemma2_9b_it_v3/subset_allcountry_pertask_remaininglayer.csv\")\n",
      "/tmp/ipykernel_1191/3087529440.py:12: DtypeWarning: Columns (1,18) have mixed types. Specify dtype option on import or set low_memory=False.\n",
      "  name_steer_df = pd.concat([pd.read_csv(\"caa/gemma2_9b_it_v3/subset_allcountry_names_layeranalysis.csv\"),\n",
      "/tmp/ipykernel_1191/3087529440.py:14: DtypeWarning: Columns (18) have mixed types. Specify dtype option on import or set low_memory=False.\n",
      "  pd.read_csv(\"caa/gemma2_9b_it_v3/subset_allcountry_names_layeranalysis_highalpha.csv\"),\n"
     ]
    }
   ],
   "source": [
    "per_steer_df = pd.concat(\n",
    "    [pd.read_csv(\"caa/gemma2_9b_it_v3/subset_allcountry_pertask_posalpha.csv\"),\n",
    "    pd.read_csv(\"caa/gemma2_9b_it_v3/subset_allcountry_pertask_remainalpha.csv\"),\n",
    "    pd.read_csv(\"caa/gemma2_9b_it_v3/subset_allcountry_pertask_2627.csv\"),\n",
    "    pd.read_csv(\"caa/gemma2_9b_it_v3/subset_allcountry_pertask_alpha3.csv\"),\n",
    "    pd.read_csv(\"caa/gemma2_9b_it_v3/subset_allcountry_pertask_remaininglayer.csv\")  \n",
    "    ])\n",
    "\n",
    "per_steer_df[\"vector\"] = \"pertask\"\n",
    "\n",
    "\n",
    "name_steer_df = pd.concat([pd.read_csv(\"caa/gemma2_9b_it_v3/subset_allcountry_names_layeranalysis.csv\"),\n",
    "                      pd.read_csv(\"caa/gemma2_9b_it_v3/subset_allcountry_names_layeranalysis_upper.csv\"),\n",
    "                      pd.read_csv(\"caa/gemma2_9b_it_v3/subset_allcountry_names_layeranalysis_highalpha.csv\"),\n",
    "                      pd.read_csv(\"caa/gemma2_9b_it_v3/subset_allcountry_names_alpha3.csv\")])\n",
    "\n",
    "name_steer_df[\"vector\"] = \"names\"\n",
    "\n",
    "steer_df = pd.concat([per_steer_df, name_steer_df])\n"
   ]
  },
  {
   "cell_type": "code",
   "execution_count": 44,
   "metadata": {},
   "outputs": [
    {
     "name": "stderr",
     "output_type": "stream",
     "text": [
      "/tmp/ipykernel_1191/396987571.py:1: DtypeWarning: Columns (18) have mixed types. Specify dtype option on import or set low_memory=False.\n",
      "  en_steer_df = pd.read_csv(\"caa/gemma2_9b_it_v3/subset_allcountry_enuniversal_mainlayers.csv\")\n",
      "/tmp/ipykernel_1191/396987571.py:4: DtypeWarning: Columns (18) have mixed types. Specify dtype option on import or set low_memory=False.\n",
      "  trans_steer_df = pd.read_csv(\"caa/gemma2_9b_it_v3/subset_allcountry_transuniversal_mainlayers.csv\")\n"
     ]
    }
   ],
   "source": [
    "en_steer_df = pd.read_csv(\"caa/gemma2_9b_it_v3/subset_allcountry_enuniversal_mainlayers.csv\")\n",
    "en_steer_df[\"vector\"] = \"enuniversal\"\n",
    "\n",
    "trans_steer_df = pd.read_csv(\"caa/gemma2_9b_it_v3/subset_allcountry_transuniversal_mainlayers.csv\")\n",
    "trans_steer_df[\"vector\"] = \"transuniversal\"\n",
    "\n",
    "steer_df = pd.concat([steer_df, en_steer_df, trans_steer_df])\n"
   ]
  },
  {
   "cell_type": "code",
   "execution_count": 45,
   "metadata": {},
   "outputs": [
    {
     "name": "stderr",
     "output_type": "stream",
     "text": [
      "/tmp/ipykernel_1191/1286455336.py:9: DtypeWarning: Columns (1) have mixed types. Specify dtype option on import or set low_memory=False.\n",
      "  pd.read_csv(\"caa/gemma2_9b_it_v3/subset_allcountry_transunivloo_mainlayers_alpha1.csv\"),\n",
      "/tmp/ipykernel_1191/1286455336.py:10: DtypeWarning: Columns (1) have mixed types. Specify dtype option on import or set low_memory=False.\n",
      "  pd.read_csv(\"caa/gemma2_9b_it_v3/subset_allcountry_transunivloo_mainlayers_alpha2.csv\"),\n"
     ]
    }
   ],
   "source": [
    "en_steer_df = pd.concat([\n",
    "    pd.read_csv(\"caa/gemma2_9b_it_v3/subset_allcountry_enunivloo_mainlayers_alpha1.csv\"),\n",
    "    pd.read_csv(\"caa/gemma2_9b_it_v3/subset_allcountry_enunivloo_mainlayers_alpha2.csv\"),\n",
    "    pd.read_csv(\"caa/gemma2_9b_it_v3/subset_us_enunivloo_neglayer.csv\"),\n",
    "])\n",
    "en_steer_df[\"vector\"] = \"enuniversal_loo\"\n",
    "\n",
    "trans_steer_df = pd.concat([\n",
    "    pd.read_csv(\"caa/gemma2_9b_it_v3/subset_allcountry_transunivloo_mainlayers_alpha1.csv\"),\n",
    "    pd.read_csv(\"caa/gemma2_9b_it_v3/subset_allcountry_transunivloo_mainlayers_alpha2.csv\"),\n",
    "    pd.read_csv(\"caa/gemma2_9b_it_v3/subset_us_transunivloo_neglayer.csv\"),\n",
    "])\n",
    "\n",
    "trans_steer_df[\"vector\"] = \"transuniversal_loo\"\n",
    "\n",
    "steer_df = pd.concat([steer_df, en_steer_df, trans_steer_df])"
   ]
  },
  {
   "cell_type": "code",
   "execution_count": 46,
   "metadata": {},
   "outputs": [
    {
     "name": "stderr",
     "output_type": "stream",
     "text": [
      "/tmp/ipykernel_1191/4100229966.py:2: DtypeWarning: Columns (18) have mixed types. Specify dtype option on import or set low_memory=False.\n",
      "  pd.read_csv(\"caa/gemma2_9b_it_v3/subset_allcountry_enmicro_mainlayers.csv\"),\n",
      "/tmp/ipykernel_1191/4100229966.py:3: DtypeWarning: Columns (18) have mixed types. Specify dtype option on import or set low_memory=False.\n",
      "  pd.read_csv(\"caa/gemma2_9b_it_v3/subset_allcountry_enmicro_otherlayers.csv\"),\n",
      "/tmp/ipykernel_1191/4100229966.py:7: DtypeWarning: Columns (1,17,21) have mixed types. Specify dtype option on import or set low_memory=False.\n",
      "  swap_steer = pd.read_csv(\"caa/gemma2_9b_it_v3/subset_swapped_allcountry_enmicro_mainlayers.csv\")\n",
      "/tmp/ipykernel_1191/4100229966.py:12: DtypeWarning: Columns (18) have mixed types. Specify dtype option on import or set low_memory=False.\n",
      "  pd.read_csv(\"caa/gemma2_9b_it_v3/subset_allcountry_transmicro_mainlayers.csv\"),\n",
      "/tmp/ipykernel_1191/4100229966.py:13: DtypeWarning: Columns (18) have mixed types. Specify dtype option on import or set low_memory=False.\n",
      "  pd.read_csv(\"caa/gemma2_9b_it_v3/subset_allcountry_transmicro_otherlayers.csv\"),\n",
      "/tmp/ipykernel_1191/4100229966.py:18: DtypeWarning: Columns (18) have mixed types. Specify dtype option on import or set low_memory=False.\n",
      "  imp_steer_df = pd.concat([pd.read_csv(\"caa/gemma2_9b_it_v3/subset_allcountry_implicit_mainlayers.csv\"),\n",
      "/tmp/ipykernel_1191/4100229966.py:19: DtypeWarning: Columns (18) have mixed types. Specify dtype option on import or set low_memory=False.\n",
      "  pd.read_csv(\"caa/gemma2_9b_it_v3/subset_allcountry_implicit_otherlayers.csv\")])\n"
     ]
    }
   ],
   "source": [
    "en_steer_df = pd.concat([\n",
    "    pd.read_csv(\"caa/gemma2_9b_it_v3/subset_allcountry_enmicro_mainlayers.csv\"),\n",
    "    pd.read_csv(\"caa/gemma2_9b_it_v3/subset_allcountry_enmicro_otherlayers.csv\"),\n",
    "])\n",
    "en_steer_df[\"vector\"] = \"enmicro\"\n",
    "\n",
    "swap_steer = pd.read_csv(\"caa/gemma2_9b_it_v3/subset_swapped_allcountry_enmicro_mainlayers.csv\")\n",
    "\n",
    "swap_steer[\"vector\"] = \"enmicro_swap\"\n",
    "\n",
    "trans_steer_df = pd.concat([\n",
    "    pd.read_csv(\"caa/gemma2_9b_it_v3/subset_allcountry_transmicro_mainlayers.csv\"),\n",
    "    pd.read_csv(\"caa/gemma2_9b_it_v3/subset_allcountry_transmicro_otherlayers.csv\"),\n",
    "])\n",
    "\n",
    "trans_steer_df[\"vector\"] = \"transmicro\"\n",
    "\n",
    "imp_steer_df = pd.concat([pd.read_csv(\"caa/gemma2_9b_it_v3/subset_allcountry_implicit_mainlayers.csv\"),\n",
    "                          pd.read_csv(\"caa/gemma2_9b_it_v3/subset_allcountry_implicit_otherlayers.csv\")])\n",
    "imp_steer_df[\"vector\"] = \"implicit\"\n",
    "\n",
    "steer_df = pd.concat([steer_df, en_steer_df, trans_steer_df, swap_steer, imp_steer_df])"
   ]
  },
  {
   "cell_type": "code",
   "execution_count": 47,
   "metadata": {},
   "outputs": [
    {
     "data": {
      "text/plain": [
       "(2712224, 28)"
      ]
     },
     "execution_count": 47,
     "metadata": {},
     "output_type": "execute_result"
    }
   ],
   "source": [
    "steer_df.shape"
   ]
  },
  {
   "cell_type": "code",
   "execution_count": 48,
   "metadata": {},
   "outputs": [],
   "source": [
    "def get_abs_type(out):\n",
    "    if str(int(out[\"ans_west_idx\"])) in str(out[\"steer_out\"]):\n",
    "        out[\"ans_type\"] = \"west\"\n",
    "    elif str(int(out[\"ans_local_idx\"])) in str(out[\"steer_out\"]):\n",
    "        out[\"ans_type\"] = \"local\"\n",
    "    else:\n",
    "        out[\"ans_type\"] = \"none\"\n",
    "    return out[\"ans_type\"]\n",
    "\n",
    "steer_df[\"ans_type\"] = steer_df.apply(get_abs_type, axis=1)"
   ]
  },
  {
   "cell_type": "code",
   "execution_count": 49,
   "metadata": {},
   "outputs": [],
   "source": [
    "\n",
    "steer_df[\"unique_id\"] = steer_df[\"question_id\"].astype(str) + steer_df[\"lang\"] + steer_df[\"country\"] + steer_df[\"hint\"].astype(str)\n",
    "unique_ids = set(steer_df[\"unique_id\"].unique())\n",
    "\n",
    "no_steer_res = pd.read_csv(\"caa/gemma2_9b_it_v3/subset_allcountry_no_steer.csv\")\n",
    "no_steer_res[\"unique_id\"] = no_steer_res[\"question_id\"].astype(str) + no_steer_res[\"lang\"] + no_steer_res[\"country\"] + no_steer_res[\"hint\"].astype(str)\n",
    "\n",
    "no_steer_res = no_steer_res.query(\"unique_id in @unique_ids\").copy()\n",
    "\n",
    "dfs = []\n",
    "for l in steer_df[\"layer\"].unique():\n",
    "    n = no_steer_res.copy()\n",
    "    n[\"vector\"] = \"none\"\n",
    "    n[\"layer\"]=l\n",
    "    dfs.append(n)\n",
    "no_steer_res = pd.concat(dfs)\n",
    "\n",
    "\n",
    "steer_df = [steer_df, no_steer_res]\n",
    "steer_df = pd.concat(steer_df)\n",
    "\n",
    "steer_df.drop(columns=[\"steer_prob\"], inplace=True)"
   ]
  },
  {
   "cell_type": "code",
   "execution_count": 50,
   "metadata": {},
   "outputs": [
    {
     "data": {
      "text/plain": [
       "array([ 1,  2, -2, -1])"
      ]
     },
     "execution_count": 50,
     "metadata": {},
     "output_type": "execute_result"
    }
   ],
   "source": [
    "steer_df.query(\"vector=='enuniversal_loo'\")[\"alpha\"].unique()"
   ]
  },
  {
   "cell_type": "code",
   "execution_count": 51,
   "metadata": {},
   "outputs": [],
   "source": [
    "steer_df[\"key\"] = steer_df[\"question_id\"] + steer_df[\"country\"]"
   ]
  },
  {
   "cell_type": "code",
   "execution_count": 52,
   "metadata": {},
   "outputs": [],
   "source": [
    "keys = set(steer_df[\"key\"].unique())\n",
    "hinted = pd.read_csv(\"model_gen/all_models_eval_subset.csv\").query(\"model =='gemma2_9b_it' and hint==True\").copy()\n",
    "hinted[\"key\"] = hinted[\"question_id\"] + hinted[\"country\"] \n",
    "hinted = hinted.query(\"key in @keys\").copy()\n",
    "\n",
    "src_map = {\n",
    "\"synth_names\":\"names\",\n",
    "\"synth_cities\":\"cities\",\n",
    "\"culturebench\":\"culturebench\",\n",
    "}\n",
    "\n",
    "hinted[\"subtask\"] = hinted[\"source_id\"].apply(lambda x: src_map.get(x, \"culturedistil\"))\n",
    "\n",
    "hinted[\"local_ans\"] = (hinted[\"ans_type\"] == \"local\").astype(int)\n",
    "hinted[\"west_ans\"] = (hinted[\"ans_type\"] == \"west\").astype(int)\n",
    "hinted[\"no_ans\"] = (hinted[\"ans_type\"] == \"none\").astype(int)\n",
    "\n"
   ]
  },
  {
   "cell_type": "code",
   "execution_count": 53,
   "metadata": {},
   "outputs": [],
   "source": [
    "steer_df[\"local_ans\"] = (steer_df[\"ans_type\"] == \"local\").astype(int)\n",
    "steer_df[\"west_ans\"] = (steer_df[\"ans_type\"] == \"west\").astype(int)\n",
    "steer_df[\"no_ans\"] = (steer_df[\"ans_type\"] == \"none\").astype(int)\n",
    "\n",
    "steer_df = steer_df.merge(\n",
    "    steer_df.query(\"alpha == 0\")[[\"question_id\", \"country\", \"lang\", \"hint\", \"subtask\", \"layer\", \"local_ans\", \"west_ans\", \"no_ans\"]].rename(columns={\"local_ans\": \"local_ans_base\", \"west_ans\": \"west_ans_base\", \"no_ans\": \"no_ans_base\"}),\n",
    "    on=[\"question_id\",\"lang\", \"subtask\", \"layer\", \"hint\", \"country\"],\n",
    "    how=\"inner\"\n",
    ")\n",
    "steer_df[\"delta_local_ans\"] = steer_df[\"local_ans\"] - steer_df[\"local_ans_base\"]\n",
    "steer_df[\"delta_west_ans\"] = steer_df[\"west_ans\"] - steer_df[\"west_ans_base\"]\n",
    "steer_df[\"delta_no_ans\"] = steer_df[\"no_ans\"] - steer_df[\"no_ans_base\"]"
   ]
  },
  {
   "cell_type": "code",
   "execution_count": 54,
   "metadata": {},
   "outputs": [],
   "source": [
    "steer_df[\"translated\"] = steer_df.apply(lambda x: x[\"lang\"] != \"English\" or x[\"country\"]=='United States', axis=1)\n",
    "hinted[\"translated\"] = hinted.apply(lambda x: x[\"lang\"] != \"English\" or x[\"country\"]=='United States', axis=1)"
   ]
  },
  {
   "cell_type": "code",
   "execution_count": 55,
   "metadata": {},
   "outputs": [
    {
     "data": {
      "application/vnd.microsoft.datawrangler.viewer.v0+json": {
       "columns": [
        {
         "name": "index",
         "rawType": "int64",
         "type": "integer"
        },
        {
         "name": "vector",
         "rawType": "object",
         "type": "string"
        },
        {
         "name": "alpha",
         "rawType": "int64",
         "type": "integer"
        },
        {
         "name": "layer",
         "rawType": "int64",
         "type": "integer"
        },
        {
         "name": "country",
         "rawType": "object",
         "type": "string"
        },
        {
         "name": "translated",
         "rawType": "bool",
         "type": "boolean"
        },
        {
         "name": "local_ans_steer",
         "rawType": "float64",
         "type": "float"
        },
        {
         "name": "local_ans_no_steer",
         "rawType": "float64",
         "type": "float"
        },
        {
         "name": "local_ans_hinted",
         "rawType": "float64",
         "type": "float"
        }
       ],
       "conversionMethod": "pd.DataFrame",
       "ref": "48fcb1ef-07c7-455e-a2d1-cd14dad88cd8",
       "rows": [
        [
         "486",
         "per-culture (en)",
         "2",
         "21",
         "Bangladesh",
         "False",
         "0.7698961937716263",
         "0.5432525951557093",
         "0.9550173010380623"
        ],
        [
         "487",
         "per-culture (en)",
         "2",
         "21",
         "Bangladesh",
         "True",
         "0.7387543252595156",
         "0.6280276816608996",
         "0.8944636678200693"
        ],
        [
         "380",
         "per-culture (en)",
         "1",
         "25",
         "France",
         "False",
         "0.6931034482758621",
         "0.5241379310344828",
         "0.8982758620689655"
        ],
        [
         "489",
         "per-culture (en)",
         "2",
         "21",
         "France",
         "True",
         "0.6120689655172413",
         "0.5465517241379311",
         "0.8844827586206897"
        ],
        [
         "526",
         "per-culture (en)",
         "2",
         "25",
         "Russia",
         "False",
         "0.872072072072072",
         "0.4972972972972973",
         "0.9261261261261261"
        ],
        [
         "527",
         "per-culture (en)",
         "2",
         "25",
         "Russia",
         "True",
         "0.7927927927927928",
         "0.5315315315315315",
         "0.8774774774774775"
        ],
        [
         "519",
         "per-culture (en)",
         "2",
         "24",
         "Turkey",
         "False",
         "0.8",
         "0.5485714285714286",
         "0.9442857142857143"
        ],
        [
         "493",
         "per-culture (en)",
         "2",
         "21",
         "Turkey",
         "True",
         "0.7628571428571429",
         "0.5585714285714286",
         "0.9185714285714286"
        ],
        [
         "503",
         "per-culture (en)",
         "2",
         "22",
         "United States",
         "True",
         "0.6950904392764858",
         "0.5236864771748493",
         "0.8828596037898363"
        ],
        [
         "819",
         "universal (en)",
         "2",
         "27",
         "Bangladesh",
         "False",
         "0.7629757785467128",
         "0.5432525951557093",
         "0.9550173010380623"
        ],
        [
         "766",
         "universal (en)",
         "2",
         "21",
         "Bangladesh",
         "True",
         "0.7006920415224913",
         "0.6280276816608996",
         "0.8944636678200693"
        ],
        [
         "821",
         "universal (en)",
         "2",
         "27",
         "France",
         "False",
         "0.6827586206896552",
         "0.5241379310344828",
         "0.8982758620689655"
        ],
        [
         "768",
         "universal (en)",
         "2",
         "21",
         "France",
         "True",
         "0.6017241379310345",
         "0.5465517241379311",
         "0.8844827586206897"
        ],
        [
         "823",
         "universal (en)",
         "2",
         "27",
         "Russia",
         "False",
         "0.7783783783783784",
         "0.4972972972972973",
         "0.9261261261261261"
        ],
        [
         "824",
         "universal (en)",
         "2",
         "27",
         "Russia",
         "True",
         "0.7333333333333333",
         "0.5315315315315315",
         "0.8774774774774775"
        ],
        [
         "825",
         "universal (en)",
         "2",
         "27",
         "Turkey",
         "False",
         "0.7385714285714285",
         "0.5485714285714286",
         "0.9442857142857143"
        ],
        [
         "772",
         "universal (en)",
         "2",
         "21",
         "Turkey",
         "True",
         "0.7085714285714285",
         "0.5585714285714286",
         "0.9185714285714286"
        ],
        [
         "638",
         "universal (en)",
         "-2",
         "27",
         "United States",
         "True",
         "0.6554694229112834",
         "0.5236864771748493",
         "0.8828596037898363"
        ],
        [
         "959",
         "held-out universal (en)",
         "2",
         "27",
         "Bangladesh",
         "False",
         "0.726643598615917",
         "0.5432525951557093",
         "0.9550173010380623"
        ],
        [
         "906",
         "held-out universal (en)",
         "2",
         "21",
         "Bangladesh",
         "True",
         "0.6955017301038062",
         "0.6280276816608996",
         "0.8944636678200693"
        ],
        [
         "961",
         "held-out universal (en)",
         "2",
         "27",
         "France",
         "False",
         "0.6603448275862069",
         "0.5241379310344828",
         "0.8982758620689655"
        ],
        [
         "881",
         "held-out universal (en)",
         "1",
         "25",
         "France",
         "True",
         "0.6",
         "0.5465517241379311",
         "0.8844827586206897"
        ],
        [
         "963",
         "held-out universal (en)",
         "2",
         "27",
         "Russia",
         "False",
         "0.7333333333333333",
         "0.4972972972972973",
         "0.9261261261261261"
        ],
        [
         "964",
         "held-out universal (en)",
         "2",
         "27",
         "Russia",
         "True",
         "0.7081081081081081",
         "0.5315315315315315",
         "0.8774774774774775"
        ],
        [
         "965",
         "held-out universal (en)",
         "2",
         "27",
         "Turkey",
         "False",
         "0.7142857142857143",
         "0.5485714285714286",
         "0.9442857142857143"
        ],
        [
         "912",
         "held-out universal (en)",
         "2",
         "21",
         "Turkey",
         "True",
         "0.6928571428571428",
         "0.5585714285714286",
         "0.9185714285714286"
        ],
        [
         "830",
         "held-out universal (en)",
         "-2",
         "23",
         "United States",
         "True",
         "0.6511627906976745",
         "0.5236864771748493",
         "0.8828596037898363"
        ],
        [
         "1517",
         "names (en)",
         "2",
         "21",
         "Bangladesh",
         "False",
         "0.8633217993079585",
         "0.5432525951557093",
         "0.9550173010380623"
        ],
        [
         "1374",
         "names (en)",
         "1",
         "21",
         "Bangladesh",
         "True",
         "0.7422145328719724",
         "0.6280276816608996",
         "0.8944636678200693"
        ],
        [
         "1546",
         "names (en)",
         "2",
         "24",
         "France",
         "False",
         "0.7293103448275862",
         "0.5241379310344828",
         "0.8982758620689655"
        ],
        [
         "1520",
         "names (en)",
         "2",
         "21",
         "France",
         "True",
         "0.6620689655172414",
         "0.5465517241379311",
         "0.8844827586206897"
        ],
        [
         "1557",
         "names (en)",
         "2",
         "25",
         "Russia",
         "False",
         "0.8576576576576577",
         "0.4972972972972973",
         "0.9261261261261261"
        ],
        [
         "1522",
         "names (en)",
         "2",
         "21",
         "Russia",
         "True",
         "0.8018018018018018",
         "0.5315315315315315",
         "0.8774774774774775"
        ],
        [
         "1559",
         "names (en)",
         "2",
         "25",
         "Turkey",
         "False",
         "0.8128571428571428",
         "0.5485714285714286",
         "0.9442857142857143"
        ],
        [
         "1524",
         "names (en)",
         "2",
         "21",
         "Turkey",
         "True",
         "0.7828571428571428",
         "0.5585714285714286",
         "0.9185714285714286"
        ],
        [
         "1534",
         "names (en)",
         "2",
         "22",
         "United States",
         "True",
         "0.7200689061154177",
         "0.5236864771748493",
         "0.8828596037898363"
        ],
        [
         "1985",
         "per-culture (translated)",
         "1",
         "25",
         "Bangladesh",
         "False",
         "0.6522491349480969",
         "0.5432525951557093",
         "0.9550173010380623"
        ],
        [
         "2130",
         "per-culture (translated)",
         "2",
         "25",
         "Bangladesh",
         "True",
         "0.7889273356401384",
         "0.6280276816608996",
         "0.8944636678200693"
        ],
        [
         "2131",
         "per-culture (translated)",
         "2",
         "25",
         "France",
         "False",
         "0.7103448275862069",
         "0.5241379310344828",
         "0.8982758620689655"
        ],
        [
         "2132",
         "per-culture (translated)",
         "2",
         "25",
         "France",
         "True",
         "0.6482758620689655",
         "0.5465517241379311",
         "0.8844827586206897"
        ],
        [
         "2151",
         "per-culture (translated)",
         "2",
         "27",
         "Russia",
         "False",
         "0.7639639639639639",
         "0.4972972972972973",
         "0.9261261261261261"
        ],
        [
         "2152",
         "per-culture (translated)",
         "2",
         "27",
         "Russia",
         "True",
         "0.7549549549549549",
         "0.5315315315315315",
         "0.8774774774774775"
        ],
        [
         "2135",
         "per-culture (translated)",
         "2",
         "25",
         "Turkey",
         "False",
         "0.6657142857142857",
         "0.5485714285714286",
         "0.9442857142857143"
        ],
        [
         "2136",
         "per-culture (translated)",
         "2",
         "25",
         "Turkey",
         "True",
         "0.7042857142857143",
         "0.5585714285714286",
         "0.9185714285714286"
        ],
        [
         "2110",
         "per-culture (translated)",
         "2",
         "22",
         "United States",
         "True",
         "0.6950904392764858",
         "0.5236864771748493",
         "0.8828596037898363"
        ],
        [
         "2426",
         "universal (translated)",
         "2",
         "27",
         "Bangladesh",
         "False",
         "0.6314878892733564",
         "0.5432525951557093",
         "0.9550173010380623"
        ],
        [
         "2373",
         "universal (translated)",
         "2",
         "21",
         "Bangladesh",
         "True",
         "0.698961937716263",
         "0.6280276816608996",
         "0.8944636678200693"
        ],
        [
         "2410",
         "universal (translated)",
         "2",
         "25",
         "France",
         "False",
         "0.5758620689655173",
         "0.5241379310344828",
         "0.8982758620689655"
        ],
        [
         "2429",
         "universal (translated)",
         "2",
         "27",
         "France",
         "True",
         "0.603448275862069",
         "0.5465517241379311",
         "0.8844827586206897"
        ],
        [
         "2430",
         "universal (translated)",
         "2",
         "27",
         "Russia",
         "False",
         "0.6198198198198198",
         "0.4972972972972973",
         "0.9261261261261261"
        ]
       ],
       "shape": {
        "columns": 8,
        "rows": 63
       }
      },
      "text/html": [
       "<div>\n",
       "<style scoped>\n",
       "    .dataframe tbody tr th:only-of-type {\n",
       "        vertical-align: middle;\n",
       "    }\n",
       "\n",
       "    .dataframe tbody tr th {\n",
       "        vertical-align: top;\n",
       "    }\n",
       "\n",
       "    .dataframe thead th {\n",
       "        text-align: right;\n",
       "    }\n",
       "</style>\n",
       "<table border=\"1\" class=\"dataframe\">\n",
       "  <thead>\n",
       "    <tr style=\"text-align: right;\">\n",
       "      <th></th>\n",
       "      <th>vector</th>\n",
       "      <th>alpha</th>\n",
       "      <th>layer</th>\n",
       "      <th>country</th>\n",
       "      <th>translated</th>\n",
       "      <th>local_ans_steer</th>\n",
       "      <th>local_ans_no_steer</th>\n",
       "      <th>local_ans_hinted</th>\n",
       "    </tr>\n",
       "  </thead>\n",
       "  <tbody>\n",
       "    <tr>\n",
       "      <th>486</th>\n",
       "      <td>per-culture (en)</td>\n",
       "      <td>2</td>\n",
       "      <td>21</td>\n",
       "      <td>Bangladesh</td>\n",
       "      <td>False</td>\n",
       "      <td>0.769896</td>\n",
       "      <td>0.543253</td>\n",
       "      <td>0.955017</td>\n",
       "    </tr>\n",
       "    <tr>\n",
       "      <th>487</th>\n",
       "      <td>per-culture (en)</td>\n",
       "      <td>2</td>\n",
       "      <td>21</td>\n",
       "      <td>Bangladesh</td>\n",
       "      <td>True</td>\n",
       "      <td>0.738754</td>\n",
       "      <td>0.628028</td>\n",
       "      <td>0.894464</td>\n",
       "    </tr>\n",
       "    <tr>\n",
       "      <th>380</th>\n",
       "      <td>per-culture (en)</td>\n",
       "      <td>1</td>\n",
       "      <td>25</td>\n",
       "      <td>France</td>\n",
       "      <td>False</td>\n",
       "      <td>0.693103</td>\n",
       "      <td>0.524138</td>\n",
       "      <td>0.898276</td>\n",
       "    </tr>\n",
       "    <tr>\n",
       "      <th>489</th>\n",
       "      <td>per-culture (en)</td>\n",
       "      <td>2</td>\n",
       "      <td>21</td>\n",
       "      <td>France</td>\n",
       "      <td>True</td>\n",
       "      <td>0.612069</td>\n",
       "      <td>0.546552</td>\n",
       "      <td>0.884483</td>\n",
       "    </tr>\n",
       "    <tr>\n",
       "      <th>526</th>\n",
       "      <td>per-culture (en)</td>\n",
       "      <td>2</td>\n",
       "      <td>25</td>\n",
       "      <td>Russia</td>\n",
       "      <td>False</td>\n",
       "      <td>0.872072</td>\n",
       "      <td>0.497297</td>\n",
       "      <td>0.926126</td>\n",
       "    </tr>\n",
       "    <tr>\n",
       "      <th>...</th>\n",
       "      <td>...</td>\n",
       "      <td>...</td>\n",
       "      <td>...</td>\n",
       "      <td>...</td>\n",
       "      <td>...</td>\n",
       "      <td>...</td>\n",
       "      <td>...</td>\n",
       "      <td>...</td>\n",
       "    </tr>\n",
       "    <tr>\n",
       "      <th>2570</th>\n",
       "      <td>held-out universal (translated)</td>\n",
       "      <td>2</td>\n",
       "      <td>27</td>\n",
       "      <td>Russia</td>\n",
       "      <td>False</td>\n",
       "      <td>0.556757</td>\n",
       "      <td>0.497297</td>\n",
       "      <td>0.926126</td>\n",
       "    </tr>\n",
       "    <tr>\n",
       "      <th>2553</th>\n",
       "      <td>held-out universal (translated)</td>\n",
       "      <td>2</td>\n",
       "      <td>25</td>\n",
       "      <td>Russia</td>\n",
       "      <td>True</td>\n",
       "      <td>0.690090</td>\n",
       "      <td>0.531532</td>\n",
       "      <td>0.877477</td>\n",
       "    </tr>\n",
       "    <tr>\n",
       "      <th>2572</th>\n",
       "      <td>held-out universal (translated)</td>\n",
       "      <td>2</td>\n",
       "      <td>27</td>\n",
       "      <td>Turkey</td>\n",
       "      <td>False</td>\n",
       "      <td>0.634286</td>\n",
       "      <td>0.548571</td>\n",
       "      <td>0.944286</td>\n",
       "    </tr>\n",
       "    <tr>\n",
       "      <th>2573</th>\n",
       "      <td>held-out universal (translated)</td>\n",
       "      <td>2</td>\n",
       "      <td>27</td>\n",
       "      <td>Turkey</td>\n",
       "      <td>True</td>\n",
       "      <td>0.680000</td>\n",
       "      <td>0.558571</td>\n",
       "      <td>0.918571</td>\n",
       "    </tr>\n",
       "    <tr>\n",
       "      <th>2435</th>\n",
       "      <td>held-out universal (translated)</td>\n",
       "      <td>-2</td>\n",
       "      <td>21</td>\n",
       "      <td>United States</td>\n",
       "      <td>True</td>\n",
       "      <td>0.609819</td>\n",
       "      <td>0.523686</td>\n",
       "      <td>0.882860</td>\n",
       "    </tr>\n",
       "  </tbody>\n",
       "</table>\n",
       "<p>63 rows × 8 columns</p>\n",
       "</div>"
      ],
      "text/plain": [
       "                               vector  alpha  layer        country  \\\n",
       "486                  per-culture (en)      2     21     Bangladesh   \n",
       "487                  per-culture (en)      2     21     Bangladesh   \n",
       "380                  per-culture (en)      1     25         France   \n",
       "489                  per-culture (en)      2     21         France   \n",
       "526                  per-culture (en)      2     25         Russia   \n",
       "...                               ...    ...    ...            ...   \n",
       "2570  held-out universal (translated)      2     27         Russia   \n",
       "2553  held-out universal (translated)      2     25         Russia   \n",
       "2572  held-out universal (translated)      2     27         Turkey   \n",
       "2573  held-out universal (translated)      2     27         Turkey   \n",
       "2435  held-out universal (translated)     -2     21  United States   \n",
       "\n",
       "      translated  local_ans_steer  local_ans_no_steer  local_ans_hinted  \n",
       "486        False         0.769896            0.543253          0.955017  \n",
       "487         True         0.738754            0.628028          0.894464  \n",
       "380        False         0.693103            0.524138          0.898276  \n",
       "489         True         0.612069            0.546552          0.884483  \n",
       "526        False         0.872072            0.497297          0.926126  \n",
       "...          ...              ...                 ...               ...  \n",
       "2570       False         0.556757            0.497297          0.926126  \n",
       "2553        True         0.690090            0.531532          0.877477  \n",
       "2572       False         0.634286            0.548571          0.944286  \n",
       "2573        True         0.680000            0.558571          0.918571  \n",
       "2435        True         0.609819            0.523686          0.882860  \n",
       "\n",
       "[63 rows x 8 columns]"
      ]
     },
     "execution_count": 55,
     "metadata": {},
     "output_type": "execute_result"
    }
   ],
   "source": [
    "## per culture vectors\n",
    "vectors_to_look = [\"enmicro\", \"transmicro\", \"names\", \"enuniversal_loo\", \"transuniversal_loo\", \"transuniversal\", \"enuniversal\"]\n",
    "\n",
    "vector_renaming = {\"enmicro\": \"per-culture (en)\", \n",
    "                   \"transmicro\": \"per-culture (translated)\", \n",
    "                   \"names\": \"names (en)\",\n",
    "                   \"enuniversal_loo\": \"held-out universal (en)\",\n",
    "                   \"transuniversal_loo\": \"held-out universal (translated)\",\n",
    "                   \"transuniversal\": \"universal (translated)\",\n",
    "                   \"enuniversal\": \"universal (en)\"}\n",
    "\n",
    "\n",
    "\n",
    "disp_df = steer_df.query(\"vector in @vectors_to_look and alpha<3\").merge(hinted[[\"key\", \"lang\", \"local_ans\", \"west_ans\", \"no_ans\"]], on=[\"key\",\"lang\"], how=\"inner\", suffixes=(\"\", \"_hint\"))\n",
    "best_steering_performance = disp_df.groupby([\"vector\",\"alpha\",\"layer\", \"country\", \"translated\"])[[\"local_ans\",\"local_ans_base\",\"local_ans_hint\"]].mean().reset_index()\n",
    "\n",
    "best_alpha_layer = best_steering_performance.loc[best_steering_performance.groupby([\"vector\",\"country\",\"translated\"])[\"local_ans\"].idxmax()]\n",
    "\n",
    "best_alpha_layer[\"vector\"] = best_alpha_layer[\"vector\"].apply(lambda x: vector_renaming[x])\n",
    "best_alpha_layer.rename(columns={\"local_ans\": \"local_ans_steer\", \"local_ans_base\": \"local_ans_no_steer\", \"local_ans_hint\": \"local_ans_hinted\"}, inplace=True)\n",
    "best_alpha_layer"
   ]
  },
  {
   "cell_type": "code",
   "execution_count": 56,
   "metadata": {},
   "outputs": [],
   "source": [
    "best_alpha_layer.to_csv(\"best_steering_res_per_culture_fixed.csv\", index=False)"
   ]
  },
  {
   "cell_type": "code",
   "execution_count": 38,
   "metadata": {},
   "outputs": [
    {
     "data": {
      "application/vnd.microsoft.datawrangler.viewer.v0+json": {
       "columns": [
        {
         "name": "index",
         "rawType": "int64",
         "type": "integer"
        },
        {
         "name": "vector",
         "rawType": "object",
         "type": "string"
        },
        {
         "name": "alpha",
         "rawType": "int64",
         "type": "integer"
        },
        {
         "name": "layer",
         "rawType": "int64",
         "type": "integer"
        },
        {
         "name": "subtask",
         "rawType": "object",
         "type": "string"
        },
        {
         "name": "local_ans_steer",
         "rawType": "float64",
         "type": "float"
        },
        {
         "name": "local_ans_no_steer",
         "rawType": "float64",
         "type": "float"
        },
        {
         "name": "local_ans_hinted",
         "rawType": "float64",
         "type": "float"
        }
       ],
       "conversionMethod": "pd.DataFrame",
       "ref": "f8d3980d-c160-4098-8d13-9b47d1082b32",
       "rows": [
        [
         "232",
         "per-culture (en)",
         "2",
         "25",
         "cities",
         "0.8728155339805825",
         "0.46601941747572817",
         "1.0"
        ],
        [
         "225",
         "per-culture (en)",
         "2",
         "23",
         "culturebench",
         "0.793010752688172",
         "0.7419354838709677",
         "0.8817204301075269"
        ],
        [
         "234",
         "per-culture (en)",
         "2",
         "25",
         "culturedistil",
         "0.6141732283464567",
         "0.484251968503937",
         "0.844488188976378"
        ],
        [
         "227",
         "per-culture (en)",
         "2",
         "23",
         "names",
         "0.7335640138408305",
         "0.5519031141868512",
         "0.9143598615916955"
        ],
        [
         "500",
         "names (en)",
         "2",
         "21",
         "cities",
         "0.8961165048543689",
         "0.46601941747572817",
         "1.0"
        ],
        [
         "501",
         "names (en)",
         "2",
         "21",
         "culturebench",
         "0.7983870967741935",
         "0.7419354838709677",
         "0.8817204301075269"
        ],
        [
         "502",
         "names (en)",
         "2",
         "21",
         "culturedistil",
         "0.6240157480314961",
         "0.484251968503937",
         "0.844488188976378"
        ],
        [
         "503",
         "names (en)",
         "2",
         "21",
         "names",
         "0.7707612456747405",
         "0.5519031141868512",
         "0.9143598615916955"
        ],
        [
         "736",
         "per-task-culture (en)",
         "1",
         "25",
         "cities",
         "0.8067961165048544",
         "0.46601941747572817",
         "1.0"
        ],
        [
         "785",
         "per-task-culture (en)",
         "2",
         "21",
         "culturebench",
         "0.7768817204301075",
         "0.7419354838709677",
         "0.8817204301075269"
        ],
        [
         "802",
         "per-task-culture (en)",
         "2",
         "25",
         "culturedistil",
         "0.655511811023622",
         "0.484251968503937",
         "0.844488188976378"
        ],
        [
         "787",
         "per-task-culture (en)",
         "2",
         "21",
         "names",
         "0.7707612456747405",
         "0.5519031141868512",
         "0.9143598615916955"
        ]
       ],
       "shape": {
        "columns": 7,
        "rows": 12
       }
      },
      "text/html": [
       "<div>\n",
       "<style scoped>\n",
       "    .dataframe tbody tr th:only-of-type {\n",
       "        vertical-align: middle;\n",
       "    }\n",
       "\n",
       "    .dataframe tbody tr th {\n",
       "        vertical-align: top;\n",
       "    }\n",
       "\n",
       "    .dataframe thead th {\n",
       "        text-align: right;\n",
       "    }\n",
       "</style>\n",
       "<table border=\"1\" class=\"dataframe\">\n",
       "  <thead>\n",
       "    <tr style=\"text-align: right;\">\n",
       "      <th></th>\n",
       "      <th>vector</th>\n",
       "      <th>alpha</th>\n",
       "      <th>layer</th>\n",
       "      <th>subtask</th>\n",
       "      <th>local_ans_steer</th>\n",
       "      <th>local_ans_no_steer</th>\n",
       "      <th>local_ans_hinted</th>\n",
       "    </tr>\n",
       "  </thead>\n",
       "  <tbody>\n",
       "    <tr>\n",
       "      <th>232</th>\n",
       "      <td>per-culture (en)</td>\n",
       "      <td>2</td>\n",
       "      <td>25</td>\n",
       "      <td>cities</td>\n",
       "      <td>0.872816</td>\n",
       "      <td>0.466019</td>\n",
       "      <td>1.000000</td>\n",
       "    </tr>\n",
       "    <tr>\n",
       "      <th>225</th>\n",
       "      <td>per-culture (en)</td>\n",
       "      <td>2</td>\n",
       "      <td>23</td>\n",
       "      <td>culturebench</td>\n",
       "      <td>0.793011</td>\n",
       "      <td>0.741935</td>\n",
       "      <td>0.881720</td>\n",
       "    </tr>\n",
       "    <tr>\n",
       "      <th>234</th>\n",
       "      <td>per-culture (en)</td>\n",
       "      <td>2</td>\n",
       "      <td>25</td>\n",
       "      <td>culturedistil</td>\n",
       "      <td>0.614173</td>\n",
       "      <td>0.484252</td>\n",
       "      <td>0.844488</td>\n",
       "    </tr>\n",
       "    <tr>\n",
       "      <th>227</th>\n",
       "      <td>per-culture (en)</td>\n",
       "      <td>2</td>\n",
       "      <td>23</td>\n",
       "      <td>names</td>\n",
       "      <td>0.733564</td>\n",
       "      <td>0.551903</td>\n",
       "      <td>0.914360</td>\n",
       "    </tr>\n",
       "    <tr>\n",
       "      <th>500</th>\n",
       "      <td>names (en)</td>\n",
       "      <td>2</td>\n",
       "      <td>21</td>\n",
       "      <td>cities</td>\n",
       "      <td>0.896117</td>\n",
       "      <td>0.466019</td>\n",
       "      <td>1.000000</td>\n",
       "    </tr>\n",
       "    <tr>\n",
       "      <th>501</th>\n",
       "      <td>names (en)</td>\n",
       "      <td>2</td>\n",
       "      <td>21</td>\n",
       "      <td>culturebench</td>\n",
       "      <td>0.798387</td>\n",
       "      <td>0.741935</td>\n",
       "      <td>0.881720</td>\n",
       "    </tr>\n",
       "    <tr>\n",
       "      <th>502</th>\n",
       "      <td>names (en)</td>\n",
       "      <td>2</td>\n",
       "      <td>21</td>\n",
       "      <td>culturedistil</td>\n",
       "      <td>0.624016</td>\n",
       "      <td>0.484252</td>\n",
       "      <td>0.844488</td>\n",
       "    </tr>\n",
       "    <tr>\n",
       "      <th>503</th>\n",
       "      <td>names (en)</td>\n",
       "      <td>2</td>\n",
       "      <td>21</td>\n",
       "      <td>names</td>\n",
       "      <td>0.770761</td>\n",
       "      <td>0.551903</td>\n",
       "      <td>0.914360</td>\n",
       "    </tr>\n",
       "    <tr>\n",
       "      <th>736</th>\n",
       "      <td>per-task-culture (en)</td>\n",
       "      <td>1</td>\n",
       "      <td>25</td>\n",
       "      <td>cities</td>\n",
       "      <td>0.806796</td>\n",
       "      <td>0.466019</td>\n",
       "      <td>1.000000</td>\n",
       "    </tr>\n",
       "    <tr>\n",
       "      <th>785</th>\n",
       "      <td>per-task-culture (en)</td>\n",
       "      <td>2</td>\n",
       "      <td>21</td>\n",
       "      <td>culturebench</td>\n",
       "      <td>0.776882</td>\n",
       "      <td>0.741935</td>\n",
       "      <td>0.881720</td>\n",
       "    </tr>\n",
       "    <tr>\n",
       "      <th>802</th>\n",
       "      <td>per-task-culture (en)</td>\n",
       "      <td>2</td>\n",
       "      <td>25</td>\n",
       "      <td>culturedistil</td>\n",
       "      <td>0.655512</td>\n",
       "      <td>0.484252</td>\n",
       "      <td>0.844488</td>\n",
       "    </tr>\n",
       "    <tr>\n",
       "      <th>787</th>\n",
       "      <td>per-task-culture (en)</td>\n",
       "      <td>2</td>\n",
       "      <td>21</td>\n",
       "      <td>names</td>\n",
       "      <td>0.770761</td>\n",
       "      <td>0.551903</td>\n",
       "      <td>0.914360</td>\n",
       "    </tr>\n",
       "  </tbody>\n",
       "</table>\n",
       "</div>"
      ],
      "text/plain": [
       "                    vector  alpha  layer        subtask  local_ans_steer  \\\n",
       "232       per-culture (en)      2     25         cities         0.872816   \n",
       "225       per-culture (en)      2     23   culturebench         0.793011   \n",
       "234       per-culture (en)      2     25  culturedistil         0.614173   \n",
       "227       per-culture (en)      2     23          names         0.733564   \n",
       "500             names (en)      2     21         cities         0.896117   \n",
       "501             names (en)      2     21   culturebench         0.798387   \n",
       "502             names (en)      2     21  culturedistil         0.624016   \n",
       "503             names (en)      2     21          names         0.770761   \n",
       "736  per-task-culture (en)      1     25         cities         0.806796   \n",
       "785  per-task-culture (en)      2     21   culturebench         0.776882   \n",
       "802  per-task-culture (en)      2     25  culturedistil         0.655512   \n",
       "787  per-task-culture (en)      2     21          names         0.770761   \n",
       "\n",
       "     local_ans_no_steer  local_ans_hinted  \n",
       "232            0.466019          1.000000  \n",
       "225            0.741935          0.881720  \n",
       "234            0.484252          0.844488  \n",
       "227            0.551903          0.914360  \n",
       "500            0.466019          1.000000  \n",
       "501            0.741935          0.881720  \n",
       "502            0.484252          0.844488  \n",
       "503            0.551903          0.914360  \n",
       "736            0.466019          1.000000  \n",
       "785            0.741935          0.881720  \n",
       "802            0.484252          0.844488  \n",
       "787            0.551903          0.914360  "
      ]
     },
     "execution_count": 38,
     "metadata": {},
     "output_type": "execute_result"
    }
   ],
   "source": [
    "# per-task \n",
    "vectors_to_look = [\"pertask\",\"names\",\"enmicro\"]\n",
    "\n",
    "\n",
    "vector_renaming = {\"pertask\": \"per-task-culture (en)\",\n",
    "                   \"enmicro\": \"per-culture (en)\", \n",
    "                   \"transmicro\": \"per-culture (translated)\", \n",
    "                   \"names\": \"names (en)\",\n",
    "                   \"enuniversal_loo\": \"held-out universal (en)\",\n",
    "                   \"transuniversal_loo\": \"held-out universal (translated)\",\n",
    "                   \"transuniversal\": \"universal (translated)\",\n",
    "                   \"enuniversal\": \"universal (en)\"}\n",
    "\n",
    "\n",
    "\n",
    "disp_df = steer_df.query(\"vector in @vectors_to_look and lang=='English' and alpha<3\").merge(hinted[[\"key\", \"lang\", \"local_ans\", \"west_ans\", \"no_ans\"]], on=[\"key\",\"lang\"], how=\"inner\", suffixes=(\"\", \"_hint\"))\n",
    "best_steering_performance = disp_df.groupby([\"vector\",\"alpha\",\"layer\", \"subtask\"])[[\"local_ans\",\"local_ans_base\",\"local_ans_hint\"]].mean().reset_index()\n",
    "\n",
    "best_alpha_layer = best_steering_performance.loc[best_steering_performance.groupby([\"vector\",\"subtask\"])[\"local_ans\"].idxmax()]\n",
    "\n",
    "best_alpha_layer[\"vector\"] = best_alpha_layer[\"vector\"].apply(lambda x: vector_renaming[x])\n",
    "best_alpha_layer.rename(columns={\"local_ans\": \"local_ans_steer\", \"local_ans_base\": \"local_ans_no_steer\", \"local_ans_hint\": \"local_ans_hinted\"}, inplace=True)\n",
    "best_alpha_layer\n"
   ]
  },
  {
   "cell_type": "code",
   "execution_count": 39,
   "metadata": {},
   "outputs": [],
   "source": [
    "best_alpha_layer.to_csv(\"best_steering_res_per_task_on_eng.csv\", index=False)"
   ]
  },
  {
   "cell_type": "code",
   "execution_count": 14,
   "metadata": {},
   "outputs": [],
   "source": [
    "en_implicit_results = steer_df.query(\"vector=='implicit' and lang=='English'\").copy()\n",
    "en_implicit_results[\"country\"] = \"United States\"\n",
    "en_implicit_results[\"translated\"] = True\n",
    "en_implicit_results[\"alpha\"] = - en_implicit_results[\"alpha\"]\n",
    "en_implicit_results[[\"ans_local\", \"ans_west\", \"ans_local_idx\", \"ans_west_idx\"]] = en_implicit_results[[\"ans_west\",\"ans_local\", \"ans_west_idx\", \"ans_local_idx\"]]\n",
    "en_implicit_results[[\"local_ans\", \"west_ans\", \"local_ans_base\", \"west_ans_base\"]] = en_implicit_results[[\"west_ans\",\"local_ans\", \"west_ans_base\", \"local_ans_base\"]]\n",
    "en_implicit_results[\"delta_local_ans\"] = en_implicit_results[\"local_ans\"] - en_implicit_results[\"local_ans_base\"]\n",
    "en_implicit_results[\"delta_west_ans\"] = en_implicit_results[\"west_ans\"] - en_implicit_results[\"west_ans_base\"]"
   ]
  },
  {
   "cell_type": "code",
   "execution_count": null,
   "metadata": {},
   "outputs": [
    {
     "data": {
      "application/vnd.microsoft.datawrangler.viewer.v0+json": {
       "columns": [
        {
         "name": "index",
         "rawType": "int64",
         "type": "integer"
        },
        {
         "name": "vector",
         "rawType": "object",
         "type": "string"
        },
        {
         "name": "alpha",
         "rawType": "int64",
         "type": "integer"
        },
        {
         "name": "layer",
         "rawType": "int64",
         "type": "integer"
        },
        {
         "name": "country",
         "rawType": "object",
         "type": "string"
        },
        {
         "name": "translated",
         "rawType": "bool",
         "type": "boolean"
        },
        {
         "name": "local_ans_steer",
         "rawType": "float64",
         "type": "float"
        },
        {
         "name": "local_ans_no_steer",
         "rawType": "float64",
         "type": "float"
        }
       ],
       "conversionMethod": "pd.DataFrame",
       "ref": "9becaf31-049c-4bbc-a44d-19302b1997cc",
       "rows": [
        [
         "210",
         "implicit",
         "1",
         "25",
         "Bangladesh",
         "True",
         "0.6955017301038062",
         "0.6280276816608996"
        ],
        [
         "296",
         "implicit",
         "2",
         "26",
         "France",
         "True",
         "0.5948275862068966",
         "0.5465517241379311"
        ],
        [
         "212",
         "implicit",
         "1",
         "25",
         "Russia",
         "True",
         "0.6144144144144145",
         "0.5315315315315315"
        ],
        [
         "283",
         "implicit",
         "2",
         "23",
         "Turkey",
         "True",
         "0.6542857142857142",
         "0.5585714285714286"
        ],
        [
         "214",
         "implicit",
         "1",
         "25",
         "United States",
         "True",
         "0.6213921901528013",
         "0.5178268251273345"
        ]
       ],
       "shape": {
        "columns": 7,
        "rows": 5
       }
      },
      "text/html": [
       "<div>\n",
       "<style scoped>\n",
       "    .dataframe tbody tr th:only-of-type {\n",
       "        vertical-align: middle;\n",
       "    }\n",
       "\n",
       "    .dataframe tbody tr th {\n",
       "        vertical-align: top;\n",
       "    }\n",
       "\n",
       "    .dataframe thead th {\n",
       "        text-align: right;\n",
       "    }\n",
       "</style>\n",
       "<table border=\"1\" class=\"dataframe\">\n",
       "  <thead>\n",
       "    <tr style=\"text-align: right;\">\n",
       "      <th></th>\n",
       "      <th>vector</th>\n",
       "      <th>alpha</th>\n",
       "      <th>layer</th>\n",
       "      <th>country</th>\n",
       "      <th>translated</th>\n",
       "      <th>local_ans_steer</th>\n",
       "      <th>local_ans_no_steer</th>\n",
       "    </tr>\n",
       "  </thead>\n",
       "  <tbody>\n",
       "    <tr>\n",
       "      <th>210</th>\n",
       "      <td>implicit</td>\n",
       "      <td>1</td>\n",
       "      <td>25</td>\n",
       "      <td>Bangladesh</td>\n",
       "      <td>True</td>\n",
       "      <td>0.695502</td>\n",
       "      <td>0.628028</td>\n",
       "    </tr>\n",
       "    <tr>\n",
       "      <th>296</th>\n",
       "      <td>implicit</td>\n",
       "      <td>2</td>\n",
       "      <td>26</td>\n",
       "      <td>France</td>\n",
       "      <td>True</td>\n",
       "      <td>0.594828</td>\n",
       "      <td>0.546552</td>\n",
       "    </tr>\n",
       "    <tr>\n",
       "      <th>212</th>\n",
       "      <td>implicit</td>\n",
       "      <td>1</td>\n",
       "      <td>25</td>\n",
       "      <td>Russia</td>\n",
       "      <td>True</td>\n",
       "      <td>0.614414</td>\n",
       "      <td>0.531532</td>\n",
       "    </tr>\n",
       "    <tr>\n",
       "      <th>283</th>\n",
       "      <td>implicit</td>\n",
       "      <td>2</td>\n",
       "      <td>23</td>\n",
       "      <td>Turkey</td>\n",
       "      <td>True</td>\n",
       "      <td>0.654286</td>\n",
       "      <td>0.558571</td>\n",
       "    </tr>\n",
       "    <tr>\n",
       "      <th>214</th>\n",
       "      <td>implicit</td>\n",
       "      <td>1</td>\n",
       "      <td>25</td>\n",
       "      <td>United States</td>\n",
       "      <td>True</td>\n",
       "      <td>0.621392</td>\n",
       "      <td>0.517827</td>\n",
       "    </tr>\n",
       "  </tbody>\n",
       "</table>\n",
       "</div>"
      ],
      "text/plain": [
       "       vector  alpha  layer        country  translated  local_ans_steer  \\\n",
       "210  implicit      1     25     Bangladesh        True         0.695502   \n",
       "296  implicit      2     26         France        True         0.594828   \n",
       "212  implicit      1     25         Russia        True         0.614414   \n",
       "283  implicit      2     23         Turkey        True         0.654286   \n",
       "214  implicit      1     25  United States        True         0.621392   \n",
       "\n",
       "     local_ans_no_steer  \n",
       "210            0.628028  \n",
       "296            0.546552  \n",
       "212            0.531532  \n",
       "283            0.558571  \n",
       "214            0.517827  "
      ]
     },
     "execution_count": 48,
     "metadata": {},
     "output_type": "execute_result"
    }
   ],
   "source": [
    "\n",
    "vector_renaming = {\"enmicro\": \"per-culture (en)\", \n",
    "                   \"transmicro\": \"per-culture (translated)\", \n",
    "                   \"names\": \"names (en)\",\n",
    "                   \"enuniversal_loo\": \"held-out universal (en)\",\n",
    "                   \"transuniversal_loo\": \"held-out universal (translated)\",\n",
    "                   \"transuniversal\": \"universal (translated)\",\n",
    "                   \"enuniversal\": \"universal (en)\",\n",
    "                   \"implicit\": \"implicit\"}\n",
    "\n",
    "us_question_ids = set(steer_df.query(\"country=='United States'\")[\"question_id\"].unique())\n",
    "\n",
    "disp_df = pd.concat([steer_df.query(\"vector=='implicit' and lang!='English' and alpha<3\"), en_implicit_results.query(\"question_id in @us_question_ids\")]).merge(hinted[[\"key\", \"lang\", \"local_ans\", \"west_ans\", \"no_ans\"]], on=[\"key\",\"lang\"], how=\"inner\", suffixes=(\"\", \"_hint\"))\n",
    "best_steering_performance = disp_df.groupby([\"vector\",\"alpha\",\"layer\", \"country\", \"translated\"])[[\"local_ans\",\"local_ans_base\",\"local_ans_hint\"]].mean().reset_index()\n",
    "\n",
    "best_alpha_layer = best_steering_performance.loc[best_steering_performance.groupby([\"vector\",\"country\",\"translated\"])[\"local_ans\"].idxmax()]\n",
    "\n",
    "best_alpha_layer[\"vector\"] = best_alpha_layer[\"vector\"].apply(lambda x: vector_renaming[x])\n",
    "best_alpha_layer.rename(columns={\"local_ans\": \"local_ans_steer\", \"local_ans_base\": \"local_ans_no_steer\", \"local_ans_hint\": \"local_ans_hinted\"}, inplace=True)\n",
    "best_alpha_layer.drop(columns=[\"local_ans_hinted\"], inplace=True)\n",
    "best_alpha_layer"
   ]
  },
  {
   "cell_type": "code",
   "execution_count": 50,
   "metadata": {},
   "outputs": [],
   "source": [
    "best_alpha_layer.to_csv(\"best_steering_res_implicit_per_culture.csv\", index=False)"
   ]
  },
  {
   "cell_type": "code",
   "execution_count": 15,
   "metadata": {},
   "outputs": [
    {
     "data": {
      "image/png": "[encoded data removed]",
      "text/plain": [
       "<Figure size 600x300 with 1 Axes>"
      ]
     },
     "metadata": {},
     "output_type": "display_data"
    }
   ],
   "source": [
    "import numpy as np\n",
    "import matplotlib.pyplot as plt\n",
    "\n",
    "title_map = {\n",
    "    \"cities\": \"Cities\",\n",
    "    \"names\": \"Names\", \n",
    "    \"culturedistil\": \"CultureDistil\",\n",
    "    \"culturebench\": \"CulturalBench\"\n",
    "}\n",
    "us_question_ids = set(steer_df.query(\"country=='United States' and vector=='enmicro'\")[\"question_id\"].unique())\n",
    "query = \"lang!='xEnglish' and alpha<3 and alpha>-3\"\n",
    "disp_df = pd.concat([steer_df.query(\"(vector=='implicit' or vector=='none') and lang!='English' and alpha<3\"), en_implicit_results.query(\"question_id in @us_question_ids\")]).merge(hinted[[\"key\", \"lang\", \"local_ans\", \"west_ans\", \"no_ans\"]], on=[\"key\",\"lang\"], how=\"inner\", suffixes=(\"\", \"_hint\"))\n",
    "disp_df[\"title\"] = disp_df[\"lang\"].apply(lambda x: \"\" if x == \"English\" else \"\")\n",
    "\n",
    "#disp_df = steer_df.query(query + \" and (vector=='enmicro' or vector=='none')\").copy()\n",
    "#disp_df[\"title\"] = disp_df[\"lang\"].apply(lambda x: \"English\" if x == \"English\" else \"Non-English\")\n",
    "\n",
    "disp_df[\"layer\"] = disp_df[\"layer\"].astype(int)\n",
    "\n",
    "# If you still need hinted_subs:\n",
    "# hinted_subs = hinted.query(query)\n",
    "\n",
    "########################################################################\n",
    "# 1) Identify unique alpha values and split into negative vs positive\n",
    "########################################################################\n",
    "all_alphas = sorted(disp_df[\"alpha\"].unique())  # ascending order\n",
    "negative_alphas = [a for a in all_alphas if a < 0]\n",
    "positive_alphas = [a for a in all_alphas if a > 0]\n",
    "\n",
    "########################################################################\n",
    "# 2) Create color mappings\n",
    "#    - For negative alphas: use Blues (from lighter to darker or vice versa).\n",
    "#    - For positive alphas: use Oranges (from lighter to darker or vice versa).\n",
    "########################################################################\n",
    "# You can adjust np.linspace(...) ranges or pick another colormap if you prefer.\n",
    "neg_colors = plt.cm.Blues(np.linspace(0.4, 0.9, len(negative_alphas)))\n",
    "pos_colors = plt.cm.Oranges(np.linspace(0.4, 0.9, len(positive_alphas)))\n",
    "\n",
    "alpha_color_map = {}\n",
    "for alpha_val, color_val in zip(negative_alphas, neg_colors):\n",
    "    alpha_color_map[alpha_val] = color_val\n",
    "for alpha_val, color_val in zip(positive_alphas, pos_colors):\n",
    "    alpha_color_map[alpha_val] = color_val\n",
    "\n",
    "########################################################################\n",
    "# 3) Create subplots, one per \"title\" group\n",
    "########################################################################\n",
    "plt.rcParams.update({'font.size': 14})\n",
    "plt.rcParams.update({\n",
    "    'xtick.labelsize': 12, \n",
    "    'ytick.labelsize': 12, \n",
    "    'axes.labelsize': 13\n",
    "})\n",
    "\n",
    "subtasks = disp_df[\"title\"].unique()\n",
    "fig, axes = plt.subplots(len(subtasks), 1, figsize=(6, 3), sharex=True, sharey=True)\n",
    "if not isinstance(axes, np.ndarray):\n",
    "    axes = [axes]  # Ensure we have an iterable of axes\n",
    "\n",
    "########################################################################\n",
    "# 4) Iterate over each subplot (by \"title\") and plot mean ± 95% CI\n",
    "#    for each alpha, in ascending order of alpha.\n",
    "########################################################################\n",
    "for ax, (src, group) in zip(axes, disp_df.groupby(\"title\")):\n",
    "    # If you only want top layers, you can filter here; otherwise skip\n",
    "    # group = group[group[\"layer\"].isin(top_layers[src])] \n",
    "    \n",
    "    # Sort alpha in ascending order so the legend goes from negative -> positive\n",
    "    for alpha_val in sorted(group[\"alpha\"].unique()):\n",
    "        # Skip alpha=0 if you do not want it (or handle it separately)\n",
    "        if alpha_val == 0:\n",
    "            pass\n",
    "        \n",
    "        alpha_grp = group[group[\"alpha\"] == alpha_val]\n",
    "        \n",
    "        # For each layer, we gather all local_ans values\n",
    "        layer_groups = alpha_grp.groupby(\"layer\")[\"local_ans\"].apply(list)\n",
    "        \n",
    "        # Sort layers\n",
    "        layers = sorted(layer_groups.index)\n",
    "        means, ci_low, ci_high = [], [], []\n",
    "        \n",
    "        for lyr in layers:\n",
    "            arr = np.array(layer_groups.loc[lyr], dtype=float)\n",
    "            m = arr.mean()\n",
    "            # Standard error\n",
    "            sem = arr.std(ddof=1) / np.sqrt(len(arr))\n",
    "            # 95% CI ~ mean ± 1.96*SEM\n",
    "            ci = 1.96 * sem\n",
    "            \n",
    "            means.append(m)\n",
    "            ci_low.append(m - ci)\n",
    "            ci_high.append(m + ci)\n",
    "        \n",
    "        \n",
    "\n",
    "        # Plot line (mean) and fill for CI\n",
    "        if alpha_val == 0:\n",
    "            ax.plot(\n",
    "                layers, means,\n",
    "                label=f\"$\\\\alpha$ = {alpha_val}\",\n",
    "                linestyle=\"dashed\",\n",
    "                color=\"black\"\n",
    "            )\n",
    "        else:\n",
    "            # Get color for current alpha\n",
    "            color = alpha_color_map[alpha_val]\n",
    "            ax.plot(\n",
    "                layers, means,\n",
    "                label=f\"$\\\\alpha$ = {alpha_val}\",\n",
    "                color=color,\n",
    "                marker='o',\n",
    "                alpha=0.7\n",
    "            )\n",
    "        \n",
    "    #ax.set_title(src)\n",
    "    ax.set_ylabel(\"Loc. Rate\")\n",
    "    ax.grid(True)\n",
    "    #ax.legend(loc='upper left', bbox_to_anchor=(1, 1))\n",
    "    handles, labels = [], []\n",
    "    for ax in axes:\n",
    "        for handle, label in zip(*ax.get_legend_handles_labels()):\n",
    "            if label not in labels:\n",
    "                handles.append(handle)\n",
    "                labels.append(label)\n",
    "\n",
    "    ax.yaxis.set_major_locator(plt.MaxNLocator(nbins=8))\n",
    "    ax.plot()\n",
    "#fig.legend(handles, labels, loc='center left', bbox_to_anchor=(1, 0.5))\n",
    "\n",
    "axes[-1].set_xlabel(\"Layer\")\n",
    "\n",
    "fig.legend(handles, labels, loc='upper center', bbox_to_anchor=(0.5, 1.05), ncol=len(labels), fontsize='small', frameon=False)\n",
    "# Reduce whitespace and lower the font size of the legend\n",
    "#fig.legend(handles, labels, loc='upper center', bbox_to_anchor=(0.5, 1.05), ncol=len(labels), fontsize='x-small')\n",
    "# Make legend small\n",
    "#fig.legend(handles, labels, loc='upper center', bbox_to_anchor=(0.5, 1.1), ncol=len(labels), fontsize='small')\n",
    "# Make font of tick params larger\n",
    "for ax in axes:\n",
    "    ax.tick_params(axis='both', which='major', labelsize=14)\n",
    "\n",
    "    # Ensure x-ticks are integers\n",
    "    for ax in axes:\n",
    "        ax.xaxis.set_major_locator(plt.MaxNLocator(integer=True))\n",
    "# Make x label and y label font size larger\n",
    "axes[-1].set_xlabel(\"Layer\", fontsize=16)\n",
    "for ax in axes:\n",
    "    ax.set_ylabel(\"Loc. Rate\", fontsize=14)\n",
    "# Move legend to the top\n",
    "#fig.legend(handles, labels, loc='upper center', bbox_to_anchor=(0.5, 1.1), ncol=len(labels))\n",
    "plt.tight_layout(pad=1.0)\n",
    "# Save the figure\n",
    "fig.savefig(\"steering_eng_noneng_large.pdf\", dpi=300, bbox_inches='tight')\n",
    "plt.tight_layout()\n",
    "plt.show()\n"
   ]
  },
  {
   "cell_type": "code",
   "execution_count": 11,
   "metadata": {},
   "outputs": [
    {
     "data": {
      "text/plain": [
       "array(['enuniversal', 'transuniversal', 'enmicro', 'transmicro',\n",
       "       'enmicro_swap', 'none'], dtype=object)"
      ]
     },
     "execution_count": 11,
     "metadata": {},
     "output_type": "execute_result"
    }
   ],
   "source": [
    "steer_df[\"vector\"].unique()"
   ]
  },
  {
   "cell_type": "code",
   "execution_count": 12,
   "metadata": {},
   "outputs": [],
   "source": [
    "layers_to_include = [21,22,23,24,25,26,27]\n",
    "\n",
    "enmicro_steer = steer_df.query(\"vector == 'enmicro' and layer in @layers_to_include\")\n",
    "enmicro_swap_steer = steer_df.query(\"vector == 'enmicro_swap' and layer in @layers_to_include\")\n",
    "\n",
    "merged=enmicro_steer.merge(enmicro_swap_steer, on=[\"question_id\", \"lang\", \"country\", \"alpha\", \"layer\"], suffixes=(\"_enmicro\", \"_enmicro_swap\"), how=\"inner\")"
   ]
  },
  {
   "cell_type": "code",
   "execution_count": null,
   "metadata": {},
   "outputs": [],
   "source": [
    "# line plot showing all la"
   ]
  },
  {
   "cell_type": "code",
   "execution_count": 13,
   "metadata": {},
   "outputs": [
    {
     "data": {
      "text/plain": [
       "(5987, 69)"
      ]
     },
     "execution_count": 13,
     "metadata": {},
     "output_type": "execute_result"
    }
   ],
   "source": [
    "merged.query(\"alpha==1 and layer==21\").shape"
   ]
  },
  {
   "cell_type": "code",
   "execution_count": 41,
   "metadata": {},
   "outputs": [
    {
     "data": {
      "text/plain": [
       "array([-2, -1,  1,  2])"
      ]
     },
     "execution_count": 41,
     "metadata": {},
     "output_type": "execute_result"
    }
   ],
   "source": [
    "merged[\"alpha\"].unique()"
   ]
  },
  {
   "cell_type": "code",
   "execution_count": 31,
   "metadata": {},
   "outputs": [],
   "source": [
    "subs = merged.copy().query(\"alpha == 1 and layer==25 and lang=='English'\")# and layer==25\")"
   ]
  },
  {
   "cell_type": "code",
   "execution_count": 32,
   "metadata": {},
   "outputs": [
    {
     "data": {
      "text/plain": [
       "3574"
      ]
     },
     "execution_count": 32,
     "metadata": {},
     "output_type": "execute_result"
    }
   ],
   "source": [
    "len(subs)"
   ]
  },
  {
   "cell_type": "code",
   "execution_count": 35,
   "metadata": {},
   "outputs": [
    {
     "data": {
      "text/plain": [
       "0.6776720761052043"
      ]
     },
     "execution_count": 35,
     "metadata": {},
     "output_type": "execute_result"
    }
   ],
   "source": [
    "(subs[\"ans_type_enmicro\"] == subs[\"ans_type_enmicro_swap\"]).sum() / len(subs)"
   ]
  },
  {
   "cell_type": "code",
   "execution_count": 34,
   "metadata": {},
   "outputs": [
    {
     "data": {
      "text/plain": [
       "0.6866256295467263"
      ]
     },
     "execution_count": 34,
     "metadata": {},
     "output_type": "execute_result"
    }
   ],
   "source": [
    "(subs[\"steer_out_enmicro\"] != subs[\"steer_out_enmicro_swap\"]).sum() / len(subs)"
   ]
  },
  {
   "cell_type": "code",
   "execution_count": null,
   "metadata": {},
   "outputs": [
    {
     "data": {
      "application/vnd.microsoft.datawrangler.viewer.v0+json": {
       "columns": [
        {
         "name": "index",
         "rawType": "int64",
         "type": "integer"
        },
        {
         "name": "alpha",
         "rawType": "int64",
         "type": "integer"
        },
        {
         "name": "steer_out",
         "rawType": "object",
         "type": "string"
        },
        {
         "name": "layer",
         "rawType": "int64",
         "type": "integer"
        },
        {
         "name": "source_id",
         "rawType": "object",
         "type": "string"
        },
        {
         "name": "question_id",
         "rawType": "object",
         "type": "string"
        },
        {
         "name": "country",
         "rawType": "object",
         "type": "string"
        },
        {
         "name": "question",
         "rawType": "object",
         "type": "string"
        },
        {
         "name": "lang",
         "rawType": "object",
         "type": "string"
        },
        {
         "name": "options",
         "rawType": "object",
         "type": "string"
        },
        {
         "name": "hint",
         "rawType": "bool",
         "type": "boolean"
        },
        {
         "name": "ans_local_idx",
         "rawType": "float64",
         "type": "float"
        },
        {
         "name": "ans_west_idx",
         "rawType": "float64",
         "type": "float"
        },
        {
         "name": "ans_local",
         "rawType": "object",
         "type": "unknown"
        },
        {
         "name": "ans_west",
         "rawType": "object",
         "type": "unknown"
        },
        {
         "name": "prompt",
         "rawType": "object",
         "type": "string"
        },
        {
         "name": "subtask",
         "rawType": "object",
         "type": "string"
        },
        {
         "name": "translated",
         "rawType": "object",
         "type": "unknown"
        },
        {
         "name": "swapped",
         "rawType": "object",
         "type": "unknown"
        },
        {
         "name": "messages",
         "rawType": "object",
         "type": "string"
        },
        {
         "name": "input",
         "rawType": "object",
         "type": "string"
        },
        {
         "name": "output",
         "rawType": "object",
         "type": "string"
        },
        {
         "name": "ans_type",
         "rawType": "object",
         "type": "string"
        },
        {
         "name": "model",
         "rawType": "object",
         "type": "string"
        },
        {
         "name": "key",
         "rawType": "object",
         "type": "string"
        },
        {
         "name": "prob_west",
         "rawType": "float64",
         "type": "float"
        },
        {
         "name": "prob_local",
         "rawType": "float64",
         "type": "float"
        },
        {
         "name": "vector",
         "rawType": "object",
         "type": "string"
        },
        {
         "name": "unique_id",
         "rawType": "object",
         "type": "string"
        },
        {
         "name": "local_ans",
         "rawType": "int64",
         "type": "integer"
        },
        {
         "name": "west_ans",
         "rawType": "int64",
         "type": "integer"
        },
        {
         "name": "no_ans",
         "rawType": "int64",
         "type": "integer"
        },
        {
         "name": "local_ans_base",
         "rawType": "int64",
         "type": "integer"
        },
        {
         "name": "west_ans_base",
         "rawType": "int64",
         "type": "integer"
        },
        {
         "name": "no_ans_base",
         "rawType": "int64",
         "type": "integer"
        },
        {
         "name": "delta_local_ans",
         "rawType": "int64",
         "type": "integer"
        },
        {
         "name": "delta_west_ans",
         "rawType": "int64",
         "type": "integer"
        },
        {
         "name": "delta_no_ans",
         "rawType": "int64",
         "type": "integer"
        }
       ],
       "conversionMethod": "pd.DataFrame",
       "ref": "8c773575-cb90-417f-a1e6-d6af30a6ab6e",
       "rows": [
        [
         "935124",
         "1",
         "2",
         "25",
         "synth_names",
         "synth_names_0_tr",
         "Turkey",
         "Which of the following names is most likely to be my name?",
         "English",
         "['Alparslan', 'Liam']",
         "False",
         "1.0",
         "2.0",
         "1",
         "2",
         "Question:To answer the following multiple-choice question, you should choose one option only among 1,2,3,4. Instruction: You must select one option among 1,2,3,4. Do not output any other things.\nWhich of the following names is most likely to be my name?\nOptions:\n1. Alparslan\n2. Liam",
         "names",
         null,
         "True",
         "[{'role': 'user', 'content': 'Question:To answer the following multiple-choice question, you should choose one option only among 1,2,3,4. Instruction: You must select one option among 1,2,3,4. Do not output any other things.\\nWhich of the following names is most likely to be my name?\\nOptions:\\n1. Alparslan\\n2. Liam'}]",
         "<bos><start_of_turn>user\nQuestion:To answer the following multiple-choice question, you should choose one option only among 1,2,3,4. Instruction: You must select one option among 1,2,3,4. Do not output any other things.\nWhich of the following names is most likely to be my name?\nOptions:\n1. Alparslan\n2. Liam<end_of_turn>\n<start_of_turn>model\n",
         "2 \n",
         "west",
         "gemma2_9b_it",
         "synth_names_0_trTurkey",
         "1.0",
         "8.940696716308594e-06",
         "enmicro_swap",
         "synth_names_0_trEnglishTurkeyFalse",
         "0",
         "1",
         "0",
         "1",
         "0",
         "0",
         "-1",
         "1",
         "0"
        ],
        [
         "935125",
         "1",
         "2",
         "25",
         "synth_names",
         "synth_names_0_tr",
         "Turkey",
         "Aşağıdaki isimlerden hangisi muhtemelen benim adım?",
         "Turkish",
         "['Alparslan', 'Liam']",
         "False",
         "1.0",
         "2.0",
         "1",
         "2",
         "Soru:Aşağıdaki çoktan seçmeli soruya cevap vermek için, yalnızca 1,2,3,4 arasından bir seçenek seçmelisiniz. Talimat: 1,2,3,4 arasından bir seçenek seçmelisiniz. Başka bir şey çıkarmayın.\nAşağıdaki isimlerden hangisi muhtemelen benim adım?\nSeçenekler:\n1. Alparslan\n2. Liam",
         "names",
         null,
         "True",
         "[{'role': 'user', 'content': 'Soru:Aşağıdaki çoktan seçmeli soruya cevap vermek için, yalnızca 1,2,3,4 arasından bir seçenek seçmelisiniz. Talimat: 1,2,3,4 arasından bir seçenek seçmelisiniz. Başka bir şey çıkarmayın.\\nAşağıdaki isimlerden hangisi muhtemelen benim adım?\\nSeçenekler:\\n1. Alparslan\\n2. Liam'}]",
         "<bos><start_of_turn>user\nSoru:Aşağıdaki çoktan seçmeli soruya cevap vermek için, yalnızca 1,2,3,4 arasından bir seçenek seçmelisiniz. Talimat: 1,2,3,4 arasından bir seçenek seçmelisiniz. Başka bir şey çıkarmayın.\nAşağıdaki isimlerden hangisi muhtemelen benim adım?\nSeçenekler:\n1. Alparslan\n2. Liam<end_of_turn>\n<start_of_turn>model\n",
         "2 \n",
         "west",
         "gemma2_9b_it",
         "synth_names_0_trTurkey",
         "1.0",
         "1.150369644165039e-05",
         "enmicro_swap",
         "synth_names_0_trTurkishTurkeyFalse",
         "0",
         "1",
         "0",
         "1",
         "0",
         "0",
         "-1",
         "1",
         "0"
        ]
       ],
       "shape": {
        "columns": 37,
        "rows": 2
       }
      },
      "text/html": [
       "<div>\n",
       "<style scoped>\n",
       "    .dataframe tbody tr th:only-of-type {\n",
       "        vertical-align: middle;\n",
       "    }\n",
       "\n",
       "    .dataframe tbody tr th {\n",
       "        vertical-align: top;\n",
       "    }\n",
       "\n",
       "    .dataframe thead th {\n",
       "        text-align: right;\n",
       "    }\n",
       "</style>\n",
       "<table border=\"1\" class=\"dataframe\">\n",
       "  <thead>\n",
       "    <tr style=\"text-align: right;\">\n",
       "      <th></th>\n",
       "      <th>alpha</th>\n",
       "      <th>steer_out</th>\n",
       "      <th>layer</th>\n",
       "      <th>source_id</th>\n",
       "      <th>question_id</th>\n",
       "      <th>country</th>\n",
       "      <th>question</th>\n",
       "      <th>lang</th>\n",
       "      <th>options</th>\n",
       "      <th>hint</th>\n",
       "      <th>...</th>\n",
       "      <th>unique_id</th>\n",
       "      <th>local_ans</th>\n",
       "      <th>west_ans</th>\n",
       "      <th>no_ans</th>\n",
       "      <th>local_ans_base</th>\n",
       "      <th>west_ans_base</th>\n",
       "      <th>no_ans_base</th>\n",
       "      <th>delta_local_ans</th>\n",
       "      <th>delta_west_ans</th>\n",
       "      <th>delta_no_ans</th>\n",
       "    </tr>\n",
       "  </thead>\n",
       "  <tbody>\n",
       "    <tr>\n",
       "      <th>935124</th>\n",
       "      <td>1</td>\n",
       "      <td>2</td>\n",
       "      <td>25</td>\n",
       "      <td>synth_names</td>\n",
       "      <td>synth_names_0_tr</td>\n",
       "      <td>Turkey</td>\n",
       "      <td>Which of the following names is most likely to...</td>\n",
       "      <td>English</td>\n",
       "      <td>['Alparslan', 'Liam']</td>\n",
       "      <td>False</td>\n",
       "      <td>...</td>\n",
       "      <td>synth_names_0_trEnglishTurkeyFalse</td>\n",
       "      <td>0</td>\n",
       "      <td>1</td>\n",
       "      <td>0</td>\n",
       "      <td>1</td>\n",
       "      <td>0</td>\n",
       "      <td>0</td>\n",
       "      <td>-1</td>\n",
       "      <td>1</td>\n",
       "      <td>0</td>\n",
       "    </tr>\n",
       "    <tr>\n",
       "      <th>935125</th>\n",
       "      <td>1</td>\n",
       "      <td>2</td>\n",
       "      <td>25</td>\n",
       "      <td>synth_names</td>\n",
       "      <td>synth_names_0_tr</td>\n",
       "      <td>Turkey</td>\n",
       "      <td>Aşağıdaki isimlerden hangisi muhtemelen benim ...</td>\n",
       "      <td>Turkish</td>\n",
       "      <td>['Alparslan', 'Liam']</td>\n",
       "      <td>False</td>\n",
       "      <td>...</td>\n",
       "      <td>synth_names_0_trTurkishTurkeyFalse</td>\n",
       "      <td>0</td>\n",
       "      <td>1</td>\n",
       "      <td>0</td>\n",
       "      <td>1</td>\n",
       "      <td>0</td>\n",
       "      <td>0</td>\n",
       "      <td>-1</td>\n",
       "      <td>1</td>\n",
       "      <td>0</td>\n",
       "    </tr>\n",
       "  </tbody>\n",
       "</table>\n",
       "<p>2 rows × 37 columns</p>\n",
       "</div>"
      ],
      "text/plain": [
       "        alpha steer_out  layer    source_id       question_id country  \\\n",
       "935124      1         2     25  synth_names  synth_names_0_tr  Turkey   \n",
       "935125      1         2     25  synth_names  synth_names_0_tr  Turkey   \n",
       "\n",
       "                                                 question     lang  \\\n",
       "935124  Which of the following names is most likely to...  English   \n",
       "935125  Aşağıdaki isimlerden hangisi muhtemelen benim ...  Turkish   \n",
       "\n",
       "                      options   hint  ...                           unique_id  \\\n",
       "935124  ['Alparslan', 'Liam']  False  ...  synth_names_0_trEnglishTurkeyFalse   \n",
       "935125  ['Alparslan', 'Liam']  False  ...  synth_names_0_trTurkishTurkeyFalse   \n",
       "\n",
       "        local_ans west_ans no_ans local_ans_base west_ans_base no_ans_base  \\\n",
       "935124          0        1      0              1             0           0   \n",
       "935125          0        1      0              1             0           0   \n",
       "\n",
       "       delta_local_ans delta_west_ans delta_no_ans  \n",
       "935124              -1              1            0  \n",
       "935125              -1              1            0  \n",
       "\n",
       "[2 rows x 37 columns]"
      ]
     },
     "execution_count": 32,
     "metadata": {},
     "output_type": "execute_result"
    }
   ],
   "source": [
    "steer_df.query(\"vector=='enmicro_swap' and question_id=='synth_names_0_tr' and alpha==1 and layer==25\")"
   ]
  },
  {
   "cell_type": "code",
   "execution_count": 33,
   "metadata": {},
   "outputs": [
    {
     "data": {
      "application/vnd.microsoft.datawrangler.viewer.v0+json": {
       "columns": [
        {
         "name": "index",
         "rawType": "int64",
         "type": "integer"
        },
        {
         "name": "alpha",
         "rawType": "int64",
         "type": "integer"
        },
        {
         "name": "steer_out",
         "rawType": "object",
         "type": "string"
        },
        {
         "name": "layer",
         "rawType": "int64",
         "type": "integer"
        },
        {
         "name": "source_id",
         "rawType": "object",
         "type": "string"
        },
        {
         "name": "question_id",
         "rawType": "object",
         "type": "string"
        },
        {
         "name": "country",
         "rawType": "object",
         "type": "string"
        },
        {
         "name": "question",
         "rawType": "object",
         "type": "string"
        },
        {
         "name": "lang",
         "rawType": "object",
         "type": "string"
        },
        {
         "name": "options",
         "rawType": "object",
         "type": "string"
        },
        {
         "name": "hint",
         "rawType": "bool",
         "type": "boolean"
        },
        {
         "name": "ans_local_idx",
         "rawType": "float64",
         "type": "float"
        },
        {
         "name": "ans_west_idx",
         "rawType": "float64",
         "type": "float"
        },
        {
         "name": "ans_local",
         "rawType": "object",
         "type": "unknown"
        },
        {
         "name": "ans_west",
         "rawType": "object",
         "type": "unknown"
        },
        {
         "name": "prompt",
         "rawType": "object",
         "type": "string"
        },
        {
         "name": "subtask",
         "rawType": "object",
         "type": "string"
        },
        {
         "name": "translated",
         "rawType": "object",
         "type": "unknown"
        },
        {
         "name": "swapped",
         "rawType": "object",
         "type": "unknown"
        },
        {
         "name": "messages",
         "rawType": "object",
         "type": "unknown"
        },
        {
         "name": "input",
         "rawType": "object",
         "type": "string"
        },
        {
         "name": "output",
         "rawType": "object",
         "type": "string"
        },
        {
         "name": "ans_type",
         "rawType": "object",
         "type": "string"
        },
        {
         "name": "model",
         "rawType": "object",
         "type": "string"
        },
        {
         "name": "key",
         "rawType": "object",
         "type": "string"
        },
        {
         "name": "prob_west",
         "rawType": "float64",
         "type": "float"
        },
        {
         "name": "prob_local",
         "rawType": "float64",
         "type": "float"
        },
        {
         "name": "vector",
         "rawType": "object",
         "type": "string"
        },
        {
         "name": "unique_id",
         "rawType": "object",
         "type": "string"
        },
        {
         "name": "local_ans",
         "rawType": "int64",
         "type": "integer"
        },
        {
         "name": "west_ans",
         "rawType": "int64",
         "type": "integer"
        },
        {
         "name": "no_ans",
         "rawType": "int64",
         "type": "integer"
        },
        {
         "name": "local_ans_base",
         "rawType": "int64",
         "type": "integer"
        },
        {
         "name": "west_ans_base",
         "rawType": "int64",
         "type": "integer"
        },
        {
         "name": "no_ans_base",
         "rawType": "int64",
         "type": "integer"
        },
        {
         "name": "delta_local_ans",
         "rawType": "int64",
         "type": "integer"
        },
        {
         "name": "delta_west_ans",
         "rawType": "int64",
         "type": "integer"
        },
        {
         "name": "delta_no_ans",
         "rawType": "int64",
         "type": "integer"
        }
       ],
       "conversionMethod": "pd.DataFrame",
       "ref": "702460ce-5dc8-4937-80e0-0d6ae6fd14ae",
       "rows": [
        [
         "168788",
         "1",
         "2",
         "25",
         "synth_names",
         "synth_names_0_tr",
         "Turkey",
         "Which of the following names is most likely to be my name?",
         "English",
         "['Liam', 'Alparslan']",
         "False",
         "2.0",
         "1.0",
         "2",
         "1",
         "Question:To answer the following multiple-choice question, you should choose one option only among 1,2,3,4. Instruction: You must select one option among 1,2,3,4. Do not output any other things.\nWhich of the following names is most likely to be my name?\nOptions:\n1. Liam\n2. Alparslan",
         "names",
         "False",
         null,
         null,
         "<bos><start_of_turn>user\nQuestion:To answer the following multiple-choice question, you should choose one option only among 1,2,3,4. Instruction: You must select one option among 1,2,3,4. Do not output any other things.\nWhich of the following names is most likely to be my name?\nOptions:\n1. Liam\n2. Alparslan<end_of_turn>\n<start_of_turn>model\n",
         "2 \n",
         "local",
         "gemma2_9b_it",
         "synth_names_0_trTurkey",
         "7.867813110351562e-06",
         "1.0",
         "enmicro",
         "synth_names_0_trEnglishTurkeyFalse",
         "1",
         "0",
         "0",
         "1",
         "0",
         "0",
         "0",
         "0",
         "0"
        ],
        [
         "168789",
         "1",
         "2",
         "25",
         "synth_names",
         "synth_names_0_tr",
         "Turkey",
         "Aşağıdaki isimlerden hangisi muhtemelen benim adım?",
         "Turkish",
         "['Liam', 'Alparslan']",
         "False",
         "2.0",
         "1.0",
         "2",
         "1",
         "Soru:Aşağıdaki çoktan seçmeli soruya cevap vermek için, yalnızca 1,2,3,4 arasından bir seçenek seçmelisiniz. Talimat: 1,2,3,4 arasından bir seçenek seçmelisiniz. Başka bir şey çıkarmayın.\nAşağıdaki isimlerden hangisi muhtemelen benim adım?\nSeçenekler:\n1. Liam\n2. Alparslan",
         "names",
         "True",
         null,
         null,
         "<bos><start_of_turn>user\nSoru:Aşağıdaki çoktan seçmeli soruya cevap vermek için, yalnızca 1,2,3,4 arasından bir seçenek seçmelisiniz. Talimat: 1,2,3,4 arasından bir seçenek seçmelisiniz. Başka bir şey çıkarmayın.\nAşağıdaki isimlerden hangisi muhtemelen benim adım?\nSeçenekler:\n1. Liam\n2. Alparslan<end_of_turn>\n<start_of_turn>model\n",
         "2 \n",
         "local",
         "gemma2_9b_it",
         "synth_names_0_trTurkey",
         "1.895427703857422e-05",
         "1.0",
         "enmicro",
         "synth_names_0_trTurkishTurkeyFalse",
         "1",
         "0",
         "0",
         "1",
         "0",
         "0",
         "0",
         "0",
         "0"
        ]
       ],
       "shape": {
        "columns": 37,
        "rows": 2
       }
      },
      "text/html": [
       "<div>\n",
       "<style scoped>\n",
       "    .dataframe tbody tr th:only-of-type {\n",
       "        vertical-align: middle;\n",
       "    }\n",
       "\n",
       "    .dataframe tbody tr th {\n",
       "        vertical-align: top;\n",
       "    }\n",
       "\n",
       "    .dataframe thead th {\n",
       "        text-align: right;\n",
       "    }\n",
       "</style>\n",
       "<table border=\"1\" class=\"dataframe\">\n",
       "  <thead>\n",
       "    <tr style=\"text-align: right;\">\n",
       "      <th></th>\n",
       "      <th>alpha</th>\n",
       "      <th>steer_out</th>\n",
       "      <th>layer</th>\n",
       "      <th>source_id</th>\n",
       "      <th>question_id</th>\n",
       "      <th>country</th>\n",
       "      <th>question</th>\n",
       "      <th>lang</th>\n",
       "      <th>options</th>\n",
       "      <th>hint</th>\n",
       "      <th>...</th>\n",
       "      <th>unique_id</th>\n",
       "      <th>local_ans</th>\n",
       "      <th>west_ans</th>\n",
       "      <th>no_ans</th>\n",
       "      <th>local_ans_base</th>\n",
       "      <th>west_ans_base</th>\n",
       "      <th>no_ans_base</th>\n",
       "      <th>delta_local_ans</th>\n",
       "      <th>delta_west_ans</th>\n",
       "      <th>delta_no_ans</th>\n",
       "    </tr>\n",
       "  </thead>\n",
       "  <tbody>\n",
       "    <tr>\n",
       "      <th>168788</th>\n",
       "      <td>1</td>\n",
       "      <td>2</td>\n",
       "      <td>25</td>\n",
       "      <td>synth_names</td>\n",
       "      <td>synth_names_0_tr</td>\n",
       "      <td>Turkey</td>\n",
       "      <td>Which of the following names is most likely to...</td>\n",
       "      <td>English</td>\n",
       "      <td>['Liam', 'Alparslan']</td>\n",
       "      <td>False</td>\n",
       "      <td>...</td>\n",
       "      <td>synth_names_0_trEnglishTurkeyFalse</td>\n",
       "      <td>1</td>\n",
       "      <td>0</td>\n",
       "      <td>0</td>\n",
       "      <td>1</td>\n",
       "      <td>0</td>\n",
       "      <td>0</td>\n",
       "      <td>0</td>\n",
       "      <td>0</td>\n",
       "      <td>0</td>\n",
       "    </tr>\n",
       "    <tr>\n",
       "      <th>168789</th>\n",
       "      <td>1</td>\n",
       "      <td>2</td>\n",
       "      <td>25</td>\n",
       "      <td>synth_names</td>\n",
       "      <td>synth_names_0_tr</td>\n",
       "      <td>Turkey</td>\n",
       "      <td>Aşağıdaki isimlerden hangisi muhtemelen benim ...</td>\n",
       "      <td>Turkish</td>\n",
       "      <td>['Liam', 'Alparslan']</td>\n",
       "      <td>False</td>\n",
       "      <td>...</td>\n",
       "      <td>synth_names_0_trTurkishTurkeyFalse</td>\n",
       "      <td>1</td>\n",
       "      <td>0</td>\n",
       "      <td>0</td>\n",
       "      <td>1</td>\n",
       "      <td>0</td>\n",
       "      <td>0</td>\n",
       "      <td>0</td>\n",
       "      <td>0</td>\n",
       "      <td>0</td>\n",
       "    </tr>\n",
       "  </tbody>\n",
       "</table>\n",
       "<p>2 rows × 37 columns</p>\n",
       "</div>"
      ],
      "text/plain": [
       "        alpha steer_out  layer    source_id       question_id country  \\\n",
       "168788      1         2     25  synth_names  synth_names_0_tr  Turkey   \n",
       "168789      1         2     25  synth_names  synth_names_0_tr  Turkey   \n",
       "\n",
       "                                                 question     lang  \\\n",
       "168788  Which of the following names is most likely to...  English   \n",
       "168789  Aşağıdaki isimlerden hangisi muhtemelen benim ...  Turkish   \n",
       "\n",
       "                      options   hint  ...                           unique_id  \\\n",
       "168788  ['Liam', 'Alparslan']  False  ...  synth_names_0_trEnglishTurkeyFalse   \n",
       "168789  ['Liam', 'Alparslan']  False  ...  synth_names_0_trTurkishTurkeyFalse   \n",
       "\n",
       "        local_ans west_ans no_ans local_ans_base west_ans_base no_ans_base  \\\n",
       "168788          1        0      0              1             0           0   \n",
       "168789          1        0      0              1             0           0   \n",
       "\n",
       "       delta_local_ans delta_west_ans delta_no_ans  \n",
       "168788               0              0            0  \n",
       "168789               0              0            0  \n",
       "\n",
       "[2 rows x 37 columns]"
      ]
     },
     "execution_count": 33,
     "metadata": {},
     "output_type": "execute_result"
    }
   ],
   "source": [
    "steer_df.query(\"vector=='enmicro' and question_id=='synth_names_0_tr' and alpha==1 and layer==25\")"
   ]
  },
  {
   "cell_type": "code",
   "execution_count": null,
   "metadata": {},
   "outputs": [
    {
     "data": {
      "image/png": "[encoded data removed]",
      "text/plain": [
       "<Figure size 600x300 with 1 Axes>"
      ]
     },
     "metadata": {},
     "output_type": "display_data"
    }
   ],
   "source": [
    "import numpy as np\n",
    "import matplotlib.pyplot as plt\n",
    "\n",
    "title_map = {\n",
    "    \"cities\": \"Cities\",\n",
    "    \"names\": \"Names\", \n",
    "    \"culturedistil\": \"CultureDistil\",\n",
    "    \"culturebench\": \"CulturalBench\"\n",
    "}\n",
    "\n",
    "########################################################\n",
    "# 0) Create disp_df without restricting vectors\n",
    "########################################################\n",
    "# (Remove the `(vector=='enuniversal' or vector=='none')` part)\n",
    "query = \"lang!='xEnglish' and alpha<3 and alpha>-3 and layer<28 and layer>20\"\n",
    "disp_df = steer_df.query(query).copy()\n",
    "\n",
    "# Optional: If you still want a column marking 'English' vs 'Non-English'\n",
    "disp_df[\"title\"] = disp_df[\"lang\"].apply(\n",
    "    lambda x: \"\" if x == \"English\" else \"\"\n",
    ")\n",
    "\n",
    "########################################################\n",
    "# 1) Filter down to alpha=0 only\n",
    "########################################################\n",
    "disp_df_alpha0 = disp_df[disp_df[\"alpha\"] == 2].copy()\n",
    "\n",
    "########################################################\n",
    "# 2) Create subplots by \"title\" group (if you want them)\n",
    "#    If you only want a single plot, skip grouping by \"title\".\n",
    "########################################################\n",
    "subtasks = disp_df_alpha0[\"title\"].unique()\n",
    "fig, axes = plt.subplots(len(subtasks), 1, figsize=(6, 3), sharex=True, sharey=False)\n",
    "if not isinstance(axes, np.ndarray):\n",
    "    axes = [axes]  # Ensure an iterable of axes if there's only one subplot\n",
    "\n",
    "# Define a color mapping for each vector type (5 total)\n",
    "vector_types = [\"enmicro\", \"enmicro_swap\"]#, \"transmicro\", \"enuniversal_loo\", \"transuniversal_loo\"]\n",
    "#vector_types = [\"none\", \"enmicro\", \"transmicro\", \"enuniversal_loo\", \"transuniversal_loo\", \"implicit\"]\n",
    "colors = plt.cm.tab10(np.linspace(0, 1, len(vector_types)))\n",
    "vector_color_map = dict(zip(vector_types, colors))\n",
    "\n",
    "# Update vec_title for more compact labels\n",
    "\n",
    "vec_title = {\n",
    "    \"enmicro\": \"original dataset\",\n",
    "    \"enmicro_swap\": \"options swapped\",\n",
    "    \"implicit\": \"Implicit\",\n",
    "    \"transmicro\": \"Tr-culture\",\n",
    "    \"enuniversal_loo\": \"En-univ\",\n",
    "    \"transuniversal_loo\": \"Tr-univ\",\n",
    "}\n",
    "\n",
    "vec_title_x = {\"enmicro\": \"En - per culture\",\n",
    "             \"transmicro\": \"Tr. - per culture\",\n",
    "             \"enmicro_swap\": \"En - per culture (swapped)\",\n",
    "            \"transmicro_swap\": \"Tr. - per culture (swapped)\",\n",
    "             \"enuniversal\": \"En - universal\",\n",
    "             \"transuniversal\": \"Tr. - universal\",}\n",
    "# Set up some style preferences\n",
    "plt.rcParams.update({'font.size': 14})\n",
    "plt.rcParams.update({'xtick.labelsize': 12, 'ytick.labelsize': 12, 'axes.labelsize': 13})\n",
    "\n",
    "########################################################\n",
    "# 3) Iterate over each subplot (by \"title\") and plot \n",
    "#    mean ± 95% CI for each vector type.\n",
    "########################################################\n",
    "for ax, (title_value, group) in zip(axes, disp_df_alpha0.groupby(\"title\")):\n",
    "    hint_q = \"lang=='English'\" if title_value == \"English\" else \"lang!='English'\"\n",
    "    hinted_subs = hinted.query(hint_q)\n",
    "    # group is already filtered to alpha=0 and the current 'title'\n",
    "    # Now group further by vector\n",
    "    for vec in vector_types:\n",
    "        vec_df = group[group[\"vector\"] == vec]\n",
    "        if vec_df.empty:\n",
    "            continue\n",
    "        \n",
    "        # Group by layer to get list of local_ans values\n",
    "        layer_groups = vec_df.groupby(\"layer\")[\"local_ans\"].apply(list)\n",
    "        \n",
    "        # Sort layers numerically\n",
    "        layers = sorted(layer_groups.index)\n",
    "        \n",
    "        means, ci_low, ci_high = [], [], []\n",
    "        \n",
    "        for lyr in layers:\n",
    "            arr = np.array(layer_groups.loc[lyr], dtype=float)\n",
    "            m = arr.mean()\n",
    "            # Standard error of the mean\n",
    "            sem = arr.std(ddof=1) / np.sqrt(len(arr))\n",
    "            ci = 1.96 * sem  # 95% CI ~ ±1.96 * SEM\n",
    "            \n",
    "            means.append(m)\n",
    "            ci_low.append(m - ci)\n",
    "            ci_high.append(m + ci)\n",
    "        \n",
    "        # Plot line and fill for CI\n",
    "        color = vector_color_map[vec]\n",
    "        ax.plot(\n",
    "            layers, means,\n",
    "            label=vec_title[vec], \n",
    "            color=color,\n",
    "            marker='o',\n",
    "            alpha=0.7,\n",
    "        )\n",
    "        #ax.fill_between(layers, ci_low, ci_high, color=color, alpha=0.2)\n",
    "    # Plot dashed line for alpha=0 per layer in disp_df\n",
    "    '''\n",
    "    alpha0_group = disp_df[(disp_df[\"alpha\"] == 0) & (disp_df[\"title\"]==title_value)].groupby(\"layer\")[\"local_ans\"].mean()\n",
    "    ax.plot(\n",
    "        alpha0_group.index, alpha0_group.values,\n",
    "        label=\"w/o steer\",\n",
    "        linestyle=\"dashed\",\n",
    "        color=\"black\"\n",
    "    )\n",
    "    '''\n",
    "    ax.plot()\n",
    "    ax.set_title(title_value)\n",
    "    ax.set_ylabel(\"Loc. Rate\")  # or \"Loc. Rate\"\n",
    "    #ax.axhline(hinted_subs[\"local_ans\"].mean(), color='red', linestyle='--', label=\"w/ Context\")\n",
    "    ax.yaxis.set_major_locator(plt.MaxNLocator(nbins=6))\n",
    "    ax.grid(True)\n",
    "    # Add a single legend for the entire figure\n",
    "    handles, labels = [], []\n",
    "    for ax in axes:\n",
    "        for handle, label in zip(*ax.get_legend_handles_labels()):\n",
    "            if label not in labels:\n",
    "                handles.append(handle)\n",
    "                labels.append(label)\n",
    "#fig.legend(handles, labels, loc='center left', bbox_to_anchor=(1, 0.5))\n",
    "#fig.legend(handles, labels, loc='right', bbox_to_anchor=(1, 1))\n",
    "    #ax.legend(loc='upper left', bbox_to_anchor=(1, 1))\n",
    "\n",
    "axes[-1].set_xlabel(\"Layer\")\n",
    "fig.legend(handles, labels, loc='upper center', bbox_to_anchor=(0.5, 1.05), ncol=4, fontsize='x-small', frameon=False)\n",
    "#fig.legend(handles, labels, loc='upper center', bbox_to_anchor=(0.5, 1.05), ncol=len(labels), fontsize='x-small', frameon=False)\n",
    "\n",
    "#fig.legend(handles, labels, loc='upper center', bbox_to_anchor=(0.5, 1.05), ncol=len(labels), fontsize='x-small', frameon=False)\n",
    "# Reduce whitespace and lower the font size of the legend\n",
    "#fig.legend(handles, labels, loc='upper center', bbox_to_anchor=(0.5, 1.05), ncol=len(labels), fontsize='x-small')\n",
    "# Make legend small\n",
    "#fig.legend(handles, labels, loc='upper center', bbox_to_anchor=(0.5, 1.1), ncol=len(labels), fontsize='small')\n",
    "# Make font of tick params larger\n",
    "for ax in axes:\n",
    "    ax.tick_params(axis='both', which='major', labelsize=14)\n",
    "\n",
    "# Make x label and y label font size larger\n",
    "axes[-1].set_xlabel(\"Layer\", fontsize=16)\n",
    "for ax in axes:\n",
    "    ax.set_ylabel(\"Loc. Rate\", fontsize=14)\n",
    "# Move legend to the top\n",
    "#fig.legend(handles, labels, loc='upper center', bbox_to_anchor=(0.5, 1.1), ncol=len(labels))\n",
    "plt.tight_layout(pad=1.1)\n",
    "# Save the figure\n",
    "\n",
    "plt.tight_layout()\n",
    "plt.show()\n",
    "fig.savefig(\"universal_vs_culturespecific.pdf\", dpi=300, bbox_inches='tight')"
   ]
  },
  {
   "cell_type": "code",
   "execution_count": null,
   "metadata": {},
   "outputs": [],
   "source": []
  },
  {
   "cell_type": "code",
   "execution_count": 49,
   "metadata": {},
   "outputs": [
    {
     "name": "stdout",
     "output_type": "stream",
     "text": [
      "         subtask  local_ans_steer  local_ans_hint\n",
      "0         cities         0.821809        1.000000\n",
      "1   culturebench         0.275000        0.576923\n",
      "2  culturedistil         0.520000        0.825666\n",
      "3          names         0.751572        0.911980\n"
     ]
    }
   ],
   "source": [
    "best_alpha = 5\n",
    "best_layer = 22\n",
    "\n",
    "query = \"lang=='English'\"\n",
    "\n",
    "# Filter the dataframe for the best alpha\n",
    "best_alpha_df = steer_df.query(\"alpha == @best_alpha and layer == @best_layer\")\n",
    "\n",
    "# Group by subtask and calculate the mean localization rate\n",
    "performance_by_subtask = best_alpha_df.query(query).groupby('subtask')['local_ans'].mean().reset_index()\n",
    "hinted_rate = hinted.query(query).groupby(\"subtask\")[\"local_ans\"].mean().reset_index()\n",
    "performance_by_subtask = performance_by_subtask.merge(hinted_rate, on=\"subtask\", suffixes=(\"_steer\", \"_hint\"))\n",
    "\n",
    "print(performance_by_subtask)"
   ]
  },
  {
   "cell_type": "code",
   "execution_count": null,
   "metadata": {},
   "outputs": [],
   "source": []
  }
 ],
 "metadata": {
  "kernelspec": {
   "display_name": "default",
   "language": "python",
   "name": "python3"
  },
  "language_info": {
   "codemirror_mode": {
    "name": "ipython",
    "version": 3
   },
   "file_extension": ".py",
   "mimetype": "text/x-python",
   "name": "python",
   "nbconvert_exporter": "python",
   "pygments_lexer": "ipython3",
   "version": "3.11.9"
  }
 },
 "nbformat": 4,
 "nbformat_minor": 2
}
