{
 "cells": [
  {
   "cell_type": "code",
   "execution_count": 1,
   "metadata": {},
   "outputs": [],
   "source": [
    "%%capture\n",
    "!pip install -r requirements.txt"
   ]
  },
  {
   "cell_type": "code",
   "execution_count": null,
   "metadata": {},
   "outputs": [],
   "source": [
    "import sys\n",
    "from pathlib import Path\n",
    "import json\n",
    "import pandas as pd\n",
    "from dotenv import load_dotenv\n",
    "import plotly.express as px\n",
    "import torch as t\n",
    "import pandas as pd\n",
    "from tools.globals import load_country_globals\n",
    "from tools.nnsight_utils import collect_residuals\n",
    "from tqdm import tqdm\n",
    "from nnsight import LanguageModel\n",
    "from transformers import AutoTokenizer\n",
    "\n",
    "load_country_globals()\n",
    "\n",
    "device = t.device(\n",
    "    \"mps\" if t.backends.mps.is_available() else \"cuda\" if t.cuda.is_available() else \"cpu\"\n",
    ")\n",
    "load_dotenv()\n",
    "t.set_grad_enabled(False)\n",
    "\n",
    "t.manual_seed(42)\n",
    "if t.cuda.is_available():\n",
    "    t.cuda.manual_seed_all(42)\n",
    "\n",
    "%load_ext autoreload\n",
    "%autoreload 2"
   ]
  },
  {
   "cell_type": "code",
   "execution_count": 3,
   "metadata": {},
   "outputs": [],
   "source": [
    "prompt_suffix = {\n",
    "    \"English\": \"My guess is **\",\n",
    "    \"Turkish\": \"Tahminim **\",\n",
    "    \"French\": \"Ma supposition est **\",\n",
    "    \"Russian\": \"Моё предположение **\",\n",
    "    \"Bengali\": \"আমার অনুমান হলো **\",\n",
    "}\n",
    "\n",
    "subtask_map = {\n",
    "    \"synth_names\":\"names\",\n",
    "    \"synth_cities\":\"cities\",\n",
    "    \"culturebench\":\"culturebench\",\n",
    "}\n",
    "\n",
    "def eval_or_skip(txt):\n",
    "    try:\n",
    "        return eval(txt)\n",
    "    except:\n",
    "        return None\n",
    "\n",
    "country_to_suffix= {\"Turkey\": \"tr\", \"France\": \"fr\", \"Russia\": \"ru\", \"Bangladesh\": \"bn\", \"United States\":\"us\"}"
   ]
  },
  {
   "cell_type": "markdown",
   "metadata": {},
   "source": [
    "### Load Model"
   ]
  },
  {
   "cell_type": "code",
   "execution_count": 9,
   "metadata": {},
   "outputs": [
    {
     "data": {
      "application/vnd.jupyter.widget-view+json": {
       "model_id": "b6008dc4aec44d26ace74cb6d70b0147",
       "version_major": 2,
       "version_minor": 0
      },
      "text/plain": [
       "Loading checkpoint shards:   0%|          | 0/4 [00:00<?, ?it/s]"
      ]
     },
     "metadata": {},
     "output_type": "display_data"
    }
   ],
   "source": [
    "tokenizer = AutoTokenizer.from_pretrained(\"google/gemma-2-9b-it\")\n",
    "nnmodel = LanguageModel('/dlabscratch1/public/llm_weights/gemma_hf/gemma-2-9b-it', \n",
    "                        device_map='cuda:0', \n",
    "                        dispatch=True, \n",
    "                        torch_dtype=t.bfloat16)"
   ]
  },
  {
   "cell_type": "markdown",
   "metadata": {},
   "source": [
    "### Load dataset"
   ]
  },
  {
   "cell_type": "code",
   "execution_count": null,
   "metadata": {},
   "outputs": [
    {
     "name": "stdout",
     "output_type": "stream",
     "text": [
      "<bos><start_of_turn>user\n",
      "Question:You must select one option and answer. First, state the selected option in full, then explain your guess.\n",
      "What is a common living arrangement for children after they reach adulthood?\n",
      "Options:\n",
      "Children go to live with their distant relatives for better education or job opportunities.\n",
      "Children often continue to live with their parents, or have their parents move into their homes to take care of them<end_of_turn>\n",
      "<start_of_turn>model\n",
      "My guess is **\n"
     ]
    }
   ],
   "source": [
    "steering_df = pd.read_csv(\"model_gen/gemma2_9b_it_guess_suffix_fixed.csv\")\n",
    "steering_df[\"translated\"] = steering_df.apply(lambda x: True if x[\"country\"] == \"United States\" else x[\"lang\"]!=\"English\", axis=1)\n",
    "\n",
    "print(steering_df.iloc[29][\"input\"])"
   ]
  },
  {
   "cell_type": "markdown",
   "metadata": {},
   "source": [
    "### Calculate residuals"
   ]
  },
  {
   "cell_type": "code",
   "execution_count": null,
   "metadata": {},
   "outputs": [],
   "source": [
    "# Explicit (English) residuals\n",
    "countries = [\"Turkey\", \"France\", \"Russia\", \"Bangladesh\", \"United States\"]\n",
    "\n",
    "for country in countries:\n",
    "    print(country)\n",
    "    for subtask in [\"names\", \"cities\", \"culturedistil\", \"culturebench\"]:\n",
    "        print(subtask)\n",
    "        pos_examples = steering_df.query(\"country == @country and subtask == @subtask and lang=='English' and hint==True and ans_type == 'local'\")\n",
    "        neg_examples = steering_df.query(\"country == @country and subtask == @subtask and lang=='English' and hint==False and ans_type == 'west'\")\n",
    "\n",
    "        common_question_ids = set(pos_examples[\"question_id\"].unique()) & set(neg_examples[\"question_id\"].unique())\n",
    "\n",
    "        pos_examples = pos_examples.query(\"question_id in @common_question_ids\").sort_values(\"question_id\").copy()\n",
    "        neg_examples = neg_examples.query(\"question_id in @common_question_ids\").sort_values(\"question_id\").copy()\n",
    "        \n",
    "        print(pos_examples.shape, neg_examples.shape)\n",
    "        \n",
    "        pos_res_list = []\n",
    "        neg_res_list = []\n",
    "\n",
    "        for pos, neg in tqdm(zip(pos_examples[\"input\"], neg_examples[\"input\"]), total=len(pos_examples)):\n",
    "            pos_res = collect_residuals(nnmodel, pos, calculate_probs=False)[\"residuals\"][:,0,-1,:]\n",
    "            neg_res = collect_residuals(nnmodel, neg, calculate_probs=False)[\"residuals\"][:,0,-1,:]\n",
    "            pos_res_list.append(pos_res)\n",
    "            neg_res_list.append(neg_res)\n",
    "        pos_res = t.stack(pos_res_list)\n",
    "        neg_res = t.stack(neg_res_list)\n",
    "\n",
    "        t.save(pos_res, f\"residuals/gemma2_9b_it_exp_en/{country_to_suffix[country]}_{subtask}_pos.pt\")\n",
    "        t.save(neg_res, f\"residuals/gemma2_9b_it_exp_en/{country_to_suffix[country]}_{subtask}_neg.pt\")"
   ]
  },
  {
   "cell_type": "code",
   "execution_count": null,
   "metadata": {},
   "outputs": [],
   "source": [
    "# Explicit (Translated) residuals\n",
    "countries = [\"Turkey\", \"France\", \"Russia\", \"Bangladesh\", \"United States\"]\n",
    "\n",
    "for country in countries:\n",
    "    print(country)\n",
    "    for subtask in [\"names\", \"cities\", \"culturedistil\", \"culturebench\"]:\n",
    "        print(subtask)\n",
    "        pos_examples = steering_df.query(\"country == @country and subtask == @subtask and translated and hint==True and ans_type == 'local'\")\n",
    "        neg_examples = steering_df.query(\"country == @country and subtask == @subtask and translated and hint==False and ans_type == 'west'\")\n",
    "\n",
    "        common_question_ids = set(pos_examples[\"question_id\"].unique()) & set(neg_examples[\"question_id\"].unique())\n",
    "\n",
    "        pos_examples = pos_examples.query(\"question_id in @common_question_ids\").sort_values(\"question_id\").copy()\n",
    "        neg_examples = neg_examples.query(\"question_id in @common_question_ids\").sort_values(\"question_id\").copy()\n",
    "        \n",
    "        print(pos_examples.shape, neg_examples.shape)\n",
    "\n",
    "        pos_res_list = []\n",
    "        neg_res_list = []\n",
    "\n",
    "        for pos, neg in tqdm(zip(pos_examples[\"input\"], neg_examples[\"input\"]), total=len(pos_examples)):\n",
    "            pos_res = collect_residuals(nnmodel, pos, calculate_probs=False)[\"residuals\"][:,0,-1,:]\n",
    "            neg_res = collect_residuals(nnmodel, neg, calculate_probs=False)[\"residuals\"][:,0,-1,:]\n",
    "            pos_res_list.append(pos_res)\n",
    "            neg_res_list.append(neg_res)\n",
    "        pos_res = t.stack(pos_res_list)\n",
    "        neg_res = t.stack(neg_res_list)\n",
    "\n",
    "        t.save(pos_res, f\"residuals/gemma2_9b_it_exp_trans/{country_to_suffix[country]}_{subtask}_pos.pt\")\n",
    "        t.save(neg_res, f\"residuals/gemma2_9b_it_exp_trans/{country_to_suffix[country]}_{subtask}_neg.pt\")"
   ]
  },
  {
   "cell_type": "code",
   "execution_count": null,
   "metadata": {},
   "outputs": [],
   "source": [
    "# Implicit residuals\n",
    "countries = [\"Turkey\", \"France\", \"Russia\", \"Bangladesh\"]\n",
    "\n",
    "for country in countries:\n",
    "    print(country)\n",
    "    for subtask in [\"names\", \"cities\", \"culturedistil\", \"culturebench\"]:\n",
    "        print(subtask)\n",
    "        pos_examples = steering_df.query(\"country == @country and subtask == @subtask and lang!='English' and hint==False and ans_type == 'local'\")\n",
    "        neg_examples = steering_df.query(\"country == @country and subtask == @subtask and lang=='English' and hint==False and ans_type == 'west'\")\n",
    "\n",
    "        common_question_ids = set(pos_examples[\"question_id\"].unique()) & set(neg_examples[\"question_id\"].unique())\n",
    "\n",
    "        pos_examples = pos_examples.query(\"question_id in @common_question_ids\").sort_values(\"question_id\").copy()\n",
    "        neg_examples = neg_examples.query(\"question_id in @common_question_ids\").sort_values(\"question_id\").copy()\n",
    "        \n",
    "        print(pos_examples.shape, neg_examples.shape)\n",
    "\n",
    "        pos_res_list = []\n",
    "        neg_res_list = []\n",
    "\n",
    "        for pos, neg in tqdm(zip(pos_examples[\"input\"], neg_examples[\"input\"]), total=len(pos_examples)):\n",
    "            pos_res = collect_residuals(nnmodel, pos, calculate_probs=False)[\"residuals\"][:,0,-1,:]\n",
    "            neg_res = collect_residuals(nnmodel, neg, calculate_probs=False)[\"residuals\"][:,0,-1,:]\n",
    "            pos_res_list.append(pos_res)\n",
    "            neg_res_list.append(neg_res)\n",
    "        pos_res = t.stack(pos_res_list)\n",
    "        neg_res = t.stack(neg_res_list)\n",
    "\n",
    "        t.save(pos_res, f\"residuals/gemma2_9b_it_imp/{country_to_suffix[country]}_{subtask}_pos.pt\")\n",
    "        t.save(neg_res, f\"residuals/gemma2_9b_it_imp/{country_to_suffix[country]}_{subtask}_neg.pt\")\n"
   ]
  },
  {
   "cell_type": "markdown",
   "metadata": {},
   "source": [
    "### Calculate steering vectors"
   ]
  },
  {
   "cell_type": "code",
   "execution_count": null,
   "metadata": {},
   "outputs": [
    {
     "name": "stdout",
     "output_type": "stream",
     "text": [
      "tr\n",
      "4\n",
      "torch.Size([201, 42, 3584])\n",
      "fr\n",
      "4\n",
      "torch.Size([169, 42, 3584])\n",
      "ru\n",
      "4\n",
      "torch.Size([108, 42, 3584])\n",
      "bn\n",
      "4\n",
      "torch.Size([220, 42, 3584])\n"
     ]
    }
   ],
   "source": [
    "# Implicit, per culture steering vectors\n",
    "tasks = [\"names\", \"cities\", \"culturedistil\", \"culturebench\"]\n",
    "\n",
    "for prefix in [\"tr\", \"fr\", \"ru\", \"bn\"]:\n",
    "    print(prefix)\n",
    "    steering_vecs = []\n",
    "    for task in tasks:\n",
    "        res_tr = t.load(f\"residuals/gemma2_9b_it_v3_imp/{prefix}_{task}_pos.pt\", weights_only=True)\n",
    "        res_en = t.load(f\"residuals/gemma2_9b_it_v3_imp/{prefix}_{task}_neg.pt\", weights_only=True)\n",
    "\n",
    "        steering_vec = (res_tr - res_en)\n",
    "        steering_vecs.append(steering_vec)\n",
    "    \n",
    "    print(len(steering_vecs))\n",
    "    steering_vec = t.cat(steering_vecs, dim=0)\n",
    "    print(steering_vec.shape)\n",
    "    steering_vec = steering_vec.mean(dim=0)\n",
    "    t.save(steering_vec,f\"vectors/gemma2_9b_it/implicit/{prefix}_avg_all_tasks.pt\")"
   ]
  },
  {
   "cell_type": "code",
   "execution_count": null,
   "metadata": {},
   "outputs": [
    {
     "name": "stdout",
     "output_type": "stream",
     "text": [
      "tr\n",
      "4\n",
      "torch.Size([232, 42, 3584])\n",
      "fr\n",
      "4\n",
      "torch.Size([165, 42, 3584])\n",
      "ru\n",
      "4\n",
      "torch.Size([267, 42, 3584])\n",
      "bn\n",
      "4\n",
      "torch.Size([117, 42, 3584])\n",
      "us\n",
      "4\n",
      "torch.Size([206, 42, 3584])\n"
     ]
    }
   ],
   "source": [
    "# Explicit, per culture (Translated) steering vectors\n",
    "tasks = [\"names\", \"cities\", \"culturedistil\", \"culturebench\"]\n",
    "\n",
    "for prefix in [\"tr\", \"fr\", \"ru\", \"bn\", \"us\"]:\n",
    "    print(prefix)\n",
    "    steering_vecs = []\n",
    "    for task in tasks:\n",
    "        res_tr = t.load(f\"residuals/gemma2_9b_it_exp_trans/{prefix}_{task}_pos.pt\", weights_only=True)\n",
    "        res_en = t.load(f\"residuals/gemma2_9b_it_exp_trans/{prefix}_{task}_neg.pt\", weights_only=True)\n",
    "\n",
    "        steering_vec = (res_tr - res_en)\n",
    "        steering_vecs.append(steering_vec)\n",
    "    \n",
    "    print(len(steering_vecs))\n",
    "    steering_vec = t.cat(steering_vecs, dim=0)\n",
    "    print(steering_vec.shape)\n",
    "    steering_vec = steering_vec.mean(dim=0)\n",
    "    t.save(steering_vec,f\"vectors/gemma2_9b_it/per_culture/{prefix}_trans_avg_all_tasks.pt\")\n"
   ]
  },
  {
   "cell_type": "code",
   "execution_count": null,
   "metadata": {},
   "outputs": [],
   "source": [
    "# Explicit, per culture (English) steering vectors\n",
    "tasks = [\"names\", \"cities\", \"culturedistil\", \"culturebench\"]\n",
    "\n",
    "for prefix in [\"tr\", \"fr\", \"ru\", \"bn\", \"us\"]:\n",
    "    print(prefix)\n",
    "    steering_vecs = []\n",
    "    for task in tasks:\n",
    "        res_tr = t.load(f\"residuals/gemma2_9b_it_exp_en/{prefix}_{task}_pos.pt\", weights_only=True)\n",
    "        res_en = t.load(f\"residuals/gemma2_9b_it_exp_en/{prefix}_{task}_neg.pt\", weights_only=True)\n",
    "\n",
    "        steering_vec = (res_tr - res_en)\n",
    "        steering_vecs.append(steering_vec)\n",
    "    \n",
    "    print(len(steering_vecs))\n",
    "    steering_vec = t.cat(steering_vecs, dim=0)\n",
    "    print(steering_vec.shape)\n",
    "    steering_vec = steering_vec.mean(dim=0)\n",
    "    t.save(steering_vec,f\"vectors/gemma2_9b_it/per_culture/{prefix}_en_avg_all_tasks.pt\")"
   ]
  },
  {
   "cell_type": "code",
   "execution_count": null,
   "metadata": {},
   "outputs": [],
   "source": [
    "# Leave-one-out Universal, (Translated) steering vectors\n",
    "tasks = [\"names\", \"cities\", \"culturedistil\", \"culturebench\"]\n",
    "\n",
    "for pref_to_skip in [\"tr\", \"fr\", \"ru\", \"bn\", \"us\"]:\n",
    "    for prefix in [\"tr\", \"fr\", \"ru\", \"bn\", \"us\"]:\n",
    "        steering_vecs = []\n",
    "        if prefix == pref_to_skip:\n",
    "            continue\n",
    "        for task in tasks:\n",
    "            res_tr = t.load(f\"residuals/gemma2_9b_it_exp_trans/{prefix}_{task}_pos.pt\", weights_only=True)\n",
    "            res_en = t.load(f\"residuals/gemma2_9b_it_exp_trans/{prefix}_{task}_neg.pt\", weights_only=True)\n",
    "\n",
    "            steering_vec = (res_tr - res_en)\n",
    "            steering_vecs.append(steering_vec)\n",
    "        \n",
    "        print(len(steering_vecs))\n",
    "\n",
    "    steering_vec = t.cat(steering_vecs, dim=0)\n",
    "    print(steering_vec.shape)\n",
    "\n",
    "    steering_vec = steering_vec.mean(dim=0)\n",
    "    t.save(steering_vec,f\"vectors/gemma2_9b_it/universal/trans_universal_{pref_to_skip}_out.pt\")"
   ]
  },
  {
   "cell_type": "code",
   "execution_count": null,
   "metadata": {},
   "outputs": [],
   "source": [
    "# Leave-one-out Universal, (English) steering vectors\n",
    "tasks = [\"names\", \"cities\", \"culturedistil\", \"culturebench\"]\n",
    "\n",
    "for pref_to_skip in [\"tr\", \"fr\", \"ru\", \"bn\", \"us\"]:\n",
    "    for prefix in [\"tr\", \"fr\", \"ru\", \"bn\", \"us\"]:\n",
    "        steering_vecs = []\n",
    "        if prefix == pref_to_skip:\n",
    "            continue\n",
    "        for task in tasks:\n",
    "            res_tr = t.load(f\"residuals/gemma2_9b_it_exp_en/{prefix}_{task}_pos.pt\", weights_only=True)\n",
    "            res_en = t.load(f\"residuals/gemma2_9b_it_exp_en/{prefix}_{task}_neg.pt\", weights_only=True)\n",
    "\n",
    "            steering_vec = (res_tr - res_en)\n",
    "            steering_vecs.append(steering_vec)\n",
    "        \n",
    "        print(len(steering_vecs))\n",
    "\n",
    "    steering_vec = t.cat(steering_vecs, dim=0)\n",
    "    print(steering_vec.shape)\n",
    "\n",
    "    steering_vec = steering_vec.mean(dim=0)\n",
    "    t.save(steering_vec,f\"vectors/gemma2_9b_it/universal/en_universal_{pref_to_skip}_out.pt\")"
   ]
  },
  {
   "cell_type": "code",
   "execution_count": null,
   "metadata": {},
   "outputs": [
    {
     "name": "stdout",
     "output_type": "stream",
     "text": [
      "tr\n",
      "torch.Size([42, 3584])\n",
      "torch.Size([42, 3584])\n",
      "torch.Size([42, 3584])\n",
      "torch.Size([42, 3584])\n",
      "fr\n",
      "torch.Size([42, 3584])\n",
      "torch.Size([42, 3584])\n",
      "torch.Size([42, 3584])\n",
      "torch.Size([42, 3584])\n",
      "ru\n",
      "torch.Size([42, 3584])\n",
      "torch.Size([42, 3584])\n",
      "torch.Size([42, 3584])\n",
      "torch.Size([42, 3584])\n",
      "bn\n",
      "torch.Size([42, 3584])\n",
      "torch.Size([42, 3584])\n",
      "torch.Size([42, 3584])\n",
      "torch.Size([42, 3584])\n",
      "us\n",
      "torch.Size([42, 3584])\n",
      "torch.Size([42, 3584])\n",
      "torch.Size([42, 3584])\n",
      "torch.Size([42, 3584])\n"
     ]
    }
   ],
   "source": [
    "# Per task-culture, (English) steering vectors\n",
    "tasks = [\"names\", \"cities\", \"culturedistil\", \"culturebench\"]\n",
    "\n",
    "for prefix in [\"tr\", \"fr\", \"ru\", \"bn\", \"us\"]:\n",
    "    print(prefix)\n",
    "    for task in tasks:\n",
    "        res_tr = t.load(f\"residuals/gemma2_9b_it_exp_en/{prefix}_{task}_pos.pt\", weights_only=True)\n",
    "        res_en = t.load(f\"residuals/gemma2_9b_it_exp_en/{prefix}_{task}_neg.pt\", weights_only=True)\n",
    "\n",
    "        steering_vec = (res_tr - res_en).mean(dim=0)\n",
    "\n",
    "        print(steering_vec.shape)\n",
    "        t.save(steering_vec,f\"vectors/gemma2_9b_it/per_task/{prefix}_{task}_en.pt\")"
   ]
  }
 ],
 "metadata": {
  "kernelspec": {
   "display_name": "default",
   "language": "python",
   "name": "python3"
  },
  "language_info": {
   "codemirror_mode": {
    "name": "ipython",
    "version": 3
   },
   "file_extension": ".py",
   "mimetype": "text/x-python",
   "name": "python",
   "nbconvert_exporter": "python",
   "pygments_lexer": "ipython3",
   "version": "3.11.9"
  }
 },
 "nbformat": 4,
 "nbformat_minor": 2
}
